{
  "nbformat": 4,
  "nbformat_minor": 0,
  "metadata": {
    "colab": {
      "name": "Huggingface_Sentence_transformer_ classify_questions.ipynb",
      "provenance": []
    },
    "kernelspec": {
      "name": "python3",
      "display_name": "Python 3"
    },
    "language_info": {
      "name": "python"
    },
    "accelerator": "GPU"
  },
  "cells": [
    {
      "cell_type": "markdown",
      "metadata": {
        "id": "UNOStrV0FmiC"
      },
      "source": [
        "##  Sentence-BERT: Sentence Embeddings using Siamese BERT-Networks."
      ]
    },
    {
      "cell_type": "code",
      "metadata": {
        "colab": {
          "base_uri": "https://localhost:8080/"
        },
        "id": "o8gq4t3d6uKU",
        "outputId": "3f3a6ce6-0e6a-4620-9578-e959d7374d47"
      },
      "source": [
        "!pip install transformers"
      ],
      "execution_count": 1,
      "outputs": [
        {
          "output_type": "stream",
          "text": [
            "Collecting transformers\n",
            "  Downloading transformers-4.8.2-py3-none-any.whl (2.5 MB)\n",
            "\u001b[K     |████████████████████████████████| 2.5 MB 15.7 MB/s \n",
            "\u001b[?25hRequirement already satisfied: tqdm>=4.27 in /usr/local/lib/python3.7/dist-packages (from transformers) (4.41.1)\n",
            "Requirement already satisfied: numpy>=1.17 in /usr/local/lib/python3.7/dist-packages (from transformers) (1.19.5)\n",
            "Requirement already satisfied: packaging in /usr/local/lib/python3.7/dist-packages (from transformers) (21.0)\n",
            "Requirement already satisfied: requests in /usr/local/lib/python3.7/dist-packages (from transformers) (2.23.0)\n",
            "Requirement already satisfied: importlib-metadata in /usr/local/lib/python3.7/dist-packages (from transformers) (4.6.1)\n",
            "Collecting huggingface-hub==0.0.12\n",
            "  Downloading huggingface_hub-0.0.12-py3-none-any.whl (37 kB)\n",
            "Requirement already satisfied: pyyaml in /usr/local/lib/python3.7/dist-packages (from transformers) (3.13)\n",
            "Requirement already satisfied: filelock in /usr/local/lib/python3.7/dist-packages (from transformers) (3.0.12)\n",
            "Collecting tokenizers<0.11,>=0.10.1\n",
            "  Downloading tokenizers-0.10.3-cp37-cp37m-manylinux_2_5_x86_64.manylinux1_x86_64.manylinux_2_12_x86_64.manylinux2010_x86_64.whl (3.3 MB)\n",
            "\u001b[K     |████████████████████████████████| 3.3 MB 41.8 MB/s \n",
            "\u001b[?25hRequirement already satisfied: regex!=2019.12.17 in /usr/local/lib/python3.7/dist-packages (from transformers) (2019.12.20)\n",
            "Collecting sacremoses\n",
            "  Downloading sacremoses-0.0.45-py3-none-any.whl (895 kB)\n",
            "\u001b[K     |████████████████████████████████| 895 kB 53.7 MB/s \n",
            "\u001b[?25hRequirement already satisfied: typing-extensions in /usr/local/lib/python3.7/dist-packages (from huggingface-hub==0.0.12->transformers) (3.7.4.3)\n",
            "Requirement already satisfied: pyparsing>=2.0.2 in /usr/local/lib/python3.7/dist-packages (from packaging->transformers) (2.4.7)\n",
            "Requirement already satisfied: zipp>=0.5 in /usr/local/lib/python3.7/dist-packages (from importlib-metadata->transformers) (3.5.0)\n",
            "Requirement already satisfied: idna<3,>=2.5 in /usr/local/lib/python3.7/dist-packages (from requests->transformers) (2.10)\n",
            "Requirement already satisfied: urllib3!=1.25.0,!=1.25.1,<1.26,>=1.21.1 in /usr/local/lib/python3.7/dist-packages (from requests->transformers) (1.24.3)\n",
            "Requirement already satisfied: certifi>=2017.4.17 in /usr/local/lib/python3.7/dist-packages (from requests->transformers) (2021.5.30)\n",
            "Requirement already satisfied: chardet<4,>=3.0.2 in /usr/local/lib/python3.7/dist-packages (from requests->transformers) (3.0.4)\n",
            "Requirement already satisfied: six in /usr/local/lib/python3.7/dist-packages (from sacremoses->transformers) (1.15.0)\n",
            "Requirement already satisfied: click in /usr/local/lib/python3.7/dist-packages (from sacremoses->transformers) (7.1.2)\n",
            "Requirement already satisfied: joblib in /usr/local/lib/python3.7/dist-packages (from sacremoses->transformers) (1.0.1)\n",
            "Installing collected packages: tokenizers, sacremoses, huggingface-hub, transformers\n",
            "Successfully installed huggingface-hub-0.0.12 sacremoses-0.0.45 tokenizers-0.10.3 transformers-4.8.2\n"
          ],
          "name": "stdout"
        }
      ]
    },
    {
      "cell_type": "markdown",
      "metadata": {
        "id": "Rnh3kiLKCBJg"
      },
      "source": [
        "## sentence-transformers/bert-base-nli-mean-tokens\n",
        "This is a sentence-transformers model: It maps sentences & paragraphs to a 768 dimensional dense vector space and can be used for tasks like clustering or semantic search."
      ]
    },
    {
      "cell_type": "code",
      "metadata": {
        "colab": {
          "base_uri": "https://localhost:8080/"
        },
        "id": "lE9BPl7177-1",
        "outputId": "01a1e702-8f0c-445e-c6ed-f268fee7502d"
      },
      "source": [
        "!pip install -U sentence-transformers"
      ],
      "execution_count": 2,
      "outputs": [
        {
          "output_type": "stream",
          "text": [
            "Collecting sentence-transformers\n",
            "  Downloading sentence-transformers-2.0.0.tar.gz (85 kB)\n",
            "\u001b[K     |████████████████████████████████| 85 kB 3.6 MB/s \n",
            "\u001b[?25hRequirement already satisfied: transformers<5.0.0,>=4.6.0 in /usr/local/lib/python3.7/dist-packages (from sentence-transformers) (4.8.2)\n",
            "Requirement already satisfied: tqdm in /usr/local/lib/python3.7/dist-packages (from sentence-transformers) (4.41.1)\n",
            "Requirement already satisfied: torch>=1.6.0 in /usr/local/lib/python3.7/dist-packages (from sentence-transformers) (1.9.0+cu102)\n",
            "Requirement already satisfied: torchvision in /usr/local/lib/python3.7/dist-packages (from sentence-transformers) (0.10.0+cu102)\n",
            "Requirement already satisfied: numpy in /usr/local/lib/python3.7/dist-packages (from sentence-transformers) (1.19.5)\n",
            "Requirement already satisfied: scikit-learn in /usr/local/lib/python3.7/dist-packages (from sentence-transformers) (0.22.2.post1)\n",
            "Requirement already satisfied: scipy in /usr/local/lib/python3.7/dist-packages (from sentence-transformers) (1.4.1)\n",
            "Requirement already satisfied: nltk in /usr/local/lib/python3.7/dist-packages (from sentence-transformers) (3.2.5)\n",
            "Collecting sentencepiece\n",
            "  Downloading sentencepiece-0.1.96-cp37-cp37m-manylinux_2_17_x86_64.manylinux2014_x86_64.whl (1.2 MB)\n",
            "\u001b[K     |████████████████████████████████| 1.2 MB 50.1 MB/s \n",
            "\u001b[?25hRequirement already satisfied: huggingface-hub in /usr/local/lib/python3.7/dist-packages (from sentence-transformers) (0.0.12)\n",
            "Requirement already satisfied: typing-extensions in /usr/local/lib/python3.7/dist-packages (from torch>=1.6.0->sentence-transformers) (3.7.4.3)\n",
            "Requirement already satisfied: tokenizers<0.11,>=0.10.1 in /usr/local/lib/python3.7/dist-packages (from transformers<5.0.0,>=4.6.0->sentence-transformers) (0.10.3)\n",
            "Requirement already satisfied: packaging in /usr/local/lib/python3.7/dist-packages (from transformers<5.0.0,>=4.6.0->sentence-transformers) (21.0)\n",
            "Requirement already satisfied: pyyaml in /usr/local/lib/python3.7/dist-packages (from transformers<5.0.0,>=4.6.0->sentence-transformers) (3.13)\n",
            "Requirement already satisfied: filelock in /usr/local/lib/python3.7/dist-packages (from transformers<5.0.0,>=4.6.0->sentence-transformers) (3.0.12)\n",
            "Requirement already satisfied: requests in /usr/local/lib/python3.7/dist-packages (from transformers<5.0.0,>=4.6.0->sentence-transformers) (2.23.0)\n",
            "Requirement already satisfied: sacremoses in /usr/local/lib/python3.7/dist-packages (from transformers<5.0.0,>=4.6.0->sentence-transformers) (0.0.45)\n",
            "Requirement already satisfied: importlib-metadata in /usr/local/lib/python3.7/dist-packages (from transformers<5.0.0,>=4.6.0->sentence-transformers) (4.6.1)\n",
            "Requirement already satisfied: regex!=2019.12.17 in /usr/local/lib/python3.7/dist-packages (from transformers<5.0.0,>=4.6.0->sentence-transformers) (2019.12.20)\n",
            "Requirement already satisfied: pyparsing>=2.0.2 in /usr/local/lib/python3.7/dist-packages (from packaging->transformers<5.0.0,>=4.6.0->sentence-transformers) (2.4.7)\n",
            "Requirement already satisfied: zipp>=0.5 in /usr/local/lib/python3.7/dist-packages (from importlib-metadata->transformers<5.0.0,>=4.6.0->sentence-transformers) (3.5.0)\n",
            "Requirement already satisfied: six in /usr/local/lib/python3.7/dist-packages (from nltk->sentence-transformers) (1.15.0)\n",
            "Requirement already satisfied: chardet<4,>=3.0.2 in /usr/local/lib/python3.7/dist-packages (from requests->transformers<5.0.0,>=4.6.0->sentence-transformers) (3.0.4)\n",
            "Requirement already satisfied: idna<3,>=2.5 in /usr/local/lib/python3.7/dist-packages (from requests->transformers<5.0.0,>=4.6.0->sentence-transformers) (2.10)\n",
            "Requirement already satisfied: urllib3!=1.25.0,!=1.25.1,<1.26,>=1.21.1 in /usr/local/lib/python3.7/dist-packages (from requests->transformers<5.0.0,>=4.6.0->sentence-transformers) (1.24.3)\n",
            "Requirement already satisfied: certifi>=2017.4.17 in /usr/local/lib/python3.7/dist-packages (from requests->transformers<5.0.0,>=4.6.0->sentence-transformers) (2021.5.30)\n",
            "Requirement already satisfied: click in /usr/local/lib/python3.7/dist-packages (from sacremoses->transformers<5.0.0,>=4.6.0->sentence-transformers) (7.1.2)\n",
            "Requirement already satisfied: joblib in /usr/local/lib/python3.7/dist-packages (from sacremoses->transformers<5.0.0,>=4.6.0->sentence-transformers) (1.0.1)\n",
            "Requirement already satisfied: pillow>=5.3.0 in /usr/local/lib/python3.7/dist-packages (from torchvision->sentence-transformers) (7.1.2)\n",
            "Building wheels for collected packages: sentence-transformers\n",
            "  Building wheel for sentence-transformers (setup.py) ... \u001b[?25l\u001b[?25hdone\n",
            "  Created wheel for sentence-transformers: filename=sentence_transformers-2.0.0-py3-none-any.whl size=126709 sha256=95cfce30c33866f1b497f01aeef9bca3870ede33b925cb2d8a61289744937297\n",
            "  Stored in directory: /root/.cache/pip/wheels/d1/c1/0f/faafd427f705c4b012274ba60d9a91d75830306811e1355293\n",
            "Successfully built sentence-transformers\n",
            "Installing collected packages: sentencepiece, sentence-transformers\n",
            "Successfully installed sentence-transformers-2.0.0 sentencepiece-0.1.96\n"
          ],
          "name": "stdout"
        }
      ]
    },
    {
      "cell_type": "markdown",
      "metadata": {
        "id": "Y3SoIoJ4MSUH"
      },
      "source": [
        "## Sentence Transformers -Distilbert"
      ]
    },
    {
      "cell_type": "code",
      "metadata": {
        "id": "91sCIfgs141d"
      },
      "source": [
        "import pandas as pd\n",
        "import numpy as np\n",
        "from sklearn.metrics import  (auc,confusion_matrix,roc_auc_score,roc_curve,f1_score,)\n",
        "from sklearn.model_selection import *\n",
        "from yellowbrick.classifier import (ConfusionMatrix,ROCAUC,)\n",
        "from yellowbrick.model_selection import (LearningCurve,)\n",
        "\n",
        "import warnings\n",
        "warnings.filterwarnings('ignore')"
      ],
      "execution_count": 27,
      "outputs": []
    },
    {
      "cell_type": "markdown",
      "metadata": {
        "id": "PCaDctUHNezG"
      },
      "source": [
        "## Read Training Data"
      ]
    },
    {
      "cell_type": "code",
      "metadata": {
        "colab": {
          "base_uri": "https://localhost:8080/"
        },
        "id": "6dZ9l2_OdG0h",
        "outputId": "c3b64076-ca85-4afc-90ff-e529cd7e0eec"
      },
      "source": [
        "!wget \"https://cogcomp.seas.upenn.edu/Data/QA/QC/train_5500.label\"  -O newfile.txt"
      ],
      "execution_count": 3,
      "outputs": [
        {
          "output_type": "stream",
          "text": [
            "--2021-07-22 06:11:30--  https://cogcomp.seas.upenn.edu/Data/QA/QC/train_5500.label\n",
            "Resolving cogcomp.seas.upenn.edu (cogcomp.seas.upenn.edu)... 158.130.57.77\n",
            "Connecting to cogcomp.seas.upenn.edu (cogcomp.seas.upenn.edu)|158.130.57.77|:443... connected.\n",
            "HTTP request sent, awaiting response... 200 OK\n",
            "Length: 335858 (328K)\n",
            "Saving to: ‘newfile.txt’\n",
            "\n",
            "newfile.txt         100%[===================>] 327.99K  1022KB/s    in 0.3s    \n",
            "\n",
            "2021-07-22 06:11:31 (1022 KB/s) - ‘newfile.txt’ saved [335858/335858]\n",
            "\n"
          ],
          "name": "stdout"
        }
      ]
    },
    {
      "cell_type": "markdown",
      "metadata": {
        "id": "LUwSETQ8Hskr"
      },
      "source": [
        "## Seggregate Label and Text"
      ]
    },
    {
      "cell_type": "code",
      "metadata": {
        "id": "U_L-NjKLdRWQ"
      },
      "source": [
        "label = []\n",
        "question = []\n",
        "with open(\"/content/newfile.txt\",\"r\",encoding=\"ISO-8859-1\") as f:\n",
        "  for line in f.readlines():\n",
        "    text = line.split(\":\")\n",
        "    label.append(text[0])\n",
        "    question.append(text[1])"
      ],
      "execution_count": 6,
      "outputs": []
    },
    {
      "cell_type": "markdown",
      "metadata": {
        "id": "TR6Ve1T_Hz9I"
      },
      "source": [
        "## Get the data into DataFrame"
      ]
    },
    {
      "cell_type": "code",
      "metadata": {
        "id": "wF02LmvhfAlZ"
      },
      "source": [
        "train = pd.DataFrame({'Question':question,'Label':label})"
      ],
      "execution_count": 9,
      "outputs": []
    },
    {
      "cell_type": "code",
      "metadata": {
        "colab": {
          "base_uri": "https://localhost:8080/",
          "height": 204
        },
        "id": "d-IzGSBYfSEa",
        "outputId": "d76fbc82-34ff-4a8f-927e-afcc81e970d5"
      },
      "source": [
        "train.head()"
      ],
      "execution_count": 10,
      "outputs": [
        {
          "output_type": "execute_result",
          "data": {
            "text/html": [
              "<div>\n",
              "<style scoped>\n",
              "    .dataframe tbody tr th:only-of-type {\n",
              "        vertical-align: middle;\n",
              "    }\n",
              "\n",
              "    .dataframe tbody tr th {\n",
              "        vertical-align: top;\n",
              "    }\n",
              "\n",
              "    .dataframe thead th {\n",
              "        text-align: right;\n",
              "    }\n",
              "</style>\n",
              "<table border=\"1\" class=\"dataframe\">\n",
              "  <thead>\n",
              "    <tr style=\"text-align: right;\">\n",
              "      <th></th>\n",
              "      <th>Question</th>\n",
              "      <th>Label</th>\n",
              "    </tr>\n",
              "  </thead>\n",
              "  <tbody>\n",
              "    <tr>\n",
              "      <th>0</th>\n",
              "      <td>manner How did serfdom develop in and then lea...</td>\n",
              "      <td>DESC</td>\n",
              "    </tr>\n",
              "    <tr>\n",
              "      <th>1</th>\n",
              "      <td>cremat What films featured the character Popey...</td>\n",
              "      <td>ENTY</td>\n",
              "    </tr>\n",
              "    <tr>\n",
              "      <th>2</th>\n",
              "      <td>manner How can I find a list of celebrities ' ...</td>\n",
              "      <td>DESC</td>\n",
              "    </tr>\n",
              "    <tr>\n",
              "      <th>3</th>\n",
              "      <td>animal What fowl grabs the spotlight after the...</td>\n",
              "      <td>ENTY</td>\n",
              "    </tr>\n",
              "    <tr>\n",
              "      <th>4</th>\n",
              "      <td>exp What is the full form of .com ?\\n</td>\n",
              "      <td>ABBR</td>\n",
              "    </tr>\n",
              "  </tbody>\n",
              "</table>\n",
              "</div>"
            ],
            "text/plain": [
              "                                            Question Label\n",
              "0  manner How did serfdom develop in and then lea...  DESC\n",
              "1  cremat What films featured the character Popey...  ENTY\n",
              "2  manner How can I find a list of celebrities ' ...  DESC\n",
              "3  animal What fowl grabs the spotlight after the...  ENTY\n",
              "4              exp What is the full form of .com ?\\n  ABBR"
            ]
          },
          "metadata": {
            "tags": []
          },
          "execution_count": 10
        }
      ]
    },
    {
      "cell_type": "markdown",
      "metadata": {
        "id": "Pxqx6PaX3YM7"
      },
      "source": [
        "## Data Decription"
      ]
    },
    {
      "cell_type": "code",
      "metadata": {
        "id": "6J3g3aWu3ano",
        "outputId": "7e44351f-1d03-4128-9546-44576934fb90",
        "colab": {
          "base_uri": "https://localhost:8080/"
        }
      },
      "source": [
        "train.shape"
      ],
      "execution_count": 11,
      "outputs": [
        {
          "output_type": "execute_result",
          "data": {
            "text/plain": [
              "(5452, 2)"
            ]
          },
          "metadata": {
            "tags": []
          },
          "execution_count": 11
        }
      ]
    },
    {
      "cell_type": "markdown",
      "metadata": {
        "id": "25Bvjryi3dqa"
      },
      "source": [
        "## Label Distribution"
      ]
    },
    {
      "cell_type": "code",
      "metadata": {
        "id": "RpdAl5nF3gcC",
        "outputId": "e5c03661-52e2-4c3a-c311-17442cd07280",
        "colab": {
          "base_uri": "https://localhost:8080/",
          "height": 497
        }
      },
      "source": [
        "import seaborn as sns\n",
        "import matplotlib.pyplot as plt\n",
        "sns.set_style('darkgrid')\n",
        "plt.figure(figsize=(12,8))\n",
        "sns.countplot(train['Label'])\n",
        "plt.show()"
      ],
      "execution_count": 13,
      "outputs": [
        {
          "output_type": "display_data",
          "data": {
            "image/png": "[encoded data removed]",
            "text/plain": [
              "<Figure size 864x576 with 1 Axes>"
            ]
          },
          "metadata": {
            "tags": []
          }
        }
      ]
    },
    {
      "cell_type": "markdown",
      "metadata": {
        "id": "zhLLuD7a2tTj"
      },
      "source": [
        "## Define a function to map the labels DESC or FACT"
      ]
    },
    {
      "cell_type": "code",
      "metadata": {
        "id": "KUva_Py_4TLq"
      },
      "source": [
        "def map_labels(x):\n",
        "  if x == \"DESC\":\n",
        "    return \"DESC\"\n",
        "  else:\n",
        "    return \"FACT\""
      ],
      "execution_count": 14,
      "outputs": []
    },
    {
      "cell_type": "code",
      "metadata": {
        "id": "tyRH47zs5HqJ",
        "outputId": "20257853-a1ef-4436-94fe-e591e6d14c57",
        "colab": {
          "base_uri": "https://localhost:8080/",
          "height": 497
        }
      },
      "source": [
        "train['Label'] = train['Label'].map(map_labels)\n",
        "plt.figure(figsize=(12,8))\n",
        "sns.countplot(train['Label'])\n",
        "plt.show()"
      ],
      "execution_count": 15,
      "outputs": [
        {
          "output_type": "display_data",
          "data": {
            "image/png": "[encoded data removed]",
            "text/plain": [
              "<Figure size 864x576 with 1 Axes>"
            ]
          },
          "metadata": {
            "tags": []
          }
        }
      ]
    },
    {
      "cell_type": "markdown",
      "metadata": {
        "id": "JH061kx7Nrsk"
      },
      "source": [
        "## Using Transformer Pipeline"
      ]
    },
    {
      "cell_type": "code",
      "metadata": {
        "id": "UzpV6LPa6VbK"
      },
      "source": [
        "sentences = train['Question'].values.tolist()"
      ],
      "execution_count": 18,
      "outputs": []
    },
    {
      "cell_type": "code",
      "metadata": {
        "colab": {
          "base_uri": "https://localhost:8080/"
        },
        "id": "BixZRivPiIpB",
        "outputId": "7258c181-dfa3-47fb-cab3-d96d803b5d71"
      },
      "source": [
        "from sentence_transformers import SentenceTransformer\n",
        "model = SentenceTransformer('sentence-transformers/distilbert-base-nli-mean-tokens')\n",
        "embeddings = model.encode(sentences)\n",
        "print(embeddings)"
      ],
      "execution_count": 19,
      "outputs": [
        {
          "output_type": "stream",
          "text": [
            "[[-1.280514   -0.47905657 -0.07459374 ... -0.6903947   0.65552545\n",
            "   0.42993134]\n",
            " [ 0.05076507 -0.23158778  0.44918114 ... -0.94587755  0.58218163\n",
            "   0.16936493]\n",
            " [ 0.16578262  0.08628513  0.99605775 ... -1.4010978  -0.16692457\n",
            "  -0.66698945]\n",
            " ...\n",
            " [-0.48092666 -0.33031234  0.9020131  ... -0.71855974  0.37934303\n",
            "  -0.6125831 ]\n",
            " [ 0.16263327  0.17402275  0.30849588 ... -0.47458428  0.43626916\n",
            "  -0.6093793 ]\n",
            " [-0.23205915 -0.50195086 -0.17518842 ... -0.38250554  0.41391855\n",
            "  -0.6617368 ]]\n"
          ],
          "name": "stdout"
        }
      ]
    },
    {
      "cell_type": "markdown",
      "metadata": {
        "id": "3qU0Gr-MJ6n6"
      },
      "source": [
        "* The data we pass between the two models is a vector of size 768. We can think of this of vector as an embedding for the sentence that we can use for classification."
      ]
    },
    {
      "cell_type": "code",
      "metadata": {
        "id": "O2sNRHy4gi_n"
      },
      "source": [
        "train_vector = pd.DataFrame(np.array(embeddings))"
      ],
      "execution_count": 21,
      "outputs": []
    },
    {
      "cell_type": "code",
      "metadata": {
        "colab": {
          "base_uri": "https://localhost:8080/",
          "height": 253
        },
        "id": "9LEmEN8XgxTH",
        "outputId": "8de321d9-f413-45f4-f132-419040083ca6"
      },
      "source": [
        "train_vector.head()"
      ],
      "execution_count": 22,
      "outputs": [
        {
          "output_type": "execute_result",
          "data": {
            "text/html": [
              "<div>\n",
              "<style scoped>\n",
              "    .dataframe tbody tr th:only-of-type {\n",
              "        vertical-align: middle;\n",
              "    }\n",
              "\n",
              "    .dataframe tbody tr th {\n",
              "        vertical-align: top;\n",
              "    }\n",
              "\n",
              "    .dataframe thead th {\n",
              "        text-align: right;\n",
              "    }\n",
              "</style>\n",
              "<table border=\"1\" class=\"dataframe\">\n",
              "  <thead>\n",
              "    <tr style=\"text-align: right;\">\n",
              "      <th></th>\n",
              "      <th>0</th>\n",
              "      <th>1</th>\n",
              "      <th>2</th>\n",
              "      <th>3</th>\n",
              "      <th>4</th>\n",
              "      <th>5</th>\n",
              "      <th>6</th>\n",
              "      <th>7</th>\n",
              "      <th>8</th>\n",
              "      <th>9</th>\n",
              "      <th>10</th>\n",
              "      <th>11</th>\n",
              "      <th>12</th>\n",
              "      <th>13</th>\n",
              "      <th>14</th>\n",
              "      <th>15</th>\n",
              "      <th>16</th>\n",
              "      <th>17</th>\n",
              "      <th>18</th>\n",
              "      <th>19</th>\n",
              "      <th>20</th>\n",
              "      <th>21</th>\n",
              "      <th>22</th>\n",
              "      <th>23</th>\n",
              "      <th>24</th>\n",
              "      <th>25</th>\n",
              "      <th>26</th>\n",
              "      <th>27</th>\n",
              "      <th>28</th>\n",
              "      <th>29</th>\n",
              "      <th>30</th>\n",
              "      <th>31</th>\n",
              "      <th>32</th>\n",
              "      <th>33</th>\n",
              "      <th>34</th>\n",
              "      <th>35</th>\n",
              "      <th>36</th>\n",
              "      <th>37</th>\n",
              "      <th>38</th>\n",
              "      <th>39</th>\n",
              "      <th>...</th>\n",
              "      <th>728</th>\n",
              "      <th>729</th>\n",
              "      <th>730</th>\n",
              "      <th>731</th>\n",
              "      <th>732</th>\n",
              "      <th>733</th>\n",
              "      <th>734</th>\n",
              "      <th>735</th>\n",
              "      <th>736</th>\n",
              "      <th>737</th>\n",
              "      <th>738</th>\n",
              "      <th>739</th>\n",
              "      <th>740</th>\n",
              "      <th>741</th>\n",
              "      <th>742</th>\n",
              "      <th>743</th>\n",
              "      <th>744</th>\n",
              "      <th>745</th>\n",
              "      <th>746</th>\n",
              "      <th>747</th>\n",
              "      <th>748</th>\n",
              "      <th>749</th>\n",
              "      <th>750</th>\n",
              "      <th>751</th>\n",
              "      <th>752</th>\n",
              "      <th>753</th>\n",
              "      <th>754</th>\n",
              "      <th>755</th>\n",
              "      <th>756</th>\n",
              "      <th>757</th>\n",
              "      <th>758</th>\n",
              "      <th>759</th>\n",
              "      <th>760</th>\n",
              "      <th>761</th>\n",
              "      <th>762</th>\n",
              "      <th>763</th>\n",
              "      <th>764</th>\n",
              "      <th>765</th>\n",
              "      <th>766</th>\n",
              "      <th>767</th>\n",
              "    </tr>\n",
              "  </thead>\n",
              "  <tbody>\n",
              "    <tr>\n",
              "      <th>0</th>\n",
              "      <td>-1.280514</td>\n",
              "      <td>-0.479057</td>\n",
              "      <td>-0.074594</td>\n",
              "      <td>-1.078832</td>\n",
              "      <td>0.555026</td>\n",
              "      <td>-0.304828</td>\n",
              "      <td>0.710984</td>\n",
              "      <td>0.278825</td>\n",
              "      <td>0.129274</td>\n",
              "      <td>0.484494</td>\n",
              "      <td>0.194379</td>\n",
              "      <td>0.099252</td>\n",
              "      <td>0.048627</td>\n",
              "      <td>0.641369</td>\n",
              "      <td>0.453776</td>\n",
              "      <td>-0.550658</td>\n",
              "      <td>-0.685677</td>\n",
              "      <td>0.614255</td>\n",
              "      <td>-0.001949</td>\n",
              "      <td>-0.382198</td>\n",
              "      <td>-0.034112</td>\n",
              "      <td>0.072871</td>\n",
              "      <td>0.070514</td>\n",
              "      <td>-0.182452</td>\n",
              "      <td>-0.672063</td>\n",
              "      <td>-0.203226</td>\n",
              "      <td>0.207312</td>\n",
              "      <td>-0.494412</td>\n",
              "      <td>-0.015926</td>\n",
              "      <td>0.394312</td>\n",
              "      <td>0.036818</td>\n",
              "      <td>0.289581</td>\n",
              "      <td>0.572028</td>\n",
              "      <td>0.346302</td>\n",
              "      <td>-0.048939</td>\n",
              "      <td>0.285915</td>\n",
              "      <td>0.699641</td>\n",
              "      <td>0.078200</td>\n",
              "      <td>-0.658135</td>\n",
              "      <td>-0.720307</td>\n",
              "      <td>...</td>\n",
              "      <td>-0.032483</td>\n",
              "      <td>-1.037481</td>\n",
              "      <td>-0.430439</td>\n",
              "      <td>0.345353</td>\n",
              "      <td>-0.443688</td>\n",
              "      <td>0.326153</td>\n",
              "      <td>0.006781</td>\n",
              "      <td>-0.017737</td>\n",
              "      <td>0.361109</td>\n",
              "      <td>0.084457</td>\n",
              "      <td>-0.220593</td>\n",
              "      <td>-0.326400</td>\n",
              "      <td>0.109499</td>\n",
              "      <td>-0.313511</td>\n",
              "      <td>0.126476</td>\n",
              "      <td>-1.023944</td>\n",
              "      <td>0.019120</td>\n",
              "      <td>0.276654</td>\n",
              "      <td>0.090974</td>\n",
              "      <td>-0.871337</td>\n",
              "      <td>0.066085</td>\n",
              "      <td>0.055102</td>\n",
              "      <td>0.710251</td>\n",
              "      <td>0.815904</td>\n",
              "      <td>0.116723</td>\n",
              "      <td>-0.763052</td>\n",
              "      <td>-0.191135</td>\n",
              "      <td>-0.117060</td>\n",
              "      <td>-0.917495</td>\n",
              "      <td>0.238746</td>\n",
              "      <td>-0.721925</td>\n",
              "      <td>-0.708831</td>\n",
              "      <td>0.919504</td>\n",
              "      <td>0.014721</td>\n",
              "      <td>-0.218465</td>\n",
              "      <td>-0.707999</td>\n",
              "      <td>-0.060461</td>\n",
              "      <td>-0.690395</td>\n",
              "      <td>0.655525</td>\n",
              "      <td>0.429931</td>\n",
              "    </tr>\n",
              "    <tr>\n",
              "      <th>1</th>\n",
              "      <td>0.050765</td>\n",
              "      <td>-0.231588</td>\n",
              "      <td>0.449181</td>\n",
              "      <td>-0.434117</td>\n",
              "      <td>-0.437005</td>\n",
              "      <td>-0.025377</td>\n",
              "      <td>0.901859</td>\n",
              "      <td>0.299691</td>\n",
              "      <td>0.397571</td>\n",
              "      <td>0.363239</td>\n",
              "      <td>0.813872</td>\n",
              "      <td>-0.242552</td>\n",
              "      <td>-0.046876</td>\n",
              "      <td>0.664556</td>\n",
              "      <td>0.063659</td>\n",
              "      <td>-0.778085</td>\n",
              "      <td>-0.464536</td>\n",
              "      <td>0.818348</td>\n",
              "      <td>0.217839</td>\n",
              "      <td>-0.682175</td>\n",
              "      <td>-0.048325</td>\n",
              "      <td>0.305595</td>\n",
              "      <td>0.005277</td>\n",
              "      <td>-0.105053</td>\n",
              "      <td>-0.850086</td>\n",
              "      <td>-0.180318</td>\n",
              "      <td>0.599913</td>\n",
              "      <td>-0.693823</td>\n",
              "      <td>-0.018519</td>\n",
              "      <td>0.129674</td>\n",
              "      <td>0.459312</td>\n",
              "      <td>0.366444</td>\n",
              "      <td>-0.351863</td>\n",
              "      <td>0.442381</td>\n",
              "      <td>0.333915</td>\n",
              "      <td>-0.367255</td>\n",
              "      <td>1.370850</td>\n",
              "      <td>-0.371237</td>\n",
              "      <td>-0.394274</td>\n",
              "      <td>0.127976</td>\n",
              "      <td>...</td>\n",
              "      <td>-0.759870</td>\n",
              "      <td>-0.319705</td>\n",
              "      <td>-0.320549</td>\n",
              "      <td>0.269263</td>\n",
              "      <td>-0.234702</td>\n",
              "      <td>0.203369</td>\n",
              "      <td>0.363199</td>\n",
              "      <td>0.800868</td>\n",
              "      <td>0.343576</td>\n",
              "      <td>0.986706</td>\n",
              "      <td>-0.211597</td>\n",
              "      <td>0.346223</td>\n",
              "      <td>-0.544377</td>\n",
              "      <td>0.259784</td>\n",
              "      <td>-0.261309</td>\n",
              "      <td>-0.354508</td>\n",
              "      <td>-0.033133</td>\n",
              "      <td>0.439806</td>\n",
              "      <td>0.176840</td>\n",
              "      <td>-0.155800</td>\n",
              "      <td>-1.046833</td>\n",
              "      <td>-0.140347</td>\n",
              "      <td>0.822187</td>\n",
              "      <td>1.090696</td>\n",
              "      <td>-0.127105</td>\n",
              "      <td>-1.281975</td>\n",
              "      <td>0.121476</td>\n",
              "      <td>-0.035387</td>\n",
              "      <td>-1.036540</td>\n",
              "      <td>-0.455563</td>\n",
              "      <td>-1.028529</td>\n",
              "      <td>-0.167688</td>\n",
              "      <td>-0.617333</td>\n",
              "      <td>-0.128335</td>\n",
              "      <td>-0.154140</td>\n",
              "      <td>0.052782</td>\n",
              "      <td>0.287510</td>\n",
              "      <td>-0.945878</td>\n",
              "      <td>0.582182</td>\n",
              "      <td>0.169365</td>\n",
              "    </tr>\n",
              "    <tr>\n",
              "      <th>2</th>\n",
              "      <td>0.165783</td>\n",
              "      <td>0.086285</td>\n",
              "      <td>0.996058</td>\n",
              "      <td>-0.007493</td>\n",
              "      <td>-0.062556</td>\n",
              "      <td>-0.447119</td>\n",
              "      <td>1.157736</td>\n",
              "      <td>-0.594608</td>\n",
              "      <td>-0.278915</td>\n",
              "      <td>0.288760</td>\n",
              "      <td>-0.755688</td>\n",
              "      <td>0.518912</td>\n",
              "      <td>-0.589018</td>\n",
              "      <td>-0.218036</td>\n",
              "      <td>-0.299750</td>\n",
              "      <td>-0.588890</td>\n",
              "      <td>-1.044726</td>\n",
              "      <td>0.417886</td>\n",
              "      <td>-0.516429</td>\n",
              "      <td>-0.688118</td>\n",
              "      <td>0.293211</td>\n",
              "      <td>0.023602</td>\n",
              "      <td>-0.186256</td>\n",
              "      <td>0.847153</td>\n",
              "      <td>-0.451656</td>\n",
              "      <td>0.414897</td>\n",
              "      <td>0.153552</td>\n",
              "      <td>-0.524880</td>\n",
              "      <td>0.480987</td>\n",
              "      <td>0.345679</td>\n",
              "      <td>0.525045</td>\n",
              "      <td>0.589052</td>\n",
              "      <td>-0.483123</td>\n",
              "      <td>0.143384</td>\n",
              "      <td>0.049669</td>\n",
              "      <td>-0.625910</td>\n",
              "      <td>1.300623</td>\n",
              "      <td>-0.494312</td>\n",
              "      <td>0.039376</td>\n",
              "      <td>-0.539757</td>\n",
              "      <td>...</td>\n",
              "      <td>-0.288382</td>\n",
              "      <td>0.158903</td>\n",
              "      <td>-0.675779</td>\n",
              "      <td>-0.603539</td>\n",
              "      <td>-0.569769</td>\n",
              "      <td>0.099041</td>\n",
              "      <td>0.707026</td>\n",
              "      <td>0.829515</td>\n",
              "      <td>-0.109335</td>\n",
              "      <td>0.677547</td>\n",
              "      <td>0.197822</td>\n",
              "      <td>0.223959</td>\n",
              "      <td>-0.297395</td>\n",
              "      <td>-0.826129</td>\n",
              "      <td>-0.965579</td>\n",
              "      <td>-0.218842</td>\n",
              "      <td>1.487624</td>\n",
              "      <td>-0.247483</td>\n",
              "      <td>-0.609409</td>\n",
              "      <td>-0.065343</td>\n",
              "      <td>-0.464756</td>\n",
              "      <td>-0.134924</td>\n",
              "      <td>1.308985</td>\n",
              "      <td>0.461915</td>\n",
              "      <td>-0.319942</td>\n",
              "      <td>-0.315665</td>\n",
              "      <td>-0.672881</td>\n",
              "      <td>0.423251</td>\n",
              "      <td>-1.299873</td>\n",
              "      <td>-0.380740</td>\n",
              "      <td>-1.354729</td>\n",
              "      <td>-0.239816</td>\n",
              "      <td>-0.171938</td>\n",
              "      <td>0.529478</td>\n",
              "      <td>-0.135893</td>\n",
              "      <td>1.097948</td>\n",
              "      <td>-0.018599</td>\n",
              "      <td>-1.401098</td>\n",
              "      <td>-0.166925</td>\n",
              "      <td>-0.666989</td>\n",
              "    </tr>\n",
              "    <tr>\n",
              "      <th>3</th>\n",
              "      <td>-0.178117</td>\n",
              "      <td>-0.473958</td>\n",
              "      <td>0.048357</td>\n",
              "      <td>-1.291486</td>\n",
              "      <td>-0.028839</td>\n",
              "      <td>0.348842</td>\n",
              "      <td>-0.046128</td>\n",
              "      <td>0.052367</td>\n",
              "      <td>-0.436607</td>\n",
              "      <td>1.082325</td>\n",
              "      <td>1.379477</td>\n",
              "      <td>0.269814</td>\n",
              "      <td>-0.224944</td>\n",
              "      <td>0.555075</td>\n",
              "      <td>0.196508</td>\n",
              "      <td>-1.012059</td>\n",
              "      <td>-0.139680</td>\n",
              "      <td>0.013312</td>\n",
              "      <td>0.595400</td>\n",
              "      <td>-0.556999</td>\n",
              "      <td>-0.128182</td>\n",
              "      <td>0.313684</td>\n",
              "      <td>-0.397969</td>\n",
              "      <td>0.625162</td>\n",
              "      <td>-1.139045</td>\n",
              "      <td>0.605110</td>\n",
              "      <td>0.438818</td>\n",
              "      <td>-0.294600</td>\n",
              "      <td>-0.015436</td>\n",
              "      <td>-0.200387</td>\n",
              "      <td>-0.028176</td>\n",
              "      <td>0.543886</td>\n",
              "      <td>-0.501193</td>\n",
              "      <td>0.160218</td>\n",
              "      <td>-0.207827</td>\n",
              "      <td>-0.185351</td>\n",
              "      <td>0.511595</td>\n",
              "      <td>-0.588324</td>\n",
              "      <td>0.523014</td>\n",
              "      <td>-0.696837</td>\n",
              "      <td>...</td>\n",
              "      <td>-1.323598</td>\n",
              "      <td>-0.134631</td>\n",
              "      <td>-0.420599</td>\n",
              "      <td>-0.185516</td>\n",
              "      <td>-0.183404</td>\n",
              "      <td>0.793519</td>\n",
              "      <td>0.255796</td>\n",
              "      <td>0.518475</td>\n",
              "      <td>0.655393</td>\n",
              "      <td>0.389528</td>\n",
              "      <td>-0.159402</td>\n",
              "      <td>0.155687</td>\n",
              "      <td>-0.318774</td>\n",
              "      <td>-0.182897</td>\n",
              "      <td>-0.584351</td>\n",
              "      <td>-1.437036</td>\n",
              "      <td>0.627801</td>\n",
              "      <td>0.532542</td>\n",
              "      <td>0.662939</td>\n",
              "      <td>0.678888</td>\n",
              "      <td>-0.622288</td>\n",
              "      <td>0.319154</td>\n",
              "      <td>0.996853</td>\n",
              "      <td>0.696456</td>\n",
              "      <td>0.012059</td>\n",
              "      <td>-0.387256</td>\n",
              "      <td>0.541324</td>\n",
              "      <td>0.047869</td>\n",
              "      <td>-0.789448</td>\n",
              "      <td>-0.599024</td>\n",
              "      <td>-0.941752</td>\n",
              "      <td>0.158490</td>\n",
              "      <td>-0.710274</td>\n",
              "      <td>0.030269</td>\n",
              "      <td>0.281971</td>\n",
              "      <td>0.180029</td>\n",
              "      <td>0.274251</td>\n",
              "      <td>-0.035900</td>\n",
              "      <td>1.007164</td>\n",
              "      <td>-0.209413</td>\n",
              "    </tr>\n",
              "    <tr>\n",
              "      <th>4</th>\n",
              "      <td>-0.341517</td>\n",
              "      <td>-0.614352</td>\n",
              "      <td>0.075420</td>\n",
              "      <td>-0.381870</td>\n",
              "      <td>-0.037142</td>\n",
              "      <td>-0.639595</td>\n",
              "      <td>1.047396</td>\n",
              "      <td>1.109776</td>\n",
              "      <td>-0.500967</td>\n",
              "      <td>-0.308551</td>\n",
              "      <td>-0.026306</td>\n",
              "      <td>0.817466</td>\n",
              "      <td>0.180812</td>\n",
              "      <td>0.402919</td>\n",
              "      <td>0.446856</td>\n",
              "      <td>-0.506134</td>\n",
              "      <td>-0.852798</td>\n",
              "      <td>0.875699</td>\n",
              "      <td>-0.568851</td>\n",
              "      <td>-0.948410</td>\n",
              "      <td>0.342488</td>\n",
              "      <td>-0.257154</td>\n",
              "      <td>-0.041045</td>\n",
              "      <td>1.054365</td>\n",
              "      <td>0.182189</td>\n",
              "      <td>0.183331</td>\n",
              "      <td>0.685496</td>\n",
              "      <td>-0.191475</td>\n",
              "      <td>-0.196328</td>\n",
              "      <td>-0.376523</td>\n",
              "      <td>0.161194</td>\n",
              "      <td>-0.232624</td>\n",
              "      <td>-0.124186</td>\n",
              "      <td>0.408084</td>\n",
              "      <td>0.532743</td>\n",
              "      <td>-0.697111</td>\n",
              "      <td>-0.076796</td>\n",
              "      <td>-0.269128</td>\n",
              "      <td>-0.596582</td>\n",
              "      <td>-0.246367</td>\n",
              "      <td>...</td>\n",
              "      <td>-0.935546</td>\n",
              "      <td>0.314507</td>\n",
              "      <td>-0.171532</td>\n",
              "      <td>-0.507654</td>\n",
              "      <td>-0.372031</td>\n",
              "      <td>0.384393</td>\n",
              "      <td>-0.427786</td>\n",
              "      <td>-0.062957</td>\n",
              "      <td>0.381885</td>\n",
              "      <td>-0.210031</td>\n",
              "      <td>-0.373227</td>\n",
              "      <td>0.138791</td>\n",
              "      <td>-0.295719</td>\n",
              "      <td>-0.431427</td>\n",
              "      <td>-0.521123</td>\n",
              "      <td>0.406644</td>\n",
              "      <td>0.222613</td>\n",
              "      <td>-0.539807</td>\n",
              "      <td>-0.619525</td>\n",
              "      <td>0.157020</td>\n",
              "      <td>-0.941711</td>\n",
              "      <td>-0.363686</td>\n",
              "      <td>0.716169</td>\n",
              "      <td>-0.360151</td>\n",
              "      <td>-0.008979</td>\n",
              "      <td>-0.696636</td>\n",
              "      <td>-0.872138</td>\n",
              "      <td>0.198449</td>\n",
              "      <td>-0.777933</td>\n",
              "      <td>0.183854</td>\n",
              "      <td>-0.967491</td>\n",
              "      <td>-0.433642</td>\n",
              "      <td>-0.074372</td>\n",
              "      <td>-0.851413</td>\n",
              "      <td>-0.311539</td>\n",
              "      <td>0.008006</td>\n",
              "      <td>-0.179488</td>\n",
              "      <td>-0.726386</td>\n",
              "      <td>0.608123</td>\n",
              "      <td>-0.062077</td>\n",
              "    </tr>\n",
              "  </tbody>\n",
              "</table>\n",
              "<p>5 rows × 768 columns</p>\n",
              "</div>"
            ],
            "text/plain": [
              "        0         1         2    ...       765       766       767\n",
              "0 -1.280514 -0.479057 -0.074594  ... -0.690395  0.655525  0.429931\n",
              "1  0.050765 -0.231588  0.449181  ... -0.945878  0.582182  0.169365\n",
              "2  0.165783  0.086285  0.996058  ... -1.401098 -0.166925 -0.666989\n",
              "3 -0.178117 -0.473958  0.048357  ... -0.035900  1.007164 -0.209413\n",
              "4 -0.341517 -0.614352  0.075420  ... -0.726386  0.608123 -0.062077\n",
              "\n",
              "[5 rows x 768 columns]"
            ]
          },
          "metadata": {
            "tags": []
          },
          "execution_count": 22
        }
      ]
    },
    {
      "cell_type": "markdown",
      "metadata": {
        "id": "9oJat2zAIAfs"
      },
      "source": [
        "## Concat genereated word Vector aloing with the original text and label"
      ]
    },
    {
      "cell_type": "code",
      "metadata": {
        "id": "wwY3sMlPhHu3"
      },
      "source": [
        "final_train = pd.concat((train_vector,train),axis=1)"
      ],
      "execution_count": 23,
      "outputs": []
    },
    {
      "cell_type": "code",
      "metadata": {
        "colab": {
          "base_uri": "https://localhost:8080/",
          "height": 644
        },
        "id": "BzI5BguFhba9",
        "outputId": "0bd424ca-3173-4f4d-dea6-e0efea20459c"
      },
      "source": [
        "final_train.head()"
      ],
      "execution_count": 24,
      "outputs": [
        {
          "output_type": "execute_result",
          "data": {
            "text/html": [
              "<div>\n",
              "<style scoped>\n",
              "    .dataframe tbody tr th:only-of-type {\n",
              "        vertical-align: middle;\n",
              "    }\n",
              "\n",
              "    .dataframe tbody tr th {\n",
              "        vertical-align: top;\n",
              "    }\n",
              "\n",
              "    .dataframe thead th {\n",
              "        text-align: right;\n",
              "    }\n",
              "</style>\n",
              "<table border=\"1\" class=\"dataframe\">\n",
              "  <thead>\n",
              "    <tr style=\"text-align: right;\">\n",
              "      <th></th>\n",
              "      <th>0</th>\n",
              "      <th>1</th>\n",
              "      <th>2</th>\n",
              "      <th>3</th>\n",
              "      <th>4</th>\n",
              "      <th>5</th>\n",
              "      <th>6</th>\n",
              "      <th>7</th>\n",
              "      <th>8</th>\n",
              "      <th>9</th>\n",
              "      <th>10</th>\n",
              "      <th>11</th>\n",
              "      <th>12</th>\n",
              "      <th>13</th>\n",
              "      <th>14</th>\n",
              "      <th>15</th>\n",
              "      <th>16</th>\n",
              "      <th>17</th>\n",
              "      <th>18</th>\n",
              "      <th>19</th>\n",
              "      <th>20</th>\n",
              "      <th>21</th>\n",
              "      <th>22</th>\n",
              "      <th>23</th>\n",
              "      <th>24</th>\n",
              "      <th>25</th>\n",
              "      <th>26</th>\n",
              "      <th>27</th>\n",
              "      <th>28</th>\n",
              "      <th>29</th>\n",
              "      <th>30</th>\n",
              "      <th>31</th>\n",
              "      <th>32</th>\n",
              "      <th>33</th>\n",
              "      <th>34</th>\n",
              "      <th>35</th>\n",
              "      <th>36</th>\n",
              "      <th>37</th>\n",
              "      <th>38</th>\n",
              "      <th>39</th>\n",
              "      <th>...</th>\n",
              "      <th>730</th>\n",
              "      <th>731</th>\n",
              "      <th>732</th>\n",
              "      <th>733</th>\n",
              "      <th>734</th>\n",
              "      <th>735</th>\n",
              "      <th>736</th>\n",
              "      <th>737</th>\n",
              "      <th>738</th>\n",
              "      <th>739</th>\n",
              "      <th>740</th>\n",
              "      <th>741</th>\n",
              "      <th>742</th>\n",
              "      <th>743</th>\n",
              "      <th>744</th>\n",
              "      <th>745</th>\n",
              "      <th>746</th>\n",
              "      <th>747</th>\n",
              "      <th>748</th>\n",
              "      <th>749</th>\n",
              "      <th>750</th>\n",
              "      <th>751</th>\n",
              "      <th>752</th>\n",
              "      <th>753</th>\n",
              "      <th>754</th>\n",
              "      <th>755</th>\n",
              "      <th>756</th>\n",
              "      <th>757</th>\n",
              "      <th>758</th>\n",
              "      <th>759</th>\n",
              "      <th>760</th>\n",
              "      <th>761</th>\n",
              "      <th>762</th>\n",
              "      <th>763</th>\n",
              "      <th>764</th>\n",
              "      <th>765</th>\n",
              "      <th>766</th>\n",
              "      <th>767</th>\n",
              "      <th>Question</th>\n",
              "      <th>Label</th>\n",
              "    </tr>\n",
              "  </thead>\n",
              "  <tbody>\n",
              "    <tr>\n",
              "      <th>0</th>\n",
              "      <td>-1.280514</td>\n",
              "      <td>-0.479057</td>\n",
              "      <td>-0.074594</td>\n",
              "      <td>-1.078832</td>\n",
              "      <td>0.555026</td>\n",
              "      <td>-0.304828</td>\n",
              "      <td>0.710984</td>\n",
              "      <td>0.278825</td>\n",
              "      <td>0.129274</td>\n",
              "      <td>0.484494</td>\n",
              "      <td>0.194379</td>\n",
              "      <td>0.099252</td>\n",
              "      <td>0.048627</td>\n",
              "      <td>0.641369</td>\n",
              "      <td>0.453776</td>\n",
              "      <td>-0.550658</td>\n",
              "      <td>-0.685677</td>\n",
              "      <td>0.614255</td>\n",
              "      <td>-0.001949</td>\n",
              "      <td>-0.382198</td>\n",
              "      <td>-0.034112</td>\n",
              "      <td>0.072871</td>\n",
              "      <td>0.070514</td>\n",
              "      <td>-0.182452</td>\n",
              "      <td>-0.672063</td>\n",
              "      <td>-0.203226</td>\n",
              "      <td>0.207312</td>\n",
              "      <td>-0.494412</td>\n",
              "      <td>-0.015926</td>\n",
              "      <td>0.394312</td>\n",
              "      <td>0.036818</td>\n",
              "      <td>0.289581</td>\n",
              "      <td>0.572028</td>\n",
              "      <td>0.346302</td>\n",
              "      <td>-0.048939</td>\n",
              "      <td>0.285915</td>\n",
              "      <td>0.699641</td>\n",
              "      <td>0.078200</td>\n",
              "      <td>-0.658135</td>\n",
              "      <td>-0.720307</td>\n",
              "      <td>...</td>\n",
              "      <td>-0.430439</td>\n",
              "      <td>0.345353</td>\n",
              "      <td>-0.443688</td>\n",
              "      <td>0.326153</td>\n",
              "      <td>0.006781</td>\n",
              "      <td>-0.017737</td>\n",
              "      <td>0.361109</td>\n",
              "      <td>0.084457</td>\n",
              "      <td>-0.220593</td>\n",
              "      <td>-0.326400</td>\n",
              "      <td>0.109499</td>\n",
              "      <td>-0.313511</td>\n",
              "      <td>0.126476</td>\n",
              "      <td>-1.023944</td>\n",
              "      <td>0.019120</td>\n",
              "      <td>0.276654</td>\n",
              "      <td>0.090974</td>\n",
              "      <td>-0.871337</td>\n",
              "      <td>0.066085</td>\n",
              "      <td>0.055102</td>\n",
              "      <td>0.710251</td>\n",
              "      <td>0.815904</td>\n",
              "      <td>0.116723</td>\n",
              "      <td>-0.763052</td>\n",
              "      <td>-0.191135</td>\n",
              "      <td>-0.117060</td>\n",
              "      <td>-0.917495</td>\n",
              "      <td>0.238746</td>\n",
              "      <td>-0.721925</td>\n",
              "      <td>-0.708831</td>\n",
              "      <td>0.919504</td>\n",
              "      <td>0.014721</td>\n",
              "      <td>-0.218465</td>\n",
              "      <td>-0.707999</td>\n",
              "      <td>-0.060461</td>\n",
              "      <td>-0.690395</td>\n",
              "      <td>0.655525</td>\n",
              "      <td>0.429931</td>\n",
              "      <td>manner How did serfdom develop in and then lea...</td>\n",
              "      <td>DESC</td>\n",
              "    </tr>\n",
              "    <tr>\n",
              "      <th>1</th>\n",
              "      <td>0.050765</td>\n",
              "      <td>-0.231588</td>\n",
              "      <td>0.449181</td>\n",
              "      <td>-0.434117</td>\n",
              "      <td>-0.437005</td>\n",
              "      <td>-0.025377</td>\n",
              "      <td>0.901859</td>\n",
              "      <td>0.299691</td>\n",
              "      <td>0.397571</td>\n",
              "      <td>0.363239</td>\n",
              "      <td>0.813872</td>\n",
              "      <td>-0.242552</td>\n",
              "      <td>-0.046876</td>\n",
              "      <td>0.664556</td>\n",
              "      <td>0.063659</td>\n",
              "      <td>-0.778085</td>\n",
              "      <td>-0.464536</td>\n",
              "      <td>0.818348</td>\n",
              "      <td>0.217839</td>\n",
              "      <td>-0.682175</td>\n",
              "      <td>-0.048325</td>\n",
              "      <td>0.305595</td>\n",
              "      <td>0.005277</td>\n",
              "      <td>-0.105053</td>\n",
              "      <td>-0.850086</td>\n",
              "      <td>-0.180318</td>\n",
              "      <td>0.599913</td>\n",
              "      <td>-0.693823</td>\n",
              "      <td>-0.018519</td>\n",
              "      <td>0.129674</td>\n",
              "      <td>0.459312</td>\n",
              "      <td>0.366444</td>\n",
              "      <td>-0.351863</td>\n",
              "      <td>0.442381</td>\n",
              "      <td>0.333915</td>\n",
              "      <td>-0.367255</td>\n",
              "      <td>1.370850</td>\n",
              "      <td>-0.371237</td>\n",
              "      <td>-0.394274</td>\n",
              "      <td>0.127976</td>\n",
              "      <td>...</td>\n",
              "      <td>-0.320549</td>\n",
              "      <td>0.269263</td>\n",
              "      <td>-0.234702</td>\n",
              "      <td>0.203369</td>\n",
              "      <td>0.363199</td>\n",
              "      <td>0.800868</td>\n",
              "      <td>0.343576</td>\n",
              "      <td>0.986706</td>\n",
              "      <td>-0.211597</td>\n",
              "      <td>0.346223</td>\n",
              "      <td>-0.544377</td>\n",
              "      <td>0.259784</td>\n",
              "      <td>-0.261309</td>\n",
              "      <td>-0.354508</td>\n",
              "      <td>-0.033133</td>\n",
              "      <td>0.439806</td>\n",
              "      <td>0.176840</td>\n",
              "      <td>-0.155800</td>\n",
              "      <td>-1.046833</td>\n",
              "      <td>-0.140347</td>\n",
              "      <td>0.822187</td>\n",
              "      <td>1.090696</td>\n",
              "      <td>-0.127105</td>\n",
              "      <td>-1.281975</td>\n",
              "      <td>0.121476</td>\n",
              "      <td>-0.035387</td>\n",
              "      <td>-1.036540</td>\n",
              "      <td>-0.455563</td>\n",
              "      <td>-1.028529</td>\n",
              "      <td>-0.167688</td>\n",
              "      <td>-0.617333</td>\n",
              "      <td>-0.128335</td>\n",
              "      <td>-0.154140</td>\n",
              "      <td>0.052782</td>\n",
              "      <td>0.287510</td>\n",
              "      <td>-0.945878</td>\n",
              "      <td>0.582182</td>\n",
              "      <td>0.169365</td>\n",
              "      <td>cremat What films featured the character Popey...</td>\n",
              "      <td>FACT</td>\n",
              "    </tr>\n",
              "    <tr>\n",
              "      <th>2</th>\n",
              "      <td>0.165783</td>\n",
              "      <td>0.086285</td>\n",
              "      <td>0.996058</td>\n",
              "      <td>-0.007493</td>\n",
              "      <td>-0.062556</td>\n",
              "      <td>-0.447119</td>\n",
              "      <td>1.157736</td>\n",
              "      <td>-0.594608</td>\n",
              "      <td>-0.278915</td>\n",
              "      <td>0.288760</td>\n",
              "      <td>-0.755688</td>\n",
              "      <td>0.518912</td>\n",
              "      <td>-0.589018</td>\n",
              "      <td>-0.218036</td>\n",
              "      <td>-0.299750</td>\n",
              "      <td>-0.588890</td>\n",
              "      <td>-1.044726</td>\n",
              "      <td>0.417886</td>\n",
              "      <td>-0.516429</td>\n",
              "      <td>-0.688118</td>\n",
              "      <td>0.293211</td>\n",
              "      <td>0.023602</td>\n",
              "      <td>-0.186256</td>\n",
              "      <td>0.847153</td>\n",
              "      <td>-0.451656</td>\n",
              "      <td>0.414897</td>\n",
              "      <td>0.153552</td>\n",
              "      <td>-0.524880</td>\n",
              "      <td>0.480987</td>\n",
              "      <td>0.345679</td>\n",
              "      <td>0.525045</td>\n",
              "      <td>0.589052</td>\n",
              "      <td>-0.483123</td>\n",
              "      <td>0.143384</td>\n",
              "      <td>0.049669</td>\n",
              "      <td>-0.625910</td>\n",
              "      <td>1.300623</td>\n",
              "      <td>-0.494312</td>\n",
              "      <td>0.039376</td>\n",
              "      <td>-0.539757</td>\n",
              "      <td>...</td>\n",
              "      <td>-0.675779</td>\n",
              "      <td>-0.603539</td>\n",
              "      <td>-0.569769</td>\n",
              "      <td>0.099041</td>\n",
              "      <td>0.707026</td>\n",
              "      <td>0.829515</td>\n",
              "      <td>-0.109335</td>\n",
              "      <td>0.677547</td>\n",
              "      <td>0.197822</td>\n",
              "      <td>0.223959</td>\n",
              "      <td>-0.297395</td>\n",
              "      <td>-0.826129</td>\n",
              "      <td>-0.965579</td>\n",
              "      <td>-0.218842</td>\n",
              "      <td>1.487624</td>\n",
              "      <td>-0.247483</td>\n",
              "      <td>-0.609409</td>\n",
              "      <td>-0.065343</td>\n",
              "      <td>-0.464756</td>\n",
              "      <td>-0.134924</td>\n",
              "      <td>1.308985</td>\n",
              "      <td>0.461915</td>\n",
              "      <td>-0.319942</td>\n",
              "      <td>-0.315665</td>\n",
              "      <td>-0.672881</td>\n",
              "      <td>0.423251</td>\n",
              "      <td>-1.299873</td>\n",
              "      <td>-0.380740</td>\n",
              "      <td>-1.354729</td>\n",
              "      <td>-0.239816</td>\n",
              "      <td>-0.171938</td>\n",
              "      <td>0.529478</td>\n",
              "      <td>-0.135893</td>\n",
              "      <td>1.097948</td>\n",
              "      <td>-0.018599</td>\n",
              "      <td>-1.401098</td>\n",
              "      <td>-0.166925</td>\n",
              "      <td>-0.666989</td>\n",
              "      <td>manner How can I find a list of celebrities ' ...</td>\n",
              "      <td>DESC</td>\n",
              "    </tr>\n",
              "    <tr>\n",
              "      <th>3</th>\n",
              "      <td>-0.178117</td>\n",
              "      <td>-0.473958</td>\n",
              "      <td>0.048357</td>\n",
              "      <td>-1.291486</td>\n",
              "      <td>-0.028839</td>\n",
              "      <td>0.348842</td>\n",
              "      <td>-0.046128</td>\n",
              "      <td>0.052367</td>\n",
              "      <td>-0.436607</td>\n",
              "      <td>1.082325</td>\n",
              "      <td>1.379477</td>\n",
              "      <td>0.269814</td>\n",
              "      <td>-0.224944</td>\n",
              "      <td>0.555075</td>\n",
              "      <td>0.196508</td>\n",
              "      <td>-1.012059</td>\n",
              "      <td>-0.139680</td>\n",
              "      <td>0.013312</td>\n",
              "      <td>0.595400</td>\n",
              "      <td>-0.556999</td>\n",
              "      <td>-0.128182</td>\n",
              "      <td>0.313684</td>\n",
              "      <td>-0.397969</td>\n",
              "      <td>0.625162</td>\n",
              "      <td>-1.139045</td>\n",
              "      <td>0.605110</td>\n",
              "      <td>0.438818</td>\n",
              "      <td>-0.294600</td>\n",
              "      <td>-0.015436</td>\n",
              "      <td>-0.200387</td>\n",
              "      <td>-0.028176</td>\n",
              "      <td>0.543886</td>\n",
              "      <td>-0.501193</td>\n",
              "      <td>0.160218</td>\n",
              "      <td>-0.207827</td>\n",
              "      <td>-0.185351</td>\n",
              "      <td>0.511595</td>\n",
              "      <td>-0.588324</td>\n",
              "      <td>0.523014</td>\n",
              "      <td>-0.696837</td>\n",
              "      <td>...</td>\n",
              "      <td>-0.420599</td>\n",
              "      <td>-0.185516</td>\n",
              "      <td>-0.183404</td>\n",
              "      <td>0.793519</td>\n",
              "      <td>0.255796</td>\n",
              "      <td>0.518475</td>\n",
              "      <td>0.655393</td>\n",
              "      <td>0.389528</td>\n",
              "      <td>-0.159402</td>\n",
              "      <td>0.155687</td>\n",
              "      <td>-0.318774</td>\n",
              "      <td>-0.182897</td>\n",
              "      <td>-0.584351</td>\n",
              "      <td>-1.437036</td>\n",
              "      <td>0.627801</td>\n",
              "      <td>0.532542</td>\n",
              "      <td>0.662939</td>\n",
              "      <td>0.678888</td>\n",
              "      <td>-0.622288</td>\n",
              "      <td>0.319154</td>\n",
              "      <td>0.996853</td>\n",
              "      <td>0.696456</td>\n",
              "      <td>0.012059</td>\n",
              "      <td>-0.387256</td>\n",
              "      <td>0.541324</td>\n",
              "      <td>0.047869</td>\n",
              "      <td>-0.789448</td>\n",
              "      <td>-0.599024</td>\n",
              "      <td>-0.941752</td>\n",
              "      <td>0.158490</td>\n",
              "      <td>-0.710274</td>\n",
              "      <td>0.030269</td>\n",
              "      <td>0.281971</td>\n",
              "      <td>0.180029</td>\n",
              "      <td>0.274251</td>\n",
              "      <td>-0.035900</td>\n",
              "      <td>1.007164</td>\n",
              "      <td>-0.209413</td>\n",
              "      <td>animal What fowl grabs the spotlight after the...</td>\n",
              "      <td>FACT</td>\n",
              "    </tr>\n",
              "    <tr>\n",
              "      <th>4</th>\n",
              "      <td>-0.341517</td>\n",
              "      <td>-0.614352</td>\n",
              "      <td>0.075420</td>\n",
              "      <td>-0.381870</td>\n",
              "      <td>-0.037142</td>\n",
              "      <td>-0.639595</td>\n",
              "      <td>1.047396</td>\n",
              "      <td>1.109776</td>\n",
              "      <td>-0.500967</td>\n",
              "      <td>-0.308551</td>\n",
              "      <td>-0.026306</td>\n",
              "      <td>0.817466</td>\n",
              "      <td>0.180812</td>\n",
              "      <td>0.402919</td>\n",
              "      <td>0.446856</td>\n",
              "      <td>-0.506134</td>\n",
              "      <td>-0.852798</td>\n",
              "      <td>0.875699</td>\n",
              "      <td>-0.568851</td>\n",
              "      <td>-0.948410</td>\n",
              "      <td>0.342488</td>\n",
              "      <td>-0.257154</td>\n",
              "      <td>-0.041045</td>\n",
              "      <td>1.054365</td>\n",
              "      <td>0.182189</td>\n",
              "      <td>0.183331</td>\n",
              "      <td>0.685496</td>\n",
              "      <td>-0.191475</td>\n",
              "      <td>-0.196328</td>\n",
              "      <td>-0.376523</td>\n",
              "      <td>0.161194</td>\n",
              "      <td>-0.232624</td>\n",
              "      <td>-0.124186</td>\n",
              "      <td>0.408084</td>\n",
              "      <td>0.532743</td>\n",
              "      <td>-0.697111</td>\n",
              "      <td>-0.076796</td>\n",
              "      <td>-0.269128</td>\n",
              "      <td>-0.596582</td>\n",
              "      <td>-0.246367</td>\n",
              "      <td>...</td>\n",
              "      <td>-0.171532</td>\n",
              "      <td>-0.507654</td>\n",
              "      <td>-0.372031</td>\n",
              "      <td>0.384393</td>\n",
              "      <td>-0.427786</td>\n",
              "      <td>-0.062957</td>\n",
              "      <td>0.381885</td>\n",
              "      <td>-0.210031</td>\n",
              "      <td>-0.373227</td>\n",
              "      <td>0.138791</td>\n",
              "      <td>-0.295719</td>\n",
              "      <td>-0.431427</td>\n",
              "      <td>-0.521123</td>\n",
              "      <td>0.406644</td>\n",
              "      <td>0.222613</td>\n",
              "      <td>-0.539807</td>\n",
              "      <td>-0.619525</td>\n",
              "      <td>0.157020</td>\n",
              "      <td>-0.941711</td>\n",
              "      <td>-0.363686</td>\n",
              "      <td>0.716169</td>\n",
              "      <td>-0.360151</td>\n",
              "      <td>-0.008979</td>\n",
              "      <td>-0.696636</td>\n",
              "      <td>-0.872138</td>\n",
              "      <td>0.198449</td>\n",
              "      <td>-0.777933</td>\n",
              "      <td>0.183854</td>\n",
              "      <td>-0.967491</td>\n",
              "      <td>-0.433642</td>\n",
              "      <td>-0.074372</td>\n",
              "      <td>-0.851413</td>\n",
              "      <td>-0.311539</td>\n",
              "      <td>0.008006</td>\n",
              "      <td>-0.179488</td>\n",
              "      <td>-0.726386</td>\n",
              "      <td>0.608123</td>\n",
              "      <td>-0.062077</td>\n",
              "      <td>exp What is the full form of .com ?\\n</td>\n",
              "      <td>FACT</td>\n",
              "    </tr>\n",
              "  </tbody>\n",
              "</table>\n",
              "<p>5 rows × 770 columns</p>\n",
              "</div>"
            ],
            "text/plain": [
              "          0         1  ...                                           Question  Label\n",
              "0 -1.280514 -0.479057  ...  manner How did serfdom develop in and then lea...   DESC\n",
              "1  0.050765 -0.231588  ...  cremat What films featured the character Popey...   FACT\n",
              "2  0.165783  0.086285  ...  manner How can I find a list of celebrities ' ...   DESC\n",
              "3 -0.178117 -0.473958  ...  animal What fowl grabs the spotlight after the...   FACT\n",
              "4 -0.341517 -0.614352  ...              exp What is the full form of .com ?\\n   FACT\n",
              "\n",
              "[5 rows x 770 columns]"
            ]
          },
          "metadata": {
            "tags": []
          },
          "execution_count": 24
        }
      ]
    },
    {
      "cell_type": "markdown",
      "metadata": {
        "id": "OG6_qHVNoReY"
      },
      "source": [
        "## Import Machine Learning Packages"
      ]
    },
    {
      "cell_type": "code",
      "metadata": {
        "id": "HtmM6ZbioU3j"
      },
      "source": [
        "from sklearn.linear_model import LogisticRegression\n",
        "from sklearn.ensemble import RandomForestClassifier\n",
        "from lightgbm import LGBMClassifier\n",
        "from sklearn.model_selection import train_test_split\n",
        "from sklearn.preprocessing import LabelEncoder"
      ],
      "execution_count": 25,
      "outputs": []
    },
    {
      "cell_type": "markdown",
      "metadata": {
        "id": "jQxJMd-AJaCN"
      },
      "source": [
        "## Label encoding the target (Label)"
      ]
    },
    {
      "cell_type": "code",
      "metadata": {
        "colab": {
          "base_uri": "https://localhost:8080/"
        },
        "id": "HV59K9NopUCr",
        "outputId": "a1da0c1f-a8e1-4bf6-a229-9f930287aff5"
      },
      "source": [
        "lb = LabelEncoder()\n",
        "lbl_encoded = lb.fit_transform(final_train['Label'])\n",
        "lb.classes_"
      ],
      "execution_count": 28,
      "outputs": [
        {
          "output_type": "execute_result",
          "data": {
            "text/plain": [
              "array(['DESC', 'FACT'], dtype=object)"
            ]
          },
          "metadata": {
            "tags": []
          },
          "execution_count": 28
        }
      ]
    },
    {
      "cell_type": "code",
      "metadata": {
        "colab": {
          "base_uri": "https://localhost:8080/",
          "height": 644
        },
        "id": "hI3i7nRrtwRr",
        "outputId": "26206520-5e2d-4abc-e8f6-0075c2f239b4"
      },
      "source": [
        "final_train['Label_enc'] = lbl_encoded \n",
        "final_train.head()"
      ],
      "execution_count": 29,
      "outputs": [
        {
          "output_type": "execute_result",
          "data": {
            "text/html": [
              "<div>\n",
              "<style scoped>\n",
              "    .dataframe tbody tr th:only-of-type {\n",
              "        vertical-align: middle;\n",
              "    }\n",
              "\n",
              "    .dataframe tbody tr th {\n",
              "        vertical-align: top;\n",
              "    }\n",
              "\n",
              "    .dataframe thead th {\n",
              "        text-align: right;\n",
              "    }\n",
              "</style>\n",
              "<table border=\"1\" class=\"dataframe\">\n",
              "  <thead>\n",
              "    <tr style=\"text-align: right;\">\n",
              "      <th></th>\n",
              "      <th>0</th>\n",
              "      <th>1</th>\n",
              "      <th>2</th>\n",
              "      <th>3</th>\n",
              "      <th>4</th>\n",
              "      <th>5</th>\n",
              "      <th>6</th>\n",
              "      <th>7</th>\n",
              "      <th>8</th>\n",
              "      <th>9</th>\n",
              "      <th>10</th>\n",
              "      <th>11</th>\n",
              "      <th>12</th>\n",
              "      <th>13</th>\n",
              "      <th>14</th>\n",
              "      <th>15</th>\n",
              "      <th>16</th>\n",
              "      <th>17</th>\n",
              "      <th>18</th>\n",
              "      <th>19</th>\n",
              "      <th>20</th>\n",
              "      <th>21</th>\n",
              "      <th>22</th>\n",
              "      <th>23</th>\n",
              "      <th>24</th>\n",
              "      <th>25</th>\n",
              "      <th>26</th>\n",
              "      <th>27</th>\n",
              "      <th>28</th>\n",
              "      <th>29</th>\n",
              "      <th>30</th>\n",
              "      <th>31</th>\n",
              "      <th>32</th>\n",
              "      <th>33</th>\n",
              "      <th>34</th>\n",
              "      <th>35</th>\n",
              "      <th>36</th>\n",
              "      <th>37</th>\n",
              "      <th>38</th>\n",
              "      <th>39</th>\n",
              "      <th>...</th>\n",
              "      <th>731</th>\n",
              "      <th>732</th>\n",
              "      <th>733</th>\n",
              "      <th>734</th>\n",
              "      <th>735</th>\n",
              "      <th>736</th>\n",
              "      <th>737</th>\n",
              "      <th>738</th>\n",
              "      <th>739</th>\n",
              "      <th>740</th>\n",
              "      <th>741</th>\n",
              "      <th>742</th>\n",
              "      <th>743</th>\n",
              "      <th>744</th>\n",
              "      <th>745</th>\n",
              "      <th>746</th>\n",
              "      <th>747</th>\n",
              "      <th>748</th>\n",
              "      <th>749</th>\n",
              "      <th>750</th>\n",
              "      <th>751</th>\n",
              "      <th>752</th>\n",
              "      <th>753</th>\n",
              "      <th>754</th>\n",
              "      <th>755</th>\n",
              "      <th>756</th>\n",
              "      <th>757</th>\n",
              "      <th>758</th>\n",
              "      <th>759</th>\n",
              "      <th>760</th>\n",
              "      <th>761</th>\n",
              "      <th>762</th>\n",
              "      <th>763</th>\n",
              "      <th>764</th>\n",
              "      <th>765</th>\n",
              "      <th>766</th>\n",
              "      <th>767</th>\n",
              "      <th>Question</th>\n",
              "      <th>Label</th>\n",
              "      <th>Label_enc</th>\n",
              "    </tr>\n",
              "  </thead>\n",
              "  <tbody>\n",
              "    <tr>\n",
              "      <th>0</th>\n",
              "      <td>-1.280514</td>\n",
              "      <td>-0.479057</td>\n",
              "      <td>-0.074594</td>\n",
              "      <td>-1.078832</td>\n",
              "      <td>0.555026</td>\n",
              "      <td>-0.304828</td>\n",
              "      <td>0.710984</td>\n",
              "      <td>0.278825</td>\n",
              "      <td>0.129274</td>\n",
              "      <td>0.484494</td>\n",
              "      <td>0.194379</td>\n",
              "      <td>0.099252</td>\n",
              "      <td>0.048627</td>\n",
              "      <td>0.641369</td>\n",
              "      <td>0.453776</td>\n",
              "      <td>-0.550658</td>\n",
              "      <td>-0.685677</td>\n",
              "      <td>0.614255</td>\n",
              "      <td>-0.001949</td>\n",
              "      <td>-0.382198</td>\n",
              "      <td>-0.034112</td>\n",
              "      <td>0.072871</td>\n",
              "      <td>0.070514</td>\n",
              "      <td>-0.182452</td>\n",
              "      <td>-0.672063</td>\n",
              "      <td>-0.203226</td>\n",
              "      <td>0.207312</td>\n",
              "      <td>-0.494412</td>\n",
              "      <td>-0.015926</td>\n",
              "      <td>0.394312</td>\n",
              "      <td>0.036818</td>\n",
              "      <td>0.289581</td>\n",
              "      <td>0.572028</td>\n",
              "      <td>0.346302</td>\n",
              "      <td>-0.048939</td>\n",
              "      <td>0.285915</td>\n",
              "      <td>0.699641</td>\n",
              "      <td>0.078200</td>\n",
              "      <td>-0.658135</td>\n",
              "      <td>-0.720307</td>\n",
              "      <td>...</td>\n",
              "      <td>0.345353</td>\n",
              "      <td>-0.443688</td>\n",
              "      <td>0.326153</td>\n",
              "      <td>0.006781</td>\n",
              "      <td>-0.017737</td>\n",
              "      <td>0.361109</td>\n",
              "      <td>0.084457</td>\n",
              "      <td>-0.220593</td>\n",
              "      <td>-0.326400</td>\n",
              "      <td>0.109499</td>\n",
              "      <td>-0.313511</td>\n",
              "      <td>0.126476</td>\n",
              "      <td>-1.023944</td>\n",
              "      <td>0.019120</td>\n",
              "      <td>0.276654</td>\n",
              "      <td>0.090974</td>\n",
              "      <td>-0.871337</td>\n",
              "      <td>0.066085</td>\n",
              "      <td>0.055102</td>\n",
              "      <td>0.710251</td>\n",
              "      <td>0.815904</td>\n",
              "      <td>0.116723</td>\n",
              "      <td>-0.763052</td>\n",
              "      <td>-0.191135</td>\n",
              "      <td>-0.117060</td>\n",
              "      <td>-0.917495</td>\n",
              "      <td>0.238746</td>\n",
              "      <td>-0.721925</td>\n",
              "      <td>-0.708831</td>\n",
              "      <td>0.919504</td>\n",
              "      <td>0.014721</td>\n",
              "      <td>-0.218465</td>\n",
              "      <td>-0.707999</td>\n",
              "      <td>-0.060461</td>\n",
              "      <td>-0.690395</td>\n",
              "      <td>0.655525</td>\n",
              "      <td>0.429931</td>\n",
              "      <td>manner How did serfdom develop in and then lea...</td>\n",
              "      <td>DESC</td>\n",
              "      <td>0</td>\n",
              "    </tr>\n",
              "    <tr>\n",
              "      <th>1</th>\n",
              "      <td>0.050765</td>\n",
              "      <td>-0.231588</td>\n",
              "      <td>0.449181</td>\n",
              "      <td>-0.434117</td>\n",
              "      <td>-0.437005</td>\n",
              "      <td>-0.025377</td>\n",
              "      <td>0.901859</td>\n",
              "      <td>0.299691</td>\n",
              "      <td>0.397571</td>\n",
              "      <td>0.363239</td>\n",
              "      <td>0.813872</td>\n",
              "      <td>-0.242552</td>\n",
              "      <td>-0.046876</td>\n",
              "      <td>0.664556</td>\n",
              "      <td>0.063659</td>\n",
              "      <td>-0.778085</td>\n",
              "      <td>-0.464536</td>\n",
              "      <td>0.818348</td>\n",
              "      <td>0.217839</td>\n",
              "      <td>-0.682175</td>\n",
              "      <td>-0.048325</td>\n",
              "      <td>0.305595</td>\n",
              "      <td>0.005277</td>\n",
              "      <td>-0.105053</td>\n",
              "      <td>-0.850086</td>\n",
              "      <td>-0.180318</td>\n",
              "      <td>0.599913</td>\n",
              "      <td>-0.693823</td>\n",
              "      <td>-0.018519</td>\n",
              "      <td>0.129674</td>\n",
              "      <td>0.459312</td>\n",
              "      <td>0.366444</td>\n",
              "      <td>-0.351863</td>\n",
              "      <td>0.442381</td>\n",
              "      <td>0.333915</td>\n",
              "      <td>-0.367255</td>\n",
              "      <td>1.370850</td>\n",
              "      <td>-0.371237</td>\n",
              "      <td>-0.394274</td>\n",
              "      <td>0.127976</td>\n",
              "      <td>...</td>\n",
              "      <td>0.269263</td>\n",
              "      <td>-0.234702</td>\n",
              "      <td>0.203369</td>\n",
              "      <td>0.363199</td>\n",
              "      <td>0.800868</td>\n",
              "      <td>0.343576</td>\n",
              "      <td>0.986706</td>\n",
              "      <td>-0.211597</td>\n",
              "      <td>0.346223</td>\n",
              "      <td>-0.544377</td>\n",
              "      <td>0.259784</td>\n",
              "      <td>-0.261309</td>\n",
              "      <td>-0.354508</td>\n",
              "      <td>-0.033133</td>\n",
              "      <td>0.439806</td>\n",
              "      <td>0.176840</td>\n",
              "      <td>-0.155800</td>\n",
              "      <td>-1.046833</td>\n",
              "      <td>-0.140347</td>\n",
              "      <td>0.822187</td>\n",
              "      <td>1.090696</td>\n",
              "      <td>-0.127105</td>\n",
              "      <td>-1.281975</td>\n",
              "      <td>0.121476</td>\n",
              "      <td>-0.035387</td>\n",
              "      <td>-1.036540</td>\n",
              "      <td>-0.455563</td>\n",
              "      <td>-1.028529</td>\n",
              "      <td>-0.167688</td>\n",
              "      <td>-0.617333</td>\n",
              "      <td>-0.128335</td>\n",
              "      <td>-0.154140</td>\n",
              "      <td>0.052782</td>\n",
              "      <td>0.287510</td>\n",
              "      <td>-0.945878</td>\n",
              "      <td>0.582182</td>\n",
              "      <td>0.169365</td>\n",
              "      <td>cremat What films featured the character Popey...</td>\n",
              "      <td>FACT</td>\n",
              "      <td>1</td>\n",
              "    </tr>\n",
              "    <tr>\n",
              "      <th>2</th>\n",
              "      <td>0.165783</td>\n",
              "      <td>0.086285</td>\n",
              "      <td>0.996058</td>\n",
              "      <td>-0.007493</td>\n",
              "      <td>-0.062556</td>\n",
              "      <td>-0.447119</td>\n",
              "      <td>1.157736</td>\n",
              "      <td>-0.594608</td>\n",
              "      <td>-0.278915</td>\n",
              "      <td>0.288760</td>\n",
              "      <td>-0.755688</td>\n",
              "      <td>0.518912</td>\n",
              "      <td>-0.589018</td>\n",
              "      <td>-0.218036</td>\n",
              "      <td>-0.299750</td>\n",
              "      <td>-0.588890</td>\n",
              "      <td>-1.044726</td>\n",
              "      <td>0.417886</td>\n",
              "      <td>-0.516429</td>\n",
              "      <td>-0.688118</td>\n",
              "      <td>0.293211</td>\n",
              "      <td>0.023602</td>\n",
              "      <td>-0.186256</td>\n",
              "      <td>0.847153</td>\n",
              "      <td>-0.451656</td>\n",
              "      <td>0.414897</td>\n",
              "      <td>0.153552</td>\n",
              "      <td>-0.524880</td>\n",
              "      <td>0.480987</td>\n",
              "      <td>0.345679</td>\n",
              "      <td>0.525045</td>\n",
              "      <td>0.589052</td>\n",
              "      <td>-0.483123</td>\n",
              "      <td>0.143384</td>\n",
              "      <td>0.049669</td>\n",
              "      <td>-0.625910</td>\n",
              "      <td>1.300623</td>\n",
              "      <td>-0.494312</td>\n",
              "      <td>0.039376</td>\n",
              "      <td>-0.539757</td>\n",
              "      <td>...</td>\n",
              "      <td>-0.603539</td>\n",
              "      <td>-0.569769</td>\n",
              "      <td>0.099041</td>\n",
              "      <td>0.707026</td>\n",
              "      <td>0.829515</td>\n",
              "      <td>-0.109335</td>\n",
              "      <td>0.677547</td>\n",
              "      <td>0.197822</td>\n",
              "      <td>0.223959</td>\n",
              "      <td>-0.297395</td>\n",
              "      <td>-0.826129</td>\n",
              "      <td>-0.965579</td>\n",
              "      <td>-0.218842</td>\n",
              "      <td>1.487624</td>\n",
              "      <td>-0.247483</td>\n",
              "      <td>-0.609409</td>\n",
              "      <td>-0.065343</td>\n",
              "      <td>-0.464756</td>\n",
              "      <td>-0.134924</td>\n",
              "      <td>1.308985</td>\n",
              "      <td>0.461915</td>\n",
              "      <td>-0.319942</td>\n",
              "      <td>-0.315665</td>\n",
              "      <td>-0.672881</td>\n",
              "      <td>0.423251</td>\n",
              "      <td>-1.299873</td>\n",
              "      <td>-0.380740</td>\n",
              "      <td>-1.354729</td>\n",
              "      <td>-0.239816</td>\n",
              "      <td>-0.171938</td>\n",
              "      <td>0.529478</td>\n",
              "      <td>-0.135893</td>\n",
              "      <td>1.097948</td>\n",
              "      <td>-0.018599</td>\n",
              "      <td>-1.401098</td>\n",
              "      <td>-0.166925</td>\n",
              "      <td>-0.666989</td>\n",
              "      <td>manner How can I find a list of celebrities ' ...</td>\n",
              "      <td>DESC</td>\n",
              "      <td>0</td>\n",
              "    </tr>\n",
              "    <tr>\n",
              "      <th>3</th>\n",
              "      <td>-0.178117</td>\n",
              "      <td>-0.473958</td>\n",
              "      <td>0.048357</td>\n",
              "      <td>-1.291486</td>\n",
              "      <td>-0.028839</td>\n",
              "      <td>0.348842</td>\n",
              "      <td>-0.046128</td>\n",
              "      <td>0.052367</td>\n",
              "      <td>-0.436607</td>\n",
              "      <td>1.082325</td>\n",
              "      <td>1.379477</td>\n",
              "      <td>0.269814</td>\n",
              "      <td>-0.224944</td>\n",
              "      <td>0.555075</td>\n",
              "      <td>0.196508</td>\n",
              "      <td>-1.012059</td>\n",
              "      <td>-0.139680</td>\n",
              "      <td>0.013312</td>\n",
              "      <td>0.595400</td>\n",
              "      <td>-0.556999</td>\n",
              "      <td>-0.128182</td>\n",
              "      <td>0.313684</td>\n",
              "      <td>-0.397969</td>\n",
              "      <td>0.625162</td>\n",
              "      <td>-1.139045</td>\n",
              "      <td>0.605110</td>\n",
              "      <td>0.438818</td>\n",
              "      <td>-0.294600</td>\n",
              "      <td>-0.015436</td>\n",
              "      <td>-0.200387</td>\n",
              "      <td>-0.028176</td>\n",
              "      <td>0.543886</td>\n",
              "      <td>-0.501193</td>\n",
              "      <td>0.160218</td>\n",
              "      <td>-0.207827</td>\n",
              "      <td>-0.185351</td>\n",
              "      <td>0.511595</td>\n",
              "      <td>-0.588324</td>\n",
              "      <td>0.523014</td>\n",
              "      <td>-0.696837</td>\n",
              "      <td>...</td>\n",
              "      <td>-0.185516</td>\n",
              "      <td>-0.183404</td>\n",
              "      <td>0.793519</td>\n",
              "      <td>0.255796</td>\n",
              "      <td>0.518475</td>\n",
              "      <td>0.655393</td>\n",
              "      <td>0.389528</td>\n",
              "      <td>-0.159402</td>\n",
              "      <td>0.155687</td>\n",
              "      <td>-0.318774</td>\n",
              "      <td>-0.182897</td>\n",
              "      <td>-0.584351</td>\n",
              "      <td>-1.437036</td>\n",
              "      <td>0.627801</td>\n",
              "      <td>0.532542</td>\n",
              "      <td>0.662939</td>\n",
              "      <td>0.678888</td>\n",
              "      <td>-0.622288</td>\n",
              "      <td>0.319154</td>\n",
              "      <td>0.996853</td>\n",
              "      <td>0.696456</td>\n",
              "      <td>0.012059</td>\n",
              "      <td>-0.387256</td>\n",
              "      <td>0.541324</td>\n",
              "      <td>0.047869</td>\n",
              "      <td>-0.789448</td>\n",
              "      <td>-0.599024</td>\n",
              "      <td>-0.941752</td>\n",
              "      <td>0.158490</td>\n",
              "      <td>-0.710274</td>\n",
              "      <td>0.030269</td>\n",
              "      <td>0.281971</td>\n",
              "      <td>0.180029</td>\n",
              "      <td>0.274251</td>\n",
              "      <td>-0.035900</td>\n",
              "      <td>1.007164</td>\n",
              "      <td>-0.209413</td>\n",
              "      <td>animal What fowl grabs the spotlight after the...</td>\n",
              "      <td>FACT</td>\n",
              "      <td>1</td>\n",
              "    </tr>\n",
              "    <tr>\n",
              "      <th>4</th>\n",
              "      <td>-0.341517</td>\n",
              "      <td>-0.614352</td>\n",
              "      <td>0.075420</td>\n",
              "      <td>-0.381870</td>\n",
              "      <td>-0.037142</td>\n",
              "      <td>-0.639595</td>\n",
              "      <td>1.047396</td>\n",
              "      <td>1.109776</td>\n",
              "      <td>-0.500967</td>\n",
              "      <td>-0.308551</td>\n",
              "      <td>-0.026306</td>\n",
              "      <td>0.817466</td>\n",
              "      <td>0.180812</td>\n",
              "      <td>0.402919</td>\n",
              "      <td>0.446856</td>\n",
              "      <td>-0.506134</td>\n",
              "      <td>-0.852798</td>\n",
              "      <td>0.875699</td>\n",
              "      <td>-0.568851</td>\n",
              "      <td>-0.948410</td>\n",
              "      <td>0.342488</td>\n",
              "      <td>-0.257154</td>\n",
              "      <td>-0.041045</td>\n",
              "      <td>1.054365</td>\n",
              "      <td>0.182189</td>\n",
              "      <td>0.183331</td>\n",
              "      <td>0.685496</td>\n",
              "      <td>-0.191475</td>\n",
              "      <td>-0.196328</td>\n",
              "      <td>-0.376523</td>\n",
              "      <td>0.161194</td>\n",
              "      <td>-0.232624</td>\n",
              "      <td>-0.124186</td>\n",
              "      <td>0.408084</td>\n",
              "      <td>0.532743</td>\n",
              "      <td>-0.697111</td>\n",
              "      <td>-0.076796</td>\n",
              "      <td>-0.269128</td>\n",
              "      <td>-0.596582</td>\n",
              "      <td>-0.246367</td>\n",
              "      <td>...</td>\n",
              "      <td>-0.507654</td>\n",
              "      <td>-0.372031</td>\n",
              "      <td>0.384393</td>\n",
              "      <td>-0.427786</td>\n",
              "      <td>-0.062957</td>\n",
              "      <td>0.381885</td>\n",
              "      <td>-0.210031</td>\n",
              "      <td>-0.373227</td>\n",
              "      <td>0.138791</td>\n",
              "      <td>-0.295719</td>\n",
              "      <td>-0.431427</td>\n",
              "      <td>-0.521123</td>\n",
              "      <td>0.406644</td>\n",
              "      <td>0.222613</td>\n",
              "      <td>-0.539807</td>\n",
              "      <td>-0.619525</td>\n",
              "      <td>0.157020</td>\n",
              "      <td>-0.941711</td>\n",
              "      <td>-0.363686</td>\n",
              "      <td>0.716169</td>\n",
              "      <td>-0.360151</td>\n",
              "      <td>-0.008979</td>\n",
              "      <td>-0.696636</td>\n",
              "      <td>-0.872138</td>\n",
              "      <td>0.198449</td>\n",
              "      <td>-0.777933</td>\n",
              "      <td>0.183854</td>\n",
              "      <td>-0.967491</td>\n",
              "      <td>-0.433642</td>\n",
              "      <td>-0.074372</td>\n",
              "      <td>-0.851413</td>\n",
              "      <td>-0.311539</td>\n",
              "      <td>0.008006</td>\n",
              "      <td>-0.179488</td>\n",
              "      <td>-0.726386</td>\n",
              "      <td>0.608123</td>\n",
              "      <td>-0.062077</td>\n",
              "      <td>exp What is the full form of .com ?\\n</td>\n",
              "      <td>FACT</td>\n",
              "      <td>1</td>\n",
              "    </tr>\n",
              "  </tbody>\n",
              "</table>\n",
              "<p>5 rows × 771 columns</p>\n",
              "</div>"
            ],
            "text/plain": [
              "          0         1  ...  Label  Label_enc\n",
              "0 -1.280514 -0.479057  ...   DESC          0\n",
              "1  0.050765 -0.231588  ...   FACT          1\n",
              "2  0.165783  0.086285  ...   DESC          0\n",
              "3 -0.178117 -0.473958  ...   FACT          1\n",
              "4 -0.341517 -0.614352  ...   FACT          1\n",
              "\n",
              "[5 rows x 771 columns]"
            ]
          },
          "metadata": {
            "tags": []
          },
          "execution_count": 29
        }
      ]
    },
    {
      "cell_type": "markdown",
      "metadata": {
        "id": "83kLcZswJfuy"
      },
      "source": [
        "## Derive Independent and Dependent feature from the training Sample"
      ]
    },
    {
      "cell_type": "code",
      "metadata": {
        "id": "8aSDp4PNt57r"
      },
      "source": [
        "features = final_train.drop(['Question','Label','Label_enc'],axis=1)\n",
        "lbls = final_train['Label_enc']"
      ],
      "execution_count": 30,
      "outputs": []
    },
    {
      "cell_type": "code",
      "metadata": {
        "colab": {
          "base_uri": "https://localhost:8080/",
          "height": 253
        },
        "id": "QcZciZMuvDJi",
        "outputId": "4fdc1d04-a0de-4521-fc15-aba27f39cfff"
      },
      "source": [
        "features.head()"
      ],
      "execution_count": 31,
      "outputs": [
        {
          "output_type": "execute_result",
          "data": {
            "text/html": [
              "<div>\n",
              "<style scoped>\n",
              "    .dataframe tbody tr th:only-of-type {\n",
              "        vertical-align: middle;\n",
              "    }\n",
              "\n",
              "    .dataframe tbody tr th {\n",
              "        vertical-align: top;\n",
              "    }\n",
              "\n",
              "    .dataframe thead th {\n",
              "        text-align: right;\n",
              "    }\n",
              "</style>\n",
              "<table border=\"1\" class=\"dataframe\">\n",
              "  <thead>\n",
              "    <tr style=\"text-align: right;\">\n",
              "      <th></th>\n",
              "      <th>0</th>\n",
              "      <th>1</th>\n",
              "      <th>2</th>\n",
              "      <th>3</th>\n",
              "      <th>4</th>\n",
              "      <th>5</th>\n",
              "      <th>6</th>\n",
              "      <th>7</th>\n",
              "      <th>8</th>\n",
              "      <th>9</th>\n",
              "      <th>10</th>\n",
              "      <th>11</th>\n",
              "      <th>12</th>\n",
              "      <th>13</th>\n",
              "      <th>14</th>\n",
              "      <th>15</th>\n",
              "      <th>16</th>\n",
              "      <th>17</th>\n",
              "      <th>18</th>\n",
              "      <th>19</th>\n",
              "      <th>20</th>\n",
              "      <th>21</th>\n",
              "      <th>22</th>\n",
              "      <th>23</th>\n",
              "      <th>24</th>\n",
              "      <th>25</th>\n",
              "      <th>26</th>\n",
              "      <th>27</th>\n",
              "      <th>28</th>\n",
              "      <th>29</th>\n",
              "      <th>30</th>\n",
              "      <th>31</th>\n",
              "      <th>32</th>\n",
              "      <th>33</th>\n",
              "      <th>34</th>\n",
              "      <th>35</th>\n",
              "      <th>36</th>\n",
              "      <th>37</th>\n",
              "      <th>38</th>\n",
              "      <th>39</th>\n",
              "      <th>...</th>\n",
              "      <th>728</th>\n",
              "      <th>729</th>\n",
              "      <th>730</th>\n",
              "      <th>731</th>\n",
              "      <th>732</th>\n",
              "      <th>733</th>\n",
              "      <th>734</th>\n",
              "      <th>735</th>\n",
              "      <th>736</th>\n",
              "      <th>737</th>\n",
              "      <th>738</th>\n",
              "      <th>739</th>\n",
              "      <th>740</th>\n",
              "      <th>741</th>\n",
              "      <th>742</th>\n",
              "      <th>743</th>\n",
              "      <th>744</th>\n",
              "      <th>745</th>\n",
              "      <th>746</th>\n",
              "      <th>747</th>\n",
              "      <th>748</th>\n",
              "      <th>749</th>\n",
              "      <th>750</th>\n",
              "      <th>751</th>\n",
              "      <th>752</th>\n",
              "      <th>753</th>\n",
              "      <th>754</th>\n",
              "      <th>755</th>\n",
              "      <th>756</th>\n",
              "      <th>757</th>\n",
              "      <th>758</th>\n",
              "      <th>759</th>\n",
              "      <th>760</th>\n",
              "      <th>761</th>\n",
              "      <th>762</th>\n",
              "      <th>763</th>\n",
              "      <th>764</th>\n",
              "      <th>765</th>\n",
              "      <th>766</th>\n",
              "      <th>767</th>\n",
              "    </tr>\n",
              "  </thead>\n",
              "  <tbody>\n",
              "    <tr>\n",
              "      <th>0</th>\n",
              "      <td>-1.280514</td>\n",
              "      <td>-0.479057</td>\n",
              "      <td>-0.074594</td>\n",
              "      <td>-1.078832</td>\n",
              "      <td>0.555026</td>\n",
              "      <td>-0.304828</td>\n",
              "      <td>0.710984</td>\n",
              "      <td>0.278825</td>\n",
              "      <td>0.129274</td>\n",
              "      <td>0.484494</td>\n",
              "      <td>0.194379</td>\n",
              "      <td>0.099252</td>\n",
              "      <td>0.048627</td>\n",
              "      <td>0.641369</td>\n",
              "      <td>0.453776</td>\n",
              "      <td>-0.550658</td>\n",
              "      <td>-0.685677</td>\n",
              "      <td>0.614255</td>\n",
              "      <td>-0.001949</td>\n",
              "      <td>-0.382198</td>\n",
              "      <td>-0.034112</td>\n",
              "      <td>0.072871</td>\n",
              "      <td>0.070514</td>\n",
              "      <td>-0.182452</td>\n",
              "      <td>-0.672063</td>\n",
              "      <td>-0.203226</td>\n",
              "      <td>0.207312</td>\n",
              "      <td>-0.494412</td>\n",
              "      <td>-0.015926</td>\n",
              "      <td>0.394312</td>\n",
              "      <td>0.036818</td>\n",
              "      <td>0.289581</td>\n",
              "      <td>0.572028</td>\n",
              "      <td>0.346302</td>\n",
              "      <td>-0.048939</td>\n",
              "      <td>0.285915</td>\n",
              "      <td>0.699641</td>\n",
              "      <td>0.078200</td>\n",
              "      <td>-0.658135</td>\n",
              "      <td>-0.720307</td>\n",
              "      <td>...</td>\n",
              "      <td>-0.032483</td>\n",
              "      <td>-1.037481</td>\n",
              "      <td>-0.430439</td>\n",
              "      <td>0.345353</td>\n",
              "      <td>-0.443688</td>\n",
              "      <td>0.326153</td>\n",
              "      <td>0.006781</td>\n",
              "      <td>-0.017737</td>\n",
              "      <td>0.361109</td>\n",
              "      <td>0.084457</td>\n",
              "      <td>-0.220593</td>\n",
              "      <td>-0.326400</td>\n",
              "      <td>0.109499</td>\n",
              "      <td>-0.313511</td>\n",
              "      <td>0.126476</td>\n",
              "      <td>-1.023944</td>\n",
              "      <td>0.019120</td>\n",
              "      <td>0.276654</td>\n",
              "      <td>0.090974</td>\n",
              "      <td>-0.871337</td>\n",
              "      <td>0.066085</td>\n",
              "      <td>0.055102</td>\n",
              "      <td>0.710251</td>\n",
              "      <td>0.815904</td>\n",
              "      <td>0.116723</td>\n",
              "      <td>-0.763052</td>\n",
              "      <td>-0.191135</td>\n",
              "      <td>-0.117060</td>\n",
              "      <td>-0.917495</td>\n",
              "      <td>0.238746</td>\n",
              "      <td>-0.721925</td>\n",
              "      <td>-0.708831</td>\n",
              "      <td>0.919504</td>\n",
              "      <td>0.014721</td>\n",
              "      <td>-0.218465</td>\n",
              "      <td>-0.707999</td>\n",
              "      <td>-0.060461</td>\n",
              "      <td>-0.690395</td>\n",
              "      <td>0.655525</td>\n",
              "      <td>0.429931</td>\n",
              "    </tr>\n",
              "    <tr>\n",
              "      <th>1</th>\n",
              "      <td>0.050765</td>\n",
              "      <td>-0.231588</td>\n",
              "      <td>0.449181</td>\n",
              "      <td>-0.434117</td>\n",
              "      <td>-0.437005</td>\n",
              "      <td>-0.025377</td>\n",
              "      <td>0.901859</td>\n",
              "      <td>0.299691</td>\n",
              "      <td>0.397571</td>\n",
              "      <td>0.363239</td>\n",
              "      <td>0.813872</td>\n",
              "      <td>-0.242552</td>\n",
              "      <td>-0.046876</td>\n",
              "      <td>0.664556</td>\n",
              "      <td>0.063659</td>\n",
              "      <td>-0.778085</td>\n",
              "      <td>-0.464536</td>\n",
              "      <td>0.818348</td>\n",
              "      <td>0.217839</td>\n",
              "      <td>-0.682175</td>\n",
              "      <td>-0.048325</td>\n",
              "      <td>0.305595</td>\n",
              "      <td>0.005277</td>\n",
              "      <td>-0.105053</td>\n",
              "      <td>-0.850086</td>\n",
              "      <td>-0.180318</td>\n",
              "      <td>0.599913</td>\n",
              "      <td>-0.693823</td>\n",
              "      <td>-0.018519</td>\n",
              "      <td>0.129674</td>\n",
              "      <td>0.459312</td>\n",
              "      <td>0.366444</td>\n",
              "      <td>-0.351863</td>\n",
              "      <td>0.442381</td>\n",
              "      <td>0.333915</td>\n",
              "      <td>-0.367255</td>\n",
              "      <td>1.370850</td>\n",
              "      <td>-0.371237</td>\n",
              "      <td>-0.394274</td>\n",
              "      <td>0.127976</td>\n",
              "      <td>...</td>\n",
              "      <td>-0.759870</td>\n",
              "      <td>-0.319705</td>\n",
              "      <td>-0.320549</td>\n",
              "      <td>0.269263</td>\n",
              "      <td>-0.234702</td>\n",
              "      <td>0.203369</td>\n",
              "      <td>0.363199</td>\n",
              "      <td>0.800868</td>\n",
              "      <td>0.343576</td>\n",
              "      <td>0.986706</td>\n",
              "      <td>-0.211597</td>\n",
              "      <td>0.346223</td>\n",
              "      <td>-0.544377</td>\n",
              "      <td>0.259784</td>\n",
              "      <td>-0.261309</td>\n",
              "      <td>-0.354508</td>\n",
              "      <td>-0.033133</td>\n",
              "      <td>0.439806</td>\n",
              "      <td>0.176840</td>\n",
              "      <td>-0.155800</td>\n",
              "      <td>-1.046833</td>\n",
              "      <td>-0.140347</td>\n",
              "      <td>0.822187</td>\n",
              "      <td>1.090696</td>\n",
              "      <td>-0.127105</td>\n",
              "      <td>-1.281975</td>\n",
              "      <td>0.121476</td>\n",
              "      <td>-0.035387</td>\n",
              "      <td>-1.036540</td>\n",
              "      <td>-0.455563</td>\n",
              "      <td>-1.028529</td>\n",
              "      <td>-0.167688</td>\n",
              "      <td>-0.617333</td>\n",
              "      <td>-0.128335</td>\n",
              "      <td>-0.154140</td>\n",
              "      <td>0.052782</td>\n",
              "      <td>0.287510</td>\n",
              "      <td>-0.945878</td>\n",
              "      <td>0.582182</td>\n",
              "      <td>0.169365</td>\n",
              "    </tr>\n",
              "    <tr>\n",
              "      <th>2</th>\n",
              "      <td>0.165783</td>\n",
              "      <td>0.086285</td>\n",
              "      <td>0.996058</td>\n",
              "      <td>-0.007493</td>\n",
              "      <td>-0.062556</td>\n",
              "      <td>-0.447119</td>\n",
              "      <td>1.157736</td>\n",
              "      <td>-0.594608</td>\n",
              "      <td>-0.278915</td>\n",
              "      <td>0.288760</td>\n",
              "      <td>-0.755688</td>\n",
              "      <td>0.518912</td>\n",
              "      <td>-0.589018</td>\n",
              "      <td>-0.218036</td>\n",
              "      <td>-0.299750</td>\n",
              "      <td>-0.588890</td>\n",
              "      <td>-1.044726</td>\n",
              "      <td>0.417886</td>\n",
              "      <td>-0.516429</td>\n",
              "      <td>-0.688118</td>\n",
              "      <td>0.293211</td>\n",
              "      <td>0.023602</td>\n",
              "      <td>-0.186256</td>\n",
              "      <td>0.847153</td>\n",
              "      <td>-0.451656</td>\n",
              "      <td>0.414897</td>\n",
              "      <td>0.153552</td>\n",
              "      <td>-0.524880</td>\n",
              "      <td>0.480987</td>\n",
              "      <td>0.345679</td>\n",
              "      <td>0.525045</td>\n",
              "      <td>0.589052</td>\n",
              "      <td>-0.483123</td>\n",
              "      <td>0.143384</td>\n",
              "      <td>0.049669</td>\n",
              "      <td>-0.625910</td>\n",
              "      <td>1.300623</td>\n",
              "      <td>-0.494312</td>\n",
              "      <td>0.039376</td>\n",
              "      <td>-0.539757</td>\n",
              "      <td>...</td>\n",
              "      <td>-0.288382</td>\n",
              "      <td>0.158903</td>\n",
              "      <td>-0.675779</td>\n",
              "      <td>-0.603539</td>\n",
              "      <td>-0.569769</td>\n",
              "      <td>0.099041</td>\n",
              "      <td>0.707026</td>\n",
              "      <td>0.829515</td>\n",
              "      <td>-0.109335</td>\n",
              "      <td>0.677547</td>\n",
              "      <td>0.197822</td>\n",
              "      <td>0.223959</td>\n",
              "      <td>-0.297395</td>\n",
              "      <td>-0.826129</td>\n",
              "      <td>-0.965579</td>\n",
              "      <td>-0.218842</td>\n",
              "      <td>1.487624</td>\n",
              "      <td>-0.247483</td>\n",
              "      <td>-0.609409</td>\n",
              "      <td>-0.065343</td>\n",
              "      <td>-0.464756</td>\n",
              "      <td>-0.134924</td>\n",
              "      <td>1.308985</td>\n",
              "      <td>0.461915</td>\n",
              "      <td>-0.319942</td>\n",
              "      <td>-0.315665</td>\n",
              "      <td>-0.672881</td>\n",
              "      <td>0.423251</td>\n",
              "      <td>-1.299873</td>\n",
              "      <td>-0.380740</td>\n",
              "      <td>-1.354729</td>\n",
              "      <td>-0.239816</td>\n",
              "      <td>-0.171938</td>\n",
              "      <td>0.529478</td>\n",
              "      <td>-0.135893</td>\n",
              "      <td>1.097948</td>\n",
              "      <td>-0.018599</td>\n",
              "      <td>-1.401098</td>\n",
              "      <td>-0.166925</td>\n",
              "      <td>-0.666989</td>\n",
              "    </tr>\n",
              "    <tr>\n",
              "      <th>3</th>\n",
              "      <td>-0.178117</td>\n",
              "      <td>-0.473958</td>\n",
              "      <td>0.048357</td>\n",
              "      <td>-1.291486</td>\n",
              "      <td>-0.028839</td>\n",
              "      <td>0.348842</td>\n",
              "      <td>-0.046128</td>\n",
              "      <td>0.052367</td>\n",
              "      <td>-0.436607</td>\n",
              "      <td>1.082325</td>\n",
              "      <td>1.379477</td>\n",
              "      <td>0.269814</td>\n",
              "      <td>-0.224944</td>\n",
              "      <td>0.555075</td>\n",
              "      <td>0.196508</td>\n",
              "      <td>-1.012059</td>\n",
              "      <td>-0.139680</td>\n",
              "      <td>0.013312</td>\n",
              "      <td>0.595400</td>\n",
              "      <td>-0.556999</td>\n",
              "      <td>-0.128182</td>\n",
              "      <td>0.313684</td>\n",
              "      <td>-0.397969</td>\n",
              "      <td>0.625162</td>\n",
              "      <td>-1.139045</td>\n",
              "      <td>0.605110</td>\n",
              "      <td>0.438818</td>\n",
              "      <td>-0.294600</td>\n",
              "      <td>-0.015436</td>\n",
              "      <td>-0.200387</td>\n",
              "      <td>-0.028176</td>\n",
              "      <td>0.543886</td>\n",
              "      <td>-0.501193</td>\n",
              "      <td>0.160218</td>\n",
              "      <td>-0.207827</td>\n",
              "      <td>-0.185351</td>\n",
              "      <td>0.511595</td>\n",
              "      <td>-0.588324</td>\n",
              "      <td>0.523014</td>\n",
              "      <td>-0.696837</td>\n",
              "      <td>...</td>\n",
              "      <td>-1.323598</td>\n",
              "      <td>-0.134631</td>\n",
              "      <td>-0.420599</td>\n",
              "      <td>-0.185516</td>\n",
              "      <td>-0.183404</td>\n",
              "      <td>0.793519</td>\n",
              "      <td>0.255796</td>\n",
              "      <td>0.518475</td>\n",
              "      <td>0.655393</td>\n",
              "      <td>0.389528</td>\n",
              "      <td>-0.159402</td>\n",
              "      <td>0.155687</td>\n",
              "      <td>-0.318774</td>\n",
              "      <td>-0.182897</td>\n",
              "      <td>-0.584351</td>\n",
              "      <td>-1.437036</td>\n",
              "      <td>0.627801</td>\n",
              "      <td>0.532542</td>\n",
              "      <td>0.662939</td>\n",
              "      <td>0.678888</td>\n",
              "      <td>-0.622288</td>\n",
              "      <td>0.319154</td>\n",
              "      <td>0.996853</td>\n",
              "      <td>0.696456</td>\n",
              "      <td>0.012059</td>\n",
              "      <td>-0.387256</td>\n",
              "      <td>0.541324</td>\n",
              "      <td>0.047869</td>\n",
              "      <td>-0.789448</td>\n",
              "      <td>-0.599024</td>\n",
              "      <td>-0.941752</td>\n",
              "      <td>0.158490</td>\n",
              "      <td>-0.710274</td>\n",
              "      <td>0.030269</td>\n",
              "      <td>0.281971</td>\n",
              "      <td>0.180029</td>\n",
              "      <td>0.274251</td>\n",
              "      <td>-0.035900</td>\n",
              "      <td>1.007164</td>\n",
              "      <td>-0.209413</td>\n",
              "    </tr>\n",
              "    <tr>\n",
              "      <th>4</th>\n",
              "      <td>-0.341517</td>\n",
              "      <td>-0.614352</td>\n",
              "      <td>0.075420</td>\n",
              "      <td>-0.381870</td>\n",
              "      <td>-0.037142</td>\n",
              "      <td>-0.639595</td>\n",
              "      <td>1.047396</td>\n",
              "      <td>1.109776</td>\n",
              "      <td>-0.500967</td>\n",
              "      <td>-0.308551</td>\n",
              "      <td>-0.026306</td>\n",
              "      <td>0.817466</td>\n",
              "      <td>0.180812</td>\n",
              "      <td>0.402919</td>\n",
              "      <td>0.446856</td>\n",
              "      <td>-0.506134</td>\n",
              "      <td>-0.852798</td>\n",
              "      <td>0.875699</td>\n",
              "      <td>-0.568851</td>\n",
              "      <td>-0.948410</td>\n",
              "      <td>0.342488</td>\n",
              "      <td>-0.257154</td>\n",
              "      <td>-0.041045</td>\n",
              "      <td>1.054365</td>\n",
              "      <td>0.182189</td>\n",
              "      <td>0.183331</td>\n",
              "      <td>0.685496</td>\n",
              "      <td>-0.191475</td>\n",
              "      <td>-0.196328</td>\n",
              "      <td>-0.376523</td>\n",
              "      <td>0.161194</td>\n",
              "      <td>-0.232624</td>\n",
              "      <td>-0.124186</td>\n",
              "      <td>0.408084</td>\n",
              "      <td>0.532743</td>\n",
              "      <td>-0.697111</td>\n",
              "      <td>-0.076796</td>\n",
              "      <td>-0.269128</td>\n",
              "      <td>-0.596582</td>\n",
              "      <td>-0.246367</td>\n",
              "      <td>...</td>\n",
              "      <td>-0.935546</td>\n",
              "      <td>0.314507</td>\n",
              "      <td>-0.171532</td>\n",
              "      <td>-0.507654</td>\n",
              "      <td>-0.372031</td>\n",
              "      <td>0.384393</td>\n",
              "      <td>-0.427786</td>\n",
              "      <td>-0.062957</td>\n",
              "      <td>0.381885</td>\n",
              "      <td>-0.210031</td>\n",
              "      <td>-0.373227</td>\n",
              "      <td>0.138791</td>\n",
              "      <td>-0.295719</td>\n",
              "      <td>-0.431427</td>\n",
              "      <td>-0.521123</td>\n",
              "      <td>0.406644</td>\n",
              "      <td>0.222613</td>\n",
              "      <td>-0.539807</td>\n",
              "      <td>-0.619525</td>\n",
              "      <td>0.157020</td>\n",
              "      <td>-0.941711</td>\n",
              "      <td>-0.363686</td>\n",
              "      <td>0.716169</td>\n",
              "      <td>-0.360151</td>\n",
              "      <td>-0.008979</td>\n",
              "      <td>-0.696636</td>\n",
              "      <td>-0.872138</td>\n",
              "      <td>0.198449</td>\n",
              "      <td>-0.777933</td>\n",
              "      <td>0.183854</td>\n",
              "      <td>-0.967491</td>\n",
              "      <td>-0.433642</td>\n",
              "      <td>-0.074372</td>\n",
              "      <td>-0.851413</td>\n",
              "      <td>-0.311539</td>\n",
              "      <td>0.008006</td>\n",
              "      <td>-0.179488</td>\n",
              "      <td>-0.726386</td>\n",
              "      <td>0.608123</td>\n",
              "      <td>-0.062077</td>\n",
              "    </tr>\n",
              "  </tbody>\n",
              "</table>\n",
              "<p>5 rows × 768 columns</p>\n",
              "</div>"
            ],
            "text/plain": [
              "        0         1         2    ...       765       766       767\n",
              "0 -1.280514 -0.479057 -0.074594  ... -0.690395  0.655525  0.429931\n",
              "1  0.050765 -0.231588  0.449181  ... -0.945878  0.582182  0.169365\n",
              "2  0.165783  0.086285  0.996058  ... -1.401098 -0.166925 -0.666989\n",
              "3 -0.178117 -0.473958  0.048357  ... -0.035900  1.007164 -0.209413\n",
              "4 -0.341517 -0.614352  0.075420  ... -0.726386  0.608123 -0.062077\n",
              "\n",
              "[5 rows x 768 columns]"
            ]
          },
          "metadata": {
            "tags": []
          },
          "execution_count": 31
        }
      ]
    },
    {
      "cell_type": "markdown",
      "metadata": {
        "id": "buZO56pFJn4a"
      },
      "source": [
        "## Split the training sample into Training and validation Sample"
      ]
    },
    {
      "cell_type": "code",
      "metadata": {
        "id": "53p39zFZvNkb"
      },
      "source": [
        "X_train,X_val,Y_train,Y_val = train_test_split(features,lbls,test_size=0.15,stratify=lbls)"
      ],
      "execution_count": 32,
      "outputs": []
    },
    {
      "cell_type": "code",
      "metadata": {
        "colab": {
          "base_uri": "https://localhost:8080/"
        },
        "id": "Ic1alSpxxckV",
        "outputId": "0e925f1b-dac2-4012-ddda-24019b66cafe"
      },
      "source": [
        "X_train.shape,X_val.shape"
      ],
      "execution_count": 33,
      "outputs": [
        {
          "output_type": "execute_result",
          "data": {
            "text/plain": [
              "((4634, 768), (818, 768))"
            ]
          },
          "metadata": {
            "tags": []
          },
          "execution_count": 33
        }
      ]
    },
    {
      "cell_type": "markdown",
      "metadata": {
        "id": "C9d8QrAfwEro"
      },
      "source": [
        "## Build Model - LogisticRegression"
      ]
    },
    {
      "cell_type": "code",
      "metadata": {
        "id": "z4wm4smU9oLW"
      },
      "source": [
        "from sklearn.utils import class_weight\n",
        "class_weights = class_weight.compute_class_weight('balanced',np.unique(Y_train),Y_train)"
      ],
      "execution_count": 38,
      "outputs": []
    },
    {
      "cell_type": "code",
      "metadata": {
        "id": "xIkxv8BB9wZ-",
        "outputId": "07dc9fa6-2ea3-47fb-bfc9-08c72cee9d5f",
        "colab": {
          "base_uri": "https://localhost:8080/"
        }
      },
      "source": [
        "class_weights"
      ],
      "execution_count": 39,
      "outputs": [
        {
          "output_type": "execute_result",
          "data": {
            "text/plain": [
              "array([2.3451417 , 0.63549095])"
            ]
          },
          "metadata": {
            "tags": []
          },
          "execution_count": 39
        }
      ]
    },
    {
      "cell_type": "code",
      "metadata": {
        "colab": {
          "base_uri": "https://localhost:8080/"
        },
        "id": "z0TJ1HBmw0eh",
        "outputId": "5735cd08-337b-4661-cfbe-c145591078d5"
      },
      "source": [
        "#lr = LogisticRegression(multi_class='ovr',)\n",
        "#lr = LogisticRegression(class_weight={0:1,1:0.5})\n",
        "lr = LogisticRegression(class_weight=class_weights)\n",
        "lr.fit(X_train,Y_train)"
      ],
      "execution_count": 40,
      "outputs": [
        {
          "output_type": "execute_result",
          "data": {
            "text/plain": [
              "LogisticRegression(C=1.0, class_weight=array([2.3451417 , 0.63549095]),\n",
              "                   dual=False, fit_intercept=True, intercept_scaling=1,\n",
              "                   l1_ratio=None, max_iter=100, multi_class='auto', n_jobs=None,\n",
              "                   penalty='l2', random_state=None, solver='lbfgs', tol=0.0001,\n",
              "                   verbose=0, warm_start=False)"
            ]
          },
          "metadata": {
            "tags": []
          },
          "execution_count": 40
        }
      ]
    },
    {
      "cell_type": "markdown",
      "metadata": {
        "id": "th-XiRUnyIEh"
      },
      "source": [
        "## Validation  Predictions accuracy score"
      ]
    },
    {
      "cell_type": "code",
      "metadata": {
        "id": "FxgzIbjJ9_8S",
        "outputId": "faaaa5dc-8687-484d-8e75-bc197f3a586e",
        "colab": {
          "base_uri": "https://localhost:8080/"
        }
      },
      "source": [
        "y_pred = lr.predict(X_val)\n",
        "accuracy_score(y_pred,Y_val)"
      ],
      "execution_count": 41,
      "outputs": [
        {
          "output_type": "execute_result",
          "data": {
            "text/plain": [
              "0.9486552567237164"
            ]
          },
          "metadata": {
            "tags": []
          },
          "execution_count": 41
        }
      ]
    },
    {
      "cell_type": "markdown",
      "metadata": {
        "id": "nnvfRMZFFSlk"
      },
      "source": [
        "## F1 Score - Validation data"
      ]
    },
    {
      "cell_type": "code",
      "metadata": {
        "id": "2ICZeUpNFWxy",
        "outputId": "0a8e5273-dbd3-4e76-b8f0-9d5751ecaba0",
        "colab": {
          "base_uri": "https://localhost:8080/"
        }
      },
      "source": [
        "f1_score(y_pred,Y_val)"
      ],
      "execution_count": 73,
      "outputs": [
        {
          "output_type": "execute_result",
          "data": {
            "text/plain": [
              "0.985373364126251"
            ]
          },
          "metadata": {
            "tags": []
          },
          "execution_count": 73
        }
      ]
    },
    {
      "cell_type": "markdown",
      "metadata": {
        "id": "dssJ32JJF3ND"
      },
      "source": [
        "## Classification Report"
      ]
    },
    {
      "cell_type": "code",
      "metadata": {
        "id": "k6_tO8EIF53i",
        "outputId": "4ada9bf0-46ae-4687-8b6f-758c8c46bb19",
        "colab": {
          "base_uri": "https://localhost:8080/"
        }
      },
      "source": [
        "print(classification_report(y_pred,Y_val))"
      ],
      "execution_count": 77,
      "outputs": [
        {
          "output_type": "stream",
          "text": [
            "              precision    recall  f1-score   support\n",
            "\n",
            "           0       0.91      0.98      0.94       163\n",
            "           1       0.99      0.98      0.99       655\n",
            "\n",
            "    accuracy                           0.98       818\n",
            "   macro avg       0.95      0.98      0.96       818\n",
            "weighted avg       0.98      0.98      0.98       818\n",
            "\n"
          ],
          "name": "stdout"
        }
      ]
    },
    {
      "cell_type": "markdown",
      "metadata": {
        "id": "4SIDL3CRx_ox"
      },
      "source": [
        "## Applying Cross Validation"
      ]
    },
    {
      "cell_type": "code",
      "metadata": {
        "id": "0vl8bn-_yB48"
      },
      "source": [
        "from sklearn.model_selection import StratifiedKFold\n",
        "skf = StratifiedKFold(n_splits=5, shuffle=True, random_state=42)"
      ],
      "execution_count": 42,
      "outputs": []
    },
    {
      "cell_type": "code",
      "metadata": {
        "id": "hkhPANue2_cA"
      },
      "source": [
        "temp = features\n",
        "target = lbls\n",
        "scores = []\n",
        "scores_val = []"
      ],
      "execution_count": 43,
      "outputs": []
    },
    {
      "cell_type": "code",
      "metadata": {
        "colab": {
          "base_uri": "https://localhost:8080/",
          "height": 484
        },
        "id": "Kh6nLKou1XEB",
        "outputId": "a690a5d9-3a6e-44f7-ada4-d0cec0f504bf"
      },
      "source": [
        "for train_index,test_index in skf.split(temp,target):\n",
        "        xtrain,xtest = temp[temp.index.isin(train_index)],temp[temp.index.isin(test_index)]\n",
        "        ytrain,ytest = target[train_index],target[test_index]\n",
        "        \n",
        "        model  = LogisticRegression(class_weight=class_weights)\n",
        "\n",
        "        model.fit(xtrain,ytrain)\n",
        "            \n",
        "        preds = model.predict(xtest)\n",
        "        \n",
        "        print(f1_score(ytest,preds))\n",
        "        scores.append(f1_score(ytest,preds))\n",
        "        #\n",
        "#\n",
        "#        \n",
        "print('-----------KFOLD--------------')\n",
        "print(sns.lineplot(x=[i for i in range(len(scores))],y=scores))\n",
        "print(min(scores),max(scores),np.mean(scores))"
      ],
      "execution_count": 72,
      "outputs": [
        {
          "output_type": "stream",
          "text": [
            "0.9689298043728423\n",
            "0.9682264586943964\n",
            "0.9649223691776883\n",
            "0.9631336405529954\n",
            "0.9655172413793104\n",
            "-----------KFOLD--------------\n",
            "AxesSubplot(0.125,0.125;0.775x0.755)\n",
            "0.9412844036697248 0.9689298043728423 0.9562013833756104\n"
          ],
          "name": "stdout"
        },
        {
          "output_type": "display_data",
          "data": {
            "image/png": "[encoded data removed]",
            "text/plain": [
              "<Figure size 576x396 with 1 Axes>"
            ]
          },
          "metadata": {
            "tags": []
          }
        }
      ]
    },
    {
      "cell_type": "markdown",
      "metadata": {
        "id": "lK19eFPd5nkt"
      },
      "source": [
        "## Make Predictions on validation Data"
      ]
    },
    {
      "cell_type": "code",
      "metadata": {
        "colab": {
          "base_uri": "https://localhost:8080/",
          "height": 644
        },
        "id": "e2VPRya4C9nc",
        "outputId": "133829a9-064e-45e9-b9e8-2f4e258aa208"
      },
      "source": [
        "final_train.head()"
      ],
      "execution_count": 45,
      "outputs": [
        {
          "output_type": "execute_result",
          "data": {
            "text/html": [
              "<div>\n",
              "<style scoped>\n",
              "    .dataframe tbody tr th:only-of-type {\n",
              "        vertical-align: middle;\n",
              "    }\n",
              "\n",
              "    .dataframe tbody tr th {\n",
              "        vertical-align: top;\n",
              "    }\n",
              "\n",
              "    .dataframe thead th {\n",
              "        text-align: right;\n",
              "    }\n",
              "</style>\n",
              "<table border=\"1\" class=\"dataframe\">\n",
              "  <thead>\n",
              "    <tr style=\"text-align: right;\">\n",
              "      <th></th>\n",
              "      <th>0</th>\n",
              "      <th>1</th>\n",
              "      <th>2</th>\n",
              "      <th>3</th>\n",
              "      <th>4</th>\n",
              "      <th>5</th>\n",
              "      <th>6</th>\n",
              "      <th>7</th>\n",
              "      <th>8</th>\n",
              "      <th>9</th>\n",
              "      <th>10</th>\n",
              "      <th>11</th>\n",
              "      <th>12</th>\n",
              "      <th>13</th>\n",
              "      <th>14</th>\n",
              "      <th>15</th>\n",
              "      <th>16</th>\n",
              "      <th>17</th>\n",
              "      <th>18</th>\n",
              "      <th>19</th>\n",
              "      <th>20</th>\n",
              "      <th>21</th>\n",
              "      <th>22</th>\n",
              "      <th>23</th>\n",
              "      <th>24</th>\n",
              "      <th>25</th>\n",
              "      <th>26</th>\n",
              "      <th>27</th>\n",
              "      <th>28</th>\n",
              "      <th>29</th>\n",
              "      <th>30</th>\n",
              "      <th>31</th>\n",
              "      <th>32</th>\n",
              "      <th>33</th>\n",
              "      <th>34</th>\n",
              "      <th>35</th>\n",
              "      <th>36</th>\n",
              "      <th>37</th>\n",
              "      <th>38</th>\n",
              "      <th>39</th>\n",
              "      <th>...</th>\n",
              "      <th>731</th>\n",
              "      <th>732</th>\n",
              "      <th>733</th>\n",
              "      <th>734</th>\n",
              "      <th>735</th>\n",
              "      <th>736</th>\n",
              "      <th>737</th>\n",
              "      <th>738</th>\n",
              "      <th>739</th>\n",
              "      <th>740</th>\n",
              "      <th>741</th>\n",
              "      <th>742</th>\n",
              "      <th>743</th>\n",
              "      <th>744</th>\n",
              "      <th>745</th>\n",
              "      <th>746</th>\n",
              "      <th>747</th>\n",
              "      <th>748</th>\n",
              "      <th>749</th>\n",
              "      <th>750</th>\n",
              "      <th>751</th>\n",
              "      <th>752</th>\n",
              "      <th>753</th>\n",
              "      <th>754</th>\n",
              "      <th>755</th>\n",
              "      <th>756</th>\n",
              "      <th>757</th>\n",
              "      <th>758</th>\n",
              "      <th>759</th>\n",
              "      <th>760</th>\n",
              "      <th>761</th>\n",
              "      <th>762</th>\n",
              "      <th>763</th>\n",
              "      <th>764</th>\n",
              "      <th>765</th>\n",
              "      <th>766</th>\n",
              "      <th>767</th>\n",
              "      <th>Question</th>\n",
              "      <th>Label</th>\n",
              "      <th>Label_enc</th>\n",
              "    </tr>\n",
              "  </thead>\n",
              "  <tbody>\n",
              "    <tr>\n",
              "      <th>0</th>\n",
              "      <td>-1.280514</td>\n",
              "      <td>-0.479057</td>\n",
              "      <td>-0.074594</td>\n",
              "      <td>-1.078832</td>\n",
              "      <td>0.555026</td>\n",
              "      <td>-0.304828</td>\n",
              "      <td>0.710984</td>\n",
              "      <td>0.278825</td>\n",
              "      <td>0.129274</td>\n",
              "      <td>0.484494</td>\n",
              "      <td>0.194379</td>\n",
              "      <td>0.099252</td>\n",
              "      <td>0.048627</td>\n",
              "      <td>0.641369</td>\n",
              "      <td>0.453776</td>\n",
              "      <td>-0.550658</td>\n",
              "      <td>-0.685677</td>\n",
              "      <td>0.614255</td>\n",
              "      <td>-0.001949</td>\n",
              "      <td>-0.382198</td>\n",
              "      <td>-0.034112</td>\n",
              "      <td>0.072871</td>\n",
              "      <td>0.070514</td>\n",
              "      <td>-0.182452</td>\n",
              "      <td>-0.672063</td>\n",
              "      <td>-0.203226</td>\n",
              "      <td>0.207312</td>\n",
              "      <td>-0.494412</td>\n",
              "      <td>-0.015926</td>\n",
              "      <td>0.394312</td>\n",
              "      <td>0.036818</td>\n",
              "      <td>0.289581</td>\n",
              "      <td>0.572028</td>\n",
              "      <td>0.346302</td>\n",
              "      <td>-0.048939</td>\n",
              "      <td>0.285915</td>\n",
              "      <td>0.699641</td>\n",
              "      <td>0.078200</td>\n",
              "      <td>-0.658135</td>\n",
              "      <td>-0.720307</td>\n",
              "      <td>...</td>\n",
              "      <td>0.345353</td>\n",
              "      <td>-0.443688</td>\n",
              "      <td>0.326153</td>\n",
              "      <td>0.006781</td>\n",
              "      <td>-0.017737</td>\n",
              "      <td>0.361109</td>\n",
              "      <td>0.084457</td>\n",
              "      <td>-0.220593</td>\n",
              "      <td>-0.326400</td>\n",
              "      <td>0.109499</td>\n",
              "      <td>-0.313511</td>\n",
              "      <td>0.126476</td>\n",
              "      <td>-1.023944</td>\n",
              "      <td>0.019120</td>\n",
              "      <td>0.276654</td>\n",
              "      <td>0.090974</td>\n",
              "      <td>-0.871337</td>\n",
              "      <td>0.066085</td>\n",
              "      <td>0.055102</td>\n",
              "      <td>0.710251</td>\n",
              "      <td>0.815904</td>\n",
              "      <td>0.116723</td>\n",
              "      <td>-0.763052</td>\n",
              "      <td>-0.191135</td>\n",
              "      <td>-0.117060</td>\n",
              "      <td>-0.917495</td>\n",
              "      <td>0.238746</td>\n",
              "      <td>-0.721925</td>\n",
              "      <td>-0.708831</td>\n",
              "      <td>0.919504</td>\n",
              "      <td>0.014721</td>\n",
              "      <td>-0.218465</td>\n",
              "      <td>-0.707999</td>\n",
              "      <td>-0.060461</td>\n",
              "      <td>-0.690395</td>\n",
              "      <td>0.655525</td>\n",
              "      <td>0.429931</td>\n",
              "      <td>manner How did serfdom develop in and then lea...</td>\n",
              "      <td>DESC</td>\n",
              "      <td>0</td>\n",
              "    </tr>\n",
              "    <tr>\n",
              "      <th>1</th>\n",
              "      <td>0.050765</td>\n",
              "      <td>-0.231588</td>\n",
              "      <td>0.449181</td>\n",
              "      <td>-0.434117</td>\n",
              "      <td>-0.437005</td>\n",
              "      <td>-0.025377</td>\n",
              "      <td>0.901859</td>\n",
              "      <td>0.299691</td>\n",
              "      <td>0.397571</td>\n",
              "      <td>0.363239</td>\n",
              "      <td>0.813872</td>\n",
              "      <td>-0.242552</td>\n",
              "      <td>-0.046876</td>\n",
              "      <td>0.664556</td>\n",
              "      <td>0.063659</td>\n",
              "      <td>-0.778085</td>\n",
              "      <td>-0.464536</td>\n",
              "      <td>0.818348</td>\n",
              "      <td>0.217839</td>\n",
              "      <td>-0.682175</td>\n",
              "      <td>-0.048325</td>\n",
              "      <td>0.305595</td>\n",
              "      <td>0.005277</td>\n",
              "      <td>-0.105053</td>\n",
              "      <td>-0.850086</td>\n",
              "      <td>-0.180318</td>\n",
              "      <td>0.599913</td>\n",
              "      <td>-0.693823</td>\n",
              "      <td>-0.018519</td>\n",
              "      <td>0.129674</td>\n",
              "      <td>0.459312</td>\n",
              "      <td>0.366444</td>\n",
              "      <td>-0.351863</td>\n",
              "      <td>0.442381</td>\n",
              "      <td>0.333915</td>\n",
              "      <td>-0.367255</td>\n",
              "      <td>1.370850</td>\n",
              "      <td>-0.371237</td>\n",
              "      <td>-0.394274</td>\n",
              "      <td>0.127976</td>\n",
              "      <td>...</td>\n",
              "      <td>0.269263</td>\n",
              "      <td>-0.234702</td>\n",
              "      <td>0.203369</td>\n",
              "      <td>0.363199</td>\n",
              "      <td>0.800868</td>\n",
              "      <td>0.343576</td>\n",
              "      <td>0.986706</td>\n",
              "      <td>-0.211597</td>\n",
              "      <td>0.346223</td>\n",
              "      <td>-0.544377</td>\n",
              "      <td>0.259784</td>\n",
              "      <td>-0.261309</td>\n",
              "      <td>-0.354508</td>\n",
              "      <td>-0.033133</td>\n",
              "      <td>0.439806</td>\n",
              "      <td>0.176840</td>\n",
              "      <td>-0.155800</td>\n",
              "      <td>-1.046833</td>\n",
              "      <td>-0.140347</td>\n",
              "      <td>0.822187</td>\n",
              "      <td>1.090696</td>\n",
              "      <td>-0.127105</td>\n",
              "      <td>-1.281975</td>\n",
              "      <td>0.121476</td>\n",
              "      <td>-0.035387</td>\n",
              "      <td>-1.036540</td>\n",
              "      <td>-0.455563</td>\n",
              "      <td>-1.028529</td>\n",
              "      <td>-0.167688</td>\n",
              "      <td>-0.617333</td>\n",
              "      <td>-0.128335</td>\n",
              "      <td>-0.154140</td>\n",
              "      <td>0.052782</td>\n",
              "      <td>0.287510</td>\n",
              "      <td>-0.945878</td>\n",
              "      <td>0.582182</td>\n",
              "      <td>0.169365</td>\n",
              "      <td>cremat What films featured the character Popey...</td>\n",
              "      <td>FACT</td>\n",
              "      <td>1</td>\n",
              "    </tr>\n",
              "    <tr>\n",
              "      <th>2</th>\n",
              "      <td>0.165783</td>\n",
              "      <td>0.086285</td>\n",
              "      <td>0.996058</td>\n",
              "      <td>-0.007493</td>\n",
              "      <td>-0.062556</td>\n",
              "      <td>-0.447119</td>\n",
              "      <td>1.157736</td>\n",
              "      <td>-0.594608</td>\n",
              "      <td>-0.278915</td>\n",
              "      <td>0.288760</td>\n",
              "      <td>-0.755688</td>\n",
              "      <td>0.518912</td>\n",
              "      <td>-0.589018</td>\n",
              "      <td>-0.218036</td>\n",
              "      <td>-0.299750</td>\n",
              "      <td>-0.588890</td>\n",
              "      <td>-1.044726</td>\n",
              "      <td>0.417886</td>\n",
              "      <td>-0.516429</td>\n",
              "      <td>-0.688118</td>\n",
              "      <td>0.293211</td>\n",
              "      <td>0.023602</td>\n",
              "      <td>-0.186256</td>\n",
              "      <td>0.847153</td>\n",
              "      <td>-0.451656</td>\n",
              "      <td>0.414897</td>\n",
              "      <td>0.153552</td>\n",
              "      <td>-0.524880</td>\n",
              "      <td>0.480987</td>\n",
              "      <td>0.345679</td>\n",
              "      <td>0.525045</td>\n",
              "      <td>0.589052</td>\n",
              "      <td>-0.483123</td>\n",
              "      <td>0.143384</td>\n",
              "      <td>0.049669</td>\n",
              "      <td>-0.625910</td>\n",
              "      <td>1.300623</td>\n",
              "      <td>-0.494312</td>\n",
              "      <td>0.039376</td>\n",
              "      <td>-0.539757</td>\n",
              "      <td>...</td>\n",
              "      <td>-0.603539</td>\n",
              "      <td>-0.569769</td>\n",
              "      <td>0.099041</td>\n",
              "      <td>0.707026</td>\n",
              "      <td>0.829515</td>\n",
              "      <td>-0.109335</td>\n",
              "      <td>0.677547</td>\n",
              "      <td>0.197822</td>\n",
              "      <td>0.223959</td>\n",
              "      <td>-0.297395</td>\n",
              "      <td>-0.826129</td>\n",
              "      <td>-0.965579</td>\n",
              "      <td>-0.218842</td>\n",
              "      <td>1.487624</td>\n",
              "      <td>-0.247483</td>\n",
              "      <td>-0.609409</td>\n",
              "      <td>-0.065343</td>\n",
              "      <td>-0.464756</td>\n",
              "      <td>-0.134924</td>\n",
              "      <td>1.308985</td>\n",
              "      <td>0.461915</td>\n",
              "      <td>-0.319942</td>\n",
              "      <td>-0.315665</td>\n",
              "      <td>-0.672881</td>\n",
              "      <td>0.423251</td>\n",
              "      <td>-1.299873</td>\n",
              "      <td>-0.380740</td>\n",
              "      <td>-1.354729</td>\n",
              "      <td>-0.239816</td>\n",
              "      <td>-0.171938</td>\n",
              "      <td>0.529478</td>\n",
              "      <td>-0.135893</td>\n",
              "      <td>1.097948</td>\n",
              "      <td>-0.018599</td>\n",
              "      <td>-1.401098</td>\n",
              "      <td>-0.166925</td>\n",
              "      <td>-0.666989</td>\n",
              "      <td>manner How can I find a list of celebrities ' ...</td>\n",
              "      <td>DESC</td>\n",
              "      <td>0</td>\n",
              "    </tr>\n",
              "    <tr>\n",
              "      <th>3</th>\n",
              "      <td>-0.178117</td>\n",
              "      <td>-0.473958</td>\n",
              "      <td>0.048357</td>\n",
              "      <td>-1.291486</td>\n",
              "      <td>-0.028839</td>\n",
              "      <td>0.348842</td>\n",
              "      <td>-0.046128</td>\n",
              "      <td>0.052367</td>\n",
              "      <td>-0.436607</td>\n",
              "      <td>1.082325</td>\n",
              "      <td>1.379477</td>\n",
              "      <td>0.269814</td>\n",
              "      <td>-0.224944</td>\n",
              "      <td>0.555075</td>\n",
              "      <td>0.196508</td>\n",
              "      <td>-1.012059</td>\n",
              "      <td>-0.139680</td>\n",
              "      <td>0.013312</td>\n",
              "      <td>0.595400</td>\n",
              "      <td>-0.556999</td>\n",
              "      <td>-0.128182</td>\n",
              "      <td>0.313684</td>\n",
              "      <td>-0.397969</td>\n",
              "      <td>0.625162</td>\n",
              "      <td>-1.139045</td>\n",
              "      <td>0.605110</td>\n",
              "      <td>0.438818</td>\n",
              "      <td>-0.294600</td>\n",
              "      <td>-0.015436</td>\n",
              "      <td>-0.200387</td>\n",
              "      <td>-0.028176</td>\n",
              "      <td>0.543886</td>\n",
              "      <td>-0.501193</td>\n",
              "      <td>0.160218</td>\n",
              "      <td>-0.207827</td>\n",
              "      <td>-0.185351</td>\n",
              "      <td>0.511595</td>\n",
              "      <td>-0.588324</td>\n",
              "      <td>0.523014</td>\n",
              "      <td>-0.696837</td>\n",
              "      <td>...</td>\n",
              "      <td>-0.185516</td>\n",
              "      <td>-0.183404</td>\n",
              "      <td>0.793519</td>\n",
              "      <td>0.255796</td>\n",
              "      <td>0.518475</td>\n",
              "      <td>0.655393</td>\n",
              "      <td>0.389528</td>\n",
              "      <td>-0.159402</td>\n",
              "      <td>0.155687</td>\n",
              "      <td>-0.318774</td>\n",
              "      <td>-0.182897</td>\n",
              "      <td>-0.584351</td>\n",
              "      <td>-1.437036</td>\n",
              "      <td>0.627801</td>\n",
              "      <td>0.532542</td>\n",
              "      <td>0.662939</td>\n",
              "      <td>0.678888</td>\n",
              "      <td>-0.622288</td>\n",
              "      <td>0.319154</td>\n",
              "      <td>0.996853</td>\n",
              "      <td>0.696456</td>\n",
              "      <td>0.012059</td>\n",
              "      <td>-0.387256</td>\n",
              "      <td>0.541324</td>\n",
              "      <td>0.047869</td>\n",
              "      <td>-0.789448</td>\n",
              "      <td>-0.599024</td>\n",
              "      <td>-0.941752</td>\n",
              "      <td>0.158490</td>\n",
              "      <td>-0.710274</td>\n",
              "      <td>0.030269</td>\n",
              "      <td>0.281971</td>\n",
              "      <td>0.180029</td>\n",
              "      <td>0.274251</td>\n",
              "      <td>-0.035900</td>\n",
              "      <td>1.007164</td>\n",
              "      <td>-0.209413</td>\n",
              "      <td>animal What fowl grabs the spotlight after the...</td>\n",
              "      <td>FACT</td>\n",
              "      <td>1</td>\n",
              "    </tr>\n",
              "    <tr>\n",
              "      <th>4</th>\n",
              "      <td>-0.341517</td>\n",
              "      <td>-0.614352</td>\n",
              "      <td>0.075420</td>\n",
              "      <td>-0.381870</td>\n",
              "      <td>-0.037142</td>\n",
              "      <td>-0.639595</td>\n",
              "      <td>1.047396</td>\n",
              "      <td>1.109776</td>\n",
              "      <td>-0.500967</td>\n",
              "      <td>-0.308551</td>\n",
              "      <td>-0.026306</td>\n",
              "      <td>0.817466</td>\n",
              "      <td>0.180812</td>\n",
              "      <td>0.402919</td>\n",
              "      <td>0.446856</td>\n",
              "      <td>-0.506134</td>\n",
              "      <td>-0.852798</td>\n",
              "      <td>0.875699</td>\n",
              "      <td>-0.568851</td>\n",
              "      <td>-0.948410</td>\n",
              "      <td>0.342488</td>\n",
              "      <td>-0.257154</td>\n",
              "      <td>-0.041045</td>\n",
              "      <td>1.054365</td>\n",
              "      <td>0.182189</td>\n",
              "      <td>0.183331</td>\n",
              "      <td>0.685496</td>\n",
              "      <td>-0.191475</td>\n",
              "      <td>-0.196328</td>\n",
              "      <td>-0.376523</td>\n",
              "      <td>0.161194</td>\n",
              "      <td>-0.232624</td>\n",
              "      <td>-0.124186</td>\n",
              "      <td>0.408084</td>\n",
              "      <td>0.532743</td>\n",
              "      <td>-0.697111</td>\n",
              "      <td>-0.076796</td>\n",
              "      <td>-0.269128</td>\n",
              "      <td>-0.596582</td>\n",
              "      <td>-0.246367</td>\n",
              "      <td>...</td>\n",
              "      <td>-0.507654</td>\n",
              "      <td>-0.372031</td>\n",
              "      <td>0.384393</td>\n",
              "      <td>-0.427786</td>\n",
              "      <td>-0.062957</td>\n",
              "      <td>0.381885</td>\n",
              "      <td>-0.210031</td>\n",
              "      <td>-0.373227</td>\n",
              "      <td>0.138791</td>\n",
              "      <td>-0.295719</td>\n",
              "      <td>-0.431427</td>\n",
              "      <td>-0.521123</td>\n",
              "      <td>0.406644</td>\n",
              "      <td>0.222613</td>\n",
              "      <td>-0.539807</td>\n",
              "      <td>-0.619525</td>\n",
              "      <td>0.157020</td>\n",
              "      <td>-0.941711</td>\n",
              "      <td>-0.363686</td>\n",
              "      <td>0.716169</td>\n",
              "      <td>-0.360151</td>\n",
              "      <td>-0.008979</td>\n",
              "      <td>-0.696636</td>\n",
              "      <td>-0.872138</td>\n",
              "      <td>0.198449</td>\n",
              "      <td>-0.777933</td>\n",
              "      <td>0.183854</td>\n",
              "      <td>-0.967491</td>\n",
              "      <td>-0.433642</td>\n",
              "      <td>-0.074372</td>\n",
              "      <td>-0.851413</td>\n",
              "      <td>-0.311539</td>\n",
              "      <td>0.008006</td>\n",
              "      <td>-0.179488</td>\n",
              "      <td>-0.726386</td>\n",
              "      <td>0.608123</td>\n",
              "      <td>-0.062077</td>\n",
              "      <td>exp What is the full form of .com ?\\n</td>\n",
              "      <td>FACT</td>\n",
              "      <td>1</td>\n",
              "    </tr>\n",
              "  </tbody>\n",
              "</table>\n",
              "<p>5 rows × 771 columns</p>\n",
              "</div>"
            ],
            "text/plain": [
              "          0         1  ...  Label  Label_enc\n",
              "0 -1.280514 -0.479057  ...   DESC          0\n",
              "1  0.050765 -0.231588  ...   FACT          1\n",
              "2  0.165783  0.086285  ...   DESC          0\n",
              "3 -0.178117 -0.473958  ...   FACT          1\n",
              "4 -0.341517 -0.614352  ...   FACT          1\n",
              "\n",
              "[5 rows x 771 columns]"
            ]
          },
          "metadata": {
            "tags": []
          },
          "execution_count": 45
        }
      ]
    },
    {
      "cell_type": "markdown",
      "metadata": {
        "id": "1WogvLgZKTie"
      },
      "source": [
        "## Doing the split again to asociate the questions and corresponding labels with the training and validation sample"
      ]
    },
    {
      "cell_type": "code",
      "metadata": {
        "id": "XEj_USyCDgp1"
      },
      "source": [
        "X_train,X_val,Y_train,Y_val = train_test_split(final_train.drop('Label_enc',axis=1),final_train['Label_enc'],test_size=0.15,stratify=final_train['Label_enc'],random_state=42)"
      ],
      "execution_count": 84,
      "outputs": []
    },
    {
      "cell_type": "code",
      "metadata": {
        "id": "LXHoj6p4D9k1"
      },
      "source": [
        "X_val_new = X_val.drop(['Question','Label'],axis=1)"
      ],
      "execution_count": 85,
      "outputs": []
    },
    {
      "cell_type": "code",
      "metadata": {
        "id": "IdZfHPfn4ftI"
      },
      "source": [
        "y_pred = model.predict(X_val_new)"
      ],
      "execution_count": 86,
      "outputs": []
    },
    {
      "cell_type": "code",
      "metadata": {
        "colab": {
          "base_uri": "https://localhost:8080/"
        },
        "id": "qIab43rWCqlR",
        "outputId": "553feea5-f7ce-4ce4-9f1d-88f893570119"
      },
      "source": [
        "len(y_pred )"
      ],
      "execution_count": 87,
      "outputs": [
        {
          "output_type": "execute_result",
          "data": {
            "text/plain": [
              "818"
            ]
          },
          "metadata": {
            "tags": []
          },
          "execution_count": 87
        }
      ]
    },
    {
      "cell_type": "markdown",
      "metadata": {
        "id": "719q_5M9G6qw"
      },
      "source": [
        "## F1 Score"
      ]
    },
    {
      "cell_type": "code",
      "metadata": {
        "id": "iFJQEemSG8WQ",
        "outputId": "6c1fc018-eca7-4115-c2e3-fdba0c53bb9d",
        "colab": {
          "base_uri": "https://localhost:8080/"
        }
      },
      "source": [
        "f1_score(y_pred,Y_val)"
      ],
      "execution_count": 88,
      "outputs": [
        {
          "output_type": "execute_result",
          "data": {
            "text/plain": [
              "0.9852598913886733"
            ]
          },
          "metadata": {
            "tags": []
          },
          "execution_count": 88
        }
      ]
    },
    {
      "cell_type": "markdown",
      "metadata": {
        "id": "d_nXKu0NKdkW"
      },
      "source": [
        "## Confusion Matrix"
      ]
    },
    {
      "cell_type": "code",
      "metadata": {
        "id": "4joFKS_S-e1R",
        "outputId": "c438224a-90cc-4724-87cb-bc722f2d7442",
        "colab": {
          "base_uri": "https://localhost:8080/",
          "height": 427
        }
      },
      "source": [
        "mapping = {0: \"DESC\", 1: \"FACT\"}\n",
        "fig, ax = plt.subplots(figsize=(6, 6))\n",
        "cm_viz = ConfusionMatrix(\n",
        "    model,\n",
        "    classes=[\"DESC\", \"FACT\"],\n",
        "    label_encoder=mapping,\n",
        ")\n",
        "cm_viz.score(X_val_new , Y_val)\n",
        "cm_viz.poof()"
      ],
      "execution_count": 89,
      "outputs": [
        {
          "output_type": "display_data",
          "data": {
            "image/png": "[encoded data removed]",
            "text/plain": [
              "<Figure size 432x432 with 1 Axes>"
            ]
          },
          "metadata": {
            "tags": []
          }
        }
      ]
    },
    {
      "cell_type": "markdown",
      "metadata": {
        "id": "c9kGoltlEzPJ"
      },
      "source": [
        "## ROC -AUC Plot"
      ]
    },
    {
      "cell_type": "code",
      "metadata": {
        "id": "MCoHrOp4E10f",
        "outputId": "dc1c89c9-cc5a-41c2-e2cc-db03d53db399",
        "colab": {
          "base_uri": "https://localhost:8080/",
          "height": 404
        }
      },
      "source": [
        "fig, ax = plt.subplots(figsize=(6, 6))\n",
        "roc_viz = ROCAUC(model)\n",
        "roc_viz.score(X_val_new, Y_val)\n",
        "roc_viz.poof()"
      ],
      "execution_count": 90,
      "outputs": [
        {
          "output_type": "display_data",
          "data": {
            "image/png": "[encoded data removed]",
            "text/plain": [
              "<Figure size 432x432 with 1 Axes>"
            ]
          },
          "metadata": {
            "tags": []
          }
        }
      ]
    },
    {
      "cell_type": "markdown",
      "metadata": {
        "id": "hbkFMr-jKosJ"
      },
      "source": [
        "## Retrieve Prediction Probabilities for Each Class"
      ]
    },
    {
      "cell_type": "code",
      "metadata": {
        "id": "xbb2ew0x7D-c"
      },
      "source": [
        "pred_proba = model.predict_proba(X_val_new)"
      ],
      "execution_count": 91,
      "outputs": []
    },
    {
      "cell_type": "code",
      "metadata": {
        "colab": {
          "base_uri": "https://localhost:8080/"
        },
        "id": "YIaZ3eH28BKe",
        "outputId": "830b4727-0b65-4727-c377-12393eb7d07e"
      },
      "source": [
        "pred_proba "
      ],
      "execution_count": 92,
      "outputs": [
        {
          "output_type": "execute_result",
          "data": {
            "text/plain": [
              "array([[1.61936774e-03, 9.98380632e-01],\n",
              "       [1.63813071e-03, 9.98361869e-01],\n",
              "       [1.70007900e-01, 8.29992100e-01],\n",
              "       ...,\n",
              "       [8.60555722e-05, 9.99913944e-01],\n",
              "       [9.95827388e-01, 4.17261194e-03],\n",
              "       [7.53098534e-04, 9.99246901e-01]])"
            ]
          },
          "metadata": {
            "tags": []
          },
          "execution_count": 92
        }
      ]
    },
    {
      "cell_type": "markdown",
      "metadata": {
        "id": "_gPftnH9KvaJ"
      },
      "source": [
        "## Store the prediction Probabilities into a DataFrame"
      ]
    },
    {
      "cell_type": "code",
      "metadata": {
        "id": "-zwRcmiB8F8s"
      },
      "source": [
        "df_pred = pd.DataFrame(pred_proba,columns=lb.classes_)"
      ],
      "execution_count": 93,
      "outputs": []
    },
    {
      "cell_type": "code",
      "metadata": {
        "colab": {
          "base_uri": "https://localhost:8080/",
          "height": 419
        },
        "id": "60tg3pMY8ywf",
        "outputId": "cafd138d-d35e-4429-c77a-fc0e1b82aa61"
      },
      "source": [
        "df_pred"
      ],
      "execution_count": 94,
      "outputs": [
        {
          "output_type": "execute_result",
          "data": {
            "text/html": [
              "<div>\n",
              "<style scoped>\n",
              "    .dataframe tbody tr th:only-of-type {\n",
              "        vertical-align: middle;\n",
              "    }\n",
              "\n",
              "    .dataframe tbody tr th {\n",
              "        vertical-align: top;\n",
              "    }\n",
              "\n",
              "    .dataframe thead th {\n",
              "        text-align: right;\n",
              "    }\n",
              "</style>\n",
              "<table border=\"1\" class=\"dataframe\">\n",
              "  <thead>\n",
              "    <tr style=\"text-align: right;\">\n",
              "      <th></th>\n",
              "      <th>DESC</th>\n",
              "      <th>FACT</th>\n",
              "    </tr>\n",
              "  </thead>\n",
              "  <tbody>\n",
              "    <tr>\n",
              "      <th>0</th>\n",
              "      <td>0.001619</td>\n",
              "      <td>0.998381</td>\n",
              "    </tr>\n",
              "    <tr>\n",
              "      <th>1</th>\n",
              "      <td>0.001638</td>\n",
              "      <td>0.998362</td>\n",
              "    </tr>\n",
              "    <tr>\n",
              "      <th>2</th>\n",
              "      <td>0.170008</td>\n",
              "      <td>0.829992</td>\n",
              "    </tr>\n",
              "    <tr>\n",
              "      <th>3</th>\n",
              "      <td>0.000734</td>\n",
              "      <td>0.999266</td>\n",
              "    </tr>\n",
              "    <tr>\n",
              "      <th>4</th>\n",
              "      <td>0.000603</td>\n",
              "      <td>0.999397</td>\n",
              "    </tr>\n",
              "    <tr>\n",
              "      <th>...</th>\n",
              "      <td>...</td>\n",
              "      <td>...</td>\n",
              "    </tr>\n",
              "    <tr>\n",
              "      <th>813</th>\n",
              "      <td>0.031017</td>\n",
              "      <td>0.968983</td>\n",
              "    </tr>\n",
              "    <tr>\n",
              "      <th>814</th>\n",
              "      <td>0.477337</td>\n",
              "      <td>0.522663</td>\n",
              "    </tr>\n",
              "    <tr>\n",
              "      <th>815</th>\n",
              "      <td>0.000086</td>\n",
              "      <td>0.999914</td>\n",
              "    </tr>\n",
              "    <tr>\n",
              "      <th>816</th>\n",
              "      <td>0.995827</td>\n",
              "      <td>0.004173</td>\n",
              "    </tr>\n",
              "    <tr>\n",
              "      <th>817</th>\n",
              "      <td>0.000753</td>\n",
              "      <td>0.999247</td>\n",
              "    </tr>\n",
              "  </tbody>\n",
              "</table>\n",
              "<p>818 rows × 2 columns</p>\n",
              "</div>"
            ],
            "text/plain": [
              "         DESC      FACT\n",
              "0    0.001619  0.998381\n",
              "1    0.001638  0.998362\n",
              "2    0.170008  0.829992\n",
              "3    0.000734  0.999266\n",
              "4    0.000603  0.999397\n",
              "..        ...       ...\n",
              "813  0.031017  0.968983\n",
              "814  0.477337  0.522663\n",
              "815  0.000086  0.999914\n",
              "816  0.995827  0.004173\n",
              "817  0.000753  0.999247\n",
              "\n",
              "[818 rows x 2 columns]"
            ]
          },
          "metadata": {
            "tags": []
          },
          "execution_count": 94
        }
      ]
    },
    {
      "cell_type": "markdown",
      "metadata": {
        "id": "lYHdaXW4K1-n"
      },
      "source": [
        "## Formatting the Validation Data"
      ]
    },
    {
      "cell_type": "code",
      "metadata": {
        "colab": {
          "base_uri": "https://localhost:8080/",
          "height": 419
        },
        "id": "4AITNCgAFH5f",
        "outputId": "955bb227-19e9-467a-c7da-5fe51e95466b"
      },
      "source": [
        "X_val[['Question','Label']]"
      ],
      "execution_count": 95,
      "outputs": [
        {
          "output_type": "execute_result",
          "data": {
            "text/html": [
              "<div>\n",
              "<style scoped>\n",
              "    .dataframe tbody tr th:only-of-type {\n",
              "        vertical-align: middle;\n",
              "    }\n",
              "\n",
              "    .dataframe tbody tr th {\n",
              "        vertical-align: top;\n",
              "    }\n",
              "\n",
              "    .dataframe thead th {\n",
              "        text-align: right;\n",
              "    }\n",
              "</style>\n",
              "<table border=\"1\" class=\"dataframe\">\n",
              "  <thead>\n",
              "    <tr style=\"text-align: right;\">\n",
              "      <th></th>\n",
              "      <th>Question</th>\n",
              "      <th>Label</th>\n",
              "    </tr>\n",
              "  </thead>\n",
              "  <tbody>\n",
              "    <tr>\n",
              "      <th>235</th>\n",
              "      <td>count How many revolutions does a standard LP ...</td>\n",
              "      <td>FACT</td>\n",
              "    </tr>\n",
              "    <tr>\n",
              "      <th>4503</th>\n",
              "      <td>ind Who shot Lee Harvey Oswald ?\\n</td>\n",
              "      <td>FACT</td>\n",
              "    </tr>\n",
              "    <tr>\n",
              "      <th>2553</th>\n",
              "      <td>other Where in the Bible does it tell about Je...</td>\n",
              "      <td>FACT</td>\n",
              "    </tr>\n",
              "    <tr>\n",
              "      <th>627</th>\n",
              "      <td>city What Russian city boasts the Hermitage Mu...</td>\n",
              "      <td>FACT</td>\n",
              "    </tr>\n",
              "    <tr>\n",
              "      <th>3514</th>\n",
              "      <td>other What are some good medical sites for inf...</td>\n",
              "      <td>FACT</td>\n",
              "    </tr>\n",
              "    <tr>\n",
              "      <th>...</th>\n",
              "      <td>...</td>\n",
              "      <td>...</td>\n",
              "    </tr>\n",
              "    <tr>\n",
              "      <th>1254</th>\n",
              "      <td>product What kind of hat does Bat Masterson we...</td>\n",
              "      <td>FACT</td>\n",
              "    </tr>\n",
              "    <tr>\n",
              "      <th>3954</th>\n",
              "      <td>symbol What is the zodiac sign for August 14 ?\\n</td>\n",
              "      <td>FACT</td>\n",
              "    </tr>\n",
              "    <tr>\n",
              "      <th>2656</th>\n",
              "      <td>count How many points are there on a Backgammo...</td>\n",
              "      <td>FACT</td>\n",
              "    </tr>\n",
              "    <tr>\n",
              "      <th>884</th>\n",
              "      <td>desc What are the living conditions in Cuba ?\\n</td>\n",
              "      <td>DESC</td>\n",
              "    </tr>\n",
              "    <tr>\n",
              "      <th>4971</th>\n",
              "      <td>termeq What are the Cleveland Indians also cal...</td>\n",
              "      <td>FACT</td>\n",
              "    </tr>\n",
              "  </tbody>\n",
              "</table>\n",
              "<p>818 rows × 2 columns</p>\n",
              "</div>"
            ],
            "text/plain": [
              "                                               Question Label\n",
              "235   count How many revolutions does a standard LP ...  FACT\n",
              "4503                 ind Who shot Lee Harvey Oswald ?\\n  FACT\n",
              "2553  other Where in the Bible does it tell about Je...  FACT\n",
              "627   city What Russian city boasts the Hermitage Mu...  FACT\n",
              "3514  other What are some good medical sites for inf...  FACT\n",
              "...                                                 ...   ...\n",
              "1254  product What kind of hat does Bat Masterson we...  FACT\n",
              "3954   symbol What is the zodiac sign for August 14 ?\\n  FACT\n",
              "2656  count How many points are there on a Backgammo...  FACT\n",
              "884     desc What are the living conditions in Cuba ?\\n  DESC\n",
              "4971  termeq What are the Cleveland Indians also cal...  FACT\n",
              "\n",
              "[818 rows x 2 columns]"
            ]
          },
          "metadata": {
            "tags": []
          },
          "execution_count": 95
        }
      ]
    },
    {
      "cell_type": "code",
      "metadata": {
        "id": "7JPP5q_EB2Te"
      },
      "source": [
        "predictions_made = X_val[['Question','Label']].copy()"
      ],
      "execution_count": 96,
      "outputs": []
    },
    {
      "cell_type": "code",
      "metadata": {
        "id": "zcuMqg9DCxs-"
      },
      "source": [
        "predictions_made['Label_Predicted'] = y_pred"
      ],
      "execution_count": 97,
      "outputs": []
    },
    {
      "cell_type": "code",
      "metadata": {
        "colab": {
          "base_uri": "https://localhost:8080/",
          "height": 204
        },
        "id": "hH388mSTFPK1",
        "outputId": "c32ba710-ff72-443e-8c6b-3174df145837"
      },
      "source": [
        "predictions_made.head()"
      ],
      "execution_count": 98,
      "outputs": [
        {
          "output_type": "execute_result",
          "data": {
            "text/html": [
              "<div>\n",
              "<style scoped>\n",
              "    .dataframe tbody tr th:only-of-type {\n",
              "        vertical-align: middle;\n",
              "    }\n",
              "\n",
              "    .dataframe tbody tr th {\n",
              "        vertical-align: top;\n",
              "    }\n",
              "\n",
              "    .dataframe thead th {\n",
              "        text-align: right;\n",
              "    }\n",
              "</style>\n",
              "<table border=\"1\" class=\"dataframe\">\n",
              "  <thead>\n",
              "    <tr style=\"text-align: right;\">\n",
              "      <th></th>\n",
              "      <th>Question</th>\n",
              "      <th>Label</th>\n",
              "      <th>Label_Predicted</th>\n",
              "    </tr>\n",
              "  </thead>\n",
              "  <tbody>\n",
              "    <tr>\n",
              "      <th>235</th>\n",
              "      <td>count How many revolutions does a standard LP ...</td>\n",
              "      <td>FACT</td>\n",
              "      <td>1</td>\n",
              "    </tr>\n",
              "    <tr>\n",
              "      <th>4503</th>\n",
              "      <td>ind Who shot Lee Harvey Oswald ?\\n</td>\n",
              "      <td>FACT</td>\n",
              "      <td>1</td>\n",
              "    </tr>\n",
              "    <tr>\n",
              "      <th>2553</th>\n",
              "      <td>other Where in the Bible does it tell about Je...</td>\n",
              "      <td>FACT</td>\n",
              "      <td>1</td>\n",
              "    </tr>\n",
              "    <tr>\n",
              "      <th>627</th>\n",
              "      <td>city What Russian city boasts the Hermitage Mu...</td>\n",
              "      <td>FACT</td>\n",
              "      <td>1</td>\n",
              "    </tr>\n",
              "    <tr>\n",
              "      <th>3514</th>\n",
              "      <td>other What are some good medical sites for inf...</td>\n",
              "      <td>FACT</td>\n",
              "      <td>1</td>\n",
              "    </tr>\n",
              "  </tbody>\n",
              "</table>\n",
              "</div>"
            ],
            "text/plain": [
              "                                               Question Label  Label_Predicted\n",
              "235   count How many revolutions does a standard LP ...  FACT                1\n",
              "4503                 ind Who shot Lee Harvey Oswald ?\\n  FACT                1\n",
              "2553  other Where in the Bible does it tell about Je...  FACT                1\n",
              "627   city What Russian city boasts the Hermitage Mu...  FACT                1\n",
              "3514  other What are some good medical sites for inf...  FACT                1"
            ]
          },
          "metadata": {
            "tags": []
          },
          "execution_count": 98
        }
      ]
    },
    {
      "cell_type": "code",
      "metadata": {
        "colab": {
          "base_uri": "https://localhost:8080/"
        },
        "id": "onMWQopfF6XM",
        "outputId": "7661305d-64f8-4958-a1ad-2154fefef502"
      },
      "source": [
        "predictions_made['Label_Predicted'].unique()"
      ],
      "execution_count": 99,
      "outputs": [
        {
          "output_type": "execute_result",
          "data": {
            "text/plain": [
              "array([1, 0])"
            ]
          },
          "metadata": {
            "tags": []
          },
          "execution_count": 99
        }
      ]
    },
    {
      "cell_type": "markdown",
      "metadata": {
        "id": "eQuvn54mK6mQ"
      },
      "source": [
        "## Generate Label Mapper"
      ]
    },
    {
      "cell_type": "code",
      "metadata": {
        "id": "BaU_ZP6l90p_"
      },
      "source": [
        "names = lb.classes_.tolist()"
      ],
      "execution_count": 100,
      "outputs": []
    },
    {
      "cell_type": "code",
      "metadata": {
        "colab": {
          "base_uri": "https://localhost:8080/"
        },
        "id": "KlbuqgzEFYxE",
        "outputId": "dd202f5d-8063-4812-ade4-1ae3f61dc11b"
      },
      "source": [
        "mapper = {k:v for k,v in enumerate(lb.classes_.tolist())}\n",
        "mapper "
      ],
      "execution_count": 101,
      "outputs": [
        {
          "output_type": "execute_result",
          "data": {
            "text/plain": [
              "{0: 'DESC', 1: 'FACT'}"
            ]
          },
          "metadata": {
            "tags": []
          },
          "execution_count": 101
        }
      ]
    },
    {
      "cell_type": "code",
      "metadata": {
        "id": "esSTV8jGFVeY"
      },
      "source": [
        "predictions_made['Label_Predicted'] = predictions_made['Label_Predicted'].map(mapper)"
      ],
      "execution_count": 102,
      "outputs": []
    },
    {
      "cell_type": "code",
      "metadata": {
        "id": "bZOzHmOyFxkX"
      },
      "source": [
        "predictions_made.reset_index(inplace=True)"
      ],
      "execution_count": 103,
      "outputs": []
    },
    {
      "cell_type": "code",
      "metadata": {
        "colab": {
          "base_uri": "https://localhost:8080/",
          "height": 204
        },
        "id": "R57cLZigIgbC",
        "outputId": "d543fc91-41a4-4f1c-e0ba-8244b58af384"
      },
      "source": [
        "predictions_made = predictions_made.drop('index',axis=1)\n",
        "predictions_made.head()"
      ],
      "execution_count": 104,
      "outputs": [
        {
          "output_type": "execute_result",
          "data": {
            "text/html": [
              "<div>\n",
              "<style scoped>\n",
              "    .dataframe tbody tr th:only-of-type {\n",
              "        vertical-align: middle;\n",
              "    }\n",
              "\n",
              "    .dataframe tbody tr th {\n",
              "        vertical-align: top;\n",
              "    }\n",
              "\n",
              "    .dataframe thead th {\n",
              "        text-align: right;\n",
              "    }\n",
              "</style>\n",
              "<table border=\"1\" class=\"dataframe\">\n",
              "  <thead>\n",
              "    <tr style=\"text-align: right;\">\n",
              "      <th></th>\n",
              "      <th>Question</th>\n",
              "      <th>Label</th>\n",
              "      <th>Label_Predicted</th>\n",
              "    </tr>\n",
              "  </thead>\n",
              "  <tbody>\n",
              "    <tr>\n",
              "      <th>0</th>\n",
              "      <td>count How many revolutions does a standard LP ...</td>\n",
              "      <td>FACT</td>\n",
              "      <td>FACT</td>\n",
              "    </tr>\n",
              "    <tr>\n",
              "      <th>1</th>\n",
              "      <td>ind Who shot Lee Harvey Oswald ?\\n</td>\n",
              "      <td>FACT</td>\n",
              "      <td>FACT</td>\n",
              "    </tr>\n",
              "    <tr>\n",
              "      <th>2</th>\n",
              "      <td>other Where in the Bible does it tell about Je...</td>\n",
              "      <td>FACT</td>\n",
              "      <td>FACT</td>\n",
              "    </tr>\n",
              "    <tr>\n",
              "      <th>3</th>\n",
              "      <td>city What Russian city boasts the Hermitage Mu...</td>\n",
              "      <td>FACT</td>\n",
              "      <td>FACT</td>\n",
              "    </tr>\n",
              "    <tr>\n",
              "      <th>4</th>\n",
              "      <td>other What are some good medical sites for inf...</td>\n",
              "      <td>FACT</td>\n",
              "      <td>FACT</td>\n",
              "    </tr>\n",
              "  </tbody>\n",
              "</table>\n",
              "</div>"
            ],
            "text/plain": [
              "                                            Question Label Label_Predicted\n",
              "0  count How many revolutions does a standard LP ...  FACT            FACT\n",
              "1                 ind Who shot Lee Harvey Oswald ?\\n  FACT            FACT\n",
              "2  other Where in the Bible does it tell about Je...  FACT            FACT\n",
              "3  city What Russian city boasts the Hermitage Mu...  FACT            FACT\n",
              "4  other What are some good medical sites for inf...  FACT            FACT"
            ]
          },
          "metadata": {
            "tags": []
          },
          "execution_count": 104
        }
      ]
    },
    {
      "cell_type": "code",
      "metadata": {
        "id": "Yo7UL5lPCeZG"
      },
      "source": [
        "final_validation_preds = pd.concat((predictions_made,df_pred),axis=1)"
      ],
      "execution_count": 105,
      "outputs": []
    },
    {
      "cell_type": "code",
      "metadata": {
        "colab": {
          "base_uri": "https://localhost:8080/",
          "height": 204
        },
        "id": "WQf7UlrfE3lr",
        "outputId": "5904aa13-2139-4261-c962-f528ef4aa030"
      },
      "source": [
        "final_validation_preds.head()"
      ],
      "execution_count": 106,
      "outputs": [
        {
          "output_type": "execute_result",
          "data": {
            "text/html": [
              "<div>\n",
              "<style scoped>\n",
              "    .dataframe tbody tr th:only-of-type {\n",
              "        vertical-align: middle;\n",
              "    }\n",
              "\n",
              "    .dataframe tbody tr th {\n",
              "        vertical-align: top;\n",
              "    }\n",
              "\n",
              "    .dataframe thead th {\n",
              "        text-align: right;\n",
              "    }\n",
              "</style>\n",
              "<table border=\"1\" class=\"dataframe\">\n",
              "  <thead>\n",
              "    <tr style=\"text-align: right;\">\n",
              "      <th></th>\n",
              "      <th>Question</th>\n",
              "      <th>Label</th>\n",
              "      <th>Label_Predicted</th>\n",
              "      <th>DESC</th>\n",
              "      <th>FACT</th>\n",
              "    </tr>\n",
              "  </thead>\n",
              "  <tbody>\n",
              "    <tr>\n",
              "      <th>0</th>\n",
              "      <td>count How many revolutions does a standard LP ...</td>\n",
              "      <td>FACT</td>\n",
              "      <td>FACT</td>\n",
              "      <td>0.001619</td>\n",
              "      <td>0.998381</td>\n",
              "    </tr>\n",
              "    <tr>\n",
              "      <th>1</th>\n",
              "      <td>ind Who shot Lee Harvey Oswald ?\\n</td>\n",
              "      <td>FACT</td>\n",
              "      <td>FACT</td>\n",
              "      <td>0.001638</td>\n",
              "      <td>0.998362</td>\n",
              "    </tr>\n",
              "    <tr>\n",
              "      <th>2</th>\n",
              "      <td>other Where in the Bible does it tell about Je...</td>\n",
              "      <td>FACT</td>\n",
              "      <td>FACT</td>\n",
              "      <td>0.170008</td>\n",
              "      <td>0.829992</td>\n",
              "    </tr>\n",
              "    <tr>\n",
              "      <th>3</th>\n",
              "      <td>city What Russian city boasts the Hermitage Mu...</td>\n",
              "      <td>FACT</td>\n",
              "      <td>FACT</td>\n",
              "      <td>0.000734</td>\n",
              "      <td>0.999266</td>\n",
              "    </tr>\n",
              "    <tr>\n",
              "      <th>4</th>\n",
              "      <td>other What are some good medical sites for inf...</td>\n",
              "      <td>FACT</td>\n",
              "      <td>FACT</td>\n",
              "      <td>0.000603</td>\n",
              "      <td>0.999397</td>\n",
              "    </tr>\n",
              "  </tbody>\n",
              "</table>\n",
              "</div>"
            ],
            "text/plain": [
              "                                            Question Label  ...      DESC      FACT\n",
              "0  count How many revolutions does a standard LP ...  FACT  ...  0.001619  0.998381\n",
              "1                 ind Who shot Lee Harvey Oswald ?\\n  FACT  ...  0.001638  0.998362\n",
              "2  other Where in the Bible does it tell about Je...  FACT  ...  0.170008  0.829992\n",
              "3  city What Russian city boasts the Hermitage Mu...  FACT  ...  0.000734  0.999266\n",
              "4  other What are some good medical sites for inf...  FACT  ...  0.000603  0.999397\n",
              "\n",
              "[5 rows x 5 columns]"
            ]
          },
          "metadata": {
            "tags": []
          },
          "execution_count": 106
        }
      ]
    },
    {
      "cell_type": "markdown",
      "metadata": {
        "id": "xLXqNC7TIXEc"
      },
      "source": [
        "## Misclassified Labels after prediction"
      ]
    },
    {
      "cell_type": "code",
      "metadata": {
        "id": "gkV_tqH_HMh5",
        "outputId": "d7479337-f84c-4dbe-919d-706f48da2bf7",
        "colab": {
          "base_uri": "https://localhost:8080/",
          "height": 359
        }
      },
      "source": [
        "final_validation_preds[(final_validation_preds['Label'] == 'DESC')&(final_validation_preds['Label'] != final_validation_preds['Label_Predicted'])]"
      ],
      "execution_count": 107,
      "outputs": [
        {
          "output_type": "execute_result",
          "data": {
            "text/html": [
              "<div>\n",
              "<style scoped>\n",
              "    .dataframe tbody tr th:only-of-type {\n",
              "        vertical-align: middle;\n",
              "    }\n",
              "\n",
              "    .dataframe tbody tr th {\n",
              "        vertical-align: top;\n",
              "    }\n",
              "\n",
              "    .dataframe thead th {\n",
              "        text-align: right;\n",
              "    }\n",
              "</style>\n",
              "<table border=\"1\" class=\"dataframe\">\n",
              "  <thead>\n",
              "    <tr style=\"text-align: right;\">\n",
              "      <th></th>\n",
              "      <th>Question</th>\n",
              "      <th>Label</th>\n",
              "      <th>Label_Predicted</th>\n",
              "      <th>DESC</th>\n",
              "      <th>FACT</th>\n",
              "    </tr>\n",
              "  </thead>\n",
              "  <tbody>\n",
              "    <tr>\n",
              "      <th>67</th>\n",
              "      <td>reason What caused Shea &amp; Gould to close their...</td>\n",
              "      <td>DESC</td>\n",
              "      <td>FACT</td>\n",
              "      <td>0.410790</td>\n",
              "      <td>0.589210</td>\n",
              "    </tr>\n",
              "    <tr>\n",
              "      <th>83</th>\n",
              "      <td>manner How do you make panoramic sugar eggs fo...</td>\n",
              "      <td>DESC</td>\n",
              "      <td>FACT</td>\n",
              "      <td>0.357325</td>\n",
              "      <td>0.642675</td>\n",
              "    </tr>\n",
              "    <tr>\n",
              "      <th>145</th>\n",
              "      <td>reason Why are the U.S. presidential elections...</td>\n",
              "      <td>DESC</td>\n",
              "      <td>FACT</td>\n",
              "      <td>0.149751</td>\n",
              "      <td>0.850249</td>\n",
              "    </tr>\n",
              "    <tr>\n",
              "      <th>152</th>\n",
              "      <td>desc What do a diamond and lump of coal have i...</td>\n",
              "      <td>DESC</td>\n",
              "      <td>FACT</td>\n",
              "      <td>0.379885</td>\n",
              "      <td>0.620115</td>\n",
              "    </tr>\n",
              "    <tr>\n",
              "      <th>342</th>\n",
              "      <td>manner How do you exterminate bees that are in...</td>\n",
              "      <td>DESC</td>\n",
              "      <td>FACT</td>\n",
              "      <td>0.252307</td>\n",
              "      <td>0.747693</td>\n",
              "    </tr>\n",
              "    <tr>\n",
              "      <th>353</th>\n",
              "      <td>manner How do you do a bibliography with an un...</td>\n",
              "      <td>DESC</td>\n",
              "      <td>FACT</td>\n",
              "      <td>0.279709</td>\n",
              "      <td>0.720291</td>\n",
              "    </tr>\n",
              "    <tr>\n",
              "      <th>601</th>\n",
              "      <td>reason Why was the L.A. office of Shea and Gou...</td>\n",
              "      <td>DESC</td>\n",
              "      <td>FACT</td>\n",
              "      <td>0.350439</td>\n",
              "      <td>0.649561</td>\n",
              "    </tr>\n",
              "    <tr>\n",
              "      <th>636</th>\n",
              "      <td>desc What were the three prophecies the witche...</td>\n",
              "      <td>DESC</td>\n",
              "      <td>FACT</td>\n",
              "      <td>0.416376</td>\n",
              "      <td>0.583624</td>\n",
              "    </tr>\n",
              "    <tr>\n",
              "      <th>714</th>\n",
              "      <td>manner How is Abigail Arcane related to the vi...</td>\n",
              "      <td>DESC</td>\n",
              "      <td>FACT</td>\n",
              "      <td>0.383589</td>\n",
              "      <td>0.616411</td>\n",
              "    </tr>\n",
              "    <tr>\n",
              "      <th>748</th>\n",
              "      <td>manner How do they find an epicenter ?\\n</td>\n",
              "      <td>DESC</td>\n",
              "      <td>FACT</td>\n",
              "      <td>0.323601</td>\n",
              "      <td>0.676399</td>\n",
              "    </tr>\n",
              "  </tbody>\n",
              "</table>\n",
              "</div>"
            ],
            "text/plain": [
              "                                              Question  ...      FACT\n",
              "67   reason What caused Shea & Gould to close their...  ...  0.589210\n",
              "83   manner How do you make panoramic sugar eggs fo...  ...  0.642675\n",
              "145  reason Why are the U.S. presidential elections...  ...  0.850249\n",
              "152  desc What do a diamond and lump of coal have i...  ...  0.620115\n",
              "342  manner How do you exterminate bees that are in...  ...  0.747693\n",
              "353  manner How do you do a bibliography with an un...  ...  0.720291\n",
              "601  reason Why was the L.A. office of Shea and Gou...  ...  0.649561\n",
              "636  desc What were the three prophecies the witche...  ...  0.583624\n",
              "714  manner How is Abigail Arcane related to the vi...  ...  0.616411\n",
              "748           manner How do they find an epicenter ?\\n  ...  0.676399\n",
              "\n",
              "[10 rows x 5 columns]"
            ]
          },
          "metadata": {
            "tags": []
          },
          "execution_count": 107
        }
      ]
    },
    {
      "cell_type": "markdown",
      "metadata": {
        "id": "etdDxoEM5wcg"
      },
      "source": [
        "##Make Predictions on unseen data sample - Prediction Pipeline"
      ]
    },
    {
      "cell_type": "code",
      "metadata": {
        "id": "vjymdGeozf5Q"
      },
      "source": [
        "import pickle\n",
        "import pandas as pd \n",
        "import numpy as np\n",
        "from sentence_transformers import SentenceTransformer"
      ],
      "execution_count": 67,
      "outputs": []
    },
    {
      "cell_type": "markdown",
      "metadata": {
        "id": "kIg30Tf0_UAm"
      },
      "source": [
        "## Save the LogisticRegression Model"
      ]
    },
    {
      "cell_type": "code",
      "metadata": {
        "id": "ZCyufqchBbJt",
        "outputId": "c3bf9941-dda5-4da5-c939-3ad4a22ee720",
        "colab": {
          "base_uri": "https://localhost:8080/"
        }
      },
      "source": [
        "from google.colab import drive\n",
        "drive.mount(\"/content/drive\")"
      ],
      "execution_count": 68,
      "outputs": [
        {
          "output_type": "stream",
          "text": [
            "Mounted at /content/drive\n"
          ],
          "name": "stdout"
        }
      ]
    },
    {
      "cell_type": "code",
      "metadata": {
        "id": "B8YwwSYEBWe9"
      },
      "source": [
        "import os\n",
        "filename = \"LogisticRegression.pkl\"\n",
        "folder  = \"/content/drive/MyDrive/ZeonAI\"\n",
        "model_path = os.path.join(folder,filename)\n",
        "pickle.dump(model, open(model_path, 'wb'))"
      ],
      "execution_count": 70,
      "outputs": []
    },
    {
      "cell_type": "markdown",
      "metadata": {
        "id": "KUGv4v0_Enzs"
      },
      "source": [
        "## Define The Prediction Pipeline"
      ]
    },
    {
      "cell_type": "code",
      "metadata": {
        "id": "Y83H9hEi7Anp"
      },
      "source": [
        "class process_test_data():\n",
        "  def __init__(self,file_path,model_path,mapper):\n",
        "    self.file_path = file_path\n",
        "    self.model_path = model_path\n",
        "    self.mapper = mapper\n",
        "  def read_data(self):\n",
        "    self.TEST = pd.read_excel(self.file_path)\n",
        "    self.TEST = self.TEST.rename(columns={'Query':'Question'})\n",
        "    print(self.TEST.shape)\n",
        "  def generate_vectors(self):\n",
        "    self.sentence_list = TEST.Question.values.tolist()\n",
        "    model = SentenceTransformer('sentence-transformers/distilbert-base-nli-mean-tokens')\n",
        "    embeddings = model.encode(self.sentence_list)\n",
        "    print(len(embeddings))\n",
        "    self.train_vector = pd.DataFrame(np.array(embeddings))\n",
        "    print(self.train_vector.shape)\n",
        "  def load_and_predict(self):\n",
        "    loaded_model = pickle.load(open(self.model_path , 'rb'))\n",
        "    predictions = loaded_model.predict(self.train_vector)\n",
        "    pred_proba = loaded_model.predict_proba(self.train_vector)\n",
        "    print(len(predictions))\n",
        "    names = [ k for k in self.mapper.values()]\n",
        "    self.proba = pd.DataFrame(pred_proba,columns=names)\n",
        "    self.TEST['Predicted Labels'] = predictions\n",
        "    self.TEST['Predicted Labels'] = self.TEST['Predicted Labels'].map(mapper)\n",
        "    self.TEST = pd.concat([self.TEST,self.proba],axis=1)\n",
        "    return self.TEST\n",
        " \n",
        "\n"
      ],
      "execution_count": null,
      "outputs": []
    },
    {
      "cell_type": "markdown",
      "metadata": {
        "id": "T4cHPvU7BNMv"
      },
      "source": [
        "## Instantiate Class and retrive the final predictions"
      ]
    },
    {
      "cell_type": "code",
      "metadata": {
        "id": "3IA0bLyhIGzk",
        "colab": {
          "base_uri": "https://localhost:8080/"
        },
        "outputId": "2531766c-4acc-4c43-86e5-e47c8397fa78"
      },
      "source": [
        "file_path = \"/content/TestSet_QueryClassification.xlsx\"\n",
        "model_path = \"/content/drive/MyDrive/AV_Hack/Logistic_regression.pkl\"\n",
        "mapper = {0: 'ABBR', 1: 'DESC', 2: 'ENTY', 3: 'HUM', 4: 'LOC', 5: 'NUM'}\n",
        "testdata = process_test_data(file_path,model_path,mapper)\n",
        "testdata.read_data()\n",
        "testdata.generate_vectors()\n",
        "df= testdata.load_and_predict()"
      ],
      "execution_count": null,
      "outputs": [
        {
          "output_type": "stream",
          "text": [
            "(20, 3)\n",
            "20\n",
            "(20, 768)\n",
            "20\n"
          ],
          "name": "stdout"
        }
      ]
    },
    {
      "cell_type": "code",
      "metadata": {
        "colab": {
          "base_uri": "https://localhost:8080/",
          "height": 306
        },
        "id": "YfqwNNLGw2HI",
        "outputId": "95a06a0a-a030-4c6a-a301-f0288ffc42d4"
      },
      "source": [
        "df.head()"
      ],
      "execution_count": null,
      "outputs": [
        {
          "output_type": "execute_result",
          "data": {
            "text/html": [
              "<div>\n",
              "<style scoped>\n",
              "    .dataframe tbody tr th:only-of-type {\n",
              "        vertical-align: middle;\n",
              "    }\n",
              "\n",
              "    .dataframe tbody tr th {\n",
              "        vertical-align: top;\n",
              "    }\n",
              "\n",
              "    .dataframe thead th {\n",
              "        text-align: right;\n",
              "    }\n",
              "</style>\n",
              "<table border=\"1\" class=\"dataframe\">\n",
              "  <thead>\n",
              "    <tr style=\"text-align: right;\">\n",
              "      <th></th>\n",
              "      <th>S.No.</th>\n",
              "      <th>Question</th>\n",
              "      <th>Actual Label</th>\n",
              "      <th>Predicted Labels</th>\n",
              "      <th>ABBR</th>\n",
              "      <th>DESC</th>\n",
              "      <th>ENTY</th>\n",
              "      <th>HUM</th>\n",
              "      <th>LOC</th>\n",
              "      <th>NUM</th>\n",
              "    </tr>\n",
              "  </thead>\n",
              "  <tbody>\n",
              "    <tr>\n",
              "      <th>0</th>\n",
              "      <td>1</td>\n",
              "      <td>Who is Genpact's CEO ?</td>\n",
              "      <td>HUM</td>\n",
              "      <td>HUM</td>\n",
              "      <td>2.144840e-03</td>\n",
              "      <td>0.000738</td>\n",
              "      <td>0.000003</td>\n",
              "      <td>0.996844</td>\n",
              "      <td>0.000040</td>\n",
              "      <td>0.000231</td>\n",
              "    </tr>\n",
              "    <tr>\n",
              "      <th>1</th>\n",
              "      <td>2</td>\n",
              "      <td>What was the diluted earnings per share for Ge...</td>\n",
              "      <td>NUM</td>\n",
              "      <td>NUM</td>\n",
              "      <td>3.358860e-07</td>\n",
              "      <td>0.000081</td>\n",
              "      <td>0.208753</td>\n",
              "      <td>0.090547</td>\n",
              "      <td>0.000074</td>\n",
              "      <td>0.700545</td>\n",
              "    </tr>\n",
              "    <tr>\n",
              "      <th>2</th>\n",
              "      <td>3</td>\n",
              "      <td>What was the final verdict in Pralipsa Rout vs...</td>\n",
              "      <td>DESC</td>\n",
              "      <td>DESC</td>\n",
              "      <td>3.685663e-04</td>\n",
              "      <td>0.829172</td>\n",
              "      <td>0.035295</td>\n",
              "      <td>0.000720</td>\n",
              "      <td>0.000011</td>\n",
              "      <td>0.134433</td>\n",
              "    </tr>\n",
              "    <tr>\n",
              "      <th>3</th>\n",
              "      <td>4</td>\n",
              "      <td>What is the court’s’ notice number that allows...</td>\n",
              "      <td>NUM</td>\n",
              "      <td>ENTY</td>\n",
              "      <td>3.143958e-05</td>\n",
              "      <td>0.150287</td>\n",
              "      <td>0.836988</td>\n",
              "      <td>0.000925</td>\n",
              "      <td>0.008959</td>\n",
              "      <td>0.002809</td>\n",
              "    </tr>\n",
              "    <tr>\n",
              "      <th>4</th>\n",
              "      <td>5</td>\n",
              "      <td>What are the components in the monthly gross s...</td>\n",
              "      <td>DESC/ENTY</td>\n",
              "      <td>NUM</td>\n",
              "      <td>1.023865e-06</td>\n",
              "      <td>0.005718</td>\n",
              "      <td>0.004760</td>\n",
              "      <td>0.000311</td>\n",
              "      <td>0.000025</td>\n",
              "      <td>0.989185</td>\n",
              "    </tr>\n",
              "  </tbody>\n",
              "</table>\n",
              "</div>"
            ],
            "text/plain": [
              "   S.No.                                           Question  ...       LOC       NUM\n",
              "0      1                             Who is Genpact's CEO ?  ...  0.000040  0.000231\n",
              "1      2  What was the diluted earnings per share for Ge...  ...  0.000074  0.700545\n",
              "2      3  What was the final verdict in Pralipsa Rout vs...  ...  0.000011  0.134433\n",
              "3      4  What is the court’s’ notice number that allows...  ...  0.008959  0.002809\n",
              "4      5  What are the components in the monthly gross s...  ...  0.000025  0.989185\n",
              "\n",
              "[5 rows x 10 columns]"
            ]
          },
          "metadata": {
            "tags": []
          },
          "execution_count": 104
        }
      ]
    },
    {
      "cell_type": "code",
      "metadata": {
        "id": "NCOFL7Bl5mig"
      },
      "source": [
        ""
      ],
      "execution_count": null,
      "outputs": []
    }
  ]
}