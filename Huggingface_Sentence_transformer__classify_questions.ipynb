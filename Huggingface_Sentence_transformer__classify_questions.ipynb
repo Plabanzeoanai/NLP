{
  "nbformat": 4,
  "nbformat_minor": 0,
  "metadata": {
    "colab": {
      "name": "Huggingface_Sentence_transformer_ classify_questions.ipynb",
      "provenance": [],
      "include_colab_link": true
    },
    "kernelspec": {
      "name": "python3",
      "display_name": "Python 3"
    },
    "language_info": {
      "name": "python"
    },
    "accelerator": "GPU",
    "widgets": {
      "application/vnd.jupyter.widget-state+json": {
        "2c9008972be34cb89530d63a1ab49385": {
          "model_module": "@jupyter-widgets/controls",
          "model_name": "HBoxModel",
          "state": {
            "_view_name": "HBoxView",
            "_dom_classes": [],
            "_model_name": "HBoxModel",
            "_view_module": "@jupyter-widgets/controls",
            "_model_module_version": "1.5.0",
            "_view_count": null,
            "_view_module_version": "1.5.0",
            "box_style": "",
            "layout": "IPY_MODEL_505bbd11077d482c9c33057e8c3ecf45",
            "_model_module": "@jupyter-widgets/controls",
            "children": [
              "IPY_MODEL_e56d26467e7746fbbf4b6b47e96a51a5",
              "IPY_MODEL_a376d47174674401b505a2674c85349b"
            ]
          }
        },
        "505bbd11077d482c9c33057e8c3ecf45": {
          "model_module": "@jupyter-widgets/base",
          "model_name": "LayoutModel",
          "state": {
            "_view_name": "LayoutView",
            "grid_template_rows": null,
            "right": null,
            "justify_content": null,
            "_view_module": "@jupyter-widgets/base",
            "overflow": null,
            "_model_module_version": "1.2.0",
            "_view_count": null,
            "flex_flow": null,
            "width": null,
            "min_width": null,
            "border": null,
            "align_items": null,
            "bottom": null,
            "_model_module": "@jupyter-widgets/base",
            "top": null,
            "grid_column": null,
            "overflow_y": null,
            "overflow_x": null,
            "grid_auto_flow": null,
            "grid_area": null,
            "grid_template_columns": null,
            "flex": null,
            "_model_name": "LayoutModel",
            "justify_items": null,
            "grid_row": null,
            "max_height": null,
            "align_content": null,
            "visibility": null,
            "align_self": null,
            "height": null,
            "min_height": null,
            "padding": null,
            "grid_auto_rows": null,
            "grid_gap": null,
            "max_width": null,
            "order": null,
            "_view_module_version": "1.2.0",
            "grid_template_areas": null,
            "object_position": null,
            "object_fit": null,
            "grid_auto_columns": null,
            "margin": null,
            "display": null,
            "left": null
          }
        },
        "e56d26467e7746fbbf4b6b47e96a51a5": {
          "model_module": "@jupyter-widgets/controls",
          "model_name": "FloatProgressModel",
          "state": {
            "_view_name": "ProgressView",
            "style": "IPY_MODEL_c343842a317f4208b98c1253ff2c66b2",
            "_dom_classes": [],
            "description": "Downloading: 100%",
            "_model_name": "FloatProgressModel",
            "bar_style": "success",
            "max": 690,
            "_view_module": "@jupyter-widgets/controls",
            "_model_module_version": "1.5.0",
            "value": 690,
            "_view_count": null,
            "_view_module_version": "1.5.0",
            "orientation": "horizontal",
            "min": 0,
            "description_tooltip": null,
            "_model_module": "@jupyter-widgets/controls",
            "layout": "IPY_MODEL_f42d1427734e433dafd53196f40d111b"
          }
        },
        "a376d47174674401b505a2674c85349b": {
          "model_module": "@jupyter-widgets/controls",
          "model_name": "HTMLModel",
          "state": {
            "_view_name": "HTMLView",
            "style": "IPY_MODEL_b959c2bb5c6a4f4ba6fbf6c084579b1f",
            "_dom_classes": [],
            "description": "",
            "_model_name": "HTMLModel",
            "placeholder": "​",
            "_view_module": "@jupyter-widgets/controls",
            "_model_module_version": "1.5.0",
            "value": " 690/690 [10:40&lt;00:00, 1.08B/s]",
            "_view_count": null,
            "_view_module_version": "1.5.0",
            "description_tooltip": null,
            "_model_module": "@jupyter-widgets/controls",
            "layout": "IPY_MODEL_47d8a053426041a4bc5d51f3501df28f"
          }
        },
        "c343842a317f4208b98c1253ff2c66b2": {
          "model_module": "@jupyter-widgets/controls",
          "model_name": "ProgressStyleModel",
          "state": {
            "_view_name": "StyleView",
            "_model_name": "ProgressStyleModel",
            "description_width": "initial",
            "_view_module": "@jupyter-widgets/base",
            "_model_module_version": "1.5.0",
            "_view_count": null,
            "_view_module_version": "1.2.0",
            "bar_color": null,
            "_model_module": "@jupyter-widgets/controls"
          }
        },
        "f42d1427734e433dafd53196f40d111b": {
          "model_module": "@jupyter-widgets/base",
          "model_name": "LayoutModel",
          "state": {
            "_view_name": "LayoutView",
            "grid_template_rows": null,
            "right": null,
            "justify_content": null,
            "_view_module": "@jupyter-widgets/base",
            "overflow": null,
            "_model_module_version": "1.2.0",
            "_view_count": null,
            "flex_flow": null,
            "width": null,
            "min_width": null,
            "border": null,
            "align_items": null,
            "bottom": null,
            "_model_module": "@jupyter-widgets/base",
            "top": null,
            "grid_column": null,
            "overflow_y": null,
            "overflow_x": null,
            "grid_auto_flow": null,
            "grid_area": null,
            "grid_template_columns": null,
            "flex": null,
            "_model_name": "LayoutModel",
            "justify_items": null,
            "grid_row": null,
            "max_height": null,
            "align_content": null,
            "visibility": null,
            "align_self": null,
            "height": null,
            "min_height": null,
            "padding": null,
            "grid_auto_rows": null,
            "grid_gap": null,
            "max_width": null,
            "order": null,
            "_view_module_version": "1.2.0",
            "grid_template_areas": null,
            "object_position": null,
            "object_fit": null,
            "grid_auto_columns": null,
            "margin": null,
            "display": null,
            "left": null
          }
        },
        "b959c2bb5c6a4f4ba6fbf6c084579b1f": {
          "model_module": "@jupyter-widgets/controls",
          "model_name": "DescriptionStyleModel",
          "state": {
            "_view_name": "StyleView",
            "_model_name": "DescriptionStyleModel",
            "description_width": "",
            "_view_module": "@jupyter-widgets/base",
            "_model_module_version": "1.5.0",
            "_view_count": null,
            "_view_module_version": "1.2.0",
            "_model_module": "@jupyter-widgets/controls"
          }
        },
        "47d8a053426041a4bc5d51f3501df28f": {
          "model_module": "@jupyter-widgets/base",
          "model_name": "LayoutModel",
          "state": {
            "_view_name": "LayoutView",
            "grid_template_rows": null,
            "right": null,
            "justify_content": null,
            "_view_module": "@jupyter-widgets/base",
            "overflow": null,
            "_model_module_version": "1.2.0",
            "_view_count": null,
            "flex_flow": null,
            "width": null,
            "min_width": null,
            "border": null,
            "align_items": null,
            "bottom": null,
            "_model_module": "@jupyter-widgets/base",
            "top": null,
            "grid_column": null,
            "overflow_y": null,
            "overflow_x": null,
            "grid_auto_flow": null,
            "grid_area": null,
            "grid_template_columns": null,
            "flex": null,
            "_model_name": "LayoutModel",
            "justify_items": null,
            "grid_row": null,
            "max_height": null,
            "align_content": null,
            "visibility": null,
            "align_self": null,
            "height": null,
            "min_height": null,
            "padding": null,
            "grid_auto_rows": null,
            "grid_gap": null,
            "max_width": null,
            "order": null,
            "_view_module_version": "1.2.0",
            "grid_template_areas": null,
            "object_position": null,
            "object_fit": null,
            "grid_auto_columns": null,
            "margin": null,
            "display": null,
            "left": null
          }
        },
        "51516e8772fa4369abe7de86dc048044": {
          "model_module": "@jupyter-widgets/controls",
          "model_name": "HBoxModel",
          "state": {
            "_view_name": "HBoxView",
            "_dom_classes": [],
            "_model_name": "HBoxModel",
            "_view_module": "@jupyter-widgets/controls",
            "_model_module_version": "1.5.0",
            "_view_count": null,
            "_view_module_version": "1.5.0",
            "box_style": "",
            "layout": "IPY_MODEL_fad8d2924b2648a986e6ccf5a7fa9a82",
            "_model_module": "@jupyter-widgets/controls",
            "children": [
              "IPY_MODEL_33f39444299e45d2b02a685fbb35ba28",
              "IPY_MODEL_abfe921a52874007af69bda47c415a7e"
            ]
          }
        },
        "fad8d2924b2648a986e6ccf5a7fa9a82": {
          "model_module": "@jupyter-widgets/base",
          "model_name": "LayoutModel",
          "state": {
            "_view_name": "LayoutView",
            "grid_template_rows": null,
            "right": null,
            "justify_content": null,
            "_view_module": "@jupyter-widgets/base",
            "overflow": null,
            "_model_module_version": "1.2.0",
            "_view_count": null,
            "flex_flow": null,
            "width": null,
            "min_width": null,
            "border": null,
            "align_items": null,
            "bottom": null,
            "_model_module": "@jupyter-widgets/base",
            "top": null,
            "grid_column": null,
            "overflow_y": null,
            "overflow_x": null,
            "grid_auto_flow": null,
            "grid_area": null,
            "grid_template_columns": null,
            "flex": null,
            "_model_name": "LayoutModel",
            "justify_items": null,
            "grid_row": null,
            "max_height": null,
            "align_content": null,
            "visibility": null,
            "align_self": null,
            "height": null,
            "min_height": null,
            "padding": null,
            "grid_auto_rows": null,
            "grid_gap": null,
            "max_width": null,
            "order": null,
            "_view_module_version": "1.2.0",
            "grid_template_areas": null,
            "object_position": null,
            "object_fit": null,
            "grid_auto_columns": null,
            "margin": null,
            "display": null,
            "left": null
          }
        },
        "33f39444299e45d2b02a685fbb35ba28": {
          "model_module": "@jupyter-widgets/controls",
          "model_name": "FloatProgressModel",
          "state": {
            "_view_name": "ProgressView",
            "style": "IPY_MODEL_24206042eac541a0a91d51becab78917",
            "_dom_classes": [],
            "description": "Downloading: 100%",
            "_model_name": "FloatProgressModel",
            "bar_style": "success",
            "max": 3968,
            "_view_module": "@jupyter-widgets/controls",
            "_model_module_version": "1.5.0",
            "value": 3968,
            "_view_count": null,
            "_view_module_version": "1.5.0",
            "orientation": "horizontal",
            "min": 0,
            "description_tooltip": null,
            "_model_module": "@jupyter-widgets/controls",
            "layout": "IPY_MODEL_5cd21df92df2440db2046bc854068fe3"
          }
        },
        "abfe921a52874007af69bda47c415a7e": {
          "model_module": "@jupyter-widgets/controls",
          "model_name": "HTMLModel",
          "state": {
            "_view_name": "HTMLView",
            "style": "IPY_MODEL_8e06a9b8ca914aacadccb4c197943b3f",
            "_dom_classes": [],
            "description": "",
            "_model_name": "HTMLModel",
            "placeholder": "​",
            "_view_module": "@jupyter-widgets/controls",
            "_model_module_version": "1.5.0",
            "value": " 3.97k/3.97k [00:00&lt;00:00, 5.25kB/s]",
            "_view_count": null,
            "_view_module_version": "1.5.0",
            "description_tooltip": null,
            "_model_module": "@jupyter-widgets/controls",
            "layout": "IPY_MODEL_436db7e383b44cacb58fc969504bc384"
          }
        },
        "24206042eac541a0a91d51becab78917": {
          "model_module": "@jupyter-widgets/controls",
          "model_name": "ProgressStyleModel",
          "state": {
            "_view_name": "StyleView",
            "_model_name": "ProgressStyleModel",
            "description_width": "initial",
            "_view_module": "@jupyter-widgets/base",
            "_model_module_version": "1.5.0",
            "_view_count": null,
            "_view_module_version": "1.2.0",
            "bar_color": null,
            "_model_module": "@jupyter-widgets/controls"
          }
        },
        "5cd21df92df2440db2046bc854068fe3": {
          "model_module": "@jupyter-widgets/base",
          "model_name": "LayoutModel",
          "state": {
            "_view_name": "LayoutView",
            "grid_template_rows": null,
            "right": null,
            "justify_content": null,
            "_view_module": "@jupyter-widgets/base",
            "overflow": null,
            "_model_module_version": "1.2.0",
            "_view_count": null,
            "flex_flow": null,
            "width": null,
            "min_width": null,
            "border": null,
            "align_items": null,
            "bottom": null,
            "_model_module": "@jupyter-widgets/base",
            "top": null,
            "grid_column": null,
            "overflow_y": null,
            "overflow_x": null,
            "grid_auto_flow": null,
            "grid_area": null,
            "grid_template_columns": null,
            "flex": null,
            "_model_name": "LayoutModel",
            "justify_items": null,
            "grid_row": null,
            "max_height": null,
            "align_content": null,
            "visibility": null,
            "align_self": null,
            "height": null,
            "min_height": null,
            "padding": null,
            "grid_auto_rows": null,
            "grid_gap": null,
            "max_width": null,
            "order": null,
            "_view_module_version": "1.2.0",
            "grid_template_areas": null,
            "object_position": null,
            "object_fit": null,
            "grid_auto_columns": null,
            "margin": null,
            "display": null,
            "left": null
          }
        },
        "8e06a9b8ca914aacadccb4c197943b3f": {
          "model_module": "@jupyter-widgets/controls",
          "model_name": "DescriptionStyleModel",
          "state": {
            "_view_name": "StyleView",
            "_model_name": "DescriptionStyleModel",
            "description_width": "",
            "_view_module": "@jupyter-widgets/base",
            "_model_module_version": "1.5.0",
            "_view_count": null,
            "_view_module_version": "1.2.0",
            "_model_module": "@jupyter-widgets/controls"
          }
        },
        "436db7e383b44cacb58fc969504bc384": {
          "model_module": "@jupyter-widgets/base",
          "model_name": "LayoutModel",
          "state": {
            "_view_name": "LayoutView",
            "grid_template_rows": null,
            "right": null,
            "justify_content": null,
            "_view_module": "@jupyter-widgets/base",
            "overflow": null,
            "_model_module_version": "1.2.0",
            "_view_count": null,
            "flex_flow": null,
            "width": null,
            "min_width": null,
            "border": null,
            "align_items": null,
            "bottom": null,
            "_model_module": "@jupyter-widgets/base",
            "top": null,
            "grid_column": null,
            "overflow_y": null,
            "overflow_x": null,
            "grid_auto_flow": null,
            "grid_area": null,
            "grid_template_columns": null,
            "flex": null,
            "_model_name": "LayoutModel",
            "justify_items": null,
            "grid_row": null,
            "max_height": null,
            "align_content": null,
            "visibility": null,
            "align_self": null,
            "height": null,
            "min_height": null,
            "padding": null,
            "grid_auto_rows": null,
            "grid_gap": null,
            "max_width": null,
            "order": null,
            "_view_module_version": "1.2.0",
            "grid_template_areas": null,
            "object_position": null,
            "object_fit": null,
            "grid_auto_columns": null,
            "margin": null,
            "display": null,
            "left": null
          }
        },
        "696495e4f1be4d2484fb010e6ae5882b": {
          "model_module": "@jupyter-widgets/controls",
          "model_name": "HBoxModel",
          "state": {
            "_view_name": "HBoxView",
            "_dom_classes": [],
            "_model_name": "HBoxModel",
            "_view_module": "@jupyter-widgets/controls",
            "_model_module_version": "1.5.0",
            "_view_count": null,
            "_view_module_version": "1.5.0",
            "box_style": "",
            "layout": "IPY_MODEL_87ce5a8d9d8d41809e94a098b4be03ba",
            "_model_module": "@jupyter-widgets/controls",
            "children": [
              "IPY_MODEL_30a00574d3fd45269bda27fdb20bde65",
              "IPY_MODEL_9aecfb8da7784aac87d7d92bbf707dbe"
            ]
          }
        },
        "87ce5a8d9d8d41809e94a098b4be03ba": {
          "model_module": "@jupyter-widgets/base",
          "model_name": "LayoutModel",
          "state": {
            "_view_name": "LayoutView",
            "grid_template_rows": null,
            "right": null,
            "justify_content": null,
            "_view_module": "@jupyter-widgets/base",
            "overflow": null,
            "_model_module_version": "1.2.0",
            "_view_count": null,
            "flex_flow": null,
            "width": null,
            "min_width": null,
            "border": null,
            "align_items": null,
            "bottom": null,
            "_model_module": "@jupyter-widgets/base",
            "top": null,
            "grid_column": null,
            "overflow_y": null,
            "overflow_x": null,
            "grid_auto_flow": null,
            "grid_area": null,
            "grid_template_columns": null,
            "flex": null,
            "_model_name": "LayoutModel",
            "justify_items": null,
            "grid_row": null,
            "max_height": null,
            "align_content": null,
            "visibility": null,
            "align_self": null,
            "height": null,
            "min_height": null,
            "padding": null,
            "grid_auto_rows": null,
            "grid_gap": null,
            "max_width": null,
            "order": null,
            "_view_module_version": "1.2.0",
            "grid_template_areas": null,
            "object_position": null,
            "object_fit": null,
            "grid_auto_columns": null,
            "margin": null,
            "display": null,
            "left": null
          }
        },
        "30a00574d3fd45269bda27fdb20bde65": {
          "model_module": "@jupyter-widgets/controls",
          "model_name": "FloatProgressModel",
          "state": {
            "_view_name": "ProgressView",
            "style": "IPY_MODEL_9f1c236913fd4588b5243fbd6a5bd273",
            "_dom_classes": [],
            "description": "Downloading: 100%",
            "_model_name": "FloatProgressModel",
            "bar_style": "success",
            "max": 550,
            "_view_module": "@jupyter-widgets/controls",
            "_model_module_version": "1.5.0",
            "value": 550,
            "_view_count": null,
            "_view_module_version": "1.5.0",
            "orientation": "horizontal",
            "min": 0,
            "description_tooltip": null,
            "_model_module": "@jupyter-widgets/controls",
            "layout": "IPY_MODEL_c3d212dfb4674ede9cb14cff3635ab36"
          }
        },
        "9aecfb8da7784aac87d7d92bbf707dbe": {
          "model_module": "@jupyter-widgets/controls",
          "model_name": "HTMLModel",
          "state": {
            "_view_name": "HTMLView",
            "style": "IPY_MODEL_6283bffeb0a4413f9cf256975d950170",
            "_dom_classes": [],
            "description": "",
            "_model_name": "HTMLModel",
            "placeholder": "​",
            "_view_module": "@jupyter-widgets/controls",
            "_model_module_version": "1.5.0",
            "value": " 550/550 [00:24&lt;00:00, 22.3B/s]",
            "_view_count": null,
            "_view_module_version": "1.5.0",
            "description_tooltip": null,
            "_model_module": "@jupyter-widgets/controls",
            "layout": "IPY_MODEL_ed77f4ccc1f14fe6826006fc2e781a21"
          }
        },
        "9f1c236913fd4588b5243fbd6a5bd273": {
          "model_module": "@jupyter-widgets/controls",
          "model_name": "ProgressStyleModel",
          "state": {
            "_view_name": "StyleView",
            "_model_name": "ProgressStyleModel",
            "description_width": "initial",
            "_view_module": "@jupyter-widgets/base",
            "_model_module_version": "1.5.0",
            "_view_count": null,
            "_view_module_version": "1.2.0",
            "bar_color": null,
            "_model_module": "@jupyter-widgets/controls"
          }
        },
        "c3d212dfb4674ede9cb14cff3635ab36": {
          "model_module": "@jupyter-widgets/base",
          "model_name": "LayoutModel",
          "state": {
            "_view_name": "LayoutView",
            "grid_template_rows": null,
            "right": null,
            "justify_content": null,
            "_view_module": "@jupyter-widgets/base",
            "overflow": null,
            "_model_module_version": "1.2.0",
            "_view_count": null,
            "flex_flow": null,
            "width": null,
            "min_width": null,
            "border": null,
            "align_items": null,
            "bottom": null,
            "_model_module": "@jupyter-widgets/base",
            "top": null,
            "grid_column": null,
            "overflow_y": null,
            "overflow_x": null,
            "grid_auto_flow": null,
            "grid_area": null,
            "grid_template_columns": null,
            "flex": null,
            "_model_name": "LayoutModel",
            "justify_items": null,
            "grid_row": null,
            "max_height": null,
            "align_content": null,
            "visibility": null,
            "align_self": null,
            "height": null,
            "min_height": null,
            "padding": null,
            "grid_auto_rows": null,
            "grid_gap": null,
            "max_width": null,
            "order": null,
            "_view_module_version": "1.2.0",
            "grid_template_areas": null,
            "object_position": null,
            "object_fit": null,
            "grid_auto_columns": null,
            "margin": null,
            "display": null,
            "left": null
          }
        },
        "6283bffeb0a4413f9cf256975d950170": {
          "model_module": "@jupyter-widgets/controls",
          "model_name": "DescriptionStyleModel",
          "state": {
            "_view_name": "StyleView",
            "_model_name": "DescriptionStyleModel",
            "description_width": "",
            "_view_module": "@jupyter-widgets/base",
            "_model_module_version": "1.5.0",
            "_view_count": null,
            "_view_module_version": "1.2.0",
            "_model_module": "@jupyter-widgets/controls"
          }
        },
        "ed77f4ccc1f14fe6826006fc2e781a21": {
          "model_module": "@jupyter-widgets/base",
          "model_name": "LayoutModel",
          "state": {
            "_view_name": "LayoutView",
            "grid_template_rows": null,
            "right": null,
            "justify_content": null,
            "_view_module": "@jupyter-widgets/base",
            "overflow": null,
            "_model_module_version": "1.2.0",
            "_view_count": null,
            "flex_flow": null,
            "width": null,
            "min_width": null,
            "border": null,
            "align_items": null,
            "bottom": null,
            "_model_module": "@jupyter-widgets/base",
            "top": null,
            "grid_column": null,
            "overflow_y": null,
            "overflow_x": null,
            "grid_auto_flow": null,
            "grid_area": null,
            "grid_template_columns": null,
            "flex": null,
            "_model_name": "LayoutModel",
            "justify_items": null,
            "grid_row": null,
            "max_height": null,
            "align_content": null,
            "visibility": null,
            "align_self": null,
            "height": null,
            "min_height": null,
            "padding": null,
            "grid_auto_rows": null,
            "grid_gap": null,
            "max_width": null,
            "order": null,
            "_view_module_version": "1.2.0",
            "grid_template_areas": null,
            "object_position": null,
            "object_fit": null,
            "grid_auto_columns": null,
            "margin": null,
            "display": null,
            "left": null
          }
        },
        "4c16935def6f4906af840d44cf4ed314": {
          "model_module": "@jupyter-widgets/controls",
          "model_name": "HBoxModel",
          "state": {
            "_view_name": "HBoxView",
            "_dom_classes": [],
            "_model_name": "HBoxModel",
            "_view_module": "@jupyter-widgets/controls",
            "_model_module_version": "1.5.0",
            "_view_count": null,
            "_view_module_version": "1.5.0",
            "box_style": "",
            "layout": "IPY_MODEL_814aa0ac0e9b435fb0c30867fb8b243e",
            "_model_module": "@jupyter-widgets/controls",
            "children": [
              "IPY_MODEL_2aef6d8bf1ad42b889388413fa6f0990",
              "IPY_MODEL_c7ef8510d7f2475fbbcbc3d364fab74e"
            ]
          }
        },
        "814aa0ac0e9b435fb0c30867fb8b243e": {
          "model_module": "@jupyter-widgets/base",
          "model_name": "LayoutModel",
          "state": {
            "_view_name": "LayoutView",
            "grid_template_rows": null,
            "right": null,
            "justify_content": null,
            "_view_module": "@jupyter-widgets/base",
            "overflow": null,
            "_model_module_version": "1.2.0",
            "_view_count": null,
            "flex_flow": null,
            "width": null,
            "min_width": null,
            "border": null,
            "align_items": null,
            "bottom": null,
            "_model_module": "@jupyter-widgets/base",
            "top": null,
            "grid_column": null,
            "overflow_y": null,
            "overflow_x": null,
            "grid_auto_flow": null,
            "grid_area": null,
            "grid_template_columns": null,
            "flex": null,
            "_model_name": "LayoutModel",
            "justify_items": null,
            "grid_row": null,
            "max_height": null,
            "align_content": null,
            "visibility": null,
            "align_self": null,
            "height": null,
            "min_height": null,
            "padding": null,
            "grid_auto_rows": null,
            "grid_gap": null,
            "max_width": null,
            "order": null,
            "_view_module_version": "1.2.0",
            "grid_template_areas": null,
            "object_position": null,
            "object_fit": null,
            "grid_auto_columns": null,
            "margin": null,
            "display": null,
            "left": null
          }
        },
        "2aef6d8bf1ad42b889388413fa6f0990": {
          "model_module": "@jupyter-widgets/controls",
          "model_name": "FloatProgressModel",
          "state": {
            "_view_name": "ProgressView",
            "style": "IPY_MODEL_39f56454ca4b4b5eb42337ec5aba4494",
            "_dom_classes": [],
            "description": "Downloading: 100%",
            "_model_name": "FloatProgressModel",
            "bar_style": "success",
            "max": 122,
            "_view_module": "@jupyter-widgets/controls",
            "_model_module_version": "1.5.0",
            "value": 122,
            "_view_count": null,
            "_view_module_version": "1.5.0",
            "orientation": "horizontal",
            "min": 0,
            "description_tooltip": null,
            "_model_module": "@jupyter-widgets/controls",
            "layout": "IPY_MODEL_b734b04b1d2e4982a4bd5a51576b3a5d"
          }
        },
        "c7ef8510d7f2475fbbcbc3d364fab74e": {
          "model_module": "@jupyter-widgets/controls",
          "model_name": "HTMLModel",
          "state": {
            "_view_name": "HTMLView",
            "style": "IPY_MODEL_2dfed9fba9164c9884a2af94bcfe4715",
            "_dom_classes": [],
            "description": "",
            "_model_name": "HTMLModel",
            "placeholder": "​",
            "_view_module": "@jupyter-widgets/controls",
            "_model_module_version": "1.5.0",
            "value": " 122/122 [00:01&lt;00:00, 93.4B/s]",
            "_view_count": null,
            "_view_module_version": "1.5.0",
            "description_tooltip": null,
            "_model_module": "@jupyter-widgets/controls",
            "layout": "IPY_MODEL_9a81c84bf947404da0209e902dba4d7d"
          }
        },
        "39f56454ca4b4b5eb42337ec5aba4494": {
          "model_module": "@jupyter-widgets/controls",
          "model_name": "ProgressStyleModel",
          "state": {
            "_view_name": "StyleView",
            "_model_name": "ProgressStyleModel",
            "description_width": "initial",
            "_view_module": "@jupyter-widgets/base",
            "_model_module_version": "1.5.0",
            "_view_count": null,
            "_view_module_version": "1.2.0",
            "bar_color": null,
            "_model_module": "@jupyter-widgets/controls"
          }
        },
        "b734b04b1d2e4982a4bd5a51576b3a5d": {
          "model_module": "@jupyter-widgets/base",
          "model_name": "LayoutModel",
          "state": {
            "_view_name": "LayoutView",
            "grid_template_rows": null,
            "right": null,
            "justify_content": null,
            "_view_module": "@jupyter-widgets/base",
            "overflow": null,
            "_model_module_version": "1.2.0",
            "_view_count": null,
            "flex_flow": null,
            "width": null,
            "min_width": null,
            "border": null,
            "align_items": null,
            "bottom": null,
            "_model_module": "@jupyter-widgets/base",
            "top": null,
            "grid_column": null,
            "overflow_y": null,
            "overflow_x": null,
            "grid_auto_flow": null,
            "grid_area": null,
            "grid_template_columns": null,
            "flex": null,
            "_model_name": "LayoutModel",
            "justify_items": null,
            "grid_row": null,
            "max_height": null,
            "align_content": null,
            "visibility": null,
            "align_self": null,
            "height": null,
            "min_height": null,
            "padding": null,
            "grid_auto_rows": null,
            "grid_gap": null,
            "max_width": null,
            "order": null,
            "_view_module_version": "1.2.0",
            "grid_template_areas": null,
            "object_position": null,
            "object_fit": null,
            "grid_auto_columns": null,
            "margin": null,
            "display": null,
            "left": null
          }
        },
        "2dfed9fba9164c9884a2af94bcfe4715": {
          "model_module": "@jupyter-widgets/controls",
          "model_name": "DescriptionStyleModel",
          "state": {
            "_view_name": "StyleView",
            "_model_name": "DescriptionStyleModel",
            "description_width": "",
            "_view_module": "@jupyter-widgets/base",
            "_model_module_version": "1.5.0",
            "_view_count": null,
            "_view_module_version": "1.2.0",
            "_model_module": "@jupyter-widgets/controls"
          }
        },
        "9a81c84bf947404da0209e902dba4d7d": {
          "model_module": "@jupyter-widgets/base",
          "model_name": "LayoutModel",
          "state": {
            "_view_name": "LayoutView",
            "grid_template_rows": null,
            "right": null,
            "justify_content": null,
            "_view_module": "@jupyter-widgets/base",
            "overflow": null,
            "_model_module_version": "1.2.0",
            "_view_count": null,
            "flex_flow": null,
            "width": null,
            "min_width": null,
            "border": null,
            "align_items": null,
            "bottom": null,
            "_model_module": "@jupyter-widgets/base",
            "top": null,
            "grid_column": null,
            "overflow_y": null,
            "overflow_x": null,
            "grid_auto_flow": null,
            "grid_area": null,
            "grid_template_columns": null,
            "flex": null,
            "_model_name": "LayoutModel",
            "justify_items": null,
            "grid_row": null,
            "max_height": null,
            "align_content": null,
            "visibility": null,
            "align_self": null,
            "height": null,
            "min_height": null,
            "padding": null,
            "grid_auto_rows": null,
            "grid_gap": null,
            "max_width": null,
            "order": null,
            "_view_module_version": "1.2.0",
            "grid_template_areas": null,
            "object_position": null,
            "object_fit": null,
            "grid_auto_columns": null,
            "margin": null,
            "display": null,
            "left": null
          }
        },
        "9f01b170c0d14b42b8d45a308aaf51b9": {
          "model_module": "@jupyter-widgets/controls",
          "model_name": "HBoxModel",
          "state": {
            "_view_name": "HBoxView",
            "_dom_classes": [],
            "_model_name": "HBoxModel",
            "_view_module": "@jupyter-widgets/controls",
            "_model_module_version": "1.5.0",
            "_view_count": null,
            "_view_module_version": "1.5.0",
            "box_style": "",
            "layout": "IPY_MODEL_db8a0377d9204d79952aacd040d50a5f",
            "_model_module": "@jupyter-widgets/controls",
            "children": [
              "IPY_MODEL_466c1a5ef39d4e598bef1cdbc80862ef",
              "IPY_MODEL_76956580609c4e1e9ad602aecb4ef1d7"
            ]
          }
        },
        "db8a0377d9204d79952aacd040d50a5f": {
          "model_module": "@jupyter-widgets/base",
          "model_name": "LayoutModel",
          "state": {
            "_view_name": "LayoutView",
            "grid_template_rows": null,
            "right": null,
            "justify_content": null,
            "_view_module": "@jupyter-widgets/base",
            "overflow": null,
            "_model_module_version": "1.2.0",
            "_view_count": null,
            "flex_flow": null,
            "width": null,
            "min_width": null,
            "border": null,
            "align_items": null,
            "bottom": null,
            "_model_module": "@jupyter-widgets/base",
            "top": null,
            "grid_column": null,
            "overflow_y": null,
            "overflow_x": null,
            "grid_auto_flow": null,
            "grid_area": null,
            "grid_template_columns": null,
            "flex": null,
            "_model_name": "LayoutModel",
            "justify_items": null,
            "grid_row": null,
            "max_height": null,
            "align_content": null,
            "visibility": null,
            "align_self": null,
            "height": null,
            "min_height": null,
            "padding": null,
            "grid_auto_rows": null,
            "grid_gap": null,
            "max_width": null,
            "order": null,
            "_view_module_version": "1.2.0",
            "grid_template_areas": null,
            "object_position": null,
            "object_fit": null,
            "grid_auto_columns": null,
            "margin": null,
            "display": null,
            "left": null
          }
        },
        "466c1a5ef39d4e598bef1cdbc80862ef": {
          "model_module": "@jupyter-widgets/controls",
          "model_name": "FloatProgressModel",
          "state": {
            "_view_name": "ProgressView",
            "style": "IPY_MODEL_48b7863c13bf4c8ea5cccd1abd03f62d",
            "_dom_classes": [],
            "description": "Downloading: 100%",
            "_model_name": "FloatProgressModel",
            "bar_style": "success",
            "max": 229,
            "_view_module": "@jupyter-widgets/controls",
            "_model_module_version": "1.5.0",
            "value": 229,
            "_view_count": null,
            "_view_module_version": "1.5.0",
            "orientation": "horizontal",
            "min": 0,
            "description_tooltip": null,
            "_model_module": "@jupyter-widgets/controls",
            "layout": "IPY_MODEL_f94de275064745eb81e3655a449c90e4"
          }
        },
        "76956580609c4e1e9ad602aecb4ef1d7": {
          "model_module": "@jupyter-widgets/controls",
          "model_name": "HTMLModel",
          "state": {
            "_view_name": "HTMLView",
            "style": "IPY_MODEL_548ce03383a84f90a4a63d4d889c8ad0",
            "_dom_classes": [],
            "description": "",
            "_model_name": "HTMLModel",
            "placeholder": "​",
            "_view_module": "@jupyter-widgets/controls",
            "_model_module_version": "1.5.0",
            "value": " 229/229 [00:00&lt;00:00, 410B/s]",
            "_view_count": null,
            "_view_module_version": "1.5.0",
            "description_tooltip": null,
            "_model_module": "@jupyter-widgets/controls",
            "layout": "IPY_MODEL_a0a56d20494d4e919a0881b22bcc746a"
          }
        },
        "48b7863c13bf4c8ea5cccd1abd03f62d": {
          "model_module": "@jupyter-widgets/controls",
          "model_name": "ProgressStyleModel",
          "state": {
            "_view_name": "StyleView",
            "_model_name": "ProgressStyleModel",
            "description_width": "initial",
            "_view_module": "@jupyter-widgets/base",
            "_model_module_version": "1.5.0",
            "_view_count": null,
            "_view_module_version": "1.2.0",
            "bar_color": null,
            "_model_module": "@jupyter-widgets/controls"
          }
        },
        "f94de275064745eb81e3655a449c90e4": {
          "model_module": "@jupyter-widgets/base",
          "model_name": "LayoutModel",
          "state": {
            "_view_name": "LayoutView",
            "grid_template_rows": null,
            "right": null,
            "justify_content": null,
            "_view_module": "@jupyter-widgets/base",
            "overflow": null,
            "_model_module_version": "1.2.0",
            "_view_count": null,
            "flex_flow": null,
            "width": null,
            "min_width": null,
            "border": null,
            "align_items": null,
            "bottom": null,
            "_model_module": "@jupyter-widgets/base",
            "top": null,
            "grid_column": null,
            "overflow_y": null,
            "overflow_x": null,
            "grid_auto_flow": null,
            "grid_area": null,
            "grid_template_columns": null,
            "flex": null,
            "_model_name": "LayoutModel",
            "justify_items": null,
            "grid_row": null,
            "max_height": null,
            "align_content": null,
            "visibility": null,
            "align_self": null,
            "height": null,
            "min_height": null,
            "padding": null,
            "grid_auto_rows": null,
            "grid_gap": null,
            "max_width": null,
            "order": null,
            "_view_module_version": "1.2.0",
            "grid_template_areas": null,
            "object_position": null,
            "object_fit": null,
            "grid_auto_columns": null,
            "margin": null,
            "display": null,
            "left": null
          }
        },
        "548ce03383a84f90a4a63d4d889c8ad0": {
          "model_module": "@jupyter-widgets/controls",
          "model_name": "DescriptionStyleModel",
          "state": {
            "_view_name": "StyleView",
            "_model_name": "DescriptionStyleModel",
            "description_width": "",
            "_view_module": "@jupyter-widgets/base",
            "_model_module_version": "1.5.0",
            "_view_count": null,
            "_view_module_version": "1.2.0",
            "_model_module": "@jupyter-widgets/controls"
          }
        },
        "a0a56d20494d4e919a0881b22bcc746a": {
          "model_module": "@jupyter-widgets/base",
          "model_name": "LayoutModel",
          "state": {
            "_view_name": "LayoutView",
            "grid_template_rows": null,
            "right": null,
            "justify_content": null,
            "_view_module": "@jupyter-widgets/base",
            "overflow": null,
            "_model_module_version": "1.2.0",
            "_view_count": null,
            "flex_flow": null,
            "width": null,
            "min_width": null,
            "border": null,
            "align_items": null,
            "bottom": null,
            "_model_module": "@jupyter-widgets/base",
            "top": null,
            "grid_column": null,
            "overflow_y": null,
            "overflow_x": null,
            "grid_auto_flow": null,
            "grid_area": null,
            "grid_template_columns": null,
            "flex": null,
            "_model_name": "LayoutModel",
            "justify_items": null,
            "grid_row": null,
            "max_height": null,
            "align_content": null,
            "visibility": null,
            "align_self": null,
            "height": null,
            "min_height": null,
            "padding": null,
            "grid_auto_rows": null,
            "grid_gap": null,
            "max_width": null,
            "order": null,
            "_view_module_version": "1.2.0",
            "grid_template_areas": null,
            "object_position": null,
            "object_fit": null,
            "grid_auto_columns": null,
            "margin": null,
            "display": null,
            "left": null
          }
        },
        "419b087a200b40c8b456ea4d7800d0b0": {
          "model_module": "@jupyter-widgets/controls",
          "model_name": "HBoxModel",
          "state": {
            "_view_name": "HBoxView",
            "_dom_classes": [],
            "_model_name": "HBoxModel",
            "_view_module": "@jupyter-widgets/controls",
            "_model_module_version": "1.5.0",
            "_view_count": null,
            "_view_module_version": "1.5.0",
            "box_style": "",
            "layout": "IPY_MODEL_15482abed8674533984da1e6d6d71512",
            "_model_module": "@jupyter-widgets/controls",
            "children": [
              "IPY_MODEL_4d49005273ba4082a90fe3d3cc63438e",
              "IPY_MODEL_3ad294ff965e4780884b0c58ccfa5e8e"
            ]
          }
        },
        "15482abed8674533984da1e6d6d71512": {
          "model_module": "@jupyter-widgets/base",
          "model_name": "LayoutModel",
          "state": {
            "_view_name": "LayoutView",
            "grid_template_rows": null,
            "right": null,
            "justify_content": null,
            "_view_module": "@jupyter-widgets/base",
            "overflow": null,
            "_model_module_version": "1.2.0",
            "_view_count": null,
            "flex_flow": null,
            "width": null,
            "min_width": null,
            "border": null,
            "align_items": null,
            "bottom": null,
            "_model_module": "@jupyter-widgets/base",
            "top": null,
            "grid_column": null,
            "overflow_y": null,
            "overflow_x": null,
            "grid_auto_flow": null,
            "grid_area": null,
            "grid_template_columns": null,
            "flex": null,
            "_model_name": "LayoutModel",
            "justify_items": null,
            "grid_row": null,
            "max_height": null,
            "align_content": null,
            "visibility": null,
            "align_self": null,
            "height": null,
            "min_height": null,
            "padding": null,
            "grid_auto_rows": null,
            "grid_gap": null,
            "max_width": null,
            "order": null,
            "_view_module_version": "1.2.0",
            "grid_template_areas": null,
            "object_position": null,
            "object_fit": null,
            "grid_auto_columns": null,
            "margin": null,
            "display": null,
            "left": null
          }
        },
        "4d49005273ba4082a90fe3d3cc63438e": {
          "model_module": "@jupyter-widgets/controls",
          "model_name": "FloatProgressModel",
          "state": {
            "_view_name": "ProgressView",
            "style": "IPY_MODEL_c73d8636308c41069f189a36b8f7264e",
            "_dom_classes": [],
            "description": "Downloading: 100%",
            "_model_name": "FloatProgressModel",
            "bar_style": "success",
            "max": 265486777,
            "_view_module": "@jupyter-widgets/controls",
            "_model_module_version": "1.5.0",
            "value": 265486777,
            "_view_count": null,
            "_view_module_version": "1.5.0",
            "orientation": "horizontal",
            "min": 0,
            "description_tooltip": null,
            "_model_module": "@jupyter-widgets/controls",
            "layout": "IPY_MODEL_da36d392d4c84d58b984a7cab10b936e"
          }
        },
        "3ad294ff965e4780884b0c58ccfa5e8e": {
          "model_module": "@jupyter-widgets/controls",
          "model_name": "HTMLModel",
          "state": {
            "_view_name": "HTMLView",
            "style": "IPY_MODEL_bda13c9d892542fd9366f1f8af4998ef",
            "_dom_classes": [],
            "description": "",
            "_model_name": "HTMLModel",
            "placeholder": "​",
            "_view_module": "@jupyter-widgets/controls",
            "_model_module_version": "1.5.0",
            "value": " 265M/265M [00:22&lt;00:00, 11.7MB/s]",
            "_view_count": null,
            "_view_module_version": "1.5.0",
            "description_tooltip": null,
            "_model_module": "@jupyter-widgets/controls",
            "layout": "IPY_MODEL_64e12ddc908b41e9b138d2b798ee18dc"
          }
        },
        "c73d8636308c41069f189a36b8f7264e": {
          "model_module": "@jupyter-widgets/controls",
          "model_name": "ProgressStyleModel",
          "state": {
            "_view_name": "StyleView",
            "_model_name": "ProgressStyleModel",
            "description_width": "initial",
            "_view_module": "@jupyter-widgets/base",
            "_model_module_version": "1.5.0",
            "_view_count": null,
            "_view_module_version": "1.2.0",
            "bar_color": null,
            "_model_module": "@jupyter-widgets/controls"
          }
        },
        "da36d392d4c84d58b984a7cab10b936e": {
          "model_module": "@jupyter-widgets/base",
          "model_name": "LayoutModel",
          "state": {
            "_view_name": "LayoutView",
            "grid_template_rows": null,
            "right": null,
            "justify_content": null,
            "_view_module": "@jupyter-widgets/base",
            "overflow": null,
            "_model_module_version": "1.2.0",
            "_view_count": null,
            "flex_flow": null,
            "width": null,
            "min_width": null,
            "border": null,
            "align_items": null,
            "bottom": null,
            "_model_module": "@jupyter-widgets/base",
            "top": null,
            "grid_column": null,
            "overflow_y": null,
            "overflow_x": null,
            "grid_auto_flow": null,
            "grid_area": null,
            "grid_template_columns": null,
            "flex": null,
            "_model_name": "LayoutModel",
            "justify_items": null,
            "grid_row": null,
            "max_height": null,
            "align_content": null,
            "visibility": null,
            "align_self": null,
            "height": null,
            "min_height": null,
            "padding": null,
            "grid_auto_rows": null,
            "grid_gap": null,
            "max_width": null,
            "order": null,
            "_view_module_version": "1.2.0",
            "grid_template_areas": null,
            "object_position": null,
            "object_fit": null,
            "grid_auto_columns": null,
            "margin": null,
            "display": null,
            "left": null
          }
        },
        "bda13c9d892542fd9366f1f8af4998ef": {
          "model_module": "@jupyter-widgets/controls",
          "model_name": "DescriptionStyleModel",
          "state": {
            "_view_name": "StyleView",
            "_model_name": "DescriptionStyleModel",
            "description_width": "",
            "_view_module": "@jupyter-widgets/base",
            "_model_module_version": "1.5.0",
            "_view_count": null,
            "_view_module_version": "1.2.0",
            "_model_module": "@jupyter-widgets/controls"
          }
        },
        "64e12ddc908b41e9b138d2b798ee18dc": {
          "model_module": "@jupyter-widgets/base",
          "model_name": "LayoutModel",
          "state": {
            "_view_name": "LayoutView",
            "grid_template_rows": null,
            "right": null,
            "justify_content": null,
            "_view_module": "@jupyter-widgets/base",
            "overflow": null,
            "_model_module_version": "1.2.0",
            "_view_count": null,
            "flex_flow": null,
            "width": null,
            "min_width": null,
            "border": null,
            "align_items": null,
            "bottom": null,
            "_model_module": "@jupyter-widgets/base",
            "top": null,
            "grid_column": null,
            "overflow_y": null,
            "overflow_x": null,
            "grid_auto_flow": null,
            "grid_area": null,
            "grid_template_columns": null,
            "flex": null,
            "_model_name": "LayoutModel",
            "justify_items": null,
            "grid_row": null,
            "max_height": null,
            "align_content": null,
            "visibility": null,
            "align_self": null,
            "height": null,
            "min_height": null,
            "padding": null,
            "grid_auto_rows": null,
            "grid_gap": null,
            "max_width": null,
            "order": null,
            "_view_module_version": "1.2.0",
            "grid_template_areas": null,
            "object_position": null,
            "object_fit": null,
            "grid_auto_columns": null,
            "margin": null,
            "display": null,
            "left": null
          }
        },
        "7bb1add0f0e04e26ba0ada1f350bb30d": {
          "model_module": "@jupyter-widgets/controls",
          "model_name": "HBoxModel",
          "state": {
            "_view_name": "HBoxView",
            "_dom_classes": [],
            "_model_name": "HBoxModel",
            "_view_module": "@jupyter-widgets/controls",
            "_model_module_version": "1.5.0",
            "_view_count": null,
            "_view_module_version": "1.5.0",
            "box_style": "",
            "layout": "IPY_MODEL_098b937dd55c49fcaf32ca5475592b05",
            "_model_module": "@jupyter-widgets/controls",
            "children": [
              "IPY_MODEL_55f4d675f983419e84731fc7459dc3d9",
              "IPY_MODEL_e3f5d205292b4dae86f0c314cddf0e5d"
            ]
          }
        },
        "098b937dd55c49fcaf32ca5475592b05": {
          "model_module": "@jupyter-widgets/base",
          "model_name": "LayoutModel",
          "state": {
            "_view_name": "LayoutView",
            "grid_template_rows": null,
            "right": null,
            "justify_content": null,
            "_view_module": "@jupyter-widgets/base",
            "overflow": null,
            "_model_module_version": "1.2.0",
            "_view_count": null,
            "flex_flow": null,
            "width": null,
            "min_width": null,
            "border": null,
            "align_items": null,
            "bottom": null,
            "_model_module": "@jupyter-widgets/base",
            "top": null,
            "grid_column": null,
            "overflow_y": null,
            "overflow_x": null,
            "grid_auto_flow": null,
            "grid_area": null,
            "grid_template_columns": null,
            "flex": null,
            "_model_name": "LayoutModel",
            "justify_items": null,
            "grid_row": null,
            "max_height": null,
            "align_content": null,
            "visibility": null,
            "align_self": null,
            "height": null,
            "min_height": null,
            "padding": null,
            "grid_auto_rows": null,
            "grid_gap": null,
            "max_width": null,
            "order": null,
            "_view_module_version": "1.2.0",
            "grid_template_areas": null,
            "object_position": null,
            "object_fit": null,
            "grid_auto_columns": null,
            "margin": null,
            "display": null,
            "left": null
          }
        },
        "55f4d675f983419e84731fc7459dc3d9": {
          "model_module": "@jupyter-widgets/controls",
          "model_name": "FloatProgressModel",
          "state": {
            "_view_name": "ProgressView",
            "style": "IPY_MODEL_e63e34acb4914f319b4c0f5cd91b7901",
            "_dom_classes": [],
            "description": "Downloading: 100%",
            "_model_name": "FloatProgressModel",
            "bar_style": "success",
            "max": 53,
            "_view_module": "@jupyter-widgets/controls",
            "_model_module_version": "1.5.0",
            "value": 53,
            "_view_count": null,
            "_view_module_version": "1.5.0",
            "orientation": "horizontal",
            "min": 0,
            "description_tooltip": null,
            "_model_module": "@jupyter-widgets/controls",
            "layout": "IPY_MODEL_c4077f83292845da84efd73b7303df47"
          }
        },
        "e3f5d205292b4dae86f0c314cddf0e5d": {
          "model_module": "@jupyter-widgets/controls",
          "model_name": "HTMLModel",
          "state": {
            "_view_name": "HTMLView",
            "style": "IPY_MODEL_f20da27c1fb64344928067fbe3e47b17",
            "_dom_classes": [],
            "description": "",
            "_model_name": "HTMLModel",
            "placeholder": "​",
            "_view_module": "@jupyter-widgets/controls",
            "_model_module_version": "1.5.0",
            "value": " 53.0/53.0 [00:01&lt;00:00, 33.3B/s]",
            "_view_count": null,
            "_view_module_version": "1.5.0",
            "description_tooltip": null,
            "_model_module": "@jupyter-widgets/controls",
            "layout": "IPY_MODEL_666f6f0022034d03829fde32b87a20ed"
          }
        },
        "e63e34acb4914f319b4c0f5cd91b7901": {
          "model_module": "@jupyter-widgets/controls",
          "model_name": "ProgressStyleModel",
          "state": {
            "_view_name": "StyleView",
            "_model_name": "ProgressStyleModel",
            "description_width": "initial",
            "_view_module": "@jupyter-widgets/base",
            "_model_module_version": "1.5.0",
            "_view_count": null,
            "_view_module_version": "1.2.0",
            "bar_color": null,
            "_model_module": "@jupyter-widgets/controls"
          }
        },
        "c4077f83292845da84efd73b7303df47": {
          "model_module": "@jupyter-widgets/base",
          "model_name": "LayoutModel",
          "state": {
            "_view_name": "LayoutView",
            "grid_template_rows": null,
            "right": null,
            "justify_content": null,
            "_view_module": "@jupyter-widgets/base",
            "overflow": null,
            "_model_module_version": "1.2.0",
            "_view_count": null,
            "flex_flow": null,
            "width": null,
            "min_width": null,
            "border": null,
            "align_items": null,
            "bottom": null,
            "_model_module": "@jupyter-widgets/base",
            "top": null,
            "grid_column": null,
            "overflow_y": null,
            "overflow_x": null,
            "grid_auto_flow": null,
            "grid_area": null,
            "grid_template_columns": null,
            "flex": null,
            "_model_name": "LayoutModel",
            "justify_items": null,
            "grid_row": null,
            "max_height": null,
            "align_content": null,
            "visibility": null,
            "align_self": null,
            "height": null,
            "min_height": null,
            "padding": null,
            "grid_auto_rows": null,
            "grid_gap": null,
            "max_width": null,
            "order": null,
            "_view_module_version": "1.2.0",
            "grid_template_areas": null,
            "object_position": null,
            "object_fit": null,
            "grid_auto_columns": null,
            "margin": null,
            "display": null,
            "left": null
          }
        },
        "f20da27c1fb64344928067fbe3e47b17": {
          "model_module": "@jupyter-widgets/controls",
          "model_name": "DescriptionStyleModel",
          "state": {
            "_view_name": "StyleView",
            "_model_name": "DescriptionStyleModel",
            "description_width": "",
            "_view_module": "@jupyter-widgets/base",
            "_model_module_version": "1.5.0",
            "_view_count": null,
            "_view_module_version": "1.2.0",
            "_model_module": "@jupyter-widgets/controls"
          }
        },
        "666f6f0022034d03829fde32b87a20ed": {
          "model_module": "@jupyter-widgets/base",
          "model_name": "LayoutModel",
          "state": {
            "_view_name": "LayoutView",
            "grid_template_rows": null,
            "right": null,
            "justify_content": null,
            "_view_module": "@jupyter-widgets/base",
            "overflow": null,
            "_model_module_version": "1.2.0",
            "_view_count": null,
            "flex_flow": null,
            "width": null,
            "min_width": null,
            "border": null,
            "align_items": null,
            "bottom": null,
            "_model_module": "@jupyter-widgets/base",
            "top": null,
            "grid_column": null,
            "overflow_y": null,
            "overflow_x": null,
            "grid_auto_flow": null,
            "grid_area": null,
            "grid_template_columns": null,
            "flex": null,
            "_model_name": "LayoutModel",
            "justify_items": null,
            "grid_row": null,
            "max_height": null,
            "align_content": null,
            "visibility": null,
            "align_self": null,
            "height": null,
            "min_height": null,
            "padding": null,
            "grid_auto_rows": null,
            "grid_gap": null,
            "max_width": null,
            "order": null,
            "_view_module_version": "1.2.0",
            "grid_template_areas": null,
            "object_position": null,
            "object_fit": null,
            "grid_auto_columns": null,
            "margin": null,
            "display": null,
            "left": null
          }
        },
        "1b19c2efcdd243889b73caf64850129a": {
          "model_module": "@jupyter-widgets/controls",
          "model_name": "HBoxModel",
          "state": {
            "_view_name": "HBoxView",
            "_dom_classes": [],
            "_model_name": "HBoxModel",
            "_view_module": "@jupyter-widgets/controls",
            "_model_module_version": "1.5.0",
            "_view_count": null,
            "_view_module_version": "1.5.0",
            "box_style": "",
            "layout": "IPY_MODEL_c90498a3b93f44fa9e8713cd1cfca175",
            "_model_module": "@jupyter-widgets/controls",
            "children": [
              "IPY_MODEL_f17d043cbaab4ca1a26d724e7232df7b",
              "IPY_MODEL_e4c18f23547a4d10b323ac894210b3ca"
            ]
          }
        },
        "c90498a3b93f44fa9e8713cd1cfca175": {
          "model_module": "@jupyter-widgets/base",
          "model_name": "LayoutModel",
          "state": {
            "_view_name": "LayoutView",
            "grid_template_rows": null,
            "right": null,
            "justify_content": null,
            "_view_module": "@jupyter-widgets/base",
            "overflow": null,
            "_model_module_version": "1.2.0",
            "_view_count": null,
            "flex_flow": null,
            "width": null,
            "min_width": null,
            "border": null,
            "align_items": null,
            "bottom": null,
            "_model_module": "@jupyter-widgets/base",
            "top": null,
            "grid_column": null,
            "overflow_y": null,
            "overflow_x": null,
            "grid_auto_flow": null,
            "grid_area": null,
            "grid_template_columns": null,
            "flex": null,
            "_model_name": "LayoutModel",
            "justify_items": null,
            "grid_row": null,
            "max_height": null,
            "align_content": null,
            "visibility": null,
            "align_self": null,
            "height": null,
            "min_height": null,
            "padding": null,
            "grid_auto_rows": null,
            "grid_gap": null,
            "max_width": null,
            "order": null,
            "_view_module_version": "1.2.0",
            "grid_template_areas": null,
            "object_position": null,
            "object_fit": null,
            "grid_auto_columns": null,
            "margin": null,
            "display": null,
            "left": null
          }
        },
        "f17d043cbaab4ca1a26d724e7232df7b": {
          "model_module": "@jupyter-widgets/controls",
          "model_name": "FloatProgressModel",
          "state": {
            "_view_name": "ProgressView",
            "style": "IPY_MODEL_8f09d3001fd24238bbd45d9599296fa8",
            "_dom_classes": [],
            "description": "Downloading: 100%",
            "_model_name": "FloatProgressModel",
            "bar_style": "success",
            "max": 112,
            "_view_module": "@jupyter-widgets/controls",
            "_model_module_version": "1.5.0",
            "value": 112,
            "_view_count": null,
            "_view_module_version": "1.5.0",
            "orientation": "horizontal",
            "min": 0,
            "description_tooltip": null,
            "_model_module": "@jupyter-widgets/controls",
            "layout": "IPY_MODEL_80ecf2b4076f403595f2f6df0fecfd22"
          }
        },
        "e4c18f23547a4d10b323ac894210b3ca": {
          "model_module": "@jupyter-widgets/controls",
          "model_name": "HTMLModel",
          "state": {
            "_view_name": "HTMLView",
            "style": "IPY_MODEL_ed10cbb19403446a9fc7836d9d9b9b9f",
            "_dom_classes": [],
            "description": "",
            "_model_name": "HTMLModel",
            "placeholder": "​",
            "_view_module": "@jupyter-widgets/controls",
            "_model_module_version": "1.5.0",
            "value": " 112/112 [00:00&lt;00:00, 142B/s]",
            "_view_count": null,
            "_view_module_version": "1.5.0",
            "description_tooltip": null,
            "_model_module": "@jupyter-widgets/controls",
            "layout": "IPY_MODEL_2ed0c8efe1cb47b2b7fed4319842c88c"
          }
        },
        "8f09d3001fd24238bbd45d9599296fa8": {
          "model_module": "@jupyter-widgets/controls",
          "model_name": "ProgressStyleModel",
          "state": {
            "_view_name": "StyleView",
            "_model_name": "ProgressStyleModel",
            "description_width": "initial",
            "_view_module": "@jupyter-widgets/base",
            "_model_module_version": "1.5.0",
            "_view_count": null,
            "_view_module_version": "1.2.0",
            "bar_color": null,
            "_model_module": "@jupyter-widgets/controls"
          }
        },
        "80ecf2b4076f403595f2f6df0fecfd22": {
          "model_module": "@jupyter-widgets/base",
          "model_name": "LayoutModel",
          "state": {
            "_view_name": "LayoutView",
            "grid_template_rows": null,
            "right": null,
            "justify_content": null,
            "_view_module": "@jupyter-widgets/base",
            "overflow": null,
            "_model_module_version": "1.2.0",
            "_view_count": null,
            "flex_flow": null,
            "width": null,
            "min_width": null,
            "border": null,
            "align_items": null,
            "bottom": null,
            "_model_module": "@jupyter-widgets/base",
            "top": null,
            "grid_column": null,
            "overflow_y": null,
            "overflow_x": null,
            "grid_auto_flow": null,
            "grid_area": null,
            "grid_template_columns": null,
            "flex": null,
            "_model_name": "LayoutModel",
            "justify_items": null,
            "grid_row": null,
            "max_height": null,
            "align_content": null,
            "visibility": null,
            "align_self": null,
            "height": null,
            "min_height": null,
            "padding": null,
            "grid_auto_rows": null,
            "grid_gap": null,
            "max_width": null,
            "order": null,
            "_view_module_version": "1.2.0",
            "grid_template_areas": null,
            "object_position": null,
            "object_fit": null,
            "grid_auto_columns": null,
            "margin": null,
            "display": null,
            "left": null
          }
        },
        "ed10cbb19403446a9fc7836d9d9b9b9f": {
          "model_module": "@jupyter-widgets/controls",
          "model_name": "DescriptionStyleModel",
          "state": {
            "_view_name": "StyleView",
            "_model_name": "DescriptionStyleModel",
            "description_width": "",
            "_view_module": "@jupyter-widgets/base",
            "_model_module_version": "1.5.0",
            "_view_count": null,
            "_view_module_version": "1.2.0",
            "_model_module": "@jupyter-widgets/controls"
          }
        },
        "2ed0c8efe1cb47b2b7fed4319842c88c": {
          "model_module": "@jupyter-widgets/base",
          "model_name": "LayoutModel",
          "state": {
            "_view_name": "LayoutView",
            "grid_template_rows": null,
            "right": null,
            "justify_content": null,
            "_view_module": "@jupyter-widgets/base",
            "overflow": null,
            "_model_module_version": "1.2.0",
            "_view_count": null,
            "flex_flow": null,
            "width": null,
            "min_width": null,
            "border": null,
            "align_items": null,
            "bottom": null,
            "_model_module": "@jupyter-widgets/base",
            "top": null,
            "grid_column": null,
            "overflow_y": null,
            "overflow_x": null,
            "grid_auto_flow": null,
            "grid_area": null,
            "grid_template_columns": null,
            "flex": null,
            "_model_name": "LayoutModel",
            "justify_items": null,
            "grid_row": null,
            "max_height": null,
            "align_content": null,
            "visibility": null,
            "align_self": null,
            "height": null,
            "min_height": null,
            "padding": null,
            "grid_auto_rows": null,
            "grid_gap": null,
            "max_width": null,
            "order": null,
            "_view_module_version": "1.2.0",
            "grid_template_areas": null,
            "object_position": null,
            "object_fit": null,
            "grid_auto_columns": null,
            "margin": null,
            "display": null,
            "left": null
          }
        },
        "48ad0aa53c684dd58c7eb6f1fbf6315c": {
          "model_module": "@jupyter-widgets/controls",
          "model_name": "HBoxModel",
          "state": {
            "_view_name": "HBoxView",
            "_dom_classes": [],
            "_model_name": "HBoxModel",
            "_view_module": "@jupyter-widgets/controls",
            "_model_module_version": "1.5.0",
            "_view_count": null,
            "_view_module_version": "1.5.0",
            "box_style": "",
            "layout": "IPY_MODEL_fe34be5064f44989b93016d7a9e2385a",
            "_model_module": "@jupyter-widgets/controls",
            "children": [
              "IPY_MODEL_7a915ff2171e4903b5ac8d933cd0f8d0",
              "IPY_MODEL_bc9435f4b8e34c6aaa570f6ab37628aa"
            ]
          }
        },
        "fe34be5064f44989b93016d7a9e2385a": {
          "model_module": "@jupyter-widgets/base",
          "model_name": "LayoutModel",
          "state": {
            "_view_name": "LayoutView",
            "grid_template_rows": null,
            "right": null,
            "justify_content": null,
            "_view_module": "@jupyter-widgets/base",
            "overflow": null,
            "_model_module_version": "1.2.0",
            "_view_count": null,
            "flex_flow": null,
            "width": null,
            "min_width": null,
            "border": null,
            "align_items": null,
            "bottom": null,
            "_model_module": "@jupyter-widgets/base",
            "top": null,
            "grid_column": null,
            "overflow_y": null,
            "overflow_x": null,
            "grid_auto_flow": null,
            "grid_area": null,
            "grid_template_columns": null,
            "flex": null,
            "_model_name": "LayoutModel",
            "justify_items": null,
            "grid_row": null,
            "max_height": null,
            "align_content": null,
            "visibility": null,
            "align_self": null,
            "height": null,
            "min_height": null,
            "padding": null,
            "grid_auto_rows": null,
            "grid_gap": null,
            "max_width": null,
            "order": null,
            "_view_module_version": "1.2.0",
            "grid_template_areas": null,
            "object_position": null,
            "object_fit": null,
            "grid_auto_columns": null,
            "margin": null,
            "display": null,
            "left": null
          }
        },
        "7a915ff2171e4903b5ac8d933cd0f8d0": {
          "model_module": "@jupyter-widgets/controls",
          "model_name": "FloatProgressModel",
          "state": {
            "_view_name": "ProgressView",
            "style": "IPY_MODEL_2b5e1bb03c28408a83aa26e106d15ccb",
            "_dom_classes": [],
            "description": "Downloading: 100%",
            "_model_name": "FloatProgressModel",
            "bar_style": "success",
            "max": 466081,
            "_view_module": "@jupyter-widgets/controls",
            "_model_module_version": "1.5.0",
            "value": 466081,
            "_view_count": null,
            "_view_module_version": "1.5.0",
            "orientation": "horizontal",
            "min": 0,
            "description_tooltip": null,
            "_model_module": "@jupyter-widgets/controls",
            "layout": "IPY_MODEL_efdf02bcae7f490f8384387e76cd1de2"
          }
        },
        "bc9435f4b8e34c6aaa570f6ab37628aa": {
          "model_module": "@jupyter-widgets/controls",
          "model_name": "HTMLModel",
          "state": {
            "_view_name": "HTMLView",
            "style": "IPY_MODEL_2e0223e45b5c4c0c88b04c20be91a614",
            "_dom_classes": [],
            "description": "",
            "_model_name": "HTMLModel",
            "placeholder": "​",
            "_view_module": "@jupyter-widgets/controls",
            "_model_module_version": "1.5.0",
            "value": " 466k/466k [00:11&lt;00:00, 41.8kB/s]",
            "_view_count": null,
            "_view_module_version": "1.5.0",
            "description_tooltip": null,
            "_model_module": "@jupyter-widgets/controls",
            "layout": "IPY_MODEL_b3aeb3eba80241bfa782ba5fbd02dc24"
          }
        },
        "2b5e1bb03c28408a83aa26e106d15ccb": {
          "model_module": "@jupyter-widgets/controls",
          "model_name": "ProgressStyleModel",
          "state": {
            "_view_name": "StyleView",
            "_model_name": "ProgressStyleModel",
            "description_width": "initial",
            "_view_module": "@jupyter-widgets/base",
            "_model_module_version": "1.5.0",
            "_view_count": null,
            "_view_module_version": "1.2.0",
            "bar_color": null,
            "_model_module": "@jupyter-widgets/controls"
          }
        },
        "efdf02bcae7f490f8384387e76cd1de2": {
          "model_module": "@jupyter-widgets/base",
          "model_name": "LayoutModel",
          "state": {
            "_view_name": "LayoutView",
            "grid_template_rows": null,
            "right": null,
            "justify_content": null,
            "_view_module": "@jupyter-widgets/base",
            "overflow": null,
            "_model_module_version": "1.2.0",
            "_view_count": null,
            "flex_flow": null,
            "width": null,
            "min_width": null,
            "border": null,
            "align_items": null,
            "bottom": null,
            "_model_module": "@jupyter-widgets/base",
            "top": null,
            "grid_column": null,
            "overflow_y": null,
            "overflow_x": null,
            "grid_auto_flow": null,
            "grid_area": null,
            "grid_template_columns": null,
            "flex": null,
            "_model_name": "LayoutModel",
            "justify_items": null,
            "grid_row": null,
            "max_height": null,
            "align_content": null,
            "visibility": null,
            "align_self": null,
            "height": null,
            "min_height": null,
            "padding": null,
            "grid_auto_rows": null,
            "grid_gap": null,
            "max_width": null,
            "order": null,
            "_view_module_version": "1.2.0",
            "grid_template_areas": null,
            "object_position": null,
            "object_fit": null,
            "grid_auto_columns": null,
            "margin": null,
            "display": null,
            "left": null
          }
        },
        "2e0223e45b5c4c0c88b04c20be91a614": {
          "model_module": "@jupyter-widgets/controls",
          "model_name": "DescriptionStyleModel",
          "state": {
            "_view_name": "StyleView",
            "_model_name": "DescriptionStyleModel",
            "description_width": "",
            "_view_module": "@jupyter-widgets/base",
            "_model_module_version": "1.5.0",
            "_view_count": null,
            "_view_module_version": "1.2.0",
            "_model_module": "@jupyter-widgets/controls"
          }
        },
        "b3aeb3eba80241bfa782ba5fbd02dc24": {
          "model_module": "@jupyter-widgets/base",
          "model_name": "LayoutModel",
          "state": {
            "_view_name": "LayoutView",
            "grid_template_rows": null,
            "right": null,
            "justify_content": null,
            "_view_module": "@jupyter-widgets/base",
            "overflow": null,
            "_model_module_version": "1.2.0",
            "_view_count": null,
            "flex_flow": null,
            "width": null,
            "min_width": null,
            "border": null,
            "align_items": null,
            "bottom": null,
            "_model_module": "@jupyter-widgets/base",
            "top": null,
            "grid_column": null,
            "overflow_y": null,
            "overflow_x": null,
            "grid_auto_flow": null,
            "grid_area": null,
            "grid_template_columns": null,
            "flex": null,
            "_model_name": "LayoutModel",
            "justify_items": null,
            "grid_row": null,
            "max_height": null,
            "align_content": null,
            "visibility": null,
            "align_self": null,
            "height": null,
            "min_height": null,
            "padding": null,
            "grid_auto_rows": null,
            "grid_gap": null,
            "max_width": null,
            "order": null,
            "_view_module_version": "1.2.0",
            "grid_template_areas": null,
            "object_position": null,
            "object_fit": null,
            "grid_auto_columns": null,
            "margin": null,
            "display": null,
            "left": null
          }
        },
        "b8d78eaea18240eaac99062c06c9fea6": {
          "model_module": "@jupyter-widgets/controls",
          "model_name": "HBoxModel",
          "state": {
            "_view_name": "HBoxView",
            "_dom_classes": [],
            "_model_name": "HBoxModel",
            "_view_module": "@jupyter-widgets/controls",
            "_model_module_version": "1.5.0",
            "_view_count": null,
            "_view_module_version": "1.5.0",
            "box_style": "",
            "layout": "IPY_MODEL_1ec544d061894a4db6eef288b9ca90b6",
            "_model_module": "@jupyter-widgets/controls",
            "children": [
              "IPY_MODEL_0cbd8f08f35745198aefdc80d070e674",
              "IPY_MODEL_841d68414d234cf6a4f583d953acedac"
            ]
          }
        },
        "1ec544d061894a4db6eef288b9ca90b6": {
          "model_module": "@jupyter-widgets/base",
          "model_name": "LayoutModel",
          "state": {
            "_view_name": "LayoutView",
            "grid_template_rows": null,
            "right": null,
            "justify_content": null,
            "_view_module": "@jupyter-widgets/base",
            "overflow": null,
            "_model_module_version": "1.2.0",
            "_view_count": null,
            "flex_flow": null,
            "width": null,
            "min_width": null,
            "border": null,
            "align_items": null,
            "bottom": null,
            "_model_module": "@jupyter-widgets/base",
            "top": null,
            "grid_column": null,
            "overflow_y": null,
            "overflow_x": null,
            "grid_auto_flow": null,
            "grid_area": null,
            "grid_template_columns": null,
            "flex": null,
            "_model_name": "LayoutModel",
            "justify_items": null,
            "grid_row": null,
            "max_height": null,
            "align_content": null,
            "visibility": null,
            "align_self": null,
            "height": null,
            "min_height": null,
            "padding": null,
            "grid_auto_rows": null,
            "grid_gap": null,
            "max_width": null,
            "order": null,
            "_view_module_version": "1.2.0",
            "grid_template_areas": null,
            "object_position": null,
            "object_fit": null,
            "grid_auto_columns": null,
            "margin": null,
            "display": null,
            "left": null
          }
        },
        "0cbd8f08f35745198aefdc80d070e674": {
          "model_module": "@jupyter-widgets/controls",
          "model_name": "FloatProgressModel",
          "state": {
            "_view_name": "ProgressView",
            "style": "IPY_MODEL_0c8ba3c36c4b4159a0866c3751abd55b",
            "_dom_classes": [],
            "description": "Downloading: 100%",
            "_model_name": "FloatProgressModel",
            "bar_style": "success",
            "max": 450,
            "_view_module": "@jupyter-widgets/controls",
            "_model_module_version": "1.5.0",
            "value": 450,
            "_view_count": null,
            "_view_module_version": "1.5.0",
            "orientation": "horizontal",
            "min": 0,
            "description_tooltip": null,
            "_model_module": "@jupyter-widgets/controls",
            "layout": "IPY_MODEL_1ac4b8642140405da06b4ae2fc23da76"
          }
        },
        "841d68414d234cf6a4f583d953acedac": {
          "model_module": "@jupyter-widgets/controls",
          "model_name": "HTMLModel",
          "state": {
            "_view_name": "HTMLView",
            "style": "IPY_MODEL_287880b87253484caa5c586dfc714369",
            "_dom_classes": [],
            "description": "",
            "_model_name": "HTMLModel",
            "placeholder": "​",
            "_view_module": "@jupyter-widgets/controls",
            "_model_module_version": "1.5.0",
            "value": " 450/450 [00:01&lt;00:00, 278B/s]",
            "_view_count": null,
            "_view_module_version": "1.5.0",
            "description_tooltip": null,
            "_model_module": "@jupyter-widgets/controls",
            "layout": "IPY_MODEL_75df30a403b54ed890647dd5540610b6"
          }
        },
        "0c8ba3c36c4b4159a0866c3751abd55b": {
          "model_module": "@jupyter-widgets/controls",
          "model_name": "ProgressStyleModel",
          "state": {
            "_view_name": "StyleView",
            "_model_name": "ProgressStyleModel",
            "description_width": "initial",
            "_view_module": "@jupyter-widgets/base",
            "_model_module_version": "1.5.0",
            "_view_count": null,
            "_view_module_version": "1.2.0",
            "bar_color": null,
            "_model_module": "@jupyter-widgets/controls"
          }
        },
        "1ac4b8642140405da06b4ae2fc23da76": {
          "model_module": "@jupyter-widgets/base",
          "model_name": "LayoutModel",
          "state": {
            "_view_name": "LayoutView",
            "grid_template_rows": null,
            "right": null,
            "justify_content": null,
            "_view_module": "@jupyter-widgets/base",
            "overflow": null,
            "_model_module_version": "1.2.0",
            "_view_count": null,
            "flex_flow": null,
            "width": null,
            "min_width": null,
            "border": null,
            "align_items": null,
            "bottom": null,
            "_model_module": "@jupyter-widgets/base",
            "top": null,
            "grid_column": null,
            "overflow_y": null,
            "overflow_x": null,
            "grid_auto_flow": null,
            "grid_area": null,
            "grid_template_columns": null,
            "flex": null,
            "_model_name": "LayoutModel",
            "justify_items": null,
            "grid_row": null,
            "max_height": null,
            "align_content": null,
            "visibility": null,
            "align_self": null,
            "height": null,
            "min_height": null,
            "padding": null,
            "grid_auto_rows": null,
            "grid_gap": null,
            "max_width": null,
            "order": null,
            "_view_module_version": "1.2.0",
            "grid_template_areas": null,
            "object_position": null,
            "object_fit": null,
            "grid_auto_columns": null,
            "margin": null,
            "display": null,
            "left": null
          }
        },
        "287880b87253484caa5c586dfc714369": {
          "model_module": "@jupyter-widgets/controls",
          "model_name": "DescriptionStyleModel",
          "state": {
            "_view_name": "StyleView",
            "_model_name": "DescriptionStyleModel",
            "description_width": "",
            "_view_module": "@jupyter-widgets/base",
            "_model_module_version": "1.5.0",
            "_view_count": null,
            "_view_module_version": "1.2.0",
            "_model_module": "@jupyter-widgets/controls"
          }
        },
        "75df30a403b54ed890647dd5540610b6": {
          "model_module": "@jupyter-widgets/base",
          "model_name": "LayoutModel",
          "state": {
            "_view_name": "LayoutView",
            "grid_template_rows": null,
            "right": null,
            "justify_content": null,
            "_view_module": "@jupyter-widgets/base",
            "overflow": null,
            "_model_module_version": "1.2.0",
            "_view_count": null,
            "flex_flow": null,
            "width": null,
            "min_width": null,
            "border": null,
            "align_items": null,
            "bottom": null,
            "_model_module": "@jupyter-widgets/base",
            "top": null,
            "grid_column": null,
            "overflow_y": null,
            "overflow_x": null,
            "grid_auto_flow": null,
            "grid_area": null,
            "grid_template_columns": null,
            "flex": null,
            "_model_name": "LayoutModel",
            "justify_items": null,
            "grid_row": null,
            "max_height": null,
            "align_content": null,
            "visibility": null,
            "align_self": null,
            "height": null,
            "min_height": null,
            "padding": null,
            "grid_auto_rows": null,
            "grid_gap": null,
            "max_width": null,
            "order": null,
            "_view_module_version": "1.2.0",
            "grid_template_areas": null,
            "object_position": null,
            "object_fit": null,
            "grid_auto_columns": null,
            "margin": null,
            "display": null,
            "left": null
          }
        },
        "d70aff5c0d8b4d929e9a12e3315bd8c5": {
          "model_module": "@jupyter-widgets/controls",
          "model_name": "HBoxModel",
          "state": {
            "_view_name": "HBoxView",
            "_dom_classes": [],
            "_model_name": "HBoxModel",
            "_view_module": "@jupyter-widgets/controls",
            "_model_module_version": "1.5.0",
            "_view_count": null,
            "_view_module_version": "1.5.0",
            "box_style": "",
            "layout": "IPY_MODEL_789fcea66f95489eb1f9dc3bda568251",
            "_model_module": "@jupyter-widgets/controls",
            "children": [
              "IPY_MODEL_2c38f2768f2648e68a098e87fb3e11ae",
              "IPY_MODEL_0f822652d66a4bc7861432839a5a42a3"
            ]
          }
        },
        "789fcea66f95489eb1f9dc3bda568251": {
          "model_module": "@jupyter-widgets/base",
          "model_name": "LayoutModel",
          "state": {
            "_view_name": "LayoutView",
            "grid_template_rows": null,
            "right": null,
            "justify_content": null,
            "_view_module": "@jupyter-widgets/base",
            "overflow": null,
            "_model_module_version": "1.2.0",
            "_view_count": null,
            "flex_flow": null,
            "width": null,
            "min_width": null,
            "border": null,
            "align_items": null,
            "bottom": null,
            "_model_module": "@jupyter-widgets/base",
            "top": null,
            "grid_column": null,
            "overflow_y": null,
            "overflow_x": null,
            "grid_auto_flow": null,
            "grid_area": null,
            "grid_template_columns": null,
            "flex": null,
            "_model_name": "LayoutModel",
            "justify_items": null,
            "grid_row": null,
            "max_height": null,
            "align_content": null,
            "visibility": null,
            "align_self": null,
            "height": null,
            "min_height": null,
            "padding": null,
            "grid_auto_rows": null,
            "grid_gap": null,
            "max_width": null,
            "order": null,
            "_view_module_version": "1.2.0",
            "grid_template_areas": null,
            "object_position": null,
            "object_fit": null,
            "grid_auto_columns": null,
            "margin": null,
            "display": null,
            "left": null
          }
        },
        "2c38f2768f2648e68a098e87fb3e11ae": {
          "model_module": "@jupyter-widgets/controls",
          "model_name": "FloatProgressModel",
          "state": {
            "_view_name": "ProgressView",
            "style": "IPY_MODEL_ca99a1bf3d7543a080a2e7cbc0d4fec1",
            "_dom_classes": [],
            "description": "Downloading: 100%",
            "_model_name": "FloatProgressModel",
            "bar_style": "success",
            "max": 231508,
            "_view_module": "@jupyter-widgets/controls",
            "_model_module_version": "1.5.0",
            "value": 231508,
            "_view_count": null,
            "_view_module_version": "1.5.0",
            "orientation": "horizontal",
            "min": 0,
            "description_tooltip": null,
            "_model_module": "@jupyter-widgets/controls",
            "layout": "IPY_MODEL_72ead2366ee64cdca71d78c58ca78020"
          }
        },
        "0f822652d66a4bc7861432839a5a42a3": {
          "model_module": "@jupyter-widgets/controls",
          "model_name": "HTMLModel",
          "state": {
            "_view_name": "HTMLView",
            "style": "IPY_MODEL_d6b8b665909f4e7fbde43627fff220f1",
            "_dom_classes": [],
            "description": "",
            "_model_name": "HTMLModel",
            "placeholder": "​",
            "_view_module": "@jupyter-widgets/controls",
            "_model_module_version": "1.5.0",
            "value": " 232k/232k [00:00&lt;00:00, 262kB/s]",
            "_view_count": null,
            "_view_module_version": "1.5.0",
            "description_tooltip": null,
            "_model_module": "@jupyter-widgets/controls",
            "layout": "IPY_MODEL_78f6617def514422a51025093b523c4f"
          }
        },
        "ca99a1bf3d7543a080a2e7cbc0d4fec1": {
          "model_module": "@jupyter-widgets/controls",
          "model_name": "ProgressStyleModel",
          "state": {
            "_view_name": "StyleView",
            "_model_name": "ProgressStyleModel",
            "description_width": "initial",
            "_view_module": "@jupyter-widgets/base",
            "_model_module_version": "1.5.0",
            "_view_count": null,
            "_view_module_version": "1.2.0",
            "bar_color": null,
            "_model_module": "@jupyter-widgets/controls"
          }
        },
        "72ead2366ee64cdca71d78c58ca78020": {
          "model_module": "@jupyter-widgets/base",
          "model_name": "LayoutModel",
          "state": {
            "_view_name": "LayoutView",
            "grid_template_rows": null,
            "right": null,
            "justify_content": null,
            "_view_module": "@jupyter-widgets/base",
            "overflow": null,
            "_model_module_version": "1.2.0",
            "_view_count": null,
            "flex_flow": null,
            "width": null,
            "min_width": null,
            "border": null,
            "align_items": null,
            "bottom": null,
            "_model_module": "@jupyter-widgets/base",
            "top": null,
            "grid_column": null,
            "overflow_y": null,
            "overflow_x": null,
            "grid_auto_flow": null,
            "grid_area": null,
            "grid_template_columns": null,
            "flex": null,
            "_model_name": "LayoutModel",
            "justify_items": null,
            "grid_row": null,
            "max_height": null,
            "align_content": null,
            "visibility": null,
            "align_self": null,
            "height": null,
            "min_height": null,
            "padding": null,
            "grid_auto_rows": null,
            "grid_gap": null,
            "max_width": null,
            "order": null,
            "_view_module_version": "1.2.0",
            "grid_template_areas": null,
            "object_position": null,
            "object_fit": null,
            "grid_auto_columns": null,
            "margin": null,
            "display": null,
            "left": null
          }
        },
        "d6b8b665909f4e7fbde43627fff220f1": {
          "model_module": "@jupyter-widgets/controls",
          "model_name": "DescriptionStyleModel",
          "state": {
            "_view_name": "StyleView",
            "_model_name": "DescriptionStyleModel",
            "description_width": "",
            "_view_module": "@jupyter-widgets/base",
            "_model_module_version": "1.5.0",
            "_view_count": null,
            "_view_module_version": "1.2.0",
            "_model_module": "@jupyter-widgets/controls"
          }
        },
        "78f6617def514422a51025093b523c4f": {
          "model_module": "@jupyter-widgets/base",
          "model_name": "LayoutModel",
          "state": {
            "_view_name": "LayoutView",
            "grid_template_rows": null,
            "right": null,
            "justify_content": null,
            "_view_module": "@jupyter-widgets/base",
            "overflow": null,
            "_model_module_version": "1.2.0",
            "_view_count": null,
            "flex_flow": null,
            "width": null,
            "min_width": null,
            "border": null,
            "align_items": null,
            "bottom": null,
            "_model_module": "@jupyter-widgets/base",
            "top": null,
            "grid_column": null,
            "overflow_y": null,
            "overflow_x": null,
            "grid_auto_flow": null,
            "grid_area": null,
            "grid_template_columns": null,
            "flex": null,
            "_model_name": "LayoutModel",
            "justify_items": null,
            "grid_row": null,
            "max_height": null,
            "align_content": null,
            "visibility": null,
            "align_self": null,
            "height": null,
            "min_height": null,
            "padding": null,
            "grid_auto_rows": null,
            "grid_gap": null,
            "max_width": null,
            "order": null,
            "_view_module_version": "1.2.0",
            "grid_template_areas": null,
            "object_position": null,
            "object_fit": null,
            "grid_auto_columns": null,
            "margin": null,
            "display": null,
            "left": null
          }
        },
        "285212469db9434983ff23c4f602d8c3": {
          "model_module": "@jupyter-widgets/controls",
          "model_name": "HBoxModel",
          "state": {
            "_view_name": "HBoxView",
            "_dom_classes": [],
            "_model_name": "HBoxModel",
            "_view_module": "@jupyter-widgets/controls",
            "_model_module_version": "1.5.0",
            "_view_count": null,
            "_view_module_version": "1.5.0",
            "box_style": "",
            "layout": "IPY_MODEL_b208c2f70f174690be05e77df9800451",
            "_model_module": "@jupyter-widgets/controls",
            "children": [
              "IPY_MODEL_2330d1e3f70d464c9695fc5f820aec58",
              "IPY_MODEL_bfc361d9acfe4c9fb9e033f4763df9f2"
            ]
          }
        },
        "b208c2f70f174690be05e77df9800451": {
          "model_module": "@jupyter-widgets/base",
          "model_name": "LayoutModel",
          "state": {
            "_view_name": "LayoutView",
            "grid_template_rows": null,
            "right": null,
            "justify_content": null,
            "_view_module": "@jupyter-widgets/base",
            "overflow": null,
            "_model_module_version": "1.2.0",
            "_view_count": null,
            "flex_flow": null,
            "width": null,
            "min_width": null,
            "border": null,
            "align_items": null,
            "bottom": null,
            "_model_module": "@jupyter-widgets/base",
            "top": null,
            "grid_column": null,
            "overflow_y": null,
            "overflow_x": null,
            "grid_auto_flow": null,
            "grid_area": null,
            "grid_template_columns": null,
            "flex": null,
            "_model_name": "LayoutModel",
            "justify_items": null,
            "grid_row": null,
            "max_height": null,
            "align_content": null,
            "visibility": null,
            "align_self": null,
            "height": null,
            "min_height": null,
            "padding": null,
            "grid_auto_rows": null,
            "grid_gap": null,
            "max_width": null,
            "order": null,
            "_view_module_version": "1.2.0",
            "grid_template_areas": null,
            "object_position": null,
            "object_fit": null,
            "grid_auto_columns": null,
            "margin": null,
            "display": null,
            "left": null
          }
        },
        "2330d1e3f70d464c9695fc5f820aec58": {
          "model_module": "@jupyter-widgets/controls",
          "model_name": "FloatProgressModel",
          "state": {
            "_view_name": "ProgressView",
            "style": "IPY_MODEL_a9f84b9add4849a4b50ef3e0fbd84e4d",
            "_dom_classes": [],
            "description": "Downloading: 100%",
            "_model_name": "FloatProgressModel",
            "bar_style": "success",
            "max": 190,
            "_view_module": "@jupyter-widgets/controls",
            "_model_module_version": "1.5.0",
            "value": 190,
            "_view_count": null,
            "_view_module_version": "1.5.0",
            "orientation": "horizontal",
            "min": 0,
            "description_tooltip": null,
            "_model_module": "@jupyter-widgets/controls",
            "layout": "IPY_MODEL_2680963b302748e89362092b17210819"
          }
        },
        "bfc361d9acfe4c9fb9e033f4763df9f2": {
          "model_module": "@jupyter-widgets/controls",
          "model_name": "HTMLModel",
          "state": {
            "_view_name": "HTMLView",
            "style": "IPY_MODEL_43ad36e8c52e4daa860ece660634cb7e",
            "_dom_classes": [],
            "description": "",
            "_model_name": "HTMLModel",
            "placeholder": "​",
            "_view_module": "@jupyter-widgets/controls",
            "_model_module_version": "1.5.0",
            "value": " 190/190 [00:08&lt;00:00, 22.1B/s]",
            "_view_count": null,
            "_view_module_version": "1.5.0",
            "description_tooltip": null,
            "_model_module": "@jupyter-widgets/controls",
            "layout": "IPY_MODEL_459a5bbc1bab4caf9b7996fdd2f61287"
          }
        },
        "a9f84b9add4849a4b50ef3e0fbd84e4d": {
          "model_module": "@jupyter-widgets/controls",
          "model_name": "ProgressStyleModel",
          "state": {
            "_view_name": "StyleView",
            "_model_name": "ProgressStyleModel",
            "description_width": "initial",
            "_view_module": "@jupyter-widgets/base",
            "_model_module_version": "1.5.0",
            "_view_count": null,
            "_view_module_version": "1.2.0",
            "bar_color": null,
            "_model_module": "@jupyter-widgets/controls"
          }
        },
        "2680963b302748e89362092b17210819": {
          "model_module": "@jupyter-widgets/base",
          "model_name": "LayoutModel",
          "state": {
            "_view_name": "LayoutView",
            "grid_template_rows": null,
            "right": null,
            "justify_content": null,
            "_view_module": "@jupyter-widgets/base",
            "overflow": null,
            "_model_module_version": "1.2.0",
            "_view_count": null,
            "flex_flow": null,
            "width": null,
            "min_width": null,
            "border": null,
            "align_items": null,
            "bottom": null,
            "_model_module": "@jupyter-widgets/base",
            "top": null,
            "grid_column": null,
            "overflow_y": null,
            "overflow_x": null,
            "grid_auto_flow": null,
            "grid_area": null,
            "grid_template_columns": null,
            "flex": null,
            "_model_name": "LayoutModel",
            "justify_items": null,
            "grid_row": null,
            "max_height": null,
            "align_content": null,
            "visibility": null,
            "align_self": null,
            "height": null,
            "min_height": null,
            "padding": null,
            "grid_auto_rows": null,
            "grid_gap": null,
            "max_width": null,
            "order": null,
            "_view_module_version": "1.2.0",
            "grid_template_areas": null,
            "object_position": null,
            "object_fit": null,
            "grid_auto_columns": null,
            "margin": null,
            "display": null,
            "left": null
          }
        },
        "43ad36e8c52e4daa860ece660634cb7e": {
          "model_module": "@jupyter-widgets/controls",
          "model_name": "DescriptionStyleModel",
          "state": {
            "_view_name": "StyleView",
            "_model_name": "DescriptionStyleModel",
            "description_width": "",
            "_view_module": "@jupyter-widgets/base",
            "_model_module_version": "1.5.0",
            "_view_count": null,
            "_view_module_version": "1.2.0",
            "_model_module": "@jupyter-widgets/controls"
          }
        },
        "459a5bbc1bab4caf9b7996fdd2f61287": {
          "model_module": "@jupyter-widgets/base",
          "model_name": "LayoutModel",
          "state": {
            "_view_name": "LayoutView",
            "grid_template_rows": null,
            "right": null,
            "justify_content": null,
            "_view_module": "@jupyter-widgets/base",
            "overflow": null,
            "_model_module_version": "1.2.0",
            "_view_count": null,
            "flex_flow": null,
            "width": null,
            "min_width": null,
            "border": null,
            "align_items": null,
            "bottom": null,
            "_model_module": "@jupyter-widgets/base",
            "top": null,
            "grid_column": null,
            "overflow_y": null,
            "overflow_x": null,
            "grid_auto_flow": null,
            "grid_area": null,
            "grid_template_columns": null,
            "flex": null,
            "_model_name": "LayoutModel",
            "justify_items": null,
            "grid_row": null,
            "max_height": null,
            "align_content": null,
            "visibility": null,
            "align_self": null,
            "height": null,
            "min_height": null,
            "padding": null,
            "grid_auto_rows": null,
            "grid_gap": null,
            "max_width": null,
            "order": null,
            "_view_module_version": "1.2.0",
            "grid_template_areas": null,
            "object_position": null,
            "object_fit": null,
            "grid_auto_columns": null,
            "margin": null,
            "display": null,
            "left": null
          }
        }
      }
    }
  },
  "cells": [
    {
      "cell_type": "markdown",
      "metadata": {
        "id": "view-in-github",
        "colab_type": "text"
      },
      "source": [
        "<a href=\"https://colab.research.google.com/github/Plabanzeoanai/NLP/blob/main/Huggingface_Sentence_transformer__classify_questions.ipynb\" target=\"_parent\"><img src=\"https://colab.research.google.com/assets/colab-badge.svg\" alt=\"Open In Colab\"/></a>"
      ]
    },
    {
      "cell_type": "markdown",
      "metadata": {
        "id": "UNOStrV0FmiC"
      },
      "source": [
        "##  Sentence-BERT: Sentence Embeddings using Siamese BERT-Networks."
      ]
    },
    {
      "cell_type": "code",
      "metadata": {
        "colab": {
          "base_uri": "https://localhost:8080/"
        },
        "id": "o8gq4t3d6uKU",
        "outputId": "2ff88d38-31ce-49ce-c493-a9e48a67b524"
      },
      "source": [
        "!pip install transformers"
      ],
      "execution_count": 1,
      "outputs": [
        {
          "output_type": "stream",
          "text": [
            "Collecting transformers\n",
            "  Downloading transformers-4.9.0-py3-none-any.whl (2.6 MB)\n",
            "\u001b[K     |████████████████████████████████| 2.6 MB 12.8 MB/s \n",
            "\u001b[?25hRequirement already satisfied: filelock in /usr/local/lib/python3.7/dist-packages (from transformers) (3.0.12)\n",
            "Requirement already satisfied: tqdm>=4.27 in /usr/local/lib/python3.7/dist-packages (from transformers) (4.41.1)\n",
            "Requirement already satisfied: importlib-metadata in /usr/local/lib/python3.7/dist-packages (from transformers) (4.6.1)\n",
            "Requirement already satisfied: regex!=2019.12.17 in /usr/local/lib/python3.7/dist-packages (from transformers) (2019.12.20)\n",
            "Collecting pyyaml>=5.1\n",
            "  Downloading PyYAML-5.4.1-cp37-cp37m-manylinux1_x86_64.whl (636 kB)\n",
            "\u001b[K     |████████████████████████████████| 636 kB 54.8 MB/s \n",
            "\u001b[?25hRequirement already satisfied: packaging in /usr/local/lib/python3.7/dist-packages (from transformers) (21.0)\n",
            "Collecting sacremoses\n",
            "  Downloading sacremoses-0.0.45-py3-none-any.whl (895 kB)\n",
            "\u001b[K     |████████████████████████████████| 895 kB 69.2 MB/s \n",
            "\u001b[?25hCollecting tokenizers<0.11,>=0.10.1\n",
            "  Downloading tokenizers-0.10.3-cp37-cp37m-manylinux_2_5_x86_64.manylinux1_x86_64.manylinux_2_12_x86_64.manylinux2010_x86_64.whl (3.3 MB)\n",
            "\u001b[K     |████████████████████████████████| 3.3 MB 54.8 MB/s \n",
            "\u001b[?25hCollecting huggingface-hub==0.0.12\n",
            "  Downloading huggingface_hub-0.0.12-py3-none-any.whl (37 kB)\n",
            "Requirement already satisfied: numpy>=1.17 in /usr/local/lib/python3.7/dist-packages (from transformers) (1.19.5)\n",
            "Requirement already satisfied: requests in /usr/local/lib/python3.7/dist-packages (from transformers) (2.23.0)\n",
            "Requirement already satisfied: typing-extensions in /usr/local/lib/python3.7/dist-packages (from huggingface-hub==0.0.12->transformers) (3.7.4.3)\n",
            "Requirement already satisfied: pyparsing>=2.0.2 in /usr/local/lib/python3.7/dist-packages (from packaging->transformers) (2.4.7)\n",
            "Requirement already satisfied: zipp>=0.5 in /usr/local/lib/python3.7/dist-packages (from importlib-metadata->transformers) (3.5.0)\n",
            "Requirement already satisfied: certifi>=2017.4.17 in /usr/local/lib/python3.7/dist-packages (from requests->transformers) (2021.5.30)\n",
            "Requirement already satisfied: chardet<4,>=3.0.2 in /usr/local/lib/python3.7/dist-packages (from requests->transformers) (3.0.4)\n",
            "Requirement already satisfied: urllib3!=1.25.0,!=1.25.1,<1.26,>=1.21.1 in /usr/local/lib/python3.7/dist-packages (from requests->transformers) (1.24.3)\n",
            "Requirement already satisfied: idna<3,>=2.5 in /usr/local/lib/python3.7/dist-packages (from requests->transformers) (2.10)\n",
            "Requirement already satisfied: click in /usr/local/lib/python3.7/dist-packages (from sacremoses->transformers) (7.1.2)\n",
            "Requirement already satisfied: joblib in /usr/local/lib/python3.7/dist-packages (from sacremoses->transformers) (1.0.1)\n",
            "Requirement already satisfied: six in /usr/local/lib/python3.7/dist-packages (from sacremoses->transformers) (1.15.0)\n",
            "Installing collected packages: tokenizers, sacremoses, pyyaml, huggingface-hub, transformers\n",
            "  Attempting uninstall: pyyaml\n",
            "    Found existing installation: PyYAML 3.13\n",
            "    Uninstalling PyYAML-3.13:\n",
            "      Successfully uninstalled PyYAML-3.13\n",
            "Successfully installed huggingface-hub-0.0.12 pyyaml-5.4.1 sacremoses-0.0.45 tokenizers-0.10.3 transformers-4.9.0\n"
          ],
          "name": "stdout"
        }
      ]
    },
    {
      "cell_type": "markdown",
      "metadata": {
        "id": "Rnh3kiLKCBJg"
      },
      "source": [
        "## sentence-transformers/bert-base-nli-mean-tokens\n",
        "This is a sentence-transformers model: It maps sentences & paragraphs to a 768 dimensional dense vector space and can be used for tasks like clustering or semantic search."
      ]
    },
    {
      "cell_type": "code",
      "metadata": {
        "colab": {
          "base_uri": "https://localhost:8080/"
        },
        "id": "lE9BPl7177-1",
        "outputId": "fb3db885-549a-4eab-8b9f-c65374d4f848"
      },
      "source": [
        "!pip install -U sentence-transformers"
      ],
      "execution_count": 2,
      "outputs": [
        {
          "output_type": "stream",
          "text": [
            "Collecting sentence-transformers\n",
            "  Downloading sentence-transformers-2.0.0.tar.gz (85 kB)\n",
            "\u001b[K     |████████████████████████████████| 85 kB 4.2 MB/s \n",
            "\u001b[?25hRequirement already satisfied: transformers<5.0.0,>=4.6.0 in /usr/local/lib/python3.7/dist-packages (from sentence-transformers) (4.9.0)\n",
            "Requirement already satisfied: tqdm in /usr/local/lib/python3.7/dist-packages (from sentence-transformers) (4.41.1)\n",
            "Requirement already satisfied: torch>=1.6.0 in /usr/local/lib/python3.7/dist-packages (from sentence-transformers) (1.9.0+cu102)\n",
            "Requirement already satisfied: torchvision in /usr/local/lib/python3.7/dist-packages (from sentence-transformers) (0.10.0+cu102)\n",
            "Requirement already satisfied: numpy in /usr/local/lib/python3.7/dist-packages (from sentence-transformers) (1.19.5)\n",
            "Requirement already satisfied: scikit-learn in /usr/local/lib/python3.7/dist-packages (from sentence-transformers) (0.22.2.post1)\n",
            "Requirement already satisfied: scipy in /usr/local/lib/python3.7/dist-packages (from sentence-transformers) (1.4.1)\n",
            "Requirement already satisfied: nltk in /usr/local/lib/python3.7/dist-packages (from sentence-transformers) (3.2.5)\n",
            "Collecting sentencepiece\n",
            "  Downloading sentencepiece-0.1.96-cp37-cp37m-manylinux_2_17_x86_64.manylinux2014_x86_64.whl (1.2 MB)\n",
            "\u001b[K     |████████████████████████████████| 1.2 MB 19.9 MB/s \n",
            "\u001b[?25hRequirement already satisfied: huggingface-hub in /usr/local/lib/python3.7/dist-packages (from sentence-transformers) (0.0.12)\n",
            "Requirement already satisfied: typing-extensions in /usr/local/lib/python3.7/dist-packages (from torch>=1.6.0->sentence-transformers) (3.7.4.3)\n",
            "Requirement already satisfied: filelock in /usr/local/lib/python3.7/dist-packages (from transformers<5.0.0,>=4.6.0->sentence-transformers) (3.0.12)\n",
            "Requirement already satisfied: requests in /usr/local/lib/python3.7/dist-packages (from transformers<5.0.0,>=4.6.0->sentence-transformers) (2.23.0)\n",
            "Requirement already satisfied: importlib-metadata in /usr/local/lib/python3.7/dist-packages (from transformers<5.0.0,>=4.6.0->sentence-transformers) (4.6.1)\n",
            "Requirement already satisfied: packaging in /usr/local/lib/python3.7/dist-packages (from transformers<5.0.0,>=4.6.0->sentence-transformers) (21.0)\n",
            "Requirement already satisfied: sacremoses in /usr/local/lib/python3.7/dist-packages (from transformers<5.0.0,>=4.6.0->sentence-transformers) (0.0.45)\n",
            "Requirement already satisfied: pyyaml>=5.1 in /usr/local/lib/python3.7/dist-packages (from transformers<5.0.0,>=4.6.0->sentence-transformers) (5.4.1)\n",
            "Requirement already satisfied: regex!=2019.12.17 in /usr/local/lib/python3.7/dist-packages (from transformers<5.0.0,>=4.6.0->sentence-transformers) (2019.12.20)\n",
            "Requirement already satisfied: tokenizers<0.11,>=0.10.1 in /usr/local/lib/python3.7/dist-packages (from transformers<5.0.0,>=4.6.0->sentence-transformers) (0.10.3)\n",
            "Requirement already satisfied: pyparsing>=2.0.2 in /usr/local/lib/python3.7/dist-packages (from packaging->transformers<5.0.0,>=4.6.0->sentence-transformers) (2.4.7)\n",
            "Requirement already satisfied: zipp>=0.5 in /usr/local/lib/python3.7/dist-packages (from importlib-metadata->transformers<5.0.0,>=4.6.0->sentence-transformers) (3.5.0)\n",
            "Requirement already satisfied: six in /usr/local/lib/python3.7/dist-packages (from nltk->sentence-transformers) (1.15.0)\n",
            "Requirement already satisfied: chardet<4,>=3.0.2 in /usr/local/lib/python3.7/dist-packages (from requests->transformers<5.0.0,>=4.6.0->sentence-transformers) (3.0.4)\n",
            "Requirement already satisfied: urllib3!=1.25.0,!=1.25.1,<1.26,>=1.21.1 in /usr/local/lib/python3.7/dist-packages (from requests->transformers<5.0.0,>=4.6.0->sentence-transformers) (1.24.3)\n",
            "Requirement already satisfied: idna<3,>=2.5 in /usr/local/lib/python3.7/dist-packages (from requests->transformers<5.0.0,>=4.6.0->sentence-transformers) (2.10)\n",
            "Requirement already satisfied: certifi>=2017.4.17 in /usr/local/lib/python3.7/dist-packages (from requests->transformers<5.0.0,>=4.6.0->sentence-transformers) (2021.5.30)\n",
            "Requirement already satisfied: click in /usr/local/lib/python3.7/dist-packages (from sacremoses->transformers<5.0.0,>=4.6.0->sentence-transformers) (7.1.2)\n",
            "Requirement already satisfied: joblib in /usr/local/lib/python3.7/dist-packages (from sacremoses->transformers<5.0.0,>=4.6.0->sentence-transformers) (1.0.1)\n",
            "Requirement already satisfied: pillow>=5.3.0 in /usr/local/lib/python3.7/dist-packages (from torchvision->sentence-transformers) (7.1.2)\n",
            "Building wheels for collected packages: sentence-transformers\n",
            "  Building wheel for sentence-transformers (setup.py) ... \u001b[?25l\u001b[?25hdone\n",
            "  Created wheel for sentence-transformers: filename=sentence_transformers-2.0.0-py3-none-any.whl size=126709 sha256=0502b1a704d244460487e7186d020b1a1df16bd828738316ea6f7a0701827d38\n",
            "  Stored in directory: /root/.cache/pip/wheels/d1/c1/0f/faafd427f705c4b012274ba60d9a91d75830306811e1355293\n",
            "Successfully built sentence-transformers\n",
            "Installing collected packages: sentencepiece, sentence-transformers\n",
            "Successfully installed sentence-transformers-2.0.0 sentencepiece-0.1.96\n"
          ],
          "name": "stdout"
        }
      ]
    },
    {
      "cell_type": "code",
      "metadata": {
        "id": "BsWStcVPOyLz",
        "outputId": "6d97bba1-493e-42f0-9c47-4aa49ba84ed5",
        "colab": {
          "base_uri": "https://localhost:8080/"
        }
      },
      "source": [
        "from google.colab import drive\n",
        "drive.mount('/content/drive')"
      ],
      "execution_count": 3,
      "outputs": [
        {
          "output_type": "stream",
          "text": [
            "Mounted at /content/drive\n"
          ],
          "name": "stdout"
        }
      ]
    },
    {
      "cell_type": "markdown",
      "metadata": {
        "id": "Y3SoIoJ4MSUH"
      },
      "source": [
        "## Sentence Transformers -Distilbert"
      ]
    },
    {
      "cell_type": "code",
      "metadata": {
        "id": "91sCIfgs141d"
      },
      "source": [
        "import pandas as pd\n",
        "import numpy as np\n",
        "from sklearn.metrics import  (auc,confusion_matrix,roc_auc_score,roc_curve,f1_score,accuracy_score,classification_report)\n",
        "from sklearn.model_selection import *\n",
        "from yellowbrick.classifier import (ConfusionMatrix,ROCAUC,)\n",
        "from yellowbrick.model_selection import (LearningCurve,)\n",
        "\n",
        "import warnings\n",
        "warnings.filterwarnings('ignore')"
      ],
      "execution_count": 64,
      "outputs": []
    },
    {
      "cell_type": "markdown",
      "metadata": {
        "id": "PCaDctUHNezG"
      },
      "source": [
        "## Read Training Data"
      ]
    },
    {
      "cell_type": "code",
      "metadata": {
        "colab": {
          "base_uri": "https://localhost:8080/"
        },
        "id": "6dZ9l2_OdG0h",
        "outputId": "ff118733-d2a8-46de-cc4b-d7e8509b5313"
      },
      "source": [
        "!wget \"https://cogcomp.seas.upenn.edu/Data/QA/QC/train_5500.label\"  -O newfile.txt"
      ],
      "execution_count": 5,
      "outputs": [
        {
          "output_type": "stream",
          "text": [
            "--2021-07-25 15:19:54--  https://cogcomp.seas.upenn.edu/Data/QA/QC/train_5500.label\n",
            "Resolving cogcomp.seas.upenn.edu (cogcomp.seas.upenn.edu)... 158.130.57.77\n",
            "Connecting to cogcomp.seas.upenn.edu (cogcomp.seas.upenn.edu)|158.130.57.77|:443... connected.\n",
            "HTTP request sent, awaiting response... 200 OK\n",
            "Length: 335858 (328K)\n",
            "Saving to: ‘newfile.txt’\n",
            "\n",
            "newfile.txt         100%[===================>] 327.99K  1021KB/s    in 0.3s    \n",
            "\n",
            "2021-07-25 15:19:55 (1021 KB/s) - ‘newfile.txt’ saved [335858/335858]\n",
            "\n"
          ],
          "name": "stdout"
        }
      ]
    },
    {
      "cell_type": "markdown",
      "metadata": {
        "id": "LUwSETQ8Hskr"
      },
      "source": [
        "## Seggregate Label and Text"
      ]
    },
    {
      "cell_type": "code",
      "metadata": {
        "id": "U_L-NjKLdRWQ"
      },
      "source": [
        "label = []\n",
        "question = []\n",
        "with open(\"/content/newfile.txt\",\"r\",encoding=\"ISO-8859-1\") as f:\n",
        "  for line in f.readlines():\n",
        "    text = line.split(\":\")\n",
        "    label.append(text[0])\n",
        "    question.append(text[1])"
      ],
      "execution_count": 6,
      "outputs": []
    },
    {
      "cell_type": "markdown",
      "metadata": {
        "id": "TR6Ve1T_Hz9I"
      },
      "source": [
        "## Get the data into DataFrame"
      ]
    },
    {
      "cell_type": "code",
      "metadata": {
        "id": "wF02LmvhfAlZ"
      },
      "source": [
        "train = pd.DataFrame({'Question':question,'Label':label})"
      ],
      "execution_count": 13,
      "outputs": []
    },
    {
      "cell_type": "code",
      "metadata": {
        "colab": {
          "base_uri": "https://localhost:8080/",
          "height": 204
        },
        "id": "d-IzGSBYfSEa",
        "outputId": "5fab89a9-ba25-4995-f503-1f2872f2fc9d"
      },
      "source": [
        "train.head()"
      ],
      "execution_count": 14,
      "outputs": [
        {
          "output_type": "execute_result",
          "data": {
            "text/html": [
              "<div>\n",
              "<style scoped>\n",
              "    .dataframe tbody tr th:only-of-type {\n",
              "        vertical-align: middle;\n",
              "    }\n",
              "\n",
              "    .dataframe tbody tr th {\n",
              "        vertical-align: top;\n",
              "    }\n",
              "\n",
              "    .dataframe thead th {\n",
              "        text-align: right;\n",
              "    }\n",
              "</style>\n",
              "<table border=\"1\" class=\"dataframe\">\n",
              "  <thead>\n",
              "    <tr style=\"text-align: right;\">\n",
              "      <th></th>\n",
              "      <th>Question</th>\n",
              "      <th>Label</th>\n",
              "    </tr>\n",
              "  </thead>\n",
              "  <tbody>\n",
              "    <tr>\n",
              "      <th>0</th>\n",
              "      <td>manner How did serfdom develop in and then lea...</td>\n",
              "      <td>DESC</td>\n",
              "    </tr>\n",
              "    <tr>\n",
              "      <th>1</th>\n",
              "      <td>cremat What films featured the character Popey...</td>\n",
              "      <td>ENTY</td>\n",
              "    </tr>\n",
              "    <tr>\n",
              "      <th>2</th>\n",
              "      <td>manner How can I find a list of celebrities ' ...</td>\n",
              "      <td>DESC</td>\n",
              "    </tr>\n",
              "    <tr>\n",
              "      <th>3</th>\n",
              "      <td>animal What fowl grabs the spotlight after the...</td>\n",
              "      <td>ENTY</td>\n",
              "    </tr>\n",
              "    <tr>\n",
              "      <th>4</th>\n",
              "      <td>exp What is the full form of .com ?\\n</td>\n",
              "      <td>ABBR</td>\n",
              "    </tr>\n",
              "  </tbody>\n",
              "</table>\n",
              "</div>"
            ],
            "text/plain": [
              "                                            Question Label\n",
              "0  manner How did serfdom develop in and then lea...  DESC\n",
              "1  cremat What films featured the character Popey...  ENTY\n",
              "2  manner How can I find a list of celebrities ' ...  DESC\n",
              "3  animal What fowl grabs the spotlight after the...  ENTY\n",
              "4              exp What is the full form of .com ?\\n  ABBR"
            ]
          },
          "metadata": {
            "tags": []
          },
          "execution_count": 14
        }
      ]
    },
    {
      "cell_type": "markdown",
      "metadata": {
        "id": "Pxqx6PaX3YM7"
      },
      "source": [
        "## Data Decription"
      ]
    },
    {
      "cell_type": "code",
      "metadata": {
        "colab": {
          "base_uri": "https://localhost:8080/"
        },
        "id": "6J3g3aWu3ano",
        "outputId": "0a105d88-3fba-4a34-aa2d-5ec69820ff41"
      },
      "source": [
        "train.shape"
      ],
      "execution_count": 15,
      "outputs": [
        {
          "output_type": "execute_result",
          "data": {
            "text/plain": [
              "(5452, 2)"
            ]
          },
          "metadata": {
            "tags": []
          },
          "execution_count": 15
        }
      ]
    },
    {
      "cell_type": "markdown",
      "metadata": {
        "id": "25Bvjryi3dqa"
      },
      "source": [
        "## Label Distribution"
      ]
    },
    {
      "cell_type": "code",
      "metadata": {
        "colab": {
          "base_uri": "https://localhost:8080/",
          "height": 497
        },
        "id": "RpdAl5nF3gcC",
        "outputId": "a59ed9cb-8c46-425f-99d9-d8210973baba"
      },
      "source": [
        "import seaborn as sns\n",
        "import matplotlib.pyplot as plt\n",
        "sns.set_style('darkgrid')\n",
        "plt.figure(figsize=(12,8))\n",
        "sns.countplot(train['Label'])\n",
        "plt.show()"
      ],
      "execution_count": 16,
      "outputs": [
        {
          "output_type": "display_data",
          "data": {
            "image/png": "[encoded data removed]",
            "text/plain": [
              "<Figure size 864x576 with 1 Axes>"
            ]
          },
          "metadata": {
            "tags": []
          }
        }
      ]
    },
    {
      "cell_type": "markdown",
      "metadata": {
        "id": "zhLLuD7a2tTj"
      },
      "source": [
        "## Define a function to map the labels DESC or FACT"
      ]
    },
    {
      "cell_type": "code",
      "metadata": {
        "id": "KUva_Py_4TLq"
      },
      "source": [
        "def map_labels(x):\n",
        "  if x == \"DESC\":\n",
        "    return \"DESC\"\n",
        "  else:\n",
        "    return \"FACT\""
      ],
      "execution_count": 17,
      "outputs": []
    },
    {
      "cell_type": "code",
      "metadata": {
        "colab": {
          "base_uri": "https://localhost:8080/",
          "height": 497
        },
        "id": "tyRH47zs5HqJ",
        "outputId": "a994d8fb-3a12-48ba-fb81-7581a0eb7d3f"
      },
      "source": [
        "train['Label'] = train['Label'].map(map_labels)\n",
        "plt.figure(figsize=(12,8))\n",
        "sns.countplot(train['Label'])\n",
        "plt.show()"
      ],
      "execution_count": 18,
      "outputs": [
        {
          "output_type": "display_data",
          "data": {
            "image/png": "[encoded data removed]",
            "text/plain": [
              "<Figure size 864x576 with 1 Axes>"
            ]
          },
          "metadata": {
            "tags": []
          }
        }
      ]
    },
    {
      "cell_type": "markdown",
      "metadata": {
        "id": "hNJhbyAgQHbw"
      },
      "source": [
        "## Reading the excel file supplied as additional training data"
      ]
    },
    {
      "cell_type": "code",
      "metadata": {
        "id": "VIYSu-ILQM0_"
      },
      "source": [
        "df_add = pd.read_excel(\"/content/drive/MyDrive/ZeonAI/Trainingset_queryclassifier.xlsx\",sheet_name='Trainset')"
      ],
      "execution_count": 19,
      "outputs": []
    },
    {
      "cell_type": "code",
      "metadata": {
        "id": "uZ9_HvuWQbNK",
        "outputId": "62ba79cb-ee1b-4ea8-f352-8a7ee8214c58",
        "colab": {
          "base_uri": "https://localhost:8080/",
          "height": 204
        }
      },
      "source": [
        "df_add.head()"
      ],
      "execution_count": 20,
      "outputs": [
        {
          "output_type": "execute_result",
          "data": {
            "text/html": [
              "<div>\n",
              "<style scoped>\n",
              "    .dataframe tbody tr th:only-of-type {\n",
              "        vertical-align: middle;\n",
              "    }\n",
              "\n",
              "    .dataframe tbody tr th {\n",
              "        vertical-align: top;\n",
              "    }\n",
              "\n",
              "    .dataframe thead th {\n",
              "        text-align: right;\n",
              "    }\n",
              "</style>\n",
              "<table border=\"1\" class=\"dataframe\">\n",
              "  <thead>\n",
              "    <tr style=\"text-align: right;\">\n",
              "      <th></th>\n",
              "      <th>Question</th>\n",
              "      <th>Class</th>\n",
              "    </tr>\n",
              "  </thead>\n",
              "  <tbody>\n",
              "    <tr>\n",
              "      <th>0</th>\n",
              "      <td>Who is CEO designate at HDFC ?</td>\n",
              "      <td>Fact</td>\n",
              "    </tr>\n",
              "    <tr>\n",
              "      <th>1</th>\n",
              "      <td>What was the year on year loan growth in HDFC ...</td>\n",
              "      <td>Fact</td>\n",
              "    </tr>\n",
              "    <tr>\n",
              "      <th>2</th>\n",
              "      <td>What percentage of HDFC's distribution network...</td>\n",
              "      <td>Fact</td>\n",
              "    </tr>\n",
              "    <tr>\n",
              "      <th>3</th>\n",
              "      <td>What is the opinion of HighCourt in Santosh To...</td>\n",
              "      <td>Desc</td>\n",
              "    </tr>\n",
              "    <tr>\n",
              "      <th>4</th>\n",
              "      <td>In Santosh Toppo vs state of odisha case, what...</td>\n",
              "      <td>Desc</td>\n",
              "    </tr>\n",
              "  </tbody>\n",
              "</table>\n",
              "</div>"
            ],
            "text/plain": [
              "                                            Question Class\n",
              "0                     Who is CEO designate at HDFC ?  Fact\n",
              "1  What was the year on year loan growth in HDFC ...  Fact\n",
              "2  What percentage of HDFC's distribution network...  Fact\n",
              "3  What is the opinion of HighCourt in Santosh To...  Desc\n",
              "4  In Santosh Toppo vs state of odisha case, what...  Desc"
            ]
          },
          "metadata": {
            "tags": []
          },
          "execution_count": 20
        }
      ]
    },
    {
      "cell_type": "code",
      "metadata": {
        "id": "_hLp66CXQgxu",
        "outputId": "1bc64c62-bfd1-4563-f355-1410f7fea10f",
        "colab": {
          "base_uri": "https://localhost:8080/"
        }
      },
      "source": [
        "df_add = df_add.rename(columns={'Class':'Label'})\n",
        "df_add.Label.value_counts(normalize=True)"
      ],
      "execution_count": 22,
      "outputs": [
        {
          "output_type": "execute_result",
          "data": {
            "text/plain": [
              "Fact    0.594937\n",
              "Desc    0.405063\n",
              "Name: Label, dtype: float64"
            ]
          },
          "metadata": {
            "tags": []
          },
          "execution_count": 22
        }
      ]
    },
    {
      "cell_type": "code",
      "metadata": {
        "id": "K5cnVDmWQvaQ",
        "outputId": "52ff3d76-d272-40f4-87b1-77a9517e9d8d",
        "colab": {
          "base_uri": "https://localhost:8080/",
          "height": 204
        }
      },
      "source": [
        "train.head()"
      ],
      "execution_count": 23,
      "outputs": [
        {
          "output_type": "execute_result",
          "data": {
            "text/html": [
              "<div>\n",
              "<style scoped>\n",
              "    .dataframe tbody tr th:only-of-type {\n",
              "        vertical-align: middle;\n",
              "    }\n",
              "\n",
              "    .dataframe tbody tr th {\n",
              "        vertical-align: top;\n",
              "    }\n",
              "\n",
              "    .dataframe thead th {\n",
              "        text-align: right;\n",
              "    }\n",
              "</style>\n",
              "<table border=\"1\" class=\"dataframe\">\n",
              "  <thead>\n",
              "    <tr style=\"text-align: right;\">\n",
              "      <th></th>\n",
              "      <th>Question</th>\n",
              "      <th>Label</th>\n",
              "    </tr>\n",
              "  </thead>\n",
              "  <tbody>\n",
              "    <tr>\n",
              "      <th>0</th>\n",
              "      <td>manner How did serfdom develop in and then lea...</td>\n",
              "      <td>DESC</td>\n",
              "    </tr>\n",
              "    <tr>\n",
              "      <th>1</th>\n",
              "      <td>cremat What films featured the character Popey...</td>\n",
              "      <td>FACT</td>\n",
              "    </tr>\n",
              "    <tr>\n",
              "      <th>2</th>\n",
              "      <td>manner How can I find a list of celebrities ' ...</td>\n",
              "      <td>DESC</td>\n",
              "    </tr>\n",
              "    <tr>\n",
              "      <th>3</th>\n",
              "      <td>animal What fowl grabs the spotlight after the...</td>\n",
              "      <td>FACT</td>\n",
              "    </tr>\n",
              "    <tr>\n",
              "      <th>4</th>\n",
              "      <td>exp What is the full form of .com ?\\n</td>\n",
              "      <td>FACT</td>\n",
              "    </tr>\n",
              "  </tbody>\n",
              "</table>\n",
              "</div>"
            ],
            "text/plain": [
              "                                            Question Label\n",
              "0  manner How did serfdom develop in and then lea...  DESC\n",
              "1  cremat What films featured the character Popey...  FACT\n",
              "2  manner How can I find a list of celebrities ' ...  DESC\n",
              "3  animal What fowl grabs the spotlight after the...  FACT\n",
              "4              exp What is the full form of .com ?\\n  FACT"
            ]
          },
          "metadata": {
            "tags": []
          },
          "execution_count": 23
        }
      ]
    },
    {
      "cell_type": "code",
      "metadata": {
        "id": "pSTA4irVQ7fx",
        "outputId": "3f386950-7bc5-4cec-d39b-d950d265dd34",
        "colab": {
          "base_uri": "https://localhost:8080/"
        }
      },
      "source": [
        "train.shape"
      ],
      "execution_count": 25,
      "outputs": [
        {
          "output_type": "execute_result",
          "data": {
            "text/plain": [
              "(5452, 2)"
            ]
          },
          "metadata": {
            "tags": []
          },
          "execution_count": 25
        }
      ]
    },
    {
      "cell_type": "code",
      "metadata": {
        "id": "ixC4v5bzQyRH",
        "outputId": "f572b774-712a-4fc5-a25d-50f781fb5028",
        "colab": {
          "base_uri": "https://localhost:8080/",
          "height": 204
        }
      },
      "source": [
        "df_add.head()"
      ],
      "execution_count": 24,
      "outputs": [
        {
          "output_type": "execute_result",
          "data": {
            "text/html": [
              "<div>\n",
              "<style scoped>\n",
              "    .dataframe tbody tr th:only-of-type {\n",
              "        vertical-align: middle;\n",
              "    }\n",
              "\n",
              "    .dataframe tbody tr th {\n",
              "        vertical-align: top;\n",
              "    }\n",
              "\n",
              "    .dataframe thead th {\n",
              "        text-align: right;\n",
              "    }\n",
              "</style>\n",
              "<table border=\"1\" class=\"dataframe\">\n",
              "  <thead>\n",
              "    <tr style=\"text-align: right;\">\n",
              "      <th></th>\n",
              "      <th>Question</th>\n",
              "      <th>Label</th>\n",
              "    </tr>\n",
              "  </thead>\n",
              "  <tbody>\n",
              "    <tr>\n",
              "      <th>0</th>\n",
              "      <td>Who is CEO designate at HDFC ?</td>\n",
              "      <td>Fact</td>\n",
              "    </tr>\n",
              "    <tr>\n",
              "      <th>1</th>\n",
              "      <td>What was the year on year loan growth in HDFC ...</td>\n",
              "      <td>Fact</td>\n",
              "    </tr>\n",
              "    <tr>\n",
              "      <th>2</th>\n",
              "      <td>What percentage of HDFC's distribution network...</td>\n",
              "      <td>Fact</td>\n",
              "    </tr>\n",
              "    <tr>\n",
              "      <th>3</th>\n",
              "      <td>What is the opinion of HighCourt in Santosh To...</td>\n",
              "      <td>Desc</td>\n",
              "    </tr>\n",
              "    <tr>\n",
              "      <th>4</th>\n",
              "      <td>In Santosh Toppo vs state of odisha case, what...</td>\n",
              "      <td>Desc</td>\n",
              "    </tr>\n",
              "  </tbody>\n",
              "</table>\n",
              "</div>"
            ],
            "text/plain": [
              "                                            Question Label\n",
              "0                     Who is CEO designate at HDFC ?  Fact\n",
              "1  What was the year on year loan growth in HDFC ...  Fact\n",
              "2  What percentage of HDFC's distribution network...  Fact\n",
              "3  What is the opinion of HighCourt in Santosh To...  Desc\n",
              "4  In Santosh Toppo vs state of odisha case, what...  Desc"
            ]
          },
          "metadata": {
            "tags": []
          },
          "execution_count": 24
        }
      ]
    },
    {
      "cell_type": "code",
      "metadata": {
        "id": "noFfisyFQ9OG",
        "outputId": "4257bfe7-00eb-4186-cb37-53d5e384ef8c",
        "colab": {
          "base_uri": "https://localhost:8080/"
        }
      },
      "source": [
        "df_add.shape"
      ],
      "execution_count": 26,
      "outputs": [
        {
          "output_type": "execute_result",
          "data": {
            "text/plain": [
              "(79, 2)"
            ]
          },
          "metadata": {
            "tags": []
          },
          "execution_count": 26
        }
      ]
    },
    {
      "cell_type": "code",
      "metadata": {
        "id": "oqEjqLoJQ16e",
        "outputId": "b81ea484-2c13-4a42-cc0b-8c55246c8427",
        "colab": {
          "base_uri": "https://localhost:8080/"
        }
      },
      "source": [
        "train = pd.concat([train,df_add],axis=0)\n",
        "train.shape"
      ],
      "execution_count": 27,
      "outputs": [
        {
          "output_type": "execute_result",
          "data": {
            "text/plain": [
              "(5531, 2)"
            ]
          },
          "metadata": {
            "tags": []
          },
          "execution_count": 27
        }
      ]
    },
    {
      "cell_type": "code",
      "metadata": {
        "id": "oTYTz4C7RRdu",
        "outputId": "21dfe160-dec1-4957-8ed3-26f759980dfe",
        "colab": {
          "base_uri": "https://localhost:8080/"
        }
      },
      "source": [
        "train.Label.value_counts(normalize=True)"
      ],
      "execution_count": 30,
      "outputs": [
        {
          "output_type": "execute_result",
          "data": {
            "text/plain": [
              "FACT    0.789911\n",
              "DESC    0.210089\n",
              "Name: Label, dtype: float64"
            ]
          },
          "metadata": {
            "tags": []
          },
          "execution_count": 30
        }
      ]
    },
    {
      "cell_type": "code",
      "metadata": {
        "id": "Ef65EwrKRfYo",
        "outputId": "aaf392c9-42c5-4f54-f529-0d134939a4eb",
        "colab": {
          "base_uri": "https://localhost:8080/"
        }
      },
      "source": [
        "train.shape"
      ],
      "execution_count": 31,
      "outputs": [
        {
          "output_type": "execute_result",
          "data": {
            "text/plain": [
              "(5531, 2)"
            ]
          },
          "metadata": {
            "tags": []
          },
          "execution_count": 31
        }
      ]
    },
    {
      "cell_type": "markdown",
      "metadata": {
        "id": "AKNtIw6tRHE2"
      },
      "source": [
        "## Final Training Data Label distribution"
      ]
    },
    {
      "cell_type": "code",
      "metadata": {
        "id": "Wd9wzddIRK_g",
        "outputId": "8f772e62-ab2f-4892-e372-b9b8fddcc92a",
        "colab": {
          "base_uri": "https://localhost:8080/",
          "height": 497
        }
      },
      "source": [
        "plt.figure(figsize=(12,8))\n",
        "sns.countplot(train['Label'])\n",
        "plt.show()"
      ],
      "execution_count": 29,
      "outputs": [
        {
          "output_type": "display_data",
          "data": {
            "image/png": "[encoded data removed]",
            "text/plain": [
              "<Figure size 864x576 with 1 Axes>"
            ]
          },
          "metadata": {
            "tags": []
          }
        }
      ]
    },
    {
      "cell_type": "markdown",
      "metadata": {
        "id": "JH061kx7Nrsk"
      },
      "source": [
        "## Using Transformer Pipeline"
      ]
    },
    {
      "cell_type": "code",
      "metadata": {
        "id": "UzpV6LPa6VbK"
      },
      "source": [
        "sentences = train['Question'].values.tolist()"
      ],
      "execution_count": 32,
      "outputs": []
    },
    {
      "cell_type": "code",
      "metadata": {
        "colab": {
          "base_uri": "https://localhost:8080/",
          "height": 826,
          "referenced_widgets": [
            "2c9008972be34cb89530d63a1ab49385",
            "505bbd11077d482c9c33057e8c3ecf45",
            "e56d26467e7746fbbf4b6b47e96a51a5",
            "a376d47174674401b505a2674c85349b",
            "c343842a317f4208b98c1253ff2c66b2",
            "f42d1427734e433dafd53196f40d111b",
            "b959c2bb5c6a4f4ba6fbf6c084579b1f",
            "47d8a053426041a4bc5d51f3501df28f",
            "51516e8772fa4369abe7de86dc048044",
            "fad8d2924b2648a986e6ccf5a7fa9a82",
            "33f39444299e45d2b02a685fbb35ba28",
            "abfe921a52874007af69bda47c415a7e",
            "24206042eac541a0a91d51becab78917",
            "5cd21df92df2440db2046bc854068fe3",
            "8e06a9b8ca914aacadccb4c197943b3f",
            "436db7e383b44cacb58fc969504bc384",
            "696495e4f1be4d2484fb010e6ae5882b",
            "87ce5a8d9d8d41809e94a098b4be03ba",
            "30a00574d3fd45269bda27fdb20bde65",
            "9aecfb8da7784aac87d7d92bbf707dbe",
            "9f1c236913fd4588b5243fbd6a5bd273",
            "c3d212dfb4674ede9cb14cff3635ab36",
            "6283bffeb0a4413f9cf256975d950170",
            "ed77f4ccc1f14fe6826006fc2e781a21",
            "4c16935def6f4906af840d44cf4ed314",
            "814aa0ac0e9b435fb0c30867fb8b243e",
            "2aef6d8bf1ad42b889388413fa6f0990",
            "c7ef8510d7f2475fbbcbc3d364fab74e",
            "39f56454ca4b4b5eb42337ec5aba4494",
            "b734b04b1d2e4982a4bd5a51576b3a5d",
            "2dfed9fba9164c9884a2af94bcfe4715",
            "9a81c84bf947404da0209e902dba4d7d",
            "9f01b170c0d14b42b8d45a308aaf51b9",
            "db8a0377d9204d79952aacd040d50a5f",
            "466c1a5ef39d4e598bef1cdbc80862ef",
            "76956580609c4e1e9ad602aecb4ef1d7",
            "48b7863c13bf4c8ea5cccd1abd03f62d",
            "f94de275064745eb81e3655a449c90e4",
            "548ce03383a84f90a4a63d4d889c8ad0",
            "a0a56d20494d4e919a0881b22bcc746a",
            "419b087a200b40c8b456ea4d7800d0b0",
            "15482abed8674533984da1e6d6d71512",
            "4d49005273ba4082a90fe3d3cc63438e",
            "3ad294ff965e4780884b0c58ccfa5e8e",
            "c73d8636308c41069f189a36b8f7264e",
            "da36d392d4c84d58b984a7cab10b936e",
            "bda13c9d892542fd9366f1f8af4998ef",
            "64e12ddc908b41e9b138d2b798ee18dc",
            "7bb1add0f0e04e26ba0ada1f350bb30d",
            "098b937dd55c49fcaf32ca5475592b05",
            "55f4d675f983419e84731fc7459dc3d9",
            "e3f5d205292b4dae86f0c314cddf0e5d",
            "e63e34acb4914f319b4c0f5cd91b7901",
            "c4077f83292845da84efd73b7303df47",
            "f20da27c1fb64344928067fbe3e47b17",
            "666f6f0022034d03829fde32b87a20ed",
            "1b19c2efcdd243889b73caf64850129a",
            "c90498a3b93f44fa9e8713cd1cfca175",
            "f17d043cbaab4ca1a26d724e7232df7b",
            "e4c18f23547a4d10b323ac894210b3ca",
            "8f09d3001fd24238bbd45d9599296fa8",
            "80ecf2b4076f403595f2f6df0fecfd22",
            "ed10cbb19403446a9fc7836d9d9b9b9f",
            "2ed0c8efe1cb47b2b7fed4319842c88c",
            "48ad0aa53c684dd58c7eb6f1fbf6315c",
            "fe34be5064f44989b93016d7a9e2385a",
            "7a915ff2171e4903b5ac8d933cd0f8d0",
            "bc9435f4b8e34c6aaa570f6ab37628aa",
            "2b5e1bb03c28408a83aa26e106d15ccb",
            "efdf02bcae7f490f8384387e76cd1de2",
            "2e0223e45b5c4c0c88b04c20be91a614",
            "b3aeb3eba80241bfa782ba5fbd02dc24",
            "b8d78eaea18240eaac99062c06c9fea6",
            "1ec544d061894a4db6eef288b9ca90b6",
            "0cbd8f08f35745198aefdc80d070e674",
            "841d68414d234cf6a4f583d953acedac",
            "0c8ba3c36c4b4159a0866c3751abd55b",
            "1ac4b8642140405da06b4ae2fc23da76",
            "287880b87253484caa5c586dfc714369",
            "75df30a403b54ed890647dd5540610b6",
            "d70aff5c0d8b4d929e9a12e3315bd8c5",
            "789fcea66f95489eb1f9dc3bda568251",
            "2c38f2768f2648e68a098e87fb3e11ae",
            "0f822652d66a4bc7861432839a5a42a3",
            "ca99a1bf3d7543a080a2e7cbc0d4fec1",
            "72ead2366ee64cdca71d78c58ca78020",
            "d6b8b665909f4e7fbde43627fff220f1",
            "78f6617def514422a51025093b523c4f",
            "285212469db9434983ff23c4f602d8c3",
            "b208c2f70f174690be05e77df9800451",
            "2330d1e3f70d464c9695fc5f820aec58",
            "bfc361d9acfe4c9fb9e033f4763df9f2",
            "a9f84b9add4849a4b50ef3e0fbd84e4d",
            "2680963b302748e89362092b17210819",
            "43ad36e8c52e4daa860ece660634cb7e",
            "459a5bbc1bab4caf9b7996fdd2f61287"
          ]
        },
        "id": "BixZRivPiIpB",
        "outputId": "6e5a6f12-da69-4e44-eb9a-5b51de8f4cd4"
      },
      "source": [
        "from sentence_transformers import SentenceTransformer\n",
        "model = SentenceTransformer('sentence-transformers/distilbert-base-nli-mean-tokens')\n",
        "embeddings = model.encode(sentences)\n",
        "print(embeddings)"
      ],
      "execution_count": 33,
      "outputs": [
        {
          "output_type": "display_data",
          "data": {
            "application/vnd.jupyter.widget-view+json": {
              "model_id": "2c9008972be34cb89530d63a1ab49385",
              "version_minor": 0,
              "version_major": 2
            },
            "text/plain": [
              "HBox(children=(FloatProgress(value=0.0, description='Downloading', max=690.0, style=ProgressStyle(description_…"
            ]
          },
          "metadata": {
            "tags": []
          }
        },
        {
          "output_type": "stream",
          "text": [
            "\n"
          ],
          "name": "stdout"
        },
        {
          "output_type": "display_data",
          "data": {
            "application/vnd.jupyter.widget-view+json": {
              "model_id": "51516e8772fa4369abe7de86dc048044",
              "version_minor": 0,
              "version_major": 2
            },
            "text/plain": [
              "HBox(children=(FloatProgress(value=0.0, description='Downloading', max=3968.0, style=ProgressStyle(description…"
            ]
          },
          "metadata": {
            "tags": []
          }
        },
        {
          "output_type": "stream",
          "text": [
            "\n"
          ],
          "name": "stdout"
        },
        {
          "output_type": "display_data",
          "data": {
            "application/vnd.jupyter.widget-view+json": {
              "model_id": "696495e4f1be4d2484fb010e6ae5882b",
              "version_minor": 0,
              "version_major": 2
            },
            "text/plain": [
              "HBox(children=(FloatProgress(value=0.0, description='Downloading', max=550.0, style=ProgressStyle(description_…"
            ]
          },
          "metadata": {
            "tags": []
          }
        },
        {
          "output_type": "stream",
          "text": [
            "\n"
          ],
          "name": "stdout"
        },
        {
          "output_type": "display_data",
          "data": {
            "application/vnd.jupyter.widget-view+json": {
              "model_id": "4c16935def6f4906af840d44cf4ed314",
              "version_minor": 0,
              "version_major": 2
            },
            "text/plain": [
              "HBox(children=(FloatProgress(value=0.0, description='Downloading', max=122.0, style=ProgressStyle(description_…"
            ]
          },
          "metadata": {
            "tags": []
          }
        },
        {
          "output_type": "stream",
          "text": [
            "\n"
          ],
          "name": "stdout"
        },
        {
          "output_type": "display_data",
          "data": {
            "application/vnd.jupyter.widget-view+json": {
              "model_id": "9f01b170c0d14b42b8d45a308aaf51b9",
              "version_minor": 0,
              "version_major": 2
            },
            "text/plain": [
              "HBox(children=(FloatProgress(value=0.0, description='Downloading', max=229.0, style=ProgressStyle(description_…"
            ]
          },
          "metadata": {
            "tags": []
          }
        },
        {
          "output_type": "stream",
          "text": [
            "\n"
          ],
          "name": "stdout"
        },
        {
          "output_type": "display_data",
          "data": {
            "application/vnd.jupyter.widget-view+json": {
              "model_id": "419b087a200b40c8b456ea4d7800d0b0",
              "version_minor": 0,
              "version_major": 2
            },
            "text/plain": [
              "HBox(children=(FloatProgress(value=0.0, description='Downloading', max=265486777.0, style=ProgressStyle(descri…"
            ]
          },
          "metadata": {
            "tags": []
          }
        },
        {
          "output_type": "stream",
          "text": [
            "\n"
          ],
          "name": "stdout"
        },
        {
          "output_type": "display_data",
          "data": {
            "application/vnd.jupyter.widget-view+json": {
              "model_id": "7bb1add0f0e04e26ba0ada1f350bb30d",
              "version_minor": 0,
              "version_major": 2
            },
            "text/plain": [
              "HBox(children=(FloatProgress(value=0.0, description='Downloading', max=53.0, style=ProgressStyle(description_w…"
            ]
          },
          "metadata": {
            "tags": []
          }
        },
        {
          "output_type": "stream",
          "text": [
            "\n"
          ],
          "name": "stdout"
        },
        {
          "output_type": "display_data",
          "data": {
            "application/vnd.jupyter.widget-view+json": {
              "model_id": "1b19c2efcdd243889b73caf64850129a",
              "version_minor": 0,
              "version_major": 2
            },
            "text/plain": [
              "HBox(children=(FloatProgress(value=0.0, description='Downloading', max=112.0, style=ProgressStyle(description_…"
            ]
          },
          "metadata": {
            "tags": []
          }
        },
        {
          "output_type": "stream",
          "text": [
            "\n"
          ],
          "name": "stdout"
        },
        {
          "output_type": "display_data",
          "data": {
            "application/vnd.jupyter.widget-view+json": {
              "model_id": "48ad0aa53c684dd58c7eb6f1fbf6315c",
              "version_minor": 0,
              "version_major": 2
            },
            "text/plain": [
              "HBox(children=(FloatProgress(value=0.0, description='Downloading', max=466081.0, style=ProgressStyle(descripti…"
            ]
          },
          "metadata": {
            "tags": []
          }
        },
        {
          "output_type": "stream",
          "text": [
            "\n"
          ],
          "name": "stdout"
        },
        {
          "output_type": "display_data",
          "data": {
            "application/vnd.jupyter.widget-view+json": {
              "model_id": "b8d78eaea18240eaac99062c06c9fea6",
              "version_minor": 0,
              "version_major": 2
            },
            "text/plain": [
              "HBox(children=(FloatProgress(value=0.0, description='Downloading', max=450.0, style=ProgressStyle(description_…"
            ]
          },
          "metadata": {
            "tags": []
          }
        },
        {
          "output_type": "stream",
          "text": [
            "\n"
          ],
          "name": "stdout"
        },
        {
          "output_type": "display_data",
          "data": {
            "application/vnd.jupyter.widget-view+json": {
              "model_id": "d70aff5c0d8b4d929e9a12e3315bd8c5",
              "version_minor": 0,
              "version_major": 2
            },
            "text/plain": [
              "HBox(children=(FloatProgress(value=0.0, description='Downloading', max=231508.0, style=ProgressStyle(descripti…"
            ]
          },
          "metadata": {
            "tags": []
          }
        },
        {
          "output_type": "stream",
          "text": [
            "\n"
          ],
          "name": "stdout"
        },
        {
          "output_type": "display_data",
          "data": {
            "application/vnd.jupyter.widget-view+json": {
              "model_id": "285212469db9434983ff23c4f602d8c3",
              "version_minor": 0,
              "version_major": 2
            },
            "text/plain": [
              "HBox(children=(FloatProgress(value=0.0, description='Downloading', max=190.0, style=ProgressStyle(description_…"
            ]
          },
          "metadata": {
            "tags": []
          }
        },
        {
          "output_type": "stream",
          "text": [
            "\n",
            "[[-1.2805133  -0.47905654 -0.07459314 ... -0.6903942   0.65552545\n",
            "   0.4299319 ]\n",
            " [ 0.05076513 -0.2315879   0.44918117 ... -0.9458774   0.582182\n",
            "   0.16936457]\n",
            " [ 0.16578268  0.08628527  0.99605757 ... -1.4010975  -0.16692434\n",
            "  -0.66698927]\n",
            " ...\n",
            " [-0.36153388  0.15054157  0.15476921 ... -0.08347503  0.5446452\n",
            "  -0.7916234 ]\n",
            " [-0.55576617 -0.5143806  -0.07920627 ...  0.4858238   0.52702147\n",
            "  -1.3873914 ]\n",
            " [-0.6264321  -0.40990892 -0.3430348  ...  0.24374509  0.09738968\n",
            "  -0.99024826]]\n"
          ],
          "name": "stdout"
        }
      ]
    },
    {
      "cell_type": "markdown",
      "metadata": {
        "id": "3qU0Gr-MJ6n6"
      },
      "source": [
        "* The data we pass between the two models is a vector of size 768. We can think of this of vector as an embedding for the sentence that we can use for classification."
      ]
    },
    {
      "cell_type": "code",
      "metadata": {
        "id": "O2sNRHy4gi_n"
      },
      "source": [
        "train_vector = pd.DataFrame(np.array(embeddings))"
      ],
      "execution_count": 34,
      "outputs": []
    },
    {
      "cell_type": "code",
      "metadata": {
        "colab": {
          "base_uri": "https://localhost:8080/",
          "height": 253
        },
        "id": "9LEmEN8XgxTH",
        "outputId": "52f24129-6e27-4c20-8592-e48d2aa81565"
      },
      "source": [
        "train_vector.head()"
      ],
      "execution_count": 35,
      "outputs": [
        {
          "output_type": "execute_result",
          "data": {
            "text/html": [
              "<div>\n",
              "<style scoped>\n",
              "    .dataframe tbody tr th:only-of-type {\n",
              "        vertical-align: middle;\n",
              "    }\n",
              "\n",
              "    .dataframe tbody tr th {\n",
              "        vertical-align: top;\n",
              "    }\n",
              "\n",
              "    .dataframe thead th {\n",
              "        text-align: right;\n",
              "    }\n",
              "</style>\n",
              "<table border=\"1\" class=\"dataframe\">\n",
              "  <thead>\n",
              "    <tr style=\"text-align: right;\">\n",
              "      <th></th>\n",
              "      <th>0</th>\n",
              "      <th>1</th>\n",
              "      <th>2</th>\n",
              "      <th>3</th>\n",
              "      <th>4</th>\n",
              "      <th>5</th>\n",
              "      <th>6</th>\n",
              "      <th>7</th>\n",
              "      <th>8</th>\n",
              "      <th>9</th>\n",
              "      <th>10</th>\n",
              "      <th>11</th>\n",
              "      <th>12</th>\n",
              "      <th>13</th>\n",
              "      <th>14</th>\n",
              "      <th>15</th>\n",
              "      <th>16</th>\n",
              "      <th>17</th>\n",
              "      <th>18</th>\n",
              "      <th>19</th>\n",
              "      <th>20</th>\n",
              "      <th>21</th>\n",
              "      <th>22</th>\n",
              "      <th>23</th>\n",
              "      <th>24</th>\n",
              "      <th>25</th>\n",
              "      <th>26</th>\n",
              "      <th>27</th>\n",
              "      <th>28</th>\n",
              "      <th>29</th>\n",
              "      <th>30</th>\n",
              "      <th>31</th>\n",
              "      <th>32</th>\n",
              "      <th>33</th>\n",
              "      <th>34</th>\n",
              "      <th>35</th>\n",
              "      <th>36</th>\n",
              "      <th>37</th>\n",
              "      <th>38</th>\n",
              "      <th>39</th>\n",
              "      <th>...</th>\n",
              "      <th>728</th>\n",
              "      <th>729</th>\n",
              "      <th>730</th>\n",
              "      <th>731</th>\n",
              "      <th>732</th>\n",
              "      <th>733</th>\n",
              "      <th>734</th>\n",
              "      <th>735</th>\n",
              "      <th>736</th>\n",
              "      <th>737</th>\n",
              "      <th>738</th>\n",
              "      <th>739</th>\n",
              "      <th>740</th>\n",
              "      <th>741</th>\n",
              "      <th>742</th>\n",
              "      <th>743</th>\n",
              "      <th>744</th>\n",
              "      <th>745</th>\n",
              "      <th>746</th>\n",
              "      <th>747</th>\n",
              "      <th>748</th>\n",
              "      <th>749</th>\n",
              "      <th>750</th>\n",
              "      <th>751</th>\n",
              "      <th>752</th>\n",
              "      <th>753</th>\n",
              "      <th>754</th>\n",
              "      <th>755</th>\n",
              "      <th>756</th>\n",
              "      <th>757</th>\n",
              "      <th>758</th>\n",
              "      <th>759</th>\n",
              "      <th>760</th>\n",
              "      <th>761</th>\n",
              "      <th>762</th>\n",
              "      <th>763</th>\n",
              "      <th>764</th>\n",
              "      <th>765</th>\n",
              "      <th>766</th>\n",
              "      <th>767</th>\n",
              "    </tr>\n",
              "  </thead>\n",
              "  <tbody>\n",
              "    <tr>\n",
              "      <th>0</th>\n",
              "      <td>-1.280513</td>\n",
              "      <td>-0.479057</td>\n",
              "      <td>-0.074593</td>\n",
              "      <td>-1.078833</td>\n",
              "      <td>0.555027</td>\n",
              "      <td>-0.304827</td>\n",
              "      <td>0.710984</td>\n",
              "      <td>0.278825</td>\n",
              "      <td>0.129274</td>\n",
              "      <td>0.484494</td>\n",
              "      <td>0.194379</td>\n",
              "      <td>0.099252</td>\n",
              "      <td>0.048627</td>\n",
              "      <td>0.641369</td>\n",
              "      <td>0.453775</td>\n",
              "      <td>-0.550658</td>\n",
              "      <td>-0.685677</td>\n",
              "      <td>0.614255</td>\n",
              "      <td>-0.001949</td>\n",
              "      <td>-0.382198</td>\n",
              "      <td>-0.034111</td>\n",
              "      <td>0.072872</td>\n",
              "      <td>0.070514</td>\n",
              "      <td>-0.182452</td>\n",
              "      <td>-0.672063</td>\n",
              "      <td>-0.203226</td>\n",
              "      <td>0.207312</td>\n",
              "      <td>-0.494412</td>\n",
              "      <td>-0.015926</td>\n",
              "      <td>0.394312</td>\n",
              "      <td>0.036818</td>\n",
              "      <td>0.289581</td>\n",
              "      <td>0.572028</td>\n",
              "      <td>0.346302</td>\n",
              "      <td>-0.048940</td>\n",
              "      <td>0.285914</td>\n",
              "      <td>0.699641</td>\n",
              "      <td>0.078200</td>\n",
              "      <td>-0.658135</td>\n",
              "      <td>-0.720307</td>\n",
              "      <td>...</td>\n",
              "      <td>-0.032482</td>\n",
              "      <td>-1.037481</td>\n",
              "      <td>-0.430439</td>\n",
              "      <td>0.345353</td>\n",
              "      <td>-0.443688</td>\n",
              "      <td>0.326153</td>\n",
              "      <td>0.006781</td>\n",
              "      <td>-0.017736</td>\n",
              "      <td>0.361109</td>\n",
              "      <td>0.084457</td>\n",
              "      <td>-0.220593</td>\n",
              "      <td>-0.326400</td>\n",
              "      <td>0.109498</td>\n",
              "      <td>-0.313511</td>\n",
              "      <td>0.126476</td>\n",
              "      <td>-1.023944</td>\n",
              "      <td>0.019120</td>\n",
              "      <td>0.276655</td>\n",
              "      <td>0.090974</td>\n",
              "      <td>-0.871337</td>\n",
              "      <td>0.066085</td>\n",
              "      <td>0.055102</td>\n",
              "      <td>0.710252</td>\n",
              "      <td>0.815904</td>\n",
              "      <td>0.116723</td>\n",
              "      <td>-0.763052</td>\n",
              "      <td>-0.191135</td>\n",
              "      <td>-0.117060</td>\n",
              "      <td>-0.917495</td>\n",
              "      <td>0.238745</td>\n",
              "      <td>-0.721925</td>\n",
              "      <td>-0.708831</td>\n",
              "      <td>0.919504</td>\n",
              "      <td>0.014720</td>\n",
              "      <td>-0.218466</td>\n",
              "      <td>-0.707999</td>\n",
              "      <td>-0.060461</td>\n",
              "      <td>-0.690394</td>\n",
              "      <td>0.655525</td>\n",
              "      <td>0.429932</td>\n",
              "    </tr>\n",
              "    <tr>\n",
              "      <th>1</th>\n",
              "      <td>0.050765</td>\n",
              "      <td>-0.231588</td>\n",
              "      <td>0.449181</td>\n",
              "      <td>-0.434117</td>\n",
              "      <td>-0.437005</td>\n",
              "      <td>-0.025377</td>\n",
              "      <td>0.901859</td>\n",
              "      <td>0.299691</td>\n",
              "      <td>0.397571</td>\n",
              "      <td>0.363239</td>\n",
              "      <td>0.813872</td>\n",
              "      <td>-0.242552</td>\n",
              "      <td>-0.046876</td>\n",
              "      <td>0.664556</td>\n",
              "      <td>0.063659</td>\n",
              "      <td>-0.778084</td>\n",
              "      <td>-0.464536</td>\n",
              "      <td>0.818348</td>\n",
              "      <td>0.217839</td>\n",
              "      <td>-0.682176</td>\n",
              "      <td>-0.048324</td>\n",
              "      <td>0.305596</td>\n",
              "      <td>0.005277</td>\n",
              "      <td>-0.105053</td>\n",
              "      <td>-0.850086</td>\n",
              "      <td>-0.180318</td>\n",
              "      <td>0.599913</td>\n",
              "      <td>-0.693822</td>\n",
              "      <td>-0.018520</td>\n",
              "      <td>0.129673</td>\n",
              "      <td>0.459312</td>\n",
              "      <td>0.366443</td>\n",
              "      <td>-0.351863</td>\n",
              "      <td>0.442381</td>\n",
              "      <td>0.333915</td>\n",
              "      <td>-0.367255</td>\n",
              "      <td>1.370850</td>\n",
              "      <td>-0.371237</td>\n",
              "      <td>-0.394274</td>\n",
              "      <td>0.127977</td>\n",
              "      <td>...</td>\n",
              "      <td>-0.759870</td>\n",
              "      <td>-0.319705</td>\n",
              "      <td>-0.320549</td>\n",
              "      <td>0.269263</td>\n",
              "      <td>-0.234702</td>\n",
              "      <td>0.203369</td>\n",
              "      <td>0.363199</td>\n",
              "      <td>0.800868</td>\n",
              "      <td>0.343576</td>\n",
              "      <td>0.986706</td>\n",
              "      <td>-0.211597</td>\n",
              "      <td>0.346223</td>\n",
              "      <td>-0.544377</td>\n",
              "      <td>0.259784</td>\n",
              "      <td>-0.261309</td>\n",
              "      <td>-0.354508</td>\n",
              "      <td>-0.033133</td>\n",
              "      <td>0.439806</td>\n",
              "      <td>0.176840</td>\n",
              "      <td>-0.155799</td>\n",
              "      <td>-1.046834</td>\n",
              "      <td>-0.140347</td>\n",
              "      <td>0.822187</td>\n",
              "      <td>1.090696</td>\n",
              "      <td>-0.127105</td>\n",
              "      <td>-1.281975</td>\n",
              "      <td>0.121476</td>\n",
              "      <td>-0.035386</td>\n",
              "      <td>-1.036541</td>\n",
              "      <td>-0.455563</td>\n",
              "      <td>-1.028530</td>\n",
              "      <td>-0.167689</td>\n",
              "      <td>-0.617334</td>\n",
              "      <td>-0.128336</td>\n",
              "      <td>-0.154140</td>\n",
              "      <td>0.052781</td>\n",
              "      <td>0.287511</td>\n",
              "      <td>-0.945877</td>\n",
              "      <td>0.582182</td>\n",
              "      <td>0.169365</td>\n",
              "    </tr>\n",
              "    <tr>\n",
              "      <th>2</th>\n",
              "      <td>0.165783</td>\n",
              "      <td>0.086285</td>\n",
              "      <td>0.996058</td>\n",
              "      <td>-0.007494</td>\n",
              "      <td>-0.062556</td>\n",
              "      <td>-0.447119</td>\n",
              "      <td>1.157736</td>\n",
              "      <td>-0.594608</td>\n",
              "      <td>-0.278916</td>\n",
              "      <td>0.288759</td>\n",
              "      <td>-0.755688</td>\n",
              "      <td>0.518913</td>\n",
              "      <td>-0.589019</td>\n",
              "      <td>-0.218035</td>\n",
              "      <td>-0.299750</td>\n",
              "      <td>-0.588890</td>\n",
              "      <td>-1.044726</td>\n",
              "      <td>0.417887</td>\n",
              "      <td>-0.516429</td>\n",
              "      <td>-0.688118</td>\n",
              "      <td>0.293211</td>\n",
              "      <td>0.023602</td>\n",
              "      <td>-0.186256</td>\n",
              "      <td>0.847153</td>\n",
              "      <td>-0.451656</td>\n",
              "      <td>0.414896</td>\n",
              "      <td>0.153552</td>\n",
              "      <td>-0.524880</td>\n",
              "      <td>0.480987</td>\n",
              "      <td>0.345678</td>\n",
              "      <td>0.525045</td>\n",
              "      <td>0.589051</td>\n",
              "      <td>-0.483123</td>\n",
              "      <td>0.143385</td>\n",
              "      <td>0.049669</td>\n",
              "      <td>-0.625910</td>\n",
              "      <td>1.300623</td>\n",
              "      <td>-0.494312</td>\n",
              "      <td>0.039376</td>\n",
              "      <td>-0.539756</td>\n",
              "      <td>...</td>\n",
              "      <td>-0.288382</td>\n",
              "      <td>0.158903</td>\n",
              "      <td>-0.675779</td>\n",
              "      <td>-0.603539</td>\n",
              "      <td>-0.569769</td>\n",
              "      <td>0.099041</td>\n",
              "      <td>0.707025</td>\n",
              "      <td>0.829515</td>\n",
              "      <td>-0.109335</td>\n",
              "      <td>0.677547</td>\n",
              "      <td>0.197822</td>\n",
              "      <td>0.223959</td>\n",
              "      <td>-0.297395</td>\n",
              "      <td>-0.826129</td>\n",
              "      <td>-0.965579</td>\n",
              "      <td>-0.218842</td>\n",
              "      <td>1.487624</td>\n",
              "      <td>-0.247484</td>\n",
              "      <td>-0.609410</td>\n",
              "      <td>-0.065343</td>\n",
              "      <td>-0.464756</td>\n",
              "      <td>-0.134924</td>\n",
              "      <td>1.308986</td>\n",
              "      <td>0.461914</td>\n",
              "      <td>-0.319942</td>\n",
              "      <td>-0.315665</td>\n",
              "      <td>-0.672880</td>\n",
              "      <td>0.423251</td>\n",
              "      <td>-1.299873</td>\n",
              "      <td>-0.380741</td>\n",
              "      <td>-1.354729</td>\n",
              "      <td>-0.239815</td>\n",
              "      <td>-0.171939</td>\n",
              "      <td>0.529478</td>\n",
              "      <td>-0.135893</td>\n",
              "      <td>1.097948</td>\n",
              "      <td>-0.018599</td>\n",
              "      <td>-1.401098</td>\n",
              "      <td>-0.166924</td>\n",
              "      <td>-0.666989</td>\n",
              "    </tr>\n",
              "    <tr>\n",
              "      <th>3</th>\n",
              "      <td>-0.178117</td>\n",
              "      <td>-0.473958</td>\n",
              "      <td>0.048357</td>\n",
              "      <td>-1.291486</td>\n",
              "      <td>-0.028839</td>\n",
              "      <td>0.348843</td>\n",
              "      <td>-0.046127</td>\n",
              "      <td>0.052366</td>\n",
              "      <td>-0.436607</td>\n",
              "      <td>1.082325</td>\n",
              "      <td>1.379477</td>\n",
              "      <td>0.269813</td>\n",
              "      <td>-0.224945</td>\n",
              "      <td>0.555075</td>\n",
              "      <td>0.196508</td>\n",
              "      <td>-1.012059</td>\n",
              "      <td>-0.139680</td>\n",
              "      <td>0.013313</td>\n",
              "      <td>0.595400</td>\n",
              "      <td>-0.556999</td>\n",
              "      <td>-0.128182</td>\n",
              "      <td>0.313684</td>\n",
              "      <td>-0.397969</td>\n",
              "      <td>0.625162</td>\n",
              "      <td>-1.139045</td>\n",
              "      <td>0.605109</td>\n",
              "      <td>0.438818</td>\n",
              "      <td>-0.294600</td>\n",
              "      <td>-0.015437</td>\n",
              "      <td>-0.200387</td>\n",
              "      <td>-0.028176</td>\n",
              "      <td>0.543886</td>\n",
              "      <td>-0.501193</td>\n",
              "      <td>0.160217</td>\n",
              "      <td>-0.207827</td>\n",
              "      <td>-0.185351</td>\n",
              "      <td>0.511596</td>\n",
              "      <td>-0.588324</td>\n",
              "      <td>0.523013</td>\n",
              "      <td>-0.696837</td>\n",
              "      <td>...</td>\n",
              "      <td>-1.323598</td>\n",
              "      <td>-0.134632</td>\n",
              "      <td>-0.420599</td>\n",
              "      <td>-0.185516</td>\n",
              "      <td>-0.183404</td>\n",
              "      <td>0.793519</td>\n",
              "      <td>0.255795</td>\n",
              "      <td>0.518475</td>\n",
              "      <td>0.655392</td>\n",
              "      <td>0.389528</td>\n",
              "      <td>-0.159402</td>\n",
              "      <td>0.155687</td>\n",
              "      <td>-0.318773</td>\n",
              "      <td>-0.182897</td>\n",
              "      <td>-0.584351</td>\n",
              "      <td>-1.437036</td>\n",
              "      <td>0.627801</td>\n",
              "      <td>0.532542</td>\n",
              "      <td>0.662939</td>\n",
              "      <td>0.678889</td>\n",
              "      <td>-0.622288</td>\n",
              "      <td>0.319153</td>\n",
              "      <td>0.996853</td>\n",
              "      <td>0.696457</td>\n",
              "      <td>0.012059</td>\n",
              "      <td>-0.387256</td>\n",
              "      <td>0.541324</td>\n",
              "      <td>0.047869</td>\n",
              "      <td>-0.789448</td>\n",
              "      <td>-0.599024</td>\n",
              "      <td>-0.941753</td>\n",
              "      <td>0.158490</td>\n",
              "      <td>-0.710274</td>\n",
              "      <td>0.030269</td>\n",
              "      <td>0.281970</td>\n",
              "      <td>0.180029</td>\n",
              "      <td>0.274251</td>\n",
              "      <td>-0.035899</td>\n",
              "      <td>1.007164</td>\n",
              "      <td>-0.209412</td>\n",
              "    </tr>\n",
              "    <tr>\n",
              "      <th>4</th>\n",
              "      <td>-0.341517</td>\n",
              "      <td>-0.614352</td>\n",
              "      <td>0.075421</td>\n",
              "      <td>-0.381870</td>\n",
              "      <td>-0.037142</td>\n",
              "      <td>-0.639595</td>\n",
              "      <td>1.047396</td>\n",
              "      <td>1.109776</td>\n",
              "      <td>-0.500967</td>\n",
              "      <td>-0.308551</td>\n",
              "      <td>-0.026306</td>\n",
              "      <td>0.817467</td>\n",
              "      <td>0.180813</td>\n",
              "      <td>0.402919</td>\n",
              "      <td>0.446856</td>\n",
              "      <td>-0.506134</td>\n",
              "      <td>-0.852798</td>\n",
              "      <td>0.875699</td>\n",
              "      <td>-0.568851</td>\n",
              "      <td>-0.948410</td>\n",
              "      <td>0.342488</td>\n",
              "      <td>-0.257153</td>\n",
              "      <td>-0.041044</td>\n",
              "      <td>1.054365</td>\n",
              "      <td>0.182189</td>\n",
              "      <td>0.183330</td>\n",
              "      <td>0.685496</td>\n",
              "      <td>-0.191475</td>\n",
              "      <td>-0.196328</td>\n",
              "      <td>-0.376523</td>\n",
              "      <td>0.161194</td>\n",
              "      <td>-0.232624</td>\n",
              "      <td>-0.124186</td>\n",
              "      <td>0.408084</td>\n",
              "      <td>0.532743</td>\n",
              "      <td>-0.697111</td>\n",
              "      <td>-0.076796</td>\n",
              "      <td>-0.269128</td>\n",
              "      <td>-0.596582</td>\n",
              "      <td>-0.246367</td>\n",
              "      <td>...</td>\n",
              "      <td>-0.935546</td>\n",
              "      <td>0.314507</td>\n",
              "      <td>-0.171532</td>\n",
              "      <td>-0.507654</td>\n",
              "      <td>-0.372031</td>\n",
              "      <td>0.384393</td>\n",
              "      <td>-0.427786</td>\n",
              "      <td>-0.062957</td>\n",
              "      <td>0.381884</td>\n",
              "      <td>-0.210031</td>\n",
              "      <td>-0.373228</td>\n",
              "      <td>0.138790</td>\n",
              "      <td>-0.295719</td>\n",
              "      <td>-0.431427</td>\n",
              "      <td>-0.521124</td>\n",
              "      <td>0.406644</td>\n",
              "      <td>0.222613</td>\n",
              "      <td>-0.539807</td>\n",
              "      <td>-0.619525</td>\n",
              "      <td>0.157020</td>\n",
              "      <td>-0.941711</td>\n",
              "      <td>-0.363686</td>\n",
              "      <td>0.716169</td>\n",
              "      <td>-0.360151</td>\n",
              "      <td>-0.008979</td>\n",
              "      <td>-0.696636</td>\n",
              "      <td>-0.872139</td>\n",
              "      <td>0.198449</td>\n",
              "      <td>-0.777934</td>\n",
              "      <td>0.183854</td>\n",
              "      <td>-0.967490</td>\n",
              "      <td>-0.433643</td>\n",
              "      <td>-0.074372</td>\n",
              "      <td>-0.851413</td>\n",
              "      <td>-0.311539</td>\n",
              "      <td>0.008005</td>\n",
              "      <td>-0.179488</td>\n",
              "      <td>-0.726386</td>\n",
              "      <td>0.608123</td>\n",
              "      <td>-0.062077</td>\n",
              "    </tr>\n",
              "  </tbody>\n",
              "</table>\n",
              "<p>5 rows × 768 columns</p>\n",
              "</div>"
            ],
            "text/plain": [
              "        0         1         2    ...       765       766       767\n",
              "0 -1.280513 -0.479057 -0.074593  ... -0.690394  0.655525  0.429932\n",
              "1  0.050765 -0.231588  0.449181  ... -0.945877  0.582182  0.169365\n",
              "2  0.165783  0.086285  0.996058  ... -1.401098 -0.166924 -0.666989\n",
              "3 -0.178117 -0.473958  0.048357  ... -0.035899  1.007164 -0.209412\n",
              "4 -0.341517 -0.614352  0.075421  ... -0.726386  0.608123 -0.062077\n",
              "\n",
              "[5 rows x 768 columns]"
            ]
          },
          "metadata": {
            "tags": []
          },
          "execution_count": 35
        }
      ]
    },
    {
      "cell_type": "code",
      "metadata": {
        "id": "Ad5R3pB3SAff",
        "outputId": "66fe59aa-41b5-461b-b827-dc222eb2e7c9",
        "colab": {
          "base_uri": "https://localhost:8080/"
        }
      },
      "source": [
        "train_vector.shape"
      ],
      "execution_count": 40,
      "outputs": [
        {
          "output_type": "execute_result",
          "data": {
            "text/plain": [
              "(5531, 768)"
            ]
          },
          "metadata": {
            "tags": []
          },
          "execution_count": 40
        }
      ]
    },
    {
      "cell_type": "code",
      "metadata": {
        "id": "jRjDEFHmSEhO",
        "outputId": "508b96c9-2e67-4cd4-9a7b-b06401ce9c91",
        "colab": {
          "base_uri": "https://localhost:8080/"
        }
      },
      "source": [
        "train.shape"
      ],
      "execution_count": 41,
      "outputs": [
        {
          "output_type": "execute_result",
          "data": {
            "text/plain": [
              "(5531, 2)"
            ]
          },
          "metadata": {
            "tags": []
          },
          "execution_count": 41
        }
      ]
    },
    {
      "cell_type": "markdown",
      "metadata": {
        "id": "9oJat2zAIAfs"
      },
      "source": [
        "## Concat genereated word Vector aloing with the original text and label"
      ]
    },
    {
      "cell_type": "code",
      "metadata": {
        "id": "wPsvjKPFSau2"
      },
      "source": [
        "train_vector['Question'] = train['Question'].values.tolist()"
      ],
      "execution_count": 45,
      "outputs": []
    },
    {
      "cell_type": "code",
      "metadata": {
        "id": "RX-BMF7ZS2DH"
      },
      "source": [
        "train_vector['Label'] = train['Label'].values.tolist()"
      ],
      "execution_count": 46,
      "outputs": []
    },
    {
      "cell_type": "code",
      "metadata": {
        "id": "wwY3sMlPhHu3",
        "outputId": "a6d4e3c9-215c-45b3-ef4e-bf5205906e48",
        "colab": {
          "base_uri": "https://localhost:8080/"
        }
      },
      "source": [
        "train_vector.shape"
      ],
      "execution_count": 47,
      "outputs": [
        {
          "output_type": "execute_result",
          "data": {
            "text/plain": [
              "(5531, 770)"
            ]
          },
          "metadata": {
            "tags": []
          },
          "execution_count": 47
        }
      ]
    },
    {
      "cell_type": "code",
      "metadata": {
        "id": "76hpUDIaS_we"
      },
      "source": [
        "final_train = train_vector.copy()"
      ],
      "execution_count": 49,
      "outputs": []
    },
    {
      "cell_type": "code",
      "metadata": {
        "colab": {
          "base_uri": "https://localhost:8080/",
          "height": 644
        },
        "id": "BzI5BguFhba9",
        "outputId": "e99f37ab-f511-4d0d-d1b4-85bc0bcd15d9"
      },
      "source": [
        "final_train.head()"
      ],
      "execution_count": 50,
      "outputs": [
        {
          "output_type": "execute_result",
          "data": {
            "text/html": [
              "<div>\n",
              "<style scoped>\n",
              "    .dataframe tbody tr th:only-of-type {\n",
              "        vertical-align: middle;\n",
              "    }\n",
              "\n",
              "    .dataframe tbody tr th {\n",
              "        vertical-align: top;\n",
              "    }\n",
              "\n",
              "    .dataframe thead th {\n",
              "        text-align: right;\n",
              "    }\n",
              "</style>\n",
              "<table border=\"1\" class=\"dataframe\">\n",
              "  <thead>\n",
              "    <tr style=\"text-align: right;\">\n",
              "      <th></th>\n",
              "      <th>0</th>\n",
              "      <th>1</th>\n",
              "      <th>2</th>\n",
              "      <th>3</th>\n",
              "      <th>4</th>\n",
              "      <th>5</th>\n",
              "      <th>6</th>\n",
              "      <th>7</th>\n",
              "      <th>8</th>\n",
              "      <th>9</th>\n",
              "      <th>10</th>\n",
              "      <th>11</th>\n",
              "      <th>12</th>\n",
              "      <th>13</th>\n",
              "      <th>14</th>\n",
              "      <th>15</th>\n",
              "      <th>16</th>\n",
              "      <th>17</th>\n",
              "      <th>18</th>\n",
              "      <th>19</th>\n",
              "      <th>20</th>\n",
              "      <th>21</th>\n",
              "      <th>22</th>\n",
              "      <th>23</th>\n",
              "      <th>24</th>\n",
              "      <th>25</th>\n",
              "      <th>26</th>\n",
              "      <th>27</th>\n",
              "      <th>28</th>\n",
              "      <th>29</th>\n",
              "      <th>30</th>\n",
              "      <th>31</th>\n",
              "      <th>32</th>\n",
              "      <th>33</th>\n",
              "      <th>34</th>\n",
              "      <th>35</th>\n",
              "      <th>36</th>\n",
              "      <th>37</th>\n",
              "      <th>38</th>\n",
              "      <th>39</th>\n",
              "      <th>...</th>\n",
              "      <th>730</th>\n",
              "      <th>731</th>\n",
              "      <th>732</th>\n",
              "      <th>733</th>\n",
              "      <th>734</th>\n",
              "      <th>735</th>\n",
              "      <th>736</th>\n",
              "      <th>737</th>\n",
              "      <th>738</th>\n",
              "      <th>739</th>\n",
              "      <th>740</th>\n",
              "      <th>741</th>\n",
              "      <th>742</th>\n",
              "      <th>743</th>\n",
              "      <th>744</th>\n",
              "      <th>745</th>\n",
              "      <th>746</th>\n",
              "      <th>747</th>\n",
              "      <th>748</th>\n",
              "      <th>749</th>\n",
              "      <th>750</th>\n",
              "      <th>751</th>\n",
              "      <th>752</th>\n",
              "      <th>753</th>\n",
              "      <th>754</th>\n",
              "      <th>755</th>\n",
              "      <th>756</th>\n",
              "      <th>757</th>\n",
              "      <th>758</th>\n",
              "      <th>759</th>\n",
              "      <th>760</th>\n",
              "      <th>761</th>\n",
              "      <th>762</th>\n",
              "      <th>763</th>\n",
              "      <th>764</th>\n",
              "      <th>765</th>\n",
              "      <th>766</th>\n",
              "      <th>767</th>\n",
              "      <th>Question</th>\n",
              "      <th>Label</th>\n",
              "    </tr>\n",
              "  </thead>\n",
              "  <tbody>\n",
              "    <tr>\n",
              "      <th>0</th>\n",
              "      <td>-1.280513</td>\n",
              "      <td>-0.479057</td>\n",
              "      <td>-0.074593</td>\n",
              "      <td>-1.078833</td>\n",
              "      <td>0.555027</td>\n",
              "      <td>-0.304827</td>\n",
              "      <td>0.710984</td>\n",
              "      <td>0.278825</td>\n",
              "      <td>0.129274</td>\n",
              "      <td>0.484494</td>\n",
              "      <td>0.194379</td>\n",
              "      <td>0.099252</td>\n",
              "      <td>0.048627</td>\n",
              "      <td>0.641369</td>\n",
              "      <td>0.453775</td>\n",
              "      <td>-0.550658</td>\n",
              "      <td>-0.685677</td>\n",
              "      <td>0.614255</td>\n",
              "      <td>-0.001949</td>\n",
              "      <td>-0.382198</td>\n",
              "      <td>-0.034111</td>\n",
              "      <td>0.072872</td>\n",
              "      <td>0.070514</td>\n",
              "      <td>-0.182452</td>\n",
              "      <td>-0.672063</td>\n",
              "      <td>-0.203226</td>\n",
              "      <td>0.207312</td>\n",
              "      <td>-0.494412</td>\n",
              "      <td>-0.015926</td>\n",
              "      <td>0.394312</td>\n",
              "      <td>0.036818</td>\n",
              "      <td>0.289581</td>\n",
              "      <td>0.572028</td>\n",
              "      <td>0.346302</td>\n",
              "      <td>-0.048940</td>\n",
              "      <td>0.285914</td>\n",
              "      <td>0.699641</td>\n",
              "      <td>0.078200</td>\n",
              "      <td>-0.658135</td>\n",
              "      <td>-0.720307</td>\n",
              "      <td>...</td>\n",
              "      <td>-0.430439</td>\n",
              "      <td>0.345353</td>\n",
              "      <td>-0.443688</td>\n",
              "      <td>0.326153</td>\n",
              "      <td>0.006781</td>\n",
              "      <td>-0.017736</td>\n",
              "      <td>0.361109</td>\n",
              "      <td>0.084457</td>\n",
              "      <td>-0.220593</td>\n",
              "      <td>-0.326400</td>\n",
              "      <td>0.109498</td>\n",
              "      <td>-0.313511</td>\n",
              "      <td>0.126476</td>\n",
              "      <td>-1.023944</td>\n",
              "      <td>0.019120</td>\n",
              "      <td>0.276655</td>\n",
              "      <td>0.090974</td>\n",
              "      <td>-0.871337</td>\n",
              "      <td>0.066085</td>\n",
              "      <td>0.055102</td>\n",
              "      <td>0.710252</td>\n",
              "      <td>0.815904</td>\n",
              "      <td>0.116723</td>\n",
              "      <td>-0.763052</td>\n",
              "      <td>-0.191135</td>\n",
              "      <td>-0.117060</td>\n",
              "      <td>-0.917495</td>\n",
              "      <td>0.238745</td>\n",
              "      <td>-0.721925</td>\n",
              "      <td>-0.708831</td>\n",
              "      <td>0.919504</td>\n",
              "      <td>0.014720</td>\n",
              "      <td>-0.218466</td>\n",
              "      <td>-0.707999</td>\n",
              "      <td>-0.060461</td>\n",
              "      <td>-0.690394</td>\n",
              "      <td>0.655525</td>\n",
              "      <td>0.429932</td>\n",
              "      <td>manner How did serfdom develop in and then lea...</td>\n",
              "      <td>DESC</td>\n",
              "    </tr>\n",
              "    <tr>\n",
              "      <th>1</th>\n",
              "      <td>0.050765</td>\n",
              "      <td>-0.231588</td>\n",
              "      <td>0.449181</td>\n",
              "      <td>-0.434117</td>\n",
              "      <td>-0.437005</td>\n",
              "      <td>-0.025377</td>\n",
              "      <td>0.901859</td>\n",
              "      <td>0.299691</td>\n",
              "      <td>0.397571</td>\n",
              "      <td>0.363239</td>\n",
              "      <td>0.813872</td>\n",
              "      <td>-0.242552</td>\n",
              "      <td>-0.046876</td>\n",
              "      <td>0.664556</td>\n",
              "      <td>0.063659</td>\n",
              "      <td>-0.778084</td>\n",
              "      <td>-0.464536</td>\n",
              "      <td>0.818348</td>\n",
              "      <td>0.217839</td>\n",
              "      <td>-0.682176</td>\n",
              "      <td>-0.048324</td>\n",
              "      <td>0.305596</td>\n",
              "      <td>0.005277</td>\n",
              "      <td>-0.105053</td>\n",
              "      <td>-0.850086</td>\n",
              "      <td>-0.180318</td>\n",
              "      <td>0.599913</td>\n",
              "      <td>-0.693822</td>\n",
              "      <td>-0.018520</td>\n",
              "      <td>0.129673</td>\n",
              "      <td>0.459312</td>\n",
              "      <td>0.366443</td>\n",
              "      <td>-0.351863</td>\n",
              "      <td>0.442381</td>\n",
              "      <td>0.333915</td>\n",
              "      <td>-0.367255</td>\n",
              "      <td>1.370850</td>\n",
              "      <td>-0.371237</td>\n",
              "      <td>-0.394274</td>\n",
              "      <td>0.127977</td>\n",
              "      <td>...</td>\n",
              "      <td>-0.320549</td>\n",
              "      <td>0.269263</td>\n",
              "      <td>-0.234702</td>\n",
              "      <td>0.203369</td>\n",
              "      <td>0.363199</td>\n",
              "      <td>0.800868</td>\n",
              "      <td>0.343576</td>\n",
              "      <td>0.986706</td>\n",
              "      <td>-0.211597</td>\n",
              "      <td>0.346223</td>\n",
              "      <td>-0.544377</td>\n",
              "      <td>0.259784</td>\n",
              "      <td>-0.261309</td>\n",
              "      <td>-0.354508</td>\n",
              "      <td>-0.033133</td>\n",
              "      <td>0.439806</td>\n",
              "      <td>0.176840</td>\n",
              "      <td>-0.155799</td>\n",
              "      <td>-1.046834</td>\n",
              "      <td>-0.140347</td>\n",
              "      <td>0.822187</td>\n",
              "      <td>1.090696</td>\n",
              "      <td>-0.127105</td>\n",
              "      <td>-1.281975</td>\n",
              "      <td>0.121476</td>\n",
              "      <td>-0.035386</td>\n",
              "      <td>-1.036541</td>\n",
              "      <td>-0.455563</td>\n",
              "      <td>-1.028530</td>\n",
              "      <td>-0.167689</td>\n",
              "      <td>-0.617334</td>\n",
              "      <td>-0.128336</td>\n",
              "      <td>-0.154140</td>\n",
              "      <td>0.052781</td>\n",
              "      <td>0.287511</td>\n",
              "      <td>-0.945877</td>\n",
              "      <td>0.582182</td>\n",
              "      <td>0.169365</td>\n",
              "      <td>cremat What films featured the character Popey...</td>\n",
              "      <td>FACT</td>\n",
              "    </tr>\n",
              "    <tr>\n",
              "      <th>2</th>\n",
              "      <td>0.165783</td>\n",
              "      <td>0.086285</td>\n",
              "      <td>0.996058</td>\n",
              "      <td>-0.007494</td>\n",
              "      <td>-0.062556</td>\n",
              "      <td>-0.447119</td>\n",
              "      <td>1.157736</td>\n",
              "      <td>-0.594608</td>\n",
              "      <td>-0.278916</td>\n",
              "      <td>0.288759</td>\n",
              "      <td>-0.755688</td>\n",
              "      <td>0.518913</td>\n",
              "      <td>-0.589019</td>\n",
              "      <td>-0.218035</td>\n",
              "      <td>-0.299750</td>\n",
              "      <td>-0.588890</td>\n",
              "      <td>-1.044726</td>\n",
              "      <td>0.417887</td>\n",
              "      <td>-0.516429</td>\n",
              "      <td>-0.688118</td>\n",
              "      <td>0.293211</td>\n",
              "      <td>0.023602</td>\n",
              "      <td>-0.186256</td>\n",
              "      <td>0.847153</td>\n",
              "      <td>-0.451656</td>\n",
              "      <td>0.414896</td>\n",
              "      <td>0.153552</td>\n",
              "      <td>-0.524880</td>\n",
              "      <td>0.480987</td>\n",
              "      <td>0.345678</td>\n",
              "      <td>0.525045</td>\n",
              "      <td>0.589051</td>\n",
              "      <td>-0.483123</td>\n",
              "      <td>0.143385</td>\n",
              "      <td>0.049669</td>\n",
              "      <td>-0.625910</td>\n",
              "      <td>1.300623</td>\n",
              "      <td>-0.494312</td>\n",
              "      <td>0.039376</td>\n",
              "      <td>-0.539756</td>\n",
              "      <td>...</td>\n",
              "      <td>-0.675779</td>\n",
              "      <td>-0.603539</td>\n",
              "      <td>-0.569769</td>\n",
              "      <td>0.099041</td>\n",
              "      <td>0.707025</td>\n",
              "      <td>0.829515</td>\n",
              "      <td>-0.109335</td>\n",
              "      <td>0.677547</td>\n",
              "      <td>0.197822</td>\n",
              "      <td>0.223959</td>\n",
              "      <td>-0.297395</td>\n",
              "      <td>-0.826129</td>\n",
              "      <td>-0.965579</td>\n",
              "      <td>-0.218842</td>\n",
              "      <td>1.487624</td>\n",
              "      <td>-0.247484</td>\n",
              "      <td>-0.609410</td>\n",
              "      <td>-0.065343</td>\n",
              "      <td>-0.464756</td>\n",
              "      <td>-0.134924</td>\n",
              "      <td>1.308986</td>\n",
              "      <td>0.461914</td>\n",
              "      <td>-0.319942</td>\n",
              "      <td>-0.315665</td>\n",
              "      <td>-0.672880</td>\n",
              "      <td>0.423251</td>\n",
              "      <td>-1.299873</td>\n",
              "      <td>-0.380741</td>\n",
              "      <td>-1.354729</td>\n",
              "      <td>-0.239815</td>\n",
              "      <td>-0.171939</td>\n",
              "      <td>0.529478</td>\n",
              "      <td>-0.135893</td>\n",
              "      <td>1.097948</td>\n",
              "      <td>-0.018599</td>\n",
              "      <td>-1.401098</td>\n",
              "      <td>-0.166924</td>\n",
              "      <td>-0.666989</td>\n",
              "      <td>manner How can I find a list of celebrities ' ...</td>\n",
              "      <td>DESC</td>\n",
              "    </tr>\n",
              "    <tr>\n",
              "      <th>3</th>\n",
              "      <td>-0.178117</td>\n",
              "      <td>-0.473958</td>\n",
              "      <td>0.048357</td>\n",
              "      <td>-1.291486</td>\n",
              "      <td>-0.028839</td>\n",
              "      <td>0.348843</td>\n",
              "      <td>-0.046127</td>\n",
              "      <td>0.052366</td>\n",
              "      <td>-0.436607</td>\n",
              "      <td>1.082325</td>\n",
              "      <td>1.379477</td>\n",
              "      <td>0.269813</td>\n",
              "      <td>-0.224945</td>\n",
              "      <td>0.555075</td>\n",
              "      <td>0.196508</td>\n",
              "      <td>-1.012059</td>\n",
              "      <td>-0.139680</td>\n",
              "      <td>0.013313</td>\n",
              "      <td>0.595400</td>\n",
              "      <td>-0.556999</td>\n",
              "      <td>-0.128182</td>\n",
              "      <td>0.313684</td>\n",
              "      <td>-0.397969</td>\n",
              "      <td>0.625162</td>\n",
              "      <td>-1.139045</td>\n",
              "      <td>0.605109</td>\n",
              "      <td>0.438818</td>\n",
              "      <td>-0.294600</td>\n",
              "      <td>-0.015437</td>\n",
              "      <td>-0.200387</td>\n",
              "      <td>-0.028176</td>\n",
              "      <td>0.543886</td>\n",
              "      <td>-0.501193</td>\n",
              "      <td>0.160217</td>\n",
              "      <td>-0.207827</td>\n",
              "      <td>-0.185351</td>\n",
              "      <td>0.511596</td>\n",
              "      <td>-0.588324</td>\n",
              "      <td>0.523013</td>\n",
              "      <td>-0.696837</td>\n",
              "      <td>...</td>\n",
              "      <td>-0.420599</td>\n",
              "      <td>-0.185516</td>\n",
              "      <td>-0.183404</td>\n",
              "      <td>0.793519</td>\n",
              "      <td>0.255795</td>\n",
              "      <td>0.518475</td>\n",
              "      <td>0.655392</td>\n",
              "      <td>0.389528</td>\n",
              "      <td>-0.159402</td>\n",
              "      <td>0.155687</td>\n",
              "      <td>-0.318773</td>\n",
              "      <td>-0.182897</td>\n",
              "      <td>-0.584351</td>\n",
              "      <td>-1.437036</td>\n",
              "      <td>0.627801</td>\n",
              "      <td>0.532542</td>\n",
              "      <td>0.662939</td>\n",
              "      <td>0.678889</td>\n",
              "      <td>-0.622288</td>\n",
              "      <td>0.319153</td>\n",
              "      <td>0.996853</td>\n",
              "      <td>0.696457</td>\n",
              "      <td>0.012059</td>\n",
              "      <td>-0.387256</td>\n",
              "      <td>0.541324</td>\n",
              "      <td>0.047869</td>\n",
              "      <td>-0.789448</td>\n",
              "      <td>-0.599024</td>\n",
              "      <td>-0.941753</td>\n",
              "      <td>0.158490</td>\n",
              "      <td>-0.710274</td>\n",
              "      <td>0.030269</td>\n",
              "      <td>0.281970</td>\n",
              "      <td>0.180029</td>\n",
              "      <td>0.274251</td>\n",
              "      <td>-0.035899</td>\n",
              "      <td>1.007164</td>\n",
              "      <td>-0.209412</td>\n",
              "      <td>animal What fowl grabs the spotlight after the...</td>\n",
              "      <td>FACT</td>\n",
              "    </tr>\n",
              "    <tr>\n",
              "      <th>4</th>\n",
              "      <td>-0.341517</td>\n",
              "      <td>-0.614352</td>\n",
              "      <td>0.075421</td>\n",
              "      <td>-0.381870</td>\n",
              "      <td>-0.037142</td>\n",
              "      <td>-0.639595</td>\n",
              "      <td>1.047396</td>\n",
              "      <td>1.109776</td>\n",
              "      <td>-0.500967</td>\n",
              "      <td>-0.308551</td>\n",
              "      <td>-0.026306</td>\n",
              "      <td>0.817467</td>\n",
              "      <td>0.180813</td>\n",
              "      <td>0.402919</td>\n",
              "      <td>0.446856</td>\n",
              "      <td>-0.506134</td>\n",
              "      <td>-0.852798</td>\n",
              "      <td>0.875699</td>\n",
              "      <td>-0.568851</td>\n",
              "      <td>-0.948410</td>\n",
              "      <td>0.342488</td>\n",
              "      <td>-0.257153</td>\n",
              "      <td>-0.041044</td>\n",
              "      <td>1.054365</td>\n",
              "      <td>0.182189</td>\n",
              "      <td>0.183330</td>\n",
              "      <td>0.685496</td>\n",
              "      <td>-0.191475</td>\n",
              "      <td>-0.196328</td>\n",
              "      <td>-0.376523</td>\n",
              "      <td>0.161194</td>\n",
              "      <td>-0.232624</td>\n",
              "      <td>-0.124186</td>\n",
              "      <td>0.408084</td>\n",
              "      <td>0.532743</td>\n",
              "      <td>-0.697111</td>\n",
              "      <td>-0.076796</td>\n",
              "      <td>-0.269128</td>\n",
              "      <td>-0.596582</td>\n",
              "      <td>-0.246367</td>\n",
              "      <td>...</td>\n",
              "      <td>-0.171532</td>\n",
              "      <td>-0.507654</td>\n",
              "      <td>-0.372031</td>\n",
              "      <td>0.384393</td>\n",
              "      <td>-0.427786</td>\n",
              "      <td>-0.062957</td>\n",
              "      <td>0.381884</td>\n",
              "      <td>-0.210031</td>\n",
              "      <td>-0.373228</td>\n",
              "      <td>0.138790</td>\n",
              "      <td>-0.295719</td>\n",
              "      <td>-0.431427</td>\n",
              "      <td>-0.521124</td>\n",
              "      <td>0.406644</td>\n",
              "      <td>0.222613</td>\n",
              "      <td>-0.539807</td>\n",
              "      <td>-0.619525</td>\n",
              "      <td>0.157020</td>\n",
              "      <td>-0.941711</td>\n",
              "      <td>-0.363686</td>\n",
              "      <td>0.716169</td>\n",
              "      <td>-0.360151</td>\n",
              "      <td>-0.008979</td>\n",
              "      <td>-0.696636</td>\n",
              "      <td>-0.872139</td>\n",
              "      <td>0.198449</td>\n",
              "      <td>-0.777934</td>\n",
              "      <td>0.183854</td>\n",
              "      <td>-0.967490</td>\n",
              "      <td>-0.433643</td>\n",
              "      <td>-0.074372</td>\n",
              "      <td>-0.851413</td>\n",
              "      <td>-0.311539</td>\n",
              "      <td>0.008005</td>\n",
              "      <td>-0.179488</td>\n",
              "      <td>-0.726386</td>\n",
              "      <td>0.608123</td>\n",
              "      <td>-0.062077</td>\n",
              "      <td>exp What is the full form of .com ?\\n</td>\n",
              "      <td>FACT</td>\n",
              "    </tr>\n",
              "  </tbody>\n",
              "</table>\n",
              "<p>5 rows × 770 columns</p>\n",
              "</div>"
            ],
            "text/plain": [
              "          0         1  ...                                           Question  Label\n",
              "0 -1.280513 -0.479057  ...  manner How did serfdom develop in and then lea...   DESC\n",
              "1  0.050765 -0.231588  ...  cremat What films featured the character Popey...   FACT\n",
              "2  0.165783  0.086285  ...  manner How can I find a list of celebrities ' ...   DESC\n",
              "3 -0.178117 -0.473958  ...  animal What fowl grabs the spotlight after the...   FACT\n",
              "4 -0.341517 -0.614352  ...              exp What is the full form of .com ?\\n   FACT\n",
              "\n",
              "[5 rows x 770 columns]"
            ]
          },
          "metadata": {
            "tags": []
          },
          "execution_count": 50
        }
      ]
    },
    {
      "cell_type": "markdown",
      "metadata": {
        "id": "OG6_qHVNoReY"
      },
      "source": [
        "## Import Machine Learning Packages"
      ]
    },
    {
      "cell_type": "code",
      "metadata": {
        "id": "HtmM6ZbioU3j"
      },
      "source": [
        "from sklearn.linear_model import LogisticRegression\n",
        "from sklearn.ensemble import RandomForestClassifier\n",
        "from lightgbm import LGBMClassifier\n",
        "from sklearn.model_selection import train_test_split\n",
        "from sklearn.preprocessing import LabelEncoder"
      ],
      "execution_count": 51,
      "outputs": []
    },
    {
      "cell_type": "markdown",
      "metadata": {
        "id": "jQxJMd-AJaCN"
      },
      "source": [
        "## Label encoding the target (Label)"
      ]
    },
    {
      "cell_type": "code",
      "metadata": {
        "colab": {
          "base_uri": "https://localhost:8080/"
        },
        "id": "HV59K9NopUCr",
        "outputId": "31745cbf-bb3c-4502-8ebd-1997781971c2"
      },
      "source": [
        "lb = LabelEncoder()\n",
        "lbl_encoded = lb.fit_transform(final_train['Label'])\n",
        "lb.classes_"
      ],
      "execution_count": 52,
      "outputs": [
        {
          "output_type": "execute_result",
          "data": {
            "text/plain": [
              "array(['DESC', 'FACT'], dtype=object)"
            ]
          },
          "metadata": {
            "tags": []
          },
          "execution_count": 52
        }
      ]
    },
    {
      "cell_type": "code",
      "metadata": {
        "colab": {
          "base_uri": "https://localhost:8080/",
          "height": 644
        },
        "id": "hI3i7nRrtwRr",
        "outputId": "a4fd58e3-80bb-4913-fd84-da815e379607"
      },
      "source": [
        "final_train['Label_enc'] = lbl_encoded \n",
        "final_train.head()"
      ],
      "execution_count": 53,
      "outputs": [
        {
          "output_type": "execute_result",
          "data": {
            "text/html": [
              "<div>\n",
              "<style scoped>\n",
              "    .dataframe tbody tr th:only-of-type {\n",
              "        vertical-align: middle;\n",
              "    }\n",
              "\n",
              "    .dataframe tbody tr th {\n",
              "        vertical-align: top;\n",
              "    }\n",
              "\n",
              "    .dataframe thead th {\n",
              "        text-align: right;\n",
              "    }\n",
              "</style>\n",
              "<table border=\"1\" class=\"dataframe\">\n",
              "  <thead>\n",
              "    <tr style=\"text-align: right;\">\n",
              "      <th></th>\n",
              "      <th>0</th>\n",
              "      <th>1</th>\n",
              "      <th>2</th>\n",
              "      <th>3</th>\n",
              "      <th>4</th>\n",
              "      <th>5</th>\n",
              "      <th>6</th>\n",
              "      <th>7</th>\n",
              "      <th>8</th>\n",
              "      <th>9</th>\n",
              "      <th>10</th>\n",
              "      <th>11</th>\n",
              "      <th>12</th>\n",
              "      <th>13</th>\n",
              "      <th>14</th>\n",
              "      <th>15</th>\n",
              "      <th>16</th>\n",
              "      <th>17</th>\n",
              "      <th>18</th>\n",
              "      <th>19</th>\n",
              "      <th>20</th>\n",
              "      <th>21</th>\n",
              "      <th>22</th>\n",
              "      <th>23</th>\n",
              "      <th>24</th>\n",
              "      <th>25</th>\n",
              "      <th>26</th>\n",
              "      <th>27</th>\n",
              "      <th>28</th>\n",
              "      <th>29</th>\n",
              "      <th>30</th>\n",
              "      <th>31</th>\n",
              "      <th>32</th>\n",
              "      <th>33</th>\n",
              "      <th>34</th>\n",
              "      <th>35</th>\n",
              "      <th>36</th>\n",
              "      <th>37</th>\n",
              "      <th>38</th>\n",
              "      <th>39</th>\n",
              "      <th>...</th>\n",
              "      <th>731</th>\n",
              "      <th>732</th>\n",
              "      <th>733</th>\n",
              "      <th>734</th>\n",
              "      <th>735</th>\n",
              "      <th>736</th>\n",
              "      <th>737</th>\n",
              "      <th>738</th>\n",
              "      <th>739</th>\n",
              "      <th>740</th>\n",
              "      <th>741</th>\n",
              "      <th>742</th>\n",
              "      <th>743</th>\n",
              "      <th>744</th>\n",
              "      <th>745</th>\n",
              "      <th>746</th>\n",
              "      <th>747</th>\n",
              "      <th>748</th>\n",
              "      <th>749</th>\n",
              "      <th>750</th>\n",
              "      <th>751</th>\n",
              "      <th>752</th>\n",
              "      <th>753</th>\n",
              "      <th>754</th>\n",
              "      <th>755</th>\n",
              "      <th>756</th>\n",
              "      <th>757</th>\n",
              "      <th>758</th>\n",
              "      <th>759</th>\n",
              "      <th>760</th>\n",
              "      <th>761</th>\n",
              "      <th>762</th>\n",
              "      <th>763</th>\n",
              "      <th>764</th>\n",
              "      <th>765</th>\n",
              "      <th>766</th>\n",
              "      <th>767</th>\n",
              "      <th>Question</th>\n",
              "      <th>Label</th>\n",
              "      <th>Label_enc</th>\n",
              "    </tr>\n",
              "  </thead>\n",
              "  <tbody>\n",
              "    <tr>\n",
              "      <th>0</th>\n",
              "      <td>-1.280513</td>\n",
              "      <td>-0.479057</td>\n",
              "      <td>-0.074593</td>\n",
              "      <td>-1.078833</td>\n",
              "      <td>0.555027</td>\n",
              "      <td>-0.304827</td>\n",
              "      <td>0.710984</td>\n",
              "      <td>0.278825</td>\n",
              "      <td>0.129274</td>\n",
              "      <td>0.484494</td>\n",
              "      <td>0.194379</td>\n",
              "      <td>0.099252</td>\n",
              "      <td>0.048627</td>\n",
              "      <td>0.641369</td>\n",
              "      <td>0.453775</td>\n",
              "      <td>-0.550658</td>\n",
              "      <td>-0.685677</td>\n",
              "      <td>0.614255</td>\n",
              "      <td>-0.001949</td>\n",
              "      <td>-0.382198</td>\n",
              "      <td>-0.034111</td>\n",
              "      <td>0.072872</td>\n",
              "      <td>0.070514</td>\n",
              "      <td>-0.182452</td>\n",
              "      <td>-0.672063</td>\n",
              "      <td>-0.203226</td>\n",
              "      <td>0.207312</td>\n",
              "      <td>-0.494412</td>\n",
              "      <td>-0.015926</td>\n",
              "      <td>0.394312</td>\n",
              "      <td>0.036818</td>\n",
              "      <td>0.289581</td>\n",
              "      <td>0.572028</td>\n",
              "      <td>0.346302</td>\n",
              "      <td>-0.048940</td>\n",
              "      <td>0.285914</td>\n",
              "      <td>0.699641</td>\n",
              "      <td>0.078200</td>\n",
              "      <td>-0.658135</td>\n",
              "      <td>-0.720307</td>\n",
              "      <td>...</td>\n",
              "      <td>0.345353</td>\n",
              "      <td>-0.443688</td>\n",
              "      <td>0.326153</td>\n",
              "      <td>0.006781</td>\n",
              "      <td>-0.017736</td>\n",
              "      <td>0.361109</td>\n",
              "      <td>0.084457</td>\n",
              "      <td>-0.220593</td>\n",
              "      <td>-0.326400</td>\n",
              "      <td>0.109498</td>\n",
              "      <td>-0.313511</td>\n",
              "      <td>0.126476</td>\n",
              "      <td>-1.023944</td>\n",
              "      <td>0.019120</td>\n",
              "      <td>0.276655</td>\n",
              "      <td>0.090974</td>\n",
              "      <td>-0.871337</td>\n",
              "      <td>0.066085</td>\n",
              "      <td>0.055102</td>\n",
              "      <td>0.710252</td>\n",
              "      <td>0.815904</td>\n",
              "      <td>0.116723</td>\n",
              "      <td>-0.763052</td>\n",
              "      <td>-0.191135</td>\n",
              "      <td>-0.117060</td>\n",
              "      <td>-0.917495</td>\n",
              "      <td>0.238745</td>\n",
              "      <td>-0.721925</td>\n",
              "      <td>-0.708831</td>\n",
              "      <td>0.919504</td>\n",
              "      <td>0.014720</td>\n",
              "      <td>-0.218466</td>\n",
              "      <td>-0.707999</td>\n",
              "      <td>-0.060461</td>\n",
              "      <td>-0.690394</td>\n",
              "      <td>0.655525</td>\n",
              "      <td>0.429932</td>\n",
              "      <td>manner How did serfdom develop in and then lea...</td>\n",
              "      <td>DESC</td>\n",
              "      <td>0</td>\n",
              "    </tr>\n",
              "    <tr>\n",
              "      <th>1</th>\n",
              "      <td>0.050765</td>\n",
              "      <td>-0.231588</td>\n",
              "      <td>0.449181</td>\n",
              "      <td>-0.434117</td>\n",
              "      <td>-0.437005</td>\n",
              "      <td>-0.025377</td>\n",
              "      <td>0.901859</td>\n",
              "      <td>0.299691</td>\n",
              "      <td>0.397571</td>\n",
              "      <td>0.363239</td>\n",
              "      <td>0.813872</td>\n",
              "      <td>-0.242552</td>\n",
              "      <td>-0.046876</td>\n",
              "      <td>0.664556</td>\n",
              "      <td>0.063659</td>\n",
              "      <td>-0.778084</td>\n",
              "      <td>-0.464536</td>\n",
              "      <td>0.818348</td>\n",
              "      <td>0.217839</td>\n",
              "      <td>-0.682176</td>\n",
              "      <td>-0.048324</td>\n",
              "      <td>0.305596</td>\n",
              "      <td>0.005277</td>\n",
              "      <td>-0.105053</td>\n",
              "      <td>-0.850086</td>\n",
              "      <td>-0.180318</td>\n",
              "      <td>0.599913</td>\n",
              "      <td>-0.693822</td>\n",
              "      <td>-0.018520</td>\n",
              "      <td>0.129673</td>\n",
              "      <td>0.459312</td>\n",
              "      <td>0.366443</td>\n",
              "      <td>-0.351863</td>\n",
              "      <td>0.442381</td>\n",
              "      <td>0.333915</td>\n",
              "      <td>-0.367255</td>\n",
              "      <td>1.370850</td>\n",
              "      <td>-0.371237</td>\n",
              "      <td>-0.394274</td>\n",
              "      <td>0.127977</td>\n",
              "      <td>...</td>\n",
              "      <td>0.269263</td>\n",
              "      <td>-0.234702</td>\n",
              "      <td>0.203369</td>\n",
              "      <td>0.363199</td>\n",
              "      <td>0.800868</td>\n",
              "      <td>0.343576</td>\n",
              "      <td>0.986706</td>\n",
              "      <td>-0.211597</td>\n",
              "      <td>0.346223</td>\n",
              "      <td>-0.544377</td>\n",
              "      <td>0.259784</td>\n",
              "      <td>-0.261309</td>\n",
              "      <td>-0.354508</td>\n",
              "      <td>-0.033133</td>\n",
              "      <td>0.439806</td>\n",
              "      <td>0.176840</td>\n",
              "      <td>-0.155799</td>\n",
              "      <td>-1.046834</td>\n",
              "      <td>-0.140347</td>\n",
              "      <td>0.822187</td>\n",
              "      <td>1.090696</td>\n",
              "      <td>-0.127105</td>\n",
              "      <td>-1.281975</td>\n",
              "      <td>0.121476</td>\n",
              "      <td>-0.035386</td>\n",
              "      <td>-1.036541</td>\n",
              "      <td>-0.455563</td>\n",
              "      <td>-1.028530</td>\n",
              "      <td>-0.167689</td>\n",
              "      <td>-0.617334</td>\n",
              "      <td>-0.128336</td>\n",
              "      <td>-0.154140</td>\n",
              "      <td>0.052781</td>\n",
              "      <td>0.287511</td>\n",
              "      <td>-0.945877</td>\n",
              "      <td>0.582182</td>\n",
              "      <td>0.169365</td>\n",
              "      <td>cremat What films featured the character Popey...</td>\n",
              "      <td>FACT</td>\n",
              "      <td>1</td>\n",
              "    </tr>\n",
              "    <tr>\n",
              "      <th>2</th>\n",
              "      <td>0.165783</td>\n",
              "      <td>0.086285</td>\n",
              "      <td>0.996058</td>\n",
              "      <td>-0.007494</td>\n",
              "      <td>-0.062556</td>\n",
              "      <td>-0.447119</td>\n",
              "      <td>1.157736</td>\n",
              "      <td>-0.594608</td>\n",
              "      <td>-0.278916</td>\n",
              "      <td>0.288759</td>\n",
              "      <td>-0.755688</td>\n",
              "      <td>0.518913</td>\n",
              "      <td>-0.589019</td>\n",
              "      <td>-0.218035</td>\n",
              "      <td>-0.299750</td>\n",
              "      <td>-0.588890</td>\n",
              "      <td>-1.044726</td>\n",
              "      <td>0.417887</td>\n",
              "      <td>-0.516429</td>\n",
              "      <td>-0.688118</td>\n",
              "      <td>0.293211</td>\n",
              "      <td>0.023602</td>\n",
              "      <td>-0.186256</td>\n",
              "      <td>0.847153</td>\n",
              "      <td>-0.451656</td>\n",
              "      <td>0.414896</td>\n",
              "      <td>0.153552</td>\n",
              "      <td>-0.524880</td>\n",
              "      <td>0.480987</td>\n",
              "      <td>0.345678</td>\n",
              "      <td>0.525045</td>\n",
              "      <td>0.589051</td>\n",
              "      <td>-0.483123</td>\n",
              "      <td>0.143385</td>\n",
              "      <td>0.049669</td>\n",
              "      <td>-0.625910</td>\n",
              "      <td>1.300623</td>\n",
              "      <td>-0.494312</td>\n",
              "      <td>0.039376</td>\n",
              "      <td>-0.539756</td>\n",
              "      <td>...</td>\n",
              "      <td>-0.603539</td>\n",
              "      <td>-0.569769</td>\n",
              "      <td>0.099041</td>\n",
              "      <td>0.707025</td>\n",
              "      <td>0.829515</td>\n",
              "      <td>-0.109335</td>\n",
              "      <td>0.677547</td>\n",
              "      <td>0.197822</td>\n",
              "      <td>0.223959</td>\n",
              "      <td>-0.297395</td>\n",
              "      <td>-0.826129</td>\n",
              "      <td>-0.965579</td>\n",
              "      <td>-0.218842</td>\n",
              "      <td>1.487624</td>\n",
              "      <td>-0.247484</td>\n",
              "      <td>-0.609410</td>\n",
              "      <td>-0.065343</td>\n",
              "      <td>-0.464756</td>\n",
              "      <td>-0.134924</td>\n",
              "      <td>1.308986</td>\n",
              "      <td>0.461914</td>\n",
              "      <td>-0.319942</td>\n",
              "      <td>-0.315665</td>\n",
              "      <td>-0.672880</td>\n",
              "      <td>0.423251</td>\n",
              "      <td>-1.299873</td>\n",
              "      <td>-0.380741</td>\n",
              "      <td>-1.354729</td>\n",
              "      <td>-0.239815</td>\n",
              "      <td>-0.171939</td>\n",
              "      <td>0.529478</td>\n",
              "      <td>-0.135893</td>\n",
              "      <td>1.097948</td>\n",
              "      <td>-0.018599</td>\n",
              "      <td>-1.401098</td>\n",
              "      <td>-0.166924</td>\n",
              "      <td>-0.666989</td>\n",
              "      <td>manner How can I find a list of celebrities ' ...</td>\n",
              "      <td>DESC</td>\n",
              "      <td>0</td>\n",
              "    </tr>\n",
              "    <tr>\n",
              "      <th>3</th>\n",
              "      <td>-0.178117</td>\n",
              "      <td>-0.473958</td>\n",
              "      <td>0.048357</td>\n",
              "      <td>-1.291486</td>\n",
              "      <td>-0.028839</td>\n",
              "      <td>0.348843</td>\n",
              "      <td>-0.046127</td>\n",
              "      <td>0.052366</td>\n",
              "      <td>-0.436607</td>\n",
              "      <td>1.082325</td>\n",
              "      <td>1.379477</td>\n",
              "      <td>0.269813</td>\n",
              "      <td>-0.224945</td>\n",
              "      <td>0.555075</td>\n",
              "      <td>0.196508</td>\n",
              "      <td>-1.012059</td>\n",
              "      <td>-0.139680</td>\n",
              "      <td>0.013313</td>\n",
              "      <td>0.595400</td>\n",
              "      <td>-0.556999</td>\n",
              "      <td>-0.128182</td>\n",
              "      <td>0.313684</td>\n",
              "      <td>-0.397969</td>\n",
              "      <td>0.625162</td>\n",
              "      <td>-1.139045</td>\n",
              "      <td>0.605109</td>\n",
              "      <td>0.438818</td>\n",
              "      <td>-0.294600</td>\n",
              "      <td>-0.015437</td>\n",
              "      <td>-0.200387</td>\n",
              "      <td>-0.028176</td>\n",
              "      <td>0.543886</td>\n",
              "      <td>-0.501193</td>\n",
              "      <td>0.160217</td>\n",
              "      <td>-0.207827</td>\n",
              "      <td>-0.185351</td>\n",
              "      <td>0.511596</td>\n",
              "      <td>-0.588324</td>\n",
              "      <td>0.523013</td>\n",
              "      <td>-0.696837</td>\n",
              "      <td>...</td>\n",
              "      <td>-0.185516</td>\n",
              "      <td>-0.183404</td>\n",
              "      <td>0.793519</td>\n",
              "      <td>0.255795</td>\n",
              "      <td>0.518475</td>\n",
              "      <td>0.655392</td>\n",
              "      <td>0.389528</td>\n",
              "      <td>-0.159402</td>\n",
              "      <td>0.155687</td>\n",
              "      <td>-0.318773</td>\n",
              "      <td>-0.182897</td>\n",
              "      <td>-0.584351</td>\n",
              "      <td>-1.437036</td>\n",
              "      <td>0.627801</td>\n",
              "      <td>0.532542</td>\n",
              "      <td>0.662939</td>\n",
              "      <td>0.678889</td>\n",
              "      <td>-0.622288</td>\n",
              "      <td>0.319153</td>\n",
              "      <td>0.996853</td>\n",
              "      <td>0.696457</td>\n",
              "      <td>0.012059</td>\n",
              "      <td>-0.387256</td>\n",
              "      <td>0.541324</td>\n",
              "      <td>0.047869</td>\n",
              "      <td>-0.789448</td>\n",
              "      <td>-0.599024</td>\n",
              "      <td>-0.941753</td>\n",
              "      <td>0.158490</td>\n",
              "      <td>-0.710274</td>\n",
              "      <td>0.030269</td>\n",
              "      <td>0.281970</td>\n",
              "      <td>0.180029</td>\n",
              "      <td>0.274251</td>\n",
              "      <td>-0.035899</td>\n",
              "      <td>1.007164</td>\n",
              "      <td>-0.209412</td>\n",
              "      <td>animal What fowl grabs the spotlight after the...</td>\n",
              "      <td>FACT</td>\n",
              "      <td>1</td>\n",
              "    </tr>\n",
              "    <tr>\n",
              "      <th>4</th>\n",
              "      <td>-0.341517</td>\n",
              "      <td>-0.614352</td>\n",
              "      <td>0.075421</td>\n",
              "      <td>-0.381870</td>\n",
              "      <td>-0.037142</td>\n",
              "      <td>-0.639595</td>\n",
              "      <td>1.047396</td>\n",
              "      <td>1.109776</td>\n",
              "      <td>-0.500967</td>\n",
              "      <td>-0.308551</td>\n",
              "      <td>-0.026306</td>\n",
              "      <td>0.817467</td>\n",
              "      <td>0.180813</td>\n",
              "      <td>0.402919</td>\n",
              "      <td>0.446856</td>\n",
              "      <td>-0.506134</td>\n",
              "      <td>-0.852798</td>\n",
              "      <td>0.875699</td>\n",
              "      <td>-0.568851</td>\n",
              "      <td>-0.948410</td>\n",
              "      <td>0.342488</td>\n",
              "      <td>-0.257153</td>\n",
              "      <td>-0.041044</td>\n",
              "      <td>1.054365</td>\n",
              "      <td>0.182189</td>\n",
              "      <td>0.183330</td>\n",
              "      <td>0.685496</td>\n",
              "      <td>-0.191475</td>\n",
              "      <td>-0.196328</td>\n",
              "      <td>-0.376523</td>\n",
              "      <td>0.161194</td>\n",
              "      <td>-0.232624</td>\n",
              "      <td>-0.124186</td>\n",
              "      <td>0.408084</td>\n",
              "      <td>0.532743</td>\n",
              "      <td>-0.697111</td>\n",
              "      <td>-0.076796</td>\n",
              "      <td>-0.269128</td>\n",
              "      <td>-0.596582</td>\n",
              "      <td>-0.246367</td>\n",
              "      <td>...</td>\n",
              "      <td>-0.507654</td>\n",
              "      <td>-0.372031</td>\n",
              "      <td>0.384393</td>\n",
              "      <td>-0.427786</td>\n",
              "      <td>-0.062957</td>\n",
              "      <td>0.381884</td>\n",
              "      <td>-0.210031</td>\n",
              "      <td>-0.373228</td>\n",
              "      <td>0.138790</td>\n",
              "      <td>-0.295719</td>\n",
              "      <td>-0.431427</td>\n",
              "      <td>-0.521124</td>\n",
              "      <td>0.406644</td>\n",
              "      <td>0.222613</td>\n",
              "      <td>-0.539807</td>\n",
              "      <td>-0.619525</td>\n",
              "      <td>0.157020</td>\n",
              "      <td>-0.941711</td>\n",
              "      <td>-0.363686</td>\n",
              "      <td>0.716169</td>\n",
              "      <td>-0.360151</td>\n",
              "      <td>-0.008979</td>\n",
              "      <td>-0.696636</td>\n",
              "      <td>-0.872139</td>\n",
              "      <td>0.198449</td>\n",
              "      <td>-0.777934</td>\n",
              "      <td>0.183854</td>\n",
              "      <td>-0.967490</td>\n",
              "      <td>-0.433643</td>\n",
              "      <td>-0.074372</td>\n",
              "      <td>-0.851413</td>\n",
              "      <td>-0.311539</td>\n",
              "      <td>0.008005</td>\n",
              "      <td>-0.179488</td>\n",
              "      <td>-0.726386</td>\n",
              "      <td>0.608123</td>\n",
              "      <td>-0.062077</td>\n",
              "      <td>exp What is the full form of .com ?\\n</td>\n",
              "      <td>FACT</td>\n",
              "      <td>1</td>\n",
              "    </tr>\n",
              "  </tbody>\n",
              "</table>\n",
              "<p>5 rows × 771 columns</p>\n",
              "</div>"
            ],
            "text/plain": [
              "          0         1  ...  Label  Label_enc\n",
              "0 -1.280513 -0.479057  ...   DESC          0\n",
              "1  0.050765 -0.231588  ...   FACT          1\n",
              "2  0.165783  0.086285  ...   DESC          0\n",
              "3 -0.178117 -0.473958  ...   FACT          1\n",
              "4 -0.341517 -0.614352  ...   FACT          1\n",
              "\n",
              "[5 rows x 771 columns]"
            ]
          },
          "metadata": {
            "tags": []
          },
          "execution_count": 53
        }
      ]
    },
    {
      "cell_type": "markdown",
      "metadata": {
        "id": "83kLcZswJfuy"
      },
      "source": [
        "## Derive Independent and Dependent feature from the training Sample"
      ]
    },
    {
      "cell_type": "code",
      "metadata": {
        "id": "8aSDp4PNt57r"
      },
      "source": [
        "features = final_train.drop(['Question','Label','Label_enc'],axis=1)\n",
        "lbls = final_train['Label_enc']"
      ],
      "execution_count": 54,
      "outputs": []
    },
    {
      "cell_type": "code",
      "metadata": {
        "colab": {
          "base_uri": "https://localhost:8080/",
          "height": 253
        },
        "id": "QcZciZMuvDJi",
        "outputId": "aa294158-3410-4958-fc9f-a7f2f501bf8b"
      },
      "source": [
        "features.head()"
      ],
      "execution_count": 55,
      "outputs": [
        {
          "output_type": "execute_result",
          "data": {
            "text/html": [
              "<div>\n",
              "<style scoped>\n",
              "    .dataframe tbody tr th:only-of-type {\n",
              "        vertical-align: middle;\n",
              "    }\n",
              "\n",
              "    .dataframe tbody tr th {\n",
              "        vertical-align: top;\n",
              "    }\n",
              "\n",
              "    .dataframe thead th {\n",
              "        text-align: right;\n",
              "    }\n",
              "</style>\n",
              "<table border=\"1\" class=\"dataframe\">\n",
              "  <thead>\n",
              "    <tr style=\"text-align: right;\">\n",
              "      <th></th>\n",
              "      <th>0</th>\n",
              "      <th>1</th>\n",
              "      <th>2</th>\n",
              "      <th>3</th>\n",
              "      <th>4</th>\n",
              "      <th>5</th>\n",
              "      <th>6</th>\n",
              "      <th>7</th>\n",
              "      <th>8</th>\n",
              "      <th>9</th>\n",
              "      <th>10</th>\n",
              "      <th>11</th>\n",
              "      <th>12</th>\n",
              "      <th>13</th>\n",
              "      <th>14</th>\n",
              "      <th>15</th>\n",
              "      <th>16</th>\n",
              "      <th>17</th>\n",
              "      <th>18</th>\n",
              "      <th>19</th>\n",
              "      <th>20</th>\n",
              "      <th>21</th>\n",
              "      <th>22</th>\n",
              "      <th>23</th>\n",
              "      <th>24</th>\n",
              "      <th>25</th>\n",
              "      <th>26</th>\n",
              "      <th>27</th>\n",
              "      <th>28</th>\n",
              "      <th>29</th>\n",
              "      <th>30</th>\n",
              "      <th>31</th>\n",
              "      <th>32</th>\n",
              "      <th>33</th>\n",
              "      <th>34</th>\n",
              "      <th>35</th>\n",
              "      <th>36</th>\n",
              "      <th>37</th>\n",
              "      <th>38</th>\n",
              "      <th>39</th>\n",
              "      <th>...</th>\n",
              "      <th>728</th>\n",
              "      <th>729</th>\n",
              "      <th>730</th>\n",
              "      <th>731</th>\n",
              "      <th>732</th>\n",
              "      <th>733</th>\n",
              "      <th>734</th>\n",
              "      <th>735</th>\n",
              "      <th>736</th>\n",
              "      <th>737</th>\n",
              "      <th>738</th>\n",
              "      <th>739</th>\n",
              "      <th>740</th>\n",
              "      <th>741</th>\n",
              "      <th>742</th>\n",
              "      <th>743</th>\n",
              "      <th>744</th>\n",
              "      <th>745</th>\n",
              "      <th>746</th>\n",
              "      <th>747</th>\n",
              "      <th>748</th>\n",
              "      <th>749</th>\n",
              "      <th>750</th>\n",
              "      <th>751</th>\n",
              "      <th>752</th>\n",
              "      <th>753</th>\n",
              "      <th>754</th>\n",
              "      <th>755</th>\n",
              "      <th>756</th>\n",
              "      <th>757</th>\n",
              "      <th>758</th>\n",
              "      <th>759</th>\n",
              "      <th>760</th>\n",
              "      <th>761</th>\n",
              "      <th>762</th>\n",
              "      <th>763</th>\n",
              "      <th>764</th>\n",
              "      <th>765</th>\n",
              "      <th>766</th>\n",
              "      <th>767</th>\n",
              "    </tr>\n",
              "  </thead>\n",
              "  <tbody>\n",
              "    <tr>\n",
              "      <th>0</th>\n",
              "      <td>-1.280513</td>\n",
              "      <td>-0.479057</td>\n",
              "      <td>-0.074593</td>\n",
              "      <td>-1.078833</td>\n",
              "      <td>0.555027</td>\n",
              "      <td>-0.304827</td>\n",
              "      <td>0.710984</td>\n",
              "      <td>0.278825</td>\n",
              "      <td>0.129274</td>\n",
              "      <td>0.484494</td>\n",
              "      <td>0.194379</td>\n",
              "      <td>0.099252</td>\n",
              "      <td>0.048627</td>\n",
              "      <td>0.641369</td>\n",
              "      <td>0.453775</td>\n",
              "      <td>-0.550658</td>\n",
              "      <td>-0.685677</td>\n",
              "      <td>0.614255</td>\n",
              "      <td>-0.001949</td>\n",
              "      <td>-0.382198</td>\n",
              "      <td>-0.034111</td>\n",
              "      <td>0.072872</td>\n",
              "      <td>0.070514</td>\n",
              "      <td>-0.182452</td>\n",
              "      <td>-0.672063</td>\n",
              "      <td>-0.203226</td>\n",
              "      <td>0.207312</td>\n",
              "      <td>-0.494412</td>\n",
              "      <td>-0.015926</td>\n",
              "      <td>0.394312</td>\n",
              "      <td>0.036818</td>\n",
              "      <td>0.289581</td>\n",
              "      <td>0.572028</td>\n",
              "      <td>0.346302</td>\n",
              "      <td>-0.048940</td>\n",
              "      <td>0.285914</td>\n",
              "      <td>0.699641</td>\n",
              "      <td>0.078200</td>\n",
              "      <td>-0.658135</td>\n",
              "      <td>-0.720307</td>\n",
              "      <td>...</td>\n",
              "      <td>-0.032482</td>\n",
              "      <td>-1.037481</td>\n",
              "      <td>-0.430439</td>\n",
              "      <td>0.345353</td>\n",
              "      <td>-0.443688</td>\n",
              "      <td>0.326153</td>\n",
              "      <td>0.006781</td>\n",
              "      <td>-0.017736</td>\n",
              "      <td>0.361109</td>\n",
              "      <td>0.084457</td>\n",
              "      <td>-0.220593</td>\n",
              "      <td>-0.326400</td>\n",
              "      <td>0.109498</td>\n",
              "      <td>-0.313511</td>\n",
              "      <td>0.126476</td>\n",
              "      <td>-1.023944</td>\n",
              "      <td>0.019120</td>\n",
              "      <td>0.276655</td>\n",
              "      <td>0.090974</td>\n",
              "      <td>-0.871337</td>\n",
              "      <td>0.066085</td>\n",
              "      <td>0.055102</td>\n",
              "      <td>0.710252</td>\n",
              "      <td>0.815904</td>\n",
              "      <td>0.116723</td>\n",
              "      <td>-0.763052</td>\n",
              "      <td>-0.191135</td>\n",
              "      <td>-0.117060</td>\n",
              "      <td>-0.917495</td>\n",
              "      <td>0.238745</td>\n",
              "      <td>-0.721925</td>\n",
              "      <td>-0.708831</td>\n",
              "      <td>0.919504</td>\n",
              "      <td>0.014720</td>\n",
              "      <td>-0.218466</td>\n",
              "      <td>-0.707999</td>\n",
              "      <td>-0.060461</td>\n",
              "      <td>-0.690394</td>\n",
              "      <td>0.655525</td>\n",
              "      <td>0.429932</td>\n",
              "    </tr>\n",
              "    <tr>\n",
              "      <th>1</th>\n",
              "      <td>0.050765</td>\n",
              "      <td>-0.231588</td>\n",
              "      <td>0.449181</td>\n",
              "      <td>-0.434117</td>\n",
              "      <td>-0.437005</td>\n",
              "      <td>-0.025377</td>\n",
              "      <td>0.901859</td>\n",
              "      <td>0.299691</td>\n",
              "      <td>0.397571</td>\n",
              "      <td>0.363239</td>\n",
              "      <td>0.813872</td>\n",
              "      <td>-0.242552</td>\n",
              "      <td>-0.046876</td>\n",
              "      <td>0.664556</td>\n",
              "      <td>0.063659</td>\n",
              "      <td>-0.778084</td>\n",
              "      <td>-0.464536</td>\n",
              "      <td>0.818348</td>\n",
              "      <td>0.217839</td>\n",
              "      <td>-0.682176</td>\n",
              "      <td>-0.048324</td>\n",
              "      <td>0.305596</td>\n",
              "      <td>0.005277</td>\n",
              "      <td>-0.105053</td>\n",
              "      <td>-0.850086</td>\n",
              "      <td>-0.180318</td>\n",
              "      <td>0.599913</td>\n",
              "      <td>-0.693822</td>\n",
              "      <td>-0.018520</td>\n",
              "      <td>0.129673</td>\n",
              "      <td>0.459312</td>\n",
              "      <td>0.366443</td>\n",
              "      <td>-0.351863</td>\n",
              "      <td>0.442381</td>\n",
              "      <td>0.333915</td>\n",
              "      <td>-0.367255</td>\n",
              "      <td>1.370850</td>\n",
              "      <td>-0.371237</td>\n",
              "      <td>-0.394274</td>\n",
              "      <td>0.127977</td>\n",
              "      <td>...</td>\n",
              "      <td>-0.759870</td>\n",
              "      <td>-0.319705</td>\n",
              "      <td>-0.320549</td>\n",
              "      <td>0.269263</td>\n",
              "      <td>-0.234702</td>\n",
              "      <td>0.203369</td>\n",
              "      <td>0.363199</td>\n",
              "      <td>0.800868</td>\n",
              "      <td>0.343576</td>\n",
              "      <td>0.986706</td>\n",
              "      <td>-0.211597</td>\n",
              "      <td>0.346223</td>\n",
              "      <td>-0.544377</td>\n",
              "      <td>0.259784</td>\n",
              "      <td>-0.261309</td>\n",
              "      <td>-0.354508</td>\n",
              "      <td>-0.033133</td>\n",
              "      <td>0.439806</td>\n",
              "      <td>0.176840</td>\n",
              "      <td>-0.155799</td>\n",
              "      <td>-1.046834</td>\n",
              "      <td>-0.140347</td>\n",
              "      <td>0.822187</td>\n",
              "      <td>1.090696</td>\n",
              "      <td>-0.127105</td>\n",
              "      <td>-1.281975</td>\n",
              "      <td>0.121476</td>\n",
              "      <td>-0.035386</td>\n",
              "      <td>-1.036541</td>\n",
              "      <td>-0.455563</td>\n",
              "      <td>-1.028530</td>\n",
              "      <td>-0.167689</td>\n",
              "      <td>-0.617334</td>\n",
              "      <td>-0.128336</td>\n",
              "      <td>-0.154140</td>\n",
              "      <td>0.052781</td>\n",
              "      <td>0.287511</td>\n",
              "      <td>-0.945877</td>\n",
              "      <td>0.582182</td>\n",
              "      <td>0.169365</td>\n",
              "    </tr>\n",
              "    <tr>\n",
              "      <th>2</th>\n",
              "      <td>0.165783</td>\n",
              "      <td>0.086285</td>\n",
              "      <td>0.996058</td>\n",
              "      <td>-0.007494</td>\n",
              "      <td>-0.062556</td>\n",
              "      <td>-0.447119</td>\n",
              "      <td>1.157736</td>\n",
              "      <td>-0.594608</td>\n",
              "      <td>-0.278916</td>\n",
              "      <td>0.288759</td>\n",
              "      <td>-0.755688</td>\n",
              "      <td>0.518913</td>\n",
              "      <td>-0.589019</td>\n",
              "      <td>-0.218035</td>\n",
              "      <td>-0.299750</td>\n",
              "      <td>-0.588890</td>\n",
              "      <td>-1.044726</td>\n",
              "      <td>0.417887</td>\n",
              "      <td>-0.516429</td>\n",
              "      <td>-0.688118</td>\n",
              "      <td>0.293211</td>\n",
              "      <td>0.023602</td>\n",
              "      <td>-0.186256</td>\n",
              "      <td>0.847153</td>\n",
              "      <td>-0.451656</td>\n",
              "      <td>0.414896</td>\n",
              "      <td>0.153552</td>\n",
              "      <td>-0.524880</td>\n",
              "      <td>0.480987</td>\n",
              "      <td>0.345678</td>\n",
              "      <td>0.525045</td>\n",
              "      <td>0.589051</td>\n",
              "      <td>-0.483123</td>\n",
              "      <td>0.143385</td>\n",
              "      <td>0.049669</td>\n",
              "      <td>-0.625910</td>\n",
              "      <td>1.300623</td>\n",
              "      <td>-0.494312</td>\n",
              "      <td>0.039376</td>\n",
              "      <td>-0.539756</td>\n",
              "      <td>...</td>\n",
              "      <td>-0.288382</td>\n",
              "      <td>0.158903</td>\n",
              "      <td>-0.675779</td>\n",
              "      <td>-0.603539</td>\n",
              "      <td>-0.569769</td>\n",
              "      <td>0.099041</td>\n",
              "      <td>0.707025</td>\n",
              "      <td>0.829515</td>\n",
              "      <td>-0.109335</td>\n",
              "      <td>0.677547</td>\n",
              "      <td>0.197822</td>\n",
              "      <td>0.223959</td>\n",
              "      <td>-0.297395</td>\n",
              "      <td>-0.826129</td>\n",
              "      <td>-0.965579</td>\n",
              "      <td>-0.218842</td>\n",
              "      <td>1.487624</td>\n",
              "      <td>-0.247484</td>\n",
              "      <td>-0.609410</td>\n",
              "      <td>-0.065343</td>\n",
              "      <td>-0.464756</td>\n",
              "      <td>-0.134924</td>\n",
              "      <td>1.308986</td>\n",
              "      <td>0.461914</td>\n",
              "      <td>-0.319942</td>\n",
              "      <td>-0.315665</td>\n",
              "      <td>-0.672880</td>\n",
              "      <td>0.423251</td>\n",
              "      <td>-1.299873</td>\n",
              "      <td>-0.380741</td>\n",
              "      <td>-1.354729</td>\n",
              "      <td>-0.239815</td>\n",
              "      <td>-0.171939</td>\n",
              "      <td>0.529478</td>\n",
              "      <td>-0.135893</td>\n",
              "      <td>1.097948</td>\n",
              "      <td>-0.018599</td>\n",
              "      <td>-1.401098</td>\n",
              "      <td>-0.166924</td>\n",
              "      <td>-0.666989</td>\n",
              "    </tr>\n",
              "    <tr>\n",
              "      <th>3</th>\n",
              "      <td>-0.178117</td>\n",
              "      <td>-0.473958</td>\n",
              "      <td>0.048357</td>\n",
              "      <td>-1.291486</td>\n",
              "      <td>-0.028839</td>\n",
              "      <td>0.348843</td>\n",
              "      <td>-0.046127</td>\n",
              "      <td>0.052366</td>\n",
              "      <td>-0.436607</td>\n",
              "      <td>1.082325</td>\n",
              "      <td>1.379477</td>\n",
              "      <td>0.269813</td>\n",
              "      <td>-0.224945</td>\n",
              "      <td>0.555075</td>\n",
              "      <td>0.196508</td>\n",
              "      <td>-1.012059</td>\n",
              "      <td>-0.139680</td>\n",
              "      <td>0.013313</td>\n",
              "      <td>0.595400</td>\n",
              "      <td>-0.556999</td>\n",
              "      <td>-0.128182</td>\n",
              "      <td>0.313684</td>\n",
              "      <td>-0.397969</td>\n",
              "      <td>0.625162</td>\n",
              "      <td>-1.139045</td>\n",
              "      <td>0.605109</td>\n",
              "      <td>0.438818</td>\n",
              "      <td>-0.294600</td>\n",
              "      <td>-0.015437</td>\n",
              "      <td>-0.200387</td>\n",
              "      <td>-0.028176</td>\n",
              "      <td>0.543886</td>\n",
              "      <td>-0.501193</td>\n",
              "      <td>0.160217</td>\n",
              "      <td>-0.207827</td>\n",
              "      <td>-0.185351</td>\n",
              "      <td>0.511596</td>\n",
              "      <td>-0.588324</td>\n",
              "      <td>0.523013</td>\n",
              "      <td>-0.696837</td>\n",
              "      <td>...</td>\n",
              "      <td>-1.323598</td>\n",
              "      <td>-0.134632</td>\n",
              "      <td>-0.420599</td>\n",
              "      <td>-0.185516</td>\n",
              "      <td>-0.183404</td>\n",
              "      <td>0.793519</td>\n",
              "      <td>0.255795</td>\n",
              "      <td>0.518475</td>\n",
              "      <td>0.655392</td>\n",
              "      <td>0.389528</td>\n",
              "      <td>-0.159402</td>\n",
              "      <td>0.155687</td>\n",
              "      <td>-0.318773</td>\n",
              "      <td>-0.182897</td>\n",
              "      <td>-0.584351</td>\n",
              "      <td>-1.437036</td>\n",
              "      <td>0.627801</td>\n",
              "      <td>0.532542</td>\n",
              "      <td>0.662939</td>\n",
              "      <td>0.678889</td>\n",
              "      <td>-0.622288</td>\n",
              "      <td>0.319153</td>\n",
              "      <td>0.996853</td>\n",
              "      <td>0.696457</td>\n",
              "      <td>0.012059</td>\n",
              "      <td>-0.387256</td>\n",
              "      <td>0.541324</td>\n",
              "      <td>0.047869</td>\n",
              "      <td>-0.789448</td>\n",
              "      <td>-0.599024</td>\n",
              "      <td>-0.941753</td>\n",
              "      <td>0.158490</td>\n",
              "      <td>-0.710274</td>\n",
              "      <td>0.030269</td>\n",
              "      <td>0.281970</td>\n",
              "      <td>0.180029</td>\n",
              "      <td>0.274251</td>\n",
              "      <td>-0.035899</td>\n",
              "      <td>1.007164</td>\n",
              "      <td>-0.209412</td>\n",
              "    </tr>\n",
              "    <tr>\n",
              "      <th>4</th>\n",
              "      <td>-0.341517</td>\n",
              "      <td>-0.614352</td>\n",
              "      <td>0.075421</td>\n",
              "      <td>-0.381870</td>\n",
              "      <td>-0.037142</td>\n",
              "      <td>-0.639595</td>\n",
              "      <td>1.047396</td>\n",
              "      <td>1.109776</td>\n",
              "      <td>-0.500967</td>\n",
              "      <td>-0.308551</td>\n",
              "      <td>-0.026306</td>\n",
              "      <td>0.817467</td>\n",
              "      <td>0.180813</td>\n",
              "      <td>0.402919</td>\n",
              "      <td>0.446856</td>\n",
              "      <td>-0.506134</td>\n",
              "      <td>-0.852798</td>\n",
              "      <td>0.875699</td>\n",
              "      <td>-0.568851</td>\n",
              "      <td>-0.948410</td>\n",
              "      <td>0.342488</td>\n",
              "      <td>-0.257153</td>\n",
              "      <td>-0.041044</td>\n",
              "      <td>1.054365</td>\n",
              "      <td>0.182189</td>\n",
              "      <td>0.183330</td>\n",
              "      <td>0.685496</td>\n",
              "      <td>-0.191475</td>\n",
              "      <td>-0.196328</td>\n",
              "      <td>-0.376523</td>\n",
              "      <td>0.161194</td>\n",
              "      <td>-0.232624</td>\n",
              "      <td>-0.124186</td>\n",
              "      <td>0.408084</td>\n",
              "      <td>0.532743</td>\n",
              "      <td>-0.697111</td>\n",
              "      <td>-0.076796</td>\n",
              "      <td>-0.269128</td>\n",
              "      <td>-0.596582</td>\n",
              "      <td>-0.246367</td>\n",
              "      <td>...</td>\n",
              "      <td>-0.935546</td>\n",
              "      <td>0.314507</td>\n",
              "      <td>-0.171532</td>\n",
              "      <td>-0.507654</td>\n",
              "      <td>-0.372031</td>\n",
              "      <td>0.384393</td>\n",
              "      <td>-0.427786</td>\n",
              "      <td>-0.062957</td>\n",
              "      <td>0.381884</td>\n",
              "      <td>-0.210031</td>\n",
              "      <td>-0.373228</td>\n",
              "      <td>0.138790</td>\n",
              "      <td>-0.295719</td>\n",
              "      <td>-0.431427</td>\n",
              "      <td>-0.521124</td>\n",
              "      <td>0.406644</td>\n",
              "      <td>0.222613</td>\n",
              "      <td>-0.539807</td>\n",
              "      <td>-0.619525</td>\n",
              "      <td>0.157020</td>\n",
              "      <td>-0.941711</td>\n",
              "      <td>-0.363686</td>\n",
              "      <td>0.716169</td>\n",
              "      <td>-0.360151</td>\n",
              "      <td>-0.008979</td>\n",
              "      <td>-0.696636</td>\n",
              "      <td>-0.872139</td>\n",
              "      <td>0.198449</td>\n",
              "      <td>-0.777934</td>\n",
              "      <td>0.183854</td>\n",
              "      <td>-0.967490</td>\n",
              "      <td>-0.433643</td>\n",
              "      <td>-0.074372</td>\n",
              "      <td>-0.851413</td>\n",
              "      <td>-0.311539</td>\n",
              "      <td>0.008005</td>\n",
              "      <td>-0.179488</td>\n",
              "      <td>-0.726386</td>\n",
              "      <td>0.608123</td>\n",
              "      <td>-0.062077</td>\n",
              "    </tr>\n",
              "  </tbody>\n",
              "</table>\n",
              "<p>5 rows × 768 columns</p>\n",
              "</div>"
            ],
            "text/plain": [
              "        0         1         2    ...       765       766       767\n",
              "0 -1.280513 -0.479057 -0.074593  ... -0.690394  0.655525  0.429932\n",
              "1  0.050765 -0.231588  0.449181  ... -0.945877  0.582182  0.169365\n",
              "2  0.165783  0.086285  0.996058  ... -1.401098 -0.166924 -0.666989\n",
              "3 -0.178117 -0.473958  0.048357  ... -0.035899  1.007164 -0.209412\n",
              "4 -0.341517 -0.614352  0.075421  ... -0.726386  0.608123 -0.062077\n",
              "\n",
              "[5 rows x 768 columns]"
            ]
          },
          "metadata": {
            "tags": []
          },
          "execution_count": 55
        }
      ]
    },
    {
      "cell_type": "markdown",
      "metadata": {
        "id": "buZO56pFJn4a"
      },
      "source": [
        "## Split the training sample into Training and validation Sample"
      ]
    },
    {
      "cell_type": "code",
      "metadata": {
        "id": "53p39zFZvNkb"
      },
      "source": [
        "X_train,X_val,Y_train,Y_val = train_test_split(features,lbls,test_size=0.15,stratify=lbls)"
      ],
      "execution_count": 56,
      "outputs": []
    },
    {
      "cell_type": "code",
      "metadata": {
        "colab": {
          "base_uri": "https://localhost:8080/"
        },
        "id": "Ic1alSpxxckV",
        "outputId": "daa264fb-40d4-46c9-8a29-4bb89ac91703"
      },
      "source": [
        "X_train.shape,X_val.shape"
      ],
      "execution_count": 57,
      "outputs": [
        {
          "output_type": "execute_result",
          "data": {
            "text/plain": [
              "((4701, 768), (830, 768))"
            ]
          },
          "metadata": {
            "tags": []
          },
          "execution_count": 57
        }
      ]
    },
    {
      "cell_type": "markdown",
      "metadata": {
        "id": "C9d8QrAfwEro"
      },
      "source": [
        "## Build Model - LogisticRegression"
      ]
    },
    {
      "cell_type": "code",
      "metadata": {
        "id": "z4wm4smU9oLW"
      },
      "source": [
        "from sklearn.utils import class_weight\n",
        "class_weights = class_weight.compute_class_weight('balanced',np.unique(Y_train),Y_train)"
      ],
      "execution_count": 58,
      "outputs": []
    },
    {
      "cell_type": "code",
      "metadata": {
        "colab": {
          "base_uri": "https://localhost:8080/"
        },
        "id": "xIkxv8BB9wZ-",
        "outputId": "712c2a0b-3c25-4dde-9948-0ec913e438c6"
      },
      "source": [
        "class_weights"
      ],
      "execution_count": 59,
      "outputs": [
        {
          "output_type": "execute_result",
          "data": {
            "text/plain": [
              "array([2.37904858, 0.63304605])"
            ]
          },
          "metadata": {
            "tags": []
          },
          "execution_count": 59
        }
      ]
    },
    {
      "cell_type": "code",
      "metadata": {
        "colab": {
          "base_uri": "https://localhost:8080/"
        },
        "id": "z0TJ1HBmw0eh",
        "outputId": "ec9a17a0-676b-4570-fa92-0299659b36e4"
      },
      "source": [
        "#lr = LogisticRegression(multi_class='ovr',)\n",
        "#lr = LogisticRegression(class_weight={0:1,1:0.5})\n",
        "lr = LogisticRegression(class_weight=class_weights)\n",
        "lr.fit(X_train,Y_train)"
      ],
      "execution_count": 60,
      "outputs": [
        {
          "output_type": "execute_result",
          "data": {
            "text/plain": [
              "LogisticRegression(C=1.0, class_weight=array([2.37904858, 0.63304605]),\n",
              "                   dual=False, fit_intercept=True, intercept_scaling=1,\n",
              "                   l1_ratio=None, max_iter=100, multi_class='auto', n_jobs=None,\n",
              "                   penalty='l2', random_state=None, solver='lbfgs', tol=0.0001,\n",
              "                   verbose=0, warm_start=False)"
            ]
          },
          "metadata": {
            "tags": []
          },
          "execution_count": 60
        }
      ]
    },
    {
      "cell_type": "markdown",
      "metadata": {
        "id": "th-XiRUnyIEh"
      },
      "source": [
        "## Validation  Predictions accuracy score"
      ]
    },
    {
      "cell_type": "code",
      "metadata": {
        "colab": {
          "base_uri": "https://localhost:8080/"
        },
        "id": "FxgzIbjJ9_8S",
        "outputId": "a3c535a9-895a-49be-b0f1-6b5242166465"
      },
      "source": [
        "y_pred = lr.predict(X_val)\n",
        "accuracy_score(y_pred,Y_val)"
      ],
      "execution_count": 61,
      "outputs": [
        {
          "output_type": "execute_result",
          "data": {
            "text/plain": [
              "0.9421686746987952"
            ]
          },
          "metadata": {
            "tags": []
          },
          "execution_count": 61
        }
      ]
    },
    {
      "cell_type": "markdown",
      "metadata": {
        "id": "nnvfRMZFFSlk"
      },
      "source": [
        "## F1 Score - Validation data"
      ]
    },
    {
      "cell_type": "code",
      "metadata": {
        "colab": {
          "base_uri": "https://localhost:8080/"
        },
        "id": "2ICZeUpNFWxy",
        "outputId": "d04e4733-f832-4079-c6ec-b35da1d761ae"
      },
      "source": [
        "f1_score(y_pred,Y_val)"
      ],
      "execution_count": 62,
      "outputs": [
        {
          "output_type": "execute_result",
          "data": {
            "text/plain": [
              "0.9636913767019667"
            ]
          },
          "metadata": {
            "tags": []
          },
          "execution_count": 62
        }
      ]
    },
    {
      "cell_type": "markdown",
      "metadata": {
        "id": "dssJ32JJF3ND"
      },
      "source": [
        "## Classification Report"
      ]
    },
    {
      "cell_type": "code",
      "metadata": {
        "colab": {
          "base_uri": "https://localhost:8080/"
        },
        "id": "k6_tO8EIF53i",
        "outputId": "d4104573-222c-4794-ee42-265982152d34"
      },
      "source": [
        "print(classification_report(y_pred,Y_val))"
      ],
      "execution_count": 65,
      "outputs": [
        {
          "output_type": "stream",
          "text": [
            "              precision    recall  f1-score   support\n",
            "\n",
            "           0       0.83      0.88      0.86       164\n",
            "           1       0.97      0.96      0.96       666\n",
            "\n",
            "    accuracy                           0.94       830\n",
            "   macro avg       0.90      0.92      0.91       830\n",
            "weighted avg       0.94      0.94      0.94       830\n",
            "\n"
          ],
          "name": "stdout"
        }
      ]
    },
    {
      "cell_type": "markdown",
      "metadata": {
        "id": "4SIDL3CRx_ox"
      },
      "source": [
        "## Applying Cross Validation"
      ]
    },
    {
      "cell_type": "code",
      "metadata": {
        "id": "0vl8bn-_yB48"
      },
      "source": [
        "from sklearn.model_selection import StratifiedKFold\n",
        "skf = StratifiedKFold(n_splits=5, shuffle=True, random_state=42)"
      ],
      "execution_count": 66,
      "outputs": []
    },
    {
      "cell_type": "code",
      "metadata": {
        "id": "hkhPANue2_cA"
      },
      "source": [
        "temp = features\n",
        "target = lbls\n",
        "scores = []\n",
        "scores_val = []"
      ],
      "execution_count": 67,
      "outputs": []
    },
    {
      "cell_type": "code",
      "metadata": {
        "colab": {
          "base_uri": "https://localhost:8080/",
          "height": 483
        },
        "id": "Kh6nLKou1XEB",
        "outputId": "3f5da397-a819-4661-dd3c-d0fca114d067"
      },
      "source": [
        "for train_index,test_index in skf.split(temp,target):\n",
        "        xtrain,xtest = temp[temp.index.isin(train_index)],temp[temp.index.isin(test_index)]\n",
        "        ytrain,ytest = target[train_index],target[test_index]\n",
        "        \n",
        "        model  = LogisticRegression(class_weight=class_weights,random_state=42)\n",
        "\n",
        "        model.fit(xtrain,ytrain)\n",
        "            \n",
        "        preds = model.predict(xtest)\n",
        "        \n",
        "        print(f1_score(ytest,preds))\n",
        "        scores.append(f1_score(ytest,preds))\n",
        "        #\n",
        "#\n",
        "#        \n",
        "print('-----------KFOLD--------------')\n",
        "print(sns.lineplot(x=[i for i in range(len(scores))],y=scores))\n",
        "print(min(scores),max(scores),np.mean(scores))"
      ],
      "execution_count": 77,
      "outputs": [
        {
          "output_type": "stream",
          "text": [
            "0.960272417707151\n",
            "0.9671574178935448\n",
            "0.9593220338983053\n",
            "0.9638009049773755\n",
            "0.9603676048248133\n",
            "-----------KFOLD--------------\n",
            "AxesSubplot(0.125,0.125;0.775x0.755)\n",
            "0.9593220338983053 0.9671574178935448 0.962184075860238\n"
          ],
          "name": "stdout"
        },
        {
          "output_type": "display_data",
          "data": {
            "image/png": "[encoded data removed]",
            "text/plain": [
              "<Figure size 576x396 with 1 Axes>"
            ]
          },
          "metadata": {
            "tags": []
          }
        }
      ]
    },
    {
      "cell_type": "markdown",
      "metadata": {
        "id": "lK19eFPd5nkt"
      },
      "source": [
        "## Make Predictions on validation Data"
      ]
    },
    {
      "cell_type": "code",
      "metadata": {
        "colab": {
          "base_uri": "https://localhost:8080/",
          "height": 644
        },
        "id": "e2VPRya4C9nc",
        "outputId": "790d1315-809a-4cc9-8711-920281fefa4e"
      },
      "source": [
        "final_train.head()"
      ],
      "execution_count": 69,
      "outputs": [
        {
          "output_type": "execute_result",
          "data": {
            "text/html": [
              "<div>\n",
              "<style scoped>\n",
              "    .dataframe tbody tr th:only-of-type {\n",
              "        vertical-align: middle;\n",
              "    }\n",
              "\n",
              "    .dataframe tbody tr th {\n",
              "        vertical-align: top;\n",
              "    }\n",
              "\n",
              "    .dataframe thead th {\n",
              "        text-align: right;\n",
              "    }\n",
              "</style>\n",
              "<table border=\"1\" class=\"dataframe\">\n",
              "  <thead>\n",
              "    <tr style=\"text-align: right;\">\n",
              "      <th></th>\n",
              "      <th>0</th>\n",
              "      <th>1</th>\n",
              "      <th>2</th>\n",
              "      <th>3</th>\n",
              "      <th>4</th>\n",
              "      <th>5</th>\n",
              "      <th>6</th>\n",
              "      <th>7</th>\n",
              "      <th>8</th>\n",
              "      <th>9</th>\n",
              "      <th>10</th>\n",
              "      <th>11</th>\n",
              "      <th>12</th>\n",
              "      <th>13</th>\n",
              "      <th>14</th>\n",
              "      <th>15</th>\n",
              "      <th>16</th>\n",
              "      <th>17</th>\n",
              "      <th>18</th>\n",
              "      <th>19</th>\n",
              "      <th>20</th>\n",
              "      <th>21</th>\n",
              "      <th>22</th>\n",
              "      <th>23</th>\n",
              "      <th>24</th>\n",
              "      <th>25</th>\n",
              "      <th>26</th>\n",
              "      <th>27</th>\n",
              "      <th>28</th>\n",
              "      <th>29</th>\n",
              "      <th>30</th>\n",
              "      <th>31</th>\n",
              "      <th>32</th>\n",
              "      <th>33</th>\n",
              "      <th>34</th>\n",
              "      <th>35</th>\n",
              "      <th>36</th>\n",
              "      <th>37</th>\n",
              "      <th>38</th>\n",
              "      <th>39</th>\n",
              "      <th>...</th>\n",
              "      <th>731</th>\n",
              "      <th>732</th>\n",
              "      <th>733</th>\n",
              "      <th>734</th>\n",
              "      <th>735</th>\n",
              "      <th>736</th>\n",
              "      <th>737</th>\n",
              "      <th>738</th>\n",
              "      <th>739</th>\n",
              "      <th>740</th>\n",
              "      <th>741</th>\n",
              "      <th>742</th>\n",
              "      <th>743</th>\n",
              "      <th>744</th>\n",
              "      <th>745</th>\n",
              "      <th>746</th>\n",
              "      <th>747</th>\n",
              "      <th>748</th>\n",
              "      <th>749</th>\n",
              "      <th>750</th>\n",
              "      <th>751</th>\n",
              "      <th>752</th>\n",
              "      <th>753</th>\n",
              "      <th>754</th>\n",
              "      <th>755</th>\n",
              "      <th>756</th>\n",
              "      <th>757</th>\n",
              "      <th>758</th>\n",
              "      <th>759</th>\n",
              "      <th>760</th>\n",
              "      <th>761</th>\n",
              "      <th>762</th>\n",
              "      <th>763</th>\n",
              "      <th>764</th>\n",
              "      <th>765</th>\n",
              "      <th>766</th>\n",
              "      <th>767</th>\n",
              "      <th>Question</th>\n",
              "      <th>Label</th>\n",
              "      <th>Label_enc</th>\n",
              "    </tr>\n",
              "  </thead>\n",
              "  <tbody>\n",
              "    <tr>\n",
              "      <th>0</th>\n",
              "      <td>-1.280513</td>\n",
              "      <td>-0.479057</td>\n",
              "      <td>-0.074593</td>\n",
              "      <td>-1.078833</td>\n",
              "      <td>0.555027</td>\n",
              "      <td>-0.304827</td>\n",
              "      <td>0.710984</td>\n",
              "      <td>0.278825</td>\n",
              "      <td>0.129274</td>\n",
              "      <td>0.484494</td>\n",
              "      <td>0.194379</td>\n",
              "      <td>0.099252</td>\n",
              "      <td>0.048627</td>\n",
              "      <td>0.641369</td>\n",
              "      <td>0.453775</td>\n",
              "      <td>-0.550658</td>\n",
              "      <td>-0.685677</td>\n",
              "      <td>0.614255</td>\n",
              "      <td>-0.001949</td>\n",
              "      <td>-0.382198</td>\n",
              "      <td>-0.034111</td>\n",
              "      <td>0.072872</td>\n",
              "      <td>0.070514</td>\n",
              "      <td>-0.182452</td>\n",
              "      <td>-0.672063</td>\n",
              "      <td>-0.203226</td>\n",
              "      <td>0.207312</td>\n",
              "      <td>-0.494412</td>\n",
              "      <td>-0.015926</td>\n",
              "      <td>0.394312</td>\n",
              "      <td>0.036818</td>\n",
              "      <td>0.289581</td>\n",
              "      <td>0.572028</td>\n",
              "      <td>0.346302</td>\n",
              "      <td>-0.048940</td>\n",
              "      <td>0.285914</td>\n",
              "      <td>0.699641</td>\n",
              "      <td>0.078200</td>\n",
              "      <td>-0.658135</td>\n",
              "      <td>-0.720307</td>\n",
              "      <td>...</td>\n",
              "      <td>0.345353</td>\n",
              "      <td>-0.443688</td>\n",
              "      <td>0.326153</td>\n",
              "      <td>0.006781</td>\n",
              "      <td>-0.017736</td>\n",
              "      <td>0.361109</td>\n",
              "      <td>0.084457</td>\n",
              "      <td>-0.220593</td>\n",
              "      <td>-0.326400</td>\n",
              "      <td>0.109498</td>\n",
              "      <td>-0.313511</td>\n",
              "      <td>0.126476</td>\n",
              "      <td>-1.023944</td>\n",
              "      <td>0.019120</td>\n",
              "      <td>0.276655</td>\n",
              "      <td>0.090974</td>\n",
              "      <td>-0.871337</td>\n",
              "      <td>0.066085</td>\n",
              "      <td>0.055102</td>\n",
              "      <td>0.710252</td>\n",
              "      <td>0.815904</td>\n",
              "      <td>0.116723</td>\n",
              "      <td>-0.763052</td>\n",
              "      <td>-0.191135</td>\n",
              "      <td>-0.117060</td>\n",
              "      <td>-0.917495</td>\n",
              "      <td>0.238745</td>\n",
              "      <td>-0.721925</td>\n",
              "      <td>-0.708831</td>\n",
              "      <td>0.919504</td>\n",
              "      <td>0.014720</td>\n",
              "      <td>-0.218466</td>\n",
              "      <td>-0.707999</td>\n",
              "      <td>-0.060461</td>\n",
              "      <td>-0.690394</td>\n",
              "      <td>0.655525</td>\n",
              "      <td>0.429932</td>\n",
              "      <td>manner How did serfdom develop in and then lea...</td>\n",
              "      <td>DESC</td>\n",
              "      <td>0</td>\n",
              "    </tr>\n",
              "    <tr>\n",
              "      <th>1</th>\n",
              "      <td>0.050765</td>\n",
              "      <td>-0.231588</td>\n",
              "      <td>0.449181</td>\n",
              "      <td>-0.434117</td>\n",
              "      <td>-0.437005</td>\n",
              "      <td>-0.025377</td>\n",
              "      <td>0.901859</td>\n",
              "      <td>0.299691</td>\n",
              "      <td>0.397571</td>\n",
              "      <td>0.363239</td>\n",
              "      <td>0.813872</td>\n",
              "      <td>-0.242552</td>\n",
              "      <td>-0.046876</td>\n",
              "      <td>0.664556</td>\n",
              "      <td>0.063659</td>\n",
              "      <td>-0.778084</td>\n",
              "      <td>-0.464536</td>\n",
              "      <td>0.818348</td>\n",
              "      <td>0.217839</td>\n",
              "      <td>-0.682176</td>\n",
              "      <td>-0.048324</td>\n",
              "      <td>0.305596</td>\n",
              "      <td>0.005277</td>\n",
              "      <td>-0.105053</td>\n",
              "      <td>-0.850086</td>\n",
              "      <td>-0.180318</td>\n",
              "      <td>0.599913</td>\n",
              "      <td>-0.693822</td>\n",
              "      <td>-0.018520</td>\n",
              "      <td>0.129673</td>\n",
              "      <td>0.459312</td>\n",
              "      <td>0.366443</td>\n",
              "      <td>-0.351863</td>\n",
              "      <td>0.442381</td>\n",
              "      <td>0.333915</td>\n",
              "      <td>-0.367255</td>\n",
              "      <td>1.370850</td>\n",
              "      <td>-0.371237</td>\n",
              "      <td>-0.394274</td>\n",
              "      <td>0.127977</td>\n",
              "      <td>...</td>\n",
              "      <td>0.269263</td>\n",
              "      <td>-0.234702</td>\n",
              "      <td>0.203369</td>\n",
              "      <td>0.363199</td>\n",
              "      <td>0.800868</td>\n",
              "      <td>0.343576</td>\n",
              "      <td>0.986706</td>\n",
              "      <td>-0.211597</td>\n",
              "      <td>0.346223</td>\n",
              "      <td>-0.544377</td>\n",
              "      <td>0.259784</td>\n",
              "      <td>-0.261309</td>\n",
              "      <td>-0.354508</td>\n",
              "      <td>-0.033133</td>\n",
              "      <td>0.439806</td>\n",
              "      <td>0.176840</td>\n",
              "      <td>-0.155799</td>\n",
              "      <td>-1.046834</td>\n",
              "      <td>-0.140347</td>\n",
              "      <td>0.822187</td>\n",
              "      <td>1.090696</td>\n",
              "      <td>-0.127105</td>\n",
              "      <td>-1.281975</td>\n",
              "      <td>0.121476</td>\n",
              "      <td>-0.035386</td>\n",
              "      <td>-1.036541</td>\n",
              "      <td>-0.455563</td>\n",
              "      <td>-1.028530</td>\n",
              "      <td>-0.167689</td>\n",
              "      <td>-0.617334</td>\n",
              "      <td>-0.128336</td>\n",
              "      <td>-0.154140</td>\n",
              "      <td>0.052781</td>\n",
              "      <td>0.287511</td>\n",
              "      <td>-0.945877</td>\n",
              "      <td>0.582182</td>\n",
              "      <td>0.169365</td>\n",
              "      <td>cremat What films featured the character Popey...</td>\n",
              "      <td>FACT</td>\n",
              "      <td>1</td>\n",
              "    </tr>\n",
              "    <tr>\n",
              "      <th>2</th>\n",
              "      <td>0.165783</td>\n",
              "      <td>0.086285</td>\n",
              "      <td>0.996058</td>\n",
              "      <td>-0.007494</td>\n",
              "      <td>-0.062556</td>\n",
              "      <td>-0.447119</td>\n",
              "      <td>1.157736</td>\n",
              "      <td>-0.594608</td>\n",
              "      <td>-0.278916</td>\n",
              "      <td>0.288759</td>\n",
              "      <td>-0.755688</td>\n",
              "      <td>0.518913</td>\n",
              "      <td>-0.589019</td>\n",
              "      <td>-0.218035</td>\n",
              "      <td>-0.299750</td>\n",
              "      <td>-0.588890</td>\n",
              "      <td>-1.044726</td>\n",
              "      <td>0.417887</td>\n",
              "      <td>-0.516429</td>\n",
              "      <td>-0.688118</td>\n",
              "      <td>0.293211</td>\n",
              "      <td>0.023602</td>\n",
              "      <td>-0.186256</td>\n",
              "      <td>0.847153</td>\n",
              "      <td>-0.451656</td>\n",
              "      <td>0.414896</td>\n",
              "      <td>0.153552</td>\n",
              "      <td>-0.524880</td>\n",
              "      <td>0.480987</td>\n",
              "      <td>0.345678</td>\n",
              "      <td>0.525045</td>\n",
              "      <td>0.589051</td>\n",
              "      <td>-0.483123</td>\n",
              "      <td>0.143385</td>\n",
              "      <td>0.049669</td>\n",
              "      <td>-0.625910</td>\n",
              "      <td>1.300623</td>\n",
              "      <td>-0.494312</td>\n",
              "      <td>0.039376</td>\n",
              "      <td>-0.539756</td>\n",
              "      <td>...</td>\n",
              "      <td>-0.603539</td>\n",
              "      <td>-0.569769</td>\n",
              "      <td>0.099041</td>\n",
              "      <td>0.707025</td>\n",
              "      <td>0.829515</td>\n",
              "      <td>-0.109335</td>\n",
              "      <td>0.677547</td>\n",
              "      <td>0.197822</td>\n",
              "      <td>0.223959</td>\n",
              "      <td>-0.297395</td>\n",
              "      <td>-0.826129</td>\n",
              "      <td>-0.965579</td>\n",
              "      <td>-0.218842</td>\n",
              "      <td>1.487624</td>\n",
              "      <td>-0.247484</td>\n",
              "      <td>-0.609410</td>\n",
              "      <td>-0.065343</td>\n",
              "      <td>-0.464756</td>\n",
              "      <td>-0.134924</td>\n",
              "      <td>1.308986</td>\n",
              "      <td>0.461914</td>\n",
              "      <td>-0.319942</td>\n",
              "      <td>-0.315665</td>\n",
              "      <td>-0.672880</td>\n",
              "      <td>0.423251</td>\n",
              "      <td>-1.299873</td>\n",
              "      <td>-0.380741</td>\n",
              "      <td>-1.354729</td>\n",
              "      <td>-0.239815</td>\n",
              "      <td>-0.171939</td>\n",
              "      <td>0.529478</td>\n",
              "      <td>-0.135893</td>\n",
              "      <td>1.097948</td>\n",
              "      <td>-0.018599</td>\n",
              "      <td>-1.401098</td>\n",
              "      <td>-0.166924</td>\n",
              "      <td>-0.666989</td>\n",
              "      <td>manner How can I find a list of celebrities ' ...</td>\n",
              "      <td>DESC</td>\n",
              "      <td>0</td>\n",
              "    </tr>\n",
              "    <tr>\n",
              "      <th>3</th>\n",
              "      <td>-0.178117</td>\n",
              "      <td>-0.473958</td>\n",
              "      <td>0.048357</td>\n",
              "      <td>-1.291486</td>\n",
              "      <td>-0.028839</td>\n",
              "      <td>0.348843</td>\n",
              "      <td>-0.046127</td>\n",
              "      <td>0.052366</td>\n",
              "      <td>-0.436607</td>\n",
              "      <td>1.082325</td>\n",
              "      <td>1.379477</td>\n",
              "      <td>0.269813</td>\n",
              "      <td>-0.224945</td>\n",
              "      <td>0.555075</td>\n",
              "      <td>0.196508</td>\n",
              "      <td>-1.012059</td>\n",
              "      <td>-0.139680</td>\n",
              "      <td>0.013313</td>\n",
              "      <td>0.595400</td>\n",
              "      <td>-0.556999</td>\n",
              "      <td>-0.128182</td>\n",
              "      <td>0.313684</td>\n",
              "      <td>-0.397969</td>\n",
              "      <td>0.625162</td>\n",
              "      <td>-1.139045</td>\n",
              "      <td>0.605109</td>\n",
              "      <td>0.438818</td>\n",
              "      <td>-0.294600</td>\n",
              "      <td>-0.015437</td>\n",
              "      <td>-0.200387</td>\n",
              "      <td>-0.028176</td>\n",
              "      <td>0.543886</td>\n",
              "      <td>-0.501193</td>\n",
              "      <td>0.160217</td>\n",
              "      <td>-0.207827</td>\n",
              "      <td>-0.185351</td>\n",
              "      <td>0.511596</td>\n",
              "      <td>-0.588324</td>\n",
              "      <td>0.523013</td>\n",
              "      <td>-0.696837</td>\n",
              "      <td>...</td>\n",
              "      <td>-0.185516</td>\n",
              "      <td>-0.183404</td>\n",
              "      <td>0.793519</td>\n",
              "      <td>0.255795</td>\n",
              "      <td>0.518475</td>\n",
              "      <td>0.655392</td>\n",
              "      <td>0.389528</td>\n",
              "      <td>-0.159402</td>\n",
              "      <td>0.155687</td>\n",
              "      <td>-0.318773</td>\n",
              "      <td>-0.182897</td>\n",
              "      <td>-0.584351</td>\n",
              "      <td>-1.437036</td>\n",
              "      <td>0.627801</td>\n",
              "      <td>0.532542</td>\n",
              "      <td>0.662939</td>\n",
              "      <td>0.678889</td>\n",
              "      <td>-0.622288</td>\n",
              "      <td>0.319153</td>\n",
              "      <td>0.996853</td>\n",
              "      <td>0.696457</td>\n",
              "      <td>0.012059</td>\n",
              "      <td>-0.387256</td>\n",
              "      <td>0.541324</td>\n",
              "      <td>0.047869</td>\n",
              "      <td>-0.789448</td>\n",
              "      <td>-0.599024</td>\n",
              "      <td>-0.941753</td>\n",
              "      <td>0.158490</td>\n",
              "      <td>-0.710274</td>\n",
              "      <td>0.030269</td>\n",
              "      <td>0.281970</td>\n",
              "      <td>0.180029</td>\n",
              "      <td>0.274251</td>\n",
              "      <td>-0.035899</td>\n",
              "      <td>1.007164</td>\n",
              "      <td>-0.209412</td>\n",
              "      <td>animal What fowl grabs the spotlight after the...</td>\n",
              "      <td>FACT</td>\n",
              "      <td>1</td>\n",
              "    </tr>\n",
              "    <tr>\n",
              "      <th>4</th>\n",
              "      <td>-0.341517</td>\n",
              "      <td>-0.614352</td>\n",
              "      <td>0.075421</td>\n",
              "      <td>-0.381870</td>\n",
              "      <td>-0.037142</td>\n",
              "      <td>-0.639595</td>\n",
              "      <td>1.047396</td>\n",
              "      <td>1.109776</td>\n",
              "      <td>-0.500967</td>\n",
              "      <td>-0.308551</td>\n",
              "      <td>-0.026306</td>\n",
              "      <td>0.817467</td>\n",
              "      <td>0.180813</td>\n",
              "      <td>0.402919</td>\n",
              "      <td>0.446856</td>\n",
              "      <td>-0.506134</td>\n",
              "      <td>-0.852798</td>\n",
              "      <td>0.875699</td>\n",
              "      <td>-0.568851</td>\n",
              "      <td>-0.948410</td>\n",
              "      <td>0.342488</td>\n",
              "      <td>-0.257153</td>\n",
              "      <td>-0.041044</td>\n",
              "      <td>1.054365</td>\n",
              "      <td>0.182189</td>\n",
              "      <td>0.183330</td>\n",
              "      <td>0.685496</td>\n",
              "      <td>-0.191475</td>\n",
              "      <td>-0.196328</td>\n",
              "      <td>-0.376523</td>\n",
              "      <td>0.161194</td>\n",
              "      <td>-0.232624</td>\n",
              "      <td>-0.124186</td>\n",
              "      <td>0.408084</td>\n",
              "      <td>0.532743</td>\n",
              "      <td>-0.697111</td>\n",
              "      <td>-0.076796</td>\n",
              "      <td>-0.269128</td>\n",
              "      <td>-0.596582</td>\n",
              "      <td>-0.246367</td>\n",
              "      <td>...</td>\n",
              "      <td>-0.507654</td>\n",
              "      <td>-0.372031</td>\n",
              "      <td>0.384393</td>\n",
              "      <td>-0.427786</td>\n",
              "      <td>-0.062957</td>\n",
              "      <td>0.381884</td>\n",
              "      <td>-0.210031</td>\n",
              "      <td>-0.373228</td>\n",
              "      <td>0.138790</td>\n",
              "      <td>-0.295719</td>\n",
              "      <td>-0.431427</td>\n",
              "      <td>-0.521124</td>\n",
              "      <td>0.406644</td>\n",
              "      <td>0.222613</td>\n",
              "      <td>-0.539807</td>\n",
              "      <td>-0.619525</td>\n",
              "      <td>0.157020</td>\n",
              "      <td>-0.941711</td>\n",
              "      <td>-0.363686</td>\n",
              "      <td>0.716169</td>\n",
              "      <td>-0.360151</td>\n",
              "      <td>-0.008979</td>\n",
              "      <td>-0.696636</td>\n",
              "      <td>-0.872139</td>\n",
              "      <td>0.198449</td>\n",
              "      <td>-0.777934</td>\n",
              "      <td>0.183854</td>\n",
              "      <td>-0.967490</td>\n",
              "      <td>-0.433643</td>\n",
              "      <td>-0.074372</td>\n",
              "      <td>-0.851413</td>\n",
              "      <td>-0.311539</td>\n",
              "      <td>0.008005</td>\n",
              "      <td>-0.179488</td>\n",
              "      <td>-0.726386</td>\n",
              "      <td>0.608123</td>\n",
              "      <td>-0.062077</td>\n",
              "      <td>exp What is the full form of .com ?\\n</td>\n",
              "      <td>FACT</td>\n",
              "      <td>1</td>\n",
              "    </tr>\n",
              "  </tbody>\n",
              "</table>\n",
              "<p>5 rows × 771 columns</p>\n",
              "</div>"
            ],
            "text/plain": [
              "          0         1  ...  Label  Label_enc\n",
              "0 -1.280513 -0.479057  ...   DESC          0\n",
              "1  0.050765 -0.231588  ...   FACT          1\n",
              "2  0.165783  0.086285  ...   DESC          0\n",
              "3 -0.178117 -0.473958  ...   FACT          1\n",
              "4 -0.341517 -0.614352  ...   FACT          1\n",
              "\n",
              "[5 rows x 771 columns]"
            ]
          },
          "metadata": {
            "tags": []
          },
          "execution_count": 69
        }
      ]
    },
    {
      "cell_type": "markdown",
      "metadata": {
        "id": "1WogvLgZKTie"
      },
      "source": [
        "## Doing the split again to asociate the questions and corresponding labels with the training and validation sample"
      ]
    },
    {
      "cell_type": "code",
      "metadata": {
        "id": "XEj_USyCDgp1"
      },
      "source": [
        "X_train,X_val,Y_train,Y_val = train_test_split(final_train.drop('Label_enc',axis=1),final_train['Label_enc'],test_size=0.15,stratify=final_train['Label_enc'],random_state=42)"
      ],
      "execution_count": 78,
      "outputs": []
    },
    {
      "cell_type": "code",
      "metadata": {
        "id": "LXHoj6p4D9k1"
      },
      "source": [
        "X_val_new = X_val.drop(['Question','Label'],axis=1)"
      ],
      "execution_count": 79,
      "outputs": []
    },
    {
      "cell_type": "code",
      "metadata": {
        "id": "IdZfHPfn4ftI"
      },
      "source": [
        "y_pred = model.predict(X_val_new)"
      ],
      "execution_count": 80,
      "outputs": []
    },
    {
      "cell_type": "code",
      "metadata": {
        "colab": {
          "base_uri": "https://localhost:8080/"
        },
        "id": "qIab43rWCqlR",
        "outputId": "1dc2ded0-c85a-49fb-ed5e-7c97738a2319"
      },
      "source": [
        "len(y_pred )"
      ],
      "execution_count": 81,
      "outputs": [
        {
          "output_type": "execute_result",
          "data": {
            "text/plain": [
              "830"
            ]
          },
          "metadata": {
            "tags": []
          },
          "execution_count": 81
        }
      ]
    },
    {
      "cell_type": "markdown",
      "metadata": {
        "id": "719q_5M9G6qw"
      },
      "source": [
        "## F1 Score"
      ]
    },
    {
      "cell_type": "code",
      "metadata": {
        "colab": {
          "base_uri": "https://localhost:8080/"
        },
        "id": "iFJQEemSG8WQ",
        "outputId": "14c3fede-6646-43ca-a658-6f5bbd5385a9"
      },
      "source": [
        "f1_score(y_pred,Y_val)"
      ],
      "execution_count": 82,
      "outputs": [
        {
          "output_type": "execute_result",
          "data": {
            "text/plain": [
              "0.9847560975609756"
            ]
          },
          "metadata": {
            "tags": []
          },
          "execution_count": 82
        }
      ]
    },
    {
      "cell_type": "markdown",
      "metadata": {
        "id": "d_nXKu0NKdkW"
      },
      "source": [
        "## Confusion Matrix"
      ]
    },
    {
      "cell_type": "code",
      "metadata": {
        "colab": {
          "base_uri": "https://localhost:8080/",
          "height": 427
        },
        "id": "4joFKS_S-e1R",
        "outputId": "0ddf8e72-2575-4118-d60c-2da69147af2c"
      },
      "source": [
        "mapping = {0: \"DESC\", 1: \"FACT\"}\n",
        "fig, ax = plt.subplots(figsize=(6, 6))\n",
        "cm_viz = ConfusionMatrix(\n",
        "    model,\n",
        "    classes=[\"DESC\", \"FACT\"],\n",
        "    label_encoder=mapping,\n",
        ")\n",
        "cm_viz.score(X_val_new , Y_val)\n",
        "cm_viz.poof()"
      ],
      "execution_count": 83,
      "outputs": [
        {
          "output_type": "display_data",
          "data": {
            "image/png": "[encoded data removed]",
            "text/plain": [
              "<Figure size 432x432 with 1 Axes>"
            ]
          },
          "metadata": {
            "tags": []
          }
        }
      ]
    },
    {
      "cell_type": "markdown",
      "metadata": {
        "id": "c9kGoltlEzPJ"
      },
      "source": [
        "## ROC -AUC Plot"
      ]
    },
    {
      "cell_type": "code",
      "metadata": {
        "colab": {
          "base_uri": "https://localhost:8080/",
          "height": 404
        },
        "id": "MCoHrOp4E10f",
        "outputId": "097af6e0-d567-4d98-eee3-e5b09a6eab85"
      },
      "source": [
        "fig, ax = plt.subplots(figsize=(6, 6))\n",
        "roc_viz = ROCAUC(model)\n",
        "roc_viz.score(X_val_new, Y_val)\n",
        "roc_viz.poof()"
      ],
      "execution_count": 84,
      "outputs": [
        {
          "output_type": "display_data",
          "data": {
            "image/png": "[encoded data removed]",
            "text/plain": [
              "<Figure size 432x432 with 1 Axes>"
            ]
          },
          "metadata": {
            "tags": []
          }
        }
      ]
    },
    {
      "cell_type": "markdown",
      "metadata": {
        "id": "hbkFMr-jKosJ"
      },
      "source": [
        "## Retrieve Prediction Probabilities for Each Class"
      ]
    },
    {
      "cell_type": "code",
      "metadata": {
        "id": "xbb2ew0x7D-c"
      },
      "source": [
        "pred_proba = model.predict_proba(X_val_new)"
      ],
      "execution_count": 85,
      "outputs": []
    },
    {
      "cell_type": "code",
      "metadata": {
        "colab": {
          "base_uri": "https://localhost:8080/"
        },
        "id": "YIaZ3eH28BKe",
        "outputId": "4ea017de-7963-48e2-c281-feb32d64254b"
      },
      "source": [
        "pred_proba "
      ],
      "execution_count": 86,
      "outputs": [
        {
          "output_type": "execute_result",
          "data": {
            "text/plain": [
              "array([[9.96273796e-01, 3.72620425e-03],\n",
              "       [3.21838690e-02, 9.67816131e-01],\n",
              "       [8.87997857e-01, 1.12002143e-01],\n",
              "       ...,\n",
              "       [9.98325547e-01, 1.67445283e-03],\n",
              "       [9.87246763e-01, 1.27532374e-02],\n",
              "       [2.73480612e-04, 9.99726519e-01]])"
            ]
          },
          "metadata": {
            "tags": []
          },
          "execution_count": 86
        }
      ]
    },
    {
      "cell_type": "markdown",
      "metadata": {
        "id": "_gPftnH9KvaJ"
      },
      "source": [
        "## Store the prediction Probabilities into a DataFrame"
      ]
    },
    {
      "cell_type": "code",
      "metadata": {
        "id": "-zwRcmiB8F8s"
      },
      "source": [
        "df_pred = pd.DataFrame(pred_proba,columns=lb.classes_)"
      ],
      "execution_count": 87,
      "outputs": []
    },
    {
      "cell_type": "code",
      "metadata": {
        "colab": {
          "base_uri": "https://localhost:8080/",
          "height": 419
        },
        "id": "60tg3pMY8ywf",
        "outputId": "5c4faa22-c740-455c-b84a-2d492face002"
      },
      "source": [
        "df_pred"
      ],
      "execution_count": 88,
      "outputs": [
        {
          "output_type": "execute_result",
          "data": {
            "text/html": [
              "<div>\n",
              "<style scoped>\n",
              "    .dataframe tbody tr th:only-of-type {\n",
              "        vertical-align: middle;\n",
              "    }\n",
              "\n",
              "    .dataframe tbody tr th {\n",
              "        vertical-align: top;\n",
              "    }\n",
              "\n",
              "    .dataframe thead th {\n",
              "        text-align: right;\n",
              "    }\n",
              "</style>\n",
              "<table border=\"1\" class=\"dataframe\">\n",
              "  <thead>\n",
              "    <tr style=\"text-align: right;\">\n",
              "      <th></th>\n",
              "      <th>DESC</th>\n",
              "      <th>FACT</th>\n",
              "    </tr>\n",
              "  </thead>\n",
              "  <tbody>\n",
              "    <tr>\n",
              "      <th>0</th>\n",
              "      <td>0.996274</td>\n",
              "      <td>0.003726</td>\n",
              "    </tr>\n",
              "    <tr>\n",
              "      <th>1</th>\n",
              "      <td>0.032184</td>\n",
              "      <td>0.967816</td>\n",
              "    </tr>\n",
              "    <tr>\n",
              "      <th>2</th>\n",
              "      <td>0.887998</td>\n",
              "      <td>0.112002</td>\n",
              "    </tr>\n",
              "    <tr>\n",
              "      <th>3</th>\n",
              "      <td>0.016470</td>\n",
              "      <td>0.983530</td>\n",
              "    </tr>\n",
              "    <tr>\n",
              "      <th>4</th>\n",
              "      <td>0.998142</td>\n",
              "      <td>0.001858</td>\n",
              "    </tr>\n",
              "    <tr>\n",
              "      <th>...</th>\n",
              "      <td>...</td>\n",
              "      <td>...</td>\n",
              "    </tr>\n",
              "    <tr>\n",
              "      <th>825</th>\n",
              "      <td>0.000005</td>\n",
              "      <td>0.999995</td>\n",
              "    </tr>\n",
              "    <tr>\n",
              "      <th>826</th>\n",
              "      <td>0.002246</td>\n",
              "      <td>0.997754</td>\n",
              "    </tr>\n",
              "    <tr>\n",
              "      <th>827</th>\n",
              "      <td>0.998326</td>\n",
              "      <td>0.001674</td>\n",
              "    </tr>\n",
              "    <tr>\n",
              "      <th>828</th>\n",
              "      <td>0.987247</td>\n",
              "      <td>0.012753</td>\n",
              "    </tr>\n",
              "    <tr>\n",
              "      <th>829</th>\n",
              "      <td>0.000273</td>\n",
              "      <td>0.999727</td>\n",
              "    </tr>\n",
              "  </tbody>\n",
              "</table>\n",
              "<p>830 rows × 2 columns</p>\n",
              "</div>"
            ],
            "text/plain": [
              "         DESC      FACT\n",
              "0    0.996274  0.003726\n",
              "1    0.032184  0.967816\n",
              "2    0.887998  0.112002\n",
              "3    0.016470  0.983530\n",
              "4    0.998142  0.001858\n",
              "..        ...       ...\n",
              "825  0.000005  0.999995\n",
              "826  0.002246  0.997754\n",
              "827  0.998326  0.001674\n",
              "828  0.987247  0.012753\n",
              "829  0.000273  0.999727\n",
              "\n",
              "[830 rows x 2 columns]"
            ]
          },
          "metadata": {
            "tags": []
          },
          "execution_count": 88
        }
      ]
    },
    {
      "cell_type": "markdown",
      "metadata": {
        "id": "lYHdaXW4K1-n"
      },
      "source": [
        "## Formatting the Validation Data"
      ]
    },
    {
      "cell_type": "code",
      "metadata": {
        "colab": {
          "base_uri": "https://localhost:8080/",
          "height": 419
        },
        "id": "4AITNCgAFH5f",
        "outputId": "d68159c4-aaca-4bf5-b4b9-9916079da838"
      },
      "source": [
        "X_val[['Question','Label']]"
      ],
      "execution_count": 89,
      "outputs": [
        {
          "output_type": "execute_result",
          "data": {
            "text/html": [
              "<div>\n",
              "<style scoped>\n",
              "    .dataframe tbody tr th:only-of-type {\n",
              "        vertical-align: middle;\n",
              "    }\n",
              "\n",
              "    .dataframe tbody tr th {\n",
              "        vertical-align: top;\n",
              "    }\n",
              "\n",
              "    .dataframe thead th {\n",
              "        text-align: right;\n",
              "    }\n",
              "</style>\n",
              "<table border=\"1\" class=\"dataframe\">\n",
              "  <thead>\n",
              "    <tr style=\"text-align: right;\">\n",
              "      <th></th>\n",
              "      <th>Question</th>\n",
              "      <th>Label</th>\n",
              "    </tr>\n",
              "  </thead>\n",
              "  <tbody>\n",
              "    <tr>\n",
              "      <th>3461</th>\n",
              "      <td>def What is the meaning of the name Kathryn ?\\n</td>\n",
              "      <td>DESC</td>\n",
              "    </tr>\n",
              "    <tr>\n",
              "      <th>1616</th>\n",
              "      <td>ind Who is stationed at Camp Swampy in the com...</td>\n",
              "      <td>FACT</td>\n",
              "    </tr>\n",
              "    <tr>\n",
              "      <th>5269</th>\n",
              "      <td>reason What made the short-lived Star Hawks st...</td>\n",
              "      <td>DESC</td>\n",
              "    </tr>\n",
              "    <tr>\n",
              "      <th>4342</th>\n",
              "      <td>event What was the worst hurricane ?\\n</td>\n",
              "      <td>FACT</td>\n",
              "    </tr>\n",
              "    <tr>\n",
              "      <th>3798</th>\n",
              "      <td>def What is the meaning of `` CPR '' ?\\n</td>\n",
              "      <td>DESC</td>\n",
              "    </tr>\n",
              "    <tr>\n",
              "      <th>...</th>\n",
              "      <td>...</td>\n",
              "      <td>...</td>\n",
              "    </tr>\n",
              "    <tr>\n",
              "      <th>261</th>\n",
              "      <td>exp CNN is the abbreviation for what ?\\n</td>\n",
              "      <td>FACT</td>\n",
              "    </tr>\n",
              "    <tr>\n",
              "      <th>4106</th>\n",
              "      <td>date When did the American Civil War end ?\\n</td>\n",
              "      <td>FACT</td>\n",
              "    </tr>\n",
              "    <tr>\n",
              "      <th>4889</th>\n",
              "      <td>desc What is the difference between hair and f...</td>\n",
              "      <td>DESC</td>\n",
              "    </tr>\n",
              "    <tr>\n",
              "      <th>4746</th>\n",
              "      <td>def What is the definition of cecum ?\\n</td>\n",
              "      <td>DESC</td>\n",
              "    </tr>\n",
              "    <tr>\n",
              "      <th>4478</th>\n",
              "      <td>other Which sex is denied voting rights in Kuw...</td>\n",
              "      <td>FACT</td>\n",
              "    </tr>\n",
              "  </tbody>\n",
              "</table>\n",
              "<p>830 rows × 2 columns</p>\n",
              "</div>"
            ],
            "text/plain": [
              "                                               Question Label\n",
              "3461    def What is the meaning of the name Kathryn ?\\n  DESC\n",
              "1616  ind Who is stationed at Camp Swampy in the com...  FACT\n",
              "5269  reason What made the short-lived Star Hawks st...  DESC\n",
              "4342             event What was the worst hurricane ?\\n  FACT\n",
              "3798           def What is the meaning of `` CPR '' ?\\n  DESC\n",
              "...                                                 ...   ...\n",
              "261            exp CNN is the abbreviation for what ?\\n  FACT\n",
              "4106       date When did the American Civil War end ?\\n  FACT\n",
              "4889  desc What is the difference between hair and f...  DESC\n",
              "4746            def What is the definition of cecum ?\\n  DESC\n",
              "4478  other Which sex is denied voting rights in Kuw...  FACT\n",
              "\n",
              "[830 rows x 2 columns]"
            ]
          },
          "metadata": {
            "tags": []
          },
          "execution_count": 89
        }
      ]
    },
    {
      "cell_type": "code",
      "metadata": {
        "id": "7JPP5q_EB2Te"
      },
      "source": [
        "predictions_made = X_val[['Question','Label']].copy()"
      ],
      "execution_count": 90,
      "outputs": []
    },
    {
      "cell_type": "code",
      "metadata": {
        "id": "zcuMqg9DCxs-"
      },
      "source": [
        "predictions_made['Label_Predicted'] = y_pred"
      ],
      "execution_count": 91,
      "outputs": []
    },
    {
      "cell_type": "code",
      "metadata": {
        "colab": {
          "base_uri": "https://localhost:8080/",
          "height": 204
        },
        "id": "hH388mSTFPK1",
        "outputId": "1b8f5cd0-035b-49db-c1ca-fbc58ad60370"
      },
      "source": [
        "predictions_made.head()"
      ],
      "execution_count": 92,
      "outputs": [
        {
          "output_type": "execute_result",
          "data": {
            "text/html": [
              "<div>\n",
              "<style scoped>\n",
              "    .dataframe tbody tr th:only-of-type {\n",
              "        vertical-align: middle;\n",
              "    }\n",
              "\n",
              "    .dataframe tbody tr th {\n",
              "        vertical-align: top;\n",
              "    }\n",
              "\n",
              "    .dataframe thead th {\n",
              "        text-align: right;\n",
              "    }\n",
              "</style>\n",
              "<table border=\"1\" class=\"dataframe\">\n",
              "  <thead>\n",
              "    <tr style=\"text-align: right;\">\n",
              "      <th></th>\n",
              "      <th>Question</th>\n",
              "      <th>Label</th>\n",
              "      <th>Label_Predicted</th>\n",
              "    </tr>\n",
              "  </thead>\n",
              "  <tbody>\n",
              "    <tr>\n",
              "      <th>3461</th>\n",
              "      <td>def What is the meaning of the name Kathryn ?\\n</td>\n",
              "      <td>DESC</td>\n",
              "      <td>0</td>\n",
              "    </tr>\n",
              "    <tr>\n",
              "      <th>1616</th>\n",
              "      <td>ind Who is stationed at Camp Swampy in the com...</td>\n",
              "      <td>FACT</td>\n",
              "      <td>1</td>\n",
              "    </tr>\n",
              "    <tr>\n",
              "      <th>5269</th>\n",
              "      <td>reason What made the short-lived Star Hawks st...</td>\n",
              "      <td>DESC</td>\n",
              "      <td>0</td>\n",
              "    </tr>\n",
              "    <tr>\n",
              "      <th>4342</th>\n",
              "      <td>event What was the worst hurricane ?\\n</td>\n",
              "      <td>FACT</td>\n",
              "      <td>1</td>\n",
              "    </tr>\n",
              "    <tr>\n",
              "      <th>3798</th>\n",
              "      <td>def What is the meaning of `` CPR '' ?\\n</td>\n",
              "      <td>DESC</td>\n",
              "      <td>0</td>\n",
              "    </tr>\n",
              "  </tbody>\n",
              "</table>\n",
              "</div>"
            ],
            "text/plain": [
              "                                               Question Label  Label_Predicted\n",
              "3461    def What is the meaning of the name Kathryn ?\\n  DESC                0\n",
              "1616  ind Who is stationed at Camp Swampy in the com...  FACT                1\n",
              "5269  reason What made the short-lived Star Hawks st...  DESC                0\n",
              "4342             event What was the worst hurricane ?\\n  FACT                1\n",
              "3798           def What is the meaning of `` CPR '' ?\\n  DESC                0"
            ]
          },
          "metadata": {
            "tags": []
          },
          "execution_count": 92
        }
      ]
    },
    {
      "cell_type": "code",
      "metadata": {
        "colab": {
          "base_uri": "https://localhost:8080/"
        },
        "id": "onMWQopfF6XM",
        "outputId": "c022610b-aa01-41ff-d178-0147ceceb75f"
      },
      "source": [
        "predictions_made['Label_Predicted'].unique()"
      ],
      "execution_count": 93,
      "outputs": [
        {
          "output_type": "execute_result",
          "data": {
            "text/plain": [
              "array([0, 1])"
            ]
          },
          "metadata": {
            "tags": []
          },
          "execution_count": 93
        }
      ]
    },
    {
      "cell_type": "markdown",
      "metadata": {
        "id": "eQuvn54mK6mQ"
      },
      "source": [
        "## Generate Label Mapper"
      ]
    },
    {
      "cell_type": "code",
      "metadata": {
        "id": "BaU_ZP6l90p_"
      },
      "source": [
        "names = lb.classes_.tolist()"
      ],
      "execution_count": 94,
      "outputs": []
    },
    {
      "cell_type": "code",
      "metadata": {
        "colab": {
          "base_uri": "https://localhost:8080/"
        },
        "id": "KlbuqgzEFYxE",
        "outputId": "38c81add-0ac3-4d07-cfa3-930ec9d8269f"
      },
      "source": [
        "mapper = {k:v for k,v in enumerate(lb.classes_.tolist())}\n",
        "mapper "
      ],
      "execution_count": 95,
      "outputs": [
        {
          "output_type": "execute_result",
          "data": {
            "text/plain": [
              "{0: 'DESC', 1: 'FACT'}"
            ]
          },
          "metadata": {
            "tags": []
          },
          "execution_count": 95
        }
      ]
    },
    {
      "cell_type": "code",
      "metadata": {
        "id": "esSTV8jGFVeY"
      },
      "source": [
        "predictions_made['Label_Predicted'] = predictions_made['Label_Predicted'].map(mapper)"
      ],
      "execution_count": 96,
      "outputs": []
    },
    {
      "cell_type": "code",
      "metadata": {
        "id": "bZOzHmOyFxkX"
      },
      "source": [
        "predictions_made.reset_index(inplace=True)"
      ],
      "execution_count": 97,
      "outputs": []
    },
    {
      "cell_type": "code",
      "metadata": {
        "colab": {
          "base_uri": "https://localhost:8080/",
          "height": 204
        },
        "id": "R57cLZigIgbC",
        "outputId": "32e236b9-fcbe-4bcc-fc9c-6d19c19d7922"
      },
      "source": [
        "predictions_made = predictions_made.drop('index',axis=1)\n",
        "predictions_made.head()"
      ],
      "execution_count": 98,
      "outputs": [
        {
          "output_type": "execute_result",
          "data": {
            "text/html": [
              "<div>\n",
              "<style scoped>\n",
              "    .dataframe tbody tr th:only-of-type {\n",
              "        vertical-align: middle;\n",
              "    }\n",
              "\n",
              "    .dataframe tbody tr th {\n",
              "        vertical-align: top;\n",
              "    }\n",
              "\n",
              "    .dataframe thead th {\n",
              "        text-align: right;\n",
              "    }\n",
              "</style>\n",
              "<table border=\"1\" class=\"dataframe\">\n",
              "  <thead>\n",
              "    <tr style=\"text-align: right;\">\n",
              "      <th></th>\n",
              "      <th>Question</th>\n",
              "      <th>Label</th>\n",
              "      <th>Label_Predicted</th>\n",
              "    </tr>\n",
              "  </thead>\n",
              "  <tbody>\n",
              "    <tr>\n",
              "      <th>0</th>\n",
              "      <td>def What is the meaning of the name Kathryn ?\\n</td>\n",
              "      <td>DESC</td>\n",
              "      <td>DESC</td>\n",
              "    </tr>\n",
              "    <tr>\n",
              "      <th>1</th>\n",
              "      <td>ind Who is stationed at Camp Swampy in the com...</td>\n",
              "      <td>FACT</td>\n",
              "      <td>FACT</td>\n",
              "    </tr>\n",
              "    <tr>\n",
              "      <th>2</th>\n",
              "      <td>reason What made the short-lived Star Hawks st...</td>\n",
              "      <td>DESC</td>\n",
              "      <td>DESC</td>\n",
              "    </tr>\n",
              "    <tr>\n",
              "      <th>3</th>\n",
              "      <td>event What was the worst hurricane ?\\n</td>\n",
              "      <td>FACT</td>\n",
              "      <td>FACT</td>\n",
              "    </tr>\n",
              "    <tr>\n",
              "      <th>4</th>\n",
              "      <td>def What is the meaning of `` CPR '' ?\\n</td>\n",
              "      <td>DESC</td>\n",
              "      <td>DESC</td>\n",
              "    </tr>\n",
              "  </tbody>\n",
              "</table>\n",
              "</div>"
            ],
            "text/plain": [
              "                                            Question Label Label_Predicted\n",
              "0    def What is the meaning of the name Kathryn ?\\n  DESC            DESC\n",
              "1  ind Who is stationed at Camp Swampy in the com...  FACT            FACT\n",
              "2  reason What made the short-lived Star Hawks st...  DESC            DESC\n",
              "3             event What was the worst hurricane ?\\n  FACT            FACT\n",
              "4           def What is the meaning of `` CPR '' ?\\n  DESC            DESC"
            ]
          },
          "metadata": {
            "tags": []
          },
          "execution_count": 98
        }
      ]
    },
    {
      "cell_type": "code",
      "metadata": {
        "id": "Yo7UL5lPCeZG"
      },
      "source": [
        "final_validation_preds = pd.concat((predictions_made,df_pred),axis=1)"
      ],
      "execution_count": 99,
      "outputs": []
    },
    {
      "cell_type": "code",
      "metadata": {
        "colab": {
          "base_uri": "https://localhost:8080/",
          "height": 204
        },
        "id": "WQf7UlrfE3lr",
        "outputId": "db012173-f3bb-4c61-fb46-a67cddacd96e"
      },
      "source": [
        "final_validation_preds.head()"
      ],
      "execution_count": 100,
      "outputs": [
        {
          "output_type": "execute_result",
          "data": {
            "text/html": [
              "<div>\n",
              "<style scoped>\n",
              "    .dataframe tbody tr th:only-of-type {\n",
              "        vertical-align: middle;\n",
              "    }\n",
              "\n",
              "    .dataframe tbody tr th {\n",
              "        vertical-align: top;\n",
              "    }\n",
              "\n",
              "    .dataframe thead th {\n",
              "        text-align: right;\n",
              "    }\n",
              "</style>\n",
              "<table border=\"1\" class=\"dataframe\">\n",
              "  <thead>\n",
              "    <tr style=\"text-align: right;\">\n",
              "      <th></th>\n",
              "      <th>Question</th>\n",
              "      <th>Label</th>\n",
              "      <th>Label_Predicted</th>\n",
              "      <th>DESC</th>\n",
              "      <th>FACT</th>\n",
              "    </tr>\n",
              "  </thead>\n",
              "  <tbody>\n",
              "    <tr>\n",
              "      <th>0</th>\n",
              "      <td>def What is the meaning of the name Kathryn ?\\n</td>\n",
              "      <td>DESC</td>\n",
              "      <td>DESC</td>\n",
              "      <td>0.996274</td>\n",
              "      <td>0.003726</td>\n",
              "    </tr>\n",
              "    <tr>\n",
              "      <th>1</th>\n",
              "      <td>ind Who is stationed at Camp Swampy in the com...</td>\n",
              "      <td>FACT</td>\n",
              "      <td>FACT</td>\n",
              "      <td>0.032184</td>\n",
              "      <td>0.967816</td>\n",
              "    </tr>\n",
              "    <tr>\n",
              "      <th>2</th>\n",
              "      <td>reason What made the short-lived Star Hawks st...</td>\n",
              "      <td>DESC</td>\n",
              "      <td>DESC</td>\n",
              "      <td>0.887998</td>\n",
              "      <td>0.112002</td>\n",
              "    </tr>\n",
              "    <tr>\n",
              "      <th>3</th>\n",
              "      <td>event What was the worst hurricane ?\\n</td>\n",
              "      <td>FACT</td>\n",
              "      <td>FACT</td>\n",
              "      <td>0.016470</td>\n",
              "      <td>0.983530</td>\n",
              "    </tr>\n",
              "    <tr>\n",
              "      <th>4</th>\n",
              "      <td>def What is the meaning of `` CPR '' ?\\n</td>\n",
              "      <td>DESC</td>\n",
              "      <td>DESC</td>\n",
              "      <td>0.998142</td>\n",
              "      <td>0.001858</td>\n",
              "    </tr>\n",
              "  </tbody>\n",
              "</table>\n",
              "</div>"
            ],
            "text/plain": [
              "                                            Question Label  ...      DESC      FACT\n",
              "0    def What is the meaning of the name Kathryn ?\\n  DESC  ...  0.996274  0.003726\n",
              "1  ind Who is stationed at Camp Swampy in the com...  FACT  ...  0.032184  0.967816\n",
              "2  reason What made the short-lived Star Hawks st...  DESC  ...  0.887998  0.112002\n",
              "3             event What was the worst hurricane ?\\n  FACT  ...  0.016470  0.983530\n",
              "4           def What is the meaning of `` CPR '' ?\\n  DESC  ...  0.998142  0.001858\n",
              "\n",
              "[5 rows x 5 columns]"
            ]
          },
          "metadata": {
            "tags": []
          },
          "execution_count": 100
        }
      ]
    },
    {
      "cell_type": "markdown",
      "metadata": {
        "id": "xLXqNC7TIXEc"
      },
      "source": [
        "## Misclassified Labels after prediction"
      ]
    },
    {
      "cell_type": "code",
      "metadata": {
        "colab": {
          "base_uri": "https://localhost:8080/",
          "height": 359
        },
        "id": "gkV_tqH_HMh5",
        "outputId": "caa80b61-54d0-4484-db7c-cc5219dc363b"
      },
      "source": [
        "final_validation_preds[(final_validation_preds['Label'] == 'DESC')&(final_validation_preds['Label'] != final_validation_preds['Label_Predicted'])]"
      ],
      "execution_count": 101,
      "outputs": [
        {
          "output_type": "execute_result",
          "data": {
            "text/html": [
              "<div>\n",
              "<style scoped>\n",
              "    .dataframe tbody tr th:only-of-type {\n",
              "        vertical-align: middle;\n",
              "    }\n",
              "\n",
              "    .dataframe tbody tr th {\n",
              "        vertical-align: top;\n",
              "    }\n",
              "\n",
              "    .dataframe thead th {\n",
              "        text-align: right;\n",
              "    }\n",
              "</style>\n",
              "<table border=\"1\" class=\"dataframe\">\n",
              "  <thead>\n",
              "    <tr style=\"text-align: right;\">\n",
              "      <th></th>\n",
              "      <th>Question</th>\n",
              "      <th>Label</th>\n",
              "      <th>Label_Predicted</th>\n",
              "      <th>DESC</th>\n",
              "      <th>FACT</th>\n",
              "    </tr>\n",
              "  </thead>\n",
              "  <tbody>\n",
              "    <tr>\n",
              "      <th>145</th>\n",
              "      <td>reason What caused Shea &amp; Gould to close their...</td>\n",
              "      <td>DESC</td>\n",
              "      <td>FACT</td>\n",
              "      <td>0.219097</td>\n",
              "      <td>0.780903</td>\n",
              "    </tr>\n",
              "    <tr>\n",
              "      <th>165</th>\n",
              "      <td>manner How do they find an epicenter ?\\n</td>\n",
              "      <td>DESC</td>\n",
              "      <td>FACT</td>\n",
              "      <td>0.452925</td>\n",
              "      <td>0.547075</td>\n",
              "    </tr>\n",
              "    <tr>\n",
              "      <th>233</th>\n",
              "      <td>manner How do you make panoramic sugar eggs fo...</td>\n",
              "      <td>DESC</td>\n",
              "      <td>FACT</td>\n",
              "      <td>0.286394</td>\n",
              "      <td>0.713606</td>\n",
              "    </tr>\n",
              "    <tr>\n",
              "      <th>268</th>\n",
              "      <td>manner How is Abigail Arcane related to the vi...</td>\n",
              "      <td>DESC</td>\n",
              "      <td>FACT</td>\n",
              "      <td>0.242980</td>\n",
              "      <td>0.757020</td>\n",
              "    </tr>\n",
              "    <tr>\n",
              "      <th>285</th>\n",
              "      <td>reason Why are the U.S. presidential elections...</td>\n",
              "      <td>DESC</td>\n",
              "      <td>FACT</td>\n",
              "      <td>0.032296</td>\n",
              "      <td>0.967704</td>\n",
              "    </tr>\n",
              "    <tr>\n",
              "      <th>295</th>\n",
              "      <td>desc What do a diamond and lump of coal have i...</td>\n",
              "      <td>DESC</td>\n",
              "      <td>FACT</td>\n",
              "      <td>0.134288</td>\n",
              "      <td>0.865712</td>\n",
              "    </tr>\n",
              "    <tr>\n",
              "      <th>426</th>\n",
              "      <td>def What is the filmmakers collabrative ?\\n</td>\n",
              "      <td>DESC</td>\n",
              "      <td>FACT</td>\n",
              "      <td>0.480959</td>\n",
              "      <td>0.519041</td>\n",
              "    </tr>\n",
              "    <tr>\n",
              "      <th>516</th>\n",
              "      <td>manner How do you exterminate bees that are in...</td>\n",
              "      <td>DESC</td>\n",
              "      <td>FACT</td>\n",
              "      <td>0.326247</td>\n",
              "      <td>0.673753</td>\n",
              "    </tr>\n",
              "    <tr>\n",
              "      <th>765</th>\n",
              "      <td>reason Why was the L.A. office of Shea and Gou...</td>\n",
              "      <td>DESC</td>\n",
              "      <td>FACT</td>\n",
              "      <td>0.098569</td>\n",
              "      <td>0.901431</td>\n",
              "    </tr>\n",
              "    <tr>\n",
              "      <th>812</th>\n",
              "      <td>desc What were the three prophecies the witche...</td>\n",
              "      <td>DESC</td>\n",
              "      <td>FACT</td>\n",
              "      <td>0.244988</td>\n",
              "      <td>0.755012</td>\n",
              "    </tr>\n",
              "  </tbody>\n",
              "</table>\n",
              "</div>"
            ],
            "text/plain": [
              "                                              Question  ...      FACT\n",
              "145  reason What caused Shea & Gould to close their...  ...  0.780903\n",
              "165           manner How do they find an epicenter ?\\n  ...  0.547075\n",
              "233  manner How do you make panoramic sugar eggs fo...  ...  0.713606\n",
              "268  manner How is Abigail Arcane related to the vi...  ...  0.757020\n",
              "285  reason Why are the U.S. presidential elections...  ...  0.967704\n",
              "295  desc What do a diamond and lump of coal have i...  ...  0.865712\n",
              "426        def What is the filmmakers collabrative ?\\n  ...  0.519041\n",
              "516  manner How do you exterminate bees that are in...  ...  0.673753\n",
              "765  reason Why was the L.A. office of Shea and Gou...  ...  0.901431\n",
              "812  desc What were the three prophecies the witche...  ...  0.755012\n",
              "\n",
              "[10 rows x 5 columns]"
            ]
          },
          "metadata": {
            "tags": []
          },
          "execution_count": 101
        }
      ]
    },
    {
      "cell_type": "markdown",
      "metadata": {
        "id": "etdDxoEM5wcg"
      },
      "source": [
        "##Make Predictions on unseen data sample - Prediction Pipeline"
      ]
    },
    {
      "cell_type": "code",
      "metadata": {
        "id": "vjymdGeozf5Q"
      },
      "source": [
        "import pickle\n",
        "import pandas as pd \n",
        "import numpy as np\n",
        "from sentence_transformers import SentenceTransformer"
      ],
      "execution_count": 102,
      "outputs": []
    },
    {
      "cell_type": "markdown",
      "metadata": {
        "id": "kIg30Tf0_UAm"
      },
      "source": [
        "## Save the LogisticRegression Model"
      ]
    },
    {
      "cell_type": "code",
      "metadata": {
        "id": "B8YwwSYEBWe9"
      },
      "source": [
        "import os\n",
        "filename = \"LogisticRegression.pkl\"\n",
        "folder  = \"/content/drive/MyDrive/ZeonAI\"\n",
        "model_path = os.path.join(folder,filename)\n",
        "pickle.dump(model, open(model_path, 'wb'))"
      ],
      "execution_count": 103,
      "outputs": []
    },
    {
      "cell_type": "markdown",
      "metadata": {
        "id": "6KtveO3rNPgr"
      },
      "source": [
        "## RandomForest Classifier"
      ]
    },
    {
      "cell_type": "code",
      "metadata": {
        "id": "IySjATBKNZXG"
      },
      "source": [
        "from sklearn.model_selection import GridSearchCV\n",
        "grid_params = {'max_depth': [2,3,5,7,10],\n",
        "               'n_estimators' :[200,250,300,350,500]}\n",
        "estimator = RandomForestClassifier(class_weight={0:2.3451417,1:0.63549095},random_state=42)"
      ],
      "execution_count": 104,
      "outputs": []
    },
    {
      "cell_type": "code",
      "metadata": {
        "id": "aIZiuLi7P58T"
      },
      "source": [
        "gridcv = GridSearchCV(estimator=estimator, \n",
        "                      param_grid=grid_params,\n",
        "                      scoring = 'f1',\n",
        "                      verbose=10,\n",
        "                      cv=5,\n",
        "                       n_jobs=-1)\n"
      ],
      "execution_count": 105,
      "outputs": []
    },
    {
      "cell_type": "code",
      "metadata": {
        "id": "YYfIivAwTzd_",
        "colab": {
          "base_uri": "https://localhost:8080/"
        },
        "outputId": "5271a4dc-7634-4c86-ad1d-f746589ee32c"
      },
      "source": [
        "gridcv.fit(features,lbls)\n",
        "print(gridcv.best_params_)\n",
        "print(gridcv.best_estimator_)"
      ],
      "execution_count": 106,
      "outputs": [
        {
          "output_type": "stream",
          "text": [
            "Fitting 5 folds for each of 25 candidates, totalling 125 fits\n"
          ],
          "name": "stdout"
        },
        {
          "output_type": "stream",
          "text": [
            "[Parallel(n_jobs=-1)]: Using backend LokyBackend with 2 concurrent workers.\n",
            "[Parallel(n_jobs=-1)]: Done   1 tasks      | elapsed:    6.6s\n",
            "[Parallel(n_jobs=-1)]: Done   4 tasks      | elapsed:   12.3s\n",
            "[Parallel(n_jobs=-1)]: Done   9 tasks      | elapsed:   30.0s\n",
            "[Parallel(n_jobs=-1)]: Done  14 tasks      | elapsed:   46.6s\n",
            "[Parallel(n_jobs=-1)]: Done  21 tasks      | elapsed:  1.4min\n",
            "[Parallel(n_jobs=-1)]: Done  28 tasks      | elapsed:  2.0min\n",
            "[Parallel(n_jobs=-1)]: Done  37 tasks      | elapsed:  2.7min\n",
            "[Parallel(n_jobs=-1)]: Done  46 tasks      | elapsed:  3.7min\n",
            "[Parallel(n_jobs=-1)]: Done  57 tasks      | elapsed:  5.0min\n",
            "[Parallel(n_jobs=-1)]: Done  68 tasks      | elapsed:  6.7min\n",
            "[Parallel(n_jobs=-1)]: Done  81 tasks      | elapsed:  9.0min\n",
            "[Parallel(n_jobs=-1)]: Done  94 tasks      | elapsed: 11.4min\n",
            "[Parallel(n_jobs=-1)]: Done 109 tasks      | elapsed: 14.7min\n",
            "[Parallel(n_jobs=-1)]: Done 125 out of 125 | elapsed: 19.5min finished\n"
          ],
          "name": "stderr"
        },
        {
          "output_type": "stream",
          "text": [
            "{'max_depth': 10, 'n_estimators': 300}\n",
            "RandomForestClassifier(bootstrap=True, ccp_alpha=0.0,\n",
            "                       class_weight={0: 2.3451417, 1: 0.63549095},\n",
            "                       criterion='gini', max_depth=10, max_features='auto',\n",
            "                       max_leaf_nodes=None, max_samples=None,\n",
            "                       min_impurity_decrease=0.0, min_impurity_split=None,\n",
            "                       min_samples_leaf=1, min_samples_split=2,\n",
            "                       min_weight_fraction_leaf=0.0, n_estimators=300,\n",
            "                       n_jobs=None, oob_score=False, random_state=42, verbose=0,\n",
            "                       warm_start=False)\n"
          ],
          "name": "stdout"
        }
      ]
    },
    {
      "cell_type": "code",
      "metadata": {
        "id": "Ri4DV3OAriJd",
        "colab": {
          "base_uri": "https://localhost:8080/",
          "height": 486
        },
        "outputId": "404f0448-b469-4d73-8aac-696eb6e336f0"
      },
      "source": [
        "for train_index,test_index in skf.split(temp,target):\n",
        "        xtrain,xtest = temp[temp.index.isin(train_index)],temp[temp.index.isin(test_index)]\n",
        "        ytrain,ytest = target[train_index],target[test_index]\n",
        "        \n",
        "        model  = RandomForestClassifier( max_depth=10,\n",
        "                                        n_estimators=300,\n",
        "                                        class_weight={0:2.3451417,1:0.63549095},\n",
        "                                        random_state=42)\n",
        "\n",
        "        model.fit(xtrain,ytrain)\n",
        "            \n",
        "        preds = model.predict(xtest)\n",
        "        \n",
        "        print(f1_score(ytest,preds))\n",
        "        scores.append(f1_score(ytest,preds))\n",
        "        #\n",
        "#\n",
        "#        \n",
        "print('-----------KFOLD--------------')\n",
        "print(sns.lineplot(x=[i for i in range(len(scores))],y=scores))\n",
        "print(min(scores),max(scores),np.mean(scores))"
      ],
      "execution_count": 107,
      "outputs": [
        {
          "output_type": "stream",
          "text": [
            "0.9081139172487909\n",
            "0.9068389876144319\n",
            "0.9219088937093275\n",
            "0.9194159004867495\n",
            "0.9203734211971445\n",
            "-----------KFOLD--------------\n",
            "AxesSubplot(0.125,0.125;0.775x0.755)\n",
            "0.9068389876144319 0.9671574178935448 0.9504706129080007\n"
          ],
          "name": "stdout"
        },
        {
          "output_type": "display_data",
          "data": {
            "image/png": "[encoded data removed]",
            "text/plain": [
              "<Figure size 576x396 with 1 Axes>"
            ]
          },
          "metadata": {
            "tags": []
          }
        }
      ]
    },
    {
      "cell_type": "code",
      "metadata": {
        "id": "8eFiZTwx6AwT",
        "colab": {
          "base_uri": "https://localhost:8080/"
        },
        "outputId": "6f9d0755-d67a-4431-cc01-c0f164283280"
      },
      "source": [
        "y_pred = model.predict(X_val_new)\n",
        "print(f'accuracy_score :{accuracy_score(y_pred,Y_val)}')\n",
        "print(f'F1_score :{f1_score(y_pred,Y_val)}')"
      ],
      "execution_count": 109,
      "outputs": [
        {
          "output_type": "stream",
          "text": [
            "accuracy_score :0.9662650602409638\n",
            "F1_score :0.978819969742814\n"
          ],
          "name": "stdout"
        }
      ]
    },
    {
      "cell_type": "code",
      "metadata": {
        "id": "3xdDsOA62apU",
        "colab": {
          "base_uri": "https://localhost:8080/",
          "height": 427
        },
        "outputId": "788cb472-69e4-479d-ba39-b069ee8aac65"
      },
      "source": [
        "mapping = {0: \"DESC\", 1: \"FACT\"}\n",
        "fig, ax = plt.subplots(figsize=(6, 6))\n",
        "cm_viz = ConfusionMatrix(\n",
        "    model,\n",
        "    classes=[\"DESC\", \"FACT\"],\n",
        "    label_encoder=mapping,\n",
        ")\n",
        "cm_viz.score(X_val_new, Y_val)\n",
        "cm_viz.poof()"
      ],
      "execution_count": 111,
      "outputs": [
        {
          "output_type": "display_data",
          "data": {
            "image/png": "[encoded data removed]",
            "text/plain": [
              "<Figure size 432x432 with 1 Axes>"
            ]
          },
          "metadata": {
            "tags": []
          }
        }
      ]
    },
    {
      "cell_type": "code",
      "metadata": {
        "id": "ZxNYyaEN4hNv",
        "colab": {
          "base_uri": "https://localhost:8080/",
          "height": 404
        },
        "outputId": "7b5b42cb-903c-4553-9c09-1112181fc25d"
      },
      "source": [
        "fig, ax = plt.subplots(figsize=(6, 6))\n",
        "roc_viz = ROCAUC(model)\n",
        "roc_viz.score(X_val_new, Y_val)\n",
        "roc_viz.poof()"
      ],
      "execution_count": 113,
      "outputs": [
        {
          "output_type": "display_data",
          "data": {
            "image/png": "[encoded data removed]",
            "text/plain": [
              "<Figure size 432x432 with 1 Axes>"
            ]
          },
          "metadata": {
            "tags": []
          }
        }
      ]
    },
    {
      "cell_type": "markdown",
      "metadata": {
        "id": "9DgwM55i2tEk"
      },
      "source": [
        "* LogisticRegression scored better : 98.47%\n",
        "\n",
        "* RandomForestClassifier scored : 97.88%"
      ]
    },
    {
      "cell_type": "markdown",
      "metadata": {
        "id": "KUGv4v0_Enzs"
      },
      "source": [
        "## Define The Prediction Pipeline"
      ]
    },
    {
      "cell_type": "code",
      "metadata": {
        "id": "Y83H9hEi7Anp"
      },
      "source": [
        "class process_test_data():\n",
        "  def __init__(self,file_path,model_path,mapper):\n",
        "    self.file_path = file_path\n",
        "    self.model_path = model_path\n",
        "    self.mapper = mapper\n",
        "  def read_data(self):\n",
        "    self.TEST = pd.read_excel(self.file_path)\n",
        "    self.TEST = self.TEST.rename(columns={'Query':'Question'})\n",
        "    print(self.TEST.shape)\n",
        "  def generate_vectors(self):\n",
        "    self.sentence_list = self.TEST.Question.values.tolist()\n",
        "    model = SentenceTransformer('sentence-transformers/distilbert-base-nli-mean-tokens')\n",
        "    embeddings = model.encode(self.sentence_list)\n",
        "    print(len(embeddings))\n",
        "    self.train_vector = pd.DataFrame(np.array(embeddings))\n",
        "    print(self.train_vector.shape)\n",
        "  def load_and_predict(self):\n",
        "    loaded_model = pickle.load(open(self.model_path , 'rb'))\n",
        "    predictions = loaded_model.predict(self.train_vector)\n",
        "    pred_proba = loaded_model.predict_proba(self.train_vector)\n",
        "    print(len(predictions))\n",
        "    names = [ k for k in self.mapper.values()]\n",
        "    self.proba = pd.DataFrame(pred_proba,columns=names)\n",
        "    self.TEST['Predicted Labels'] = predictions\n",
        "    self.TEST['Predicted Labels'] = self.TEST['Predicted Labels'].map(mapper)\n",
        "    self.TEST = pd.concat([self.TEST,self.proba],axis=1)\n",
        "    return self.TEST\n",
        " \n",
        "\n"
      ],
      "execution_count": 128,
      "outputs": []
    },
    {
      "cell_type": "markdown",
      "metadata": {
        "id": "ow4bkCecWNLf"
      },
      "source": [
        "## Process Test Data for labels"
      ]
    },
    {
      "cell_type": "code",
      "metadata": {
        "id": "4HFsyRQfWQw3",
        "outputId": "2933c6a4-fdcb-427c-f56c-4ec792861ab9",
        "colab": {
          "base_uri": "https://localhost:8080/",
          "height": 204
        }
      },
      "source": [
        "test_set = pd.read_excel(\"/content/drive/MyDrive/ZeonAI/TestSet_QueryClassification.xlsx\")\n",
        "test_set.head()"
      ],
      "execution_count": 130,
      "outputs": [
        {
          "output_type": "execute_result",
          "data": {
            "text/html": [
              "<div>\n",
              "<style scoped>\n",
              "    .dataframe tbody tr th:only-of-type {\n",
              "        vertical-align: middle;\n",
              "    }\n",
              "\n",
              "    .dataframe tbody tr th {\n",
              "        vertical-align: top;\n",
              "    }\n",
              "\n",
              "    .dataframe thead th {\n",
              "        text-align: right;\n",
              "    }\n",
              "</style>\n",
              "<table border=\"1\" class=\"dataframe\">\n",
              "  <thead>\n",
              "    <tr style=\"text-align: right;\">\n",
              "      <th></th>\n",
              "      <th>S.No.</th>\n",
              "      <th>Query</th>\n",
              "      <th>Actual Label</th>\n",
              "    </tr>\n",
              "  </thead>\n",
              "  <tbody>\n",
              "    <tr>\n",
              "      <th>0</th>\n",
              "      <td>1</td>\n",
              "      <td>Who is Genpact's CEO ?</td>\n",
              "      <td>HUM</td>\n",
              "    </tr>\n",
              "    <tr>\n",
              "      <th>1</th>\n",
              "      <td>2</td>\n",
              "      <td>What was the diluted earnings per share for Ge...</td>\n",
              "      <td>NUM</td>\n",
              "    </tr>\n",
              "    <tr>\n",
              "      <th>2</th>\n",
              "      <td>3</td>\n",
              "      <td>What was the final verdict in Pralipsa Rout vs...</td>\n",
              "      <td>DESC</td>\n",
              "    </tr>\n",
              "    <tr>\n",
              "      <th>3</th>\n",
              "      <td>4</td>\n",
              "      <td>What is the court’s’ notice number that allows...</td>\n",
              "      <td>NUM</td>\n",
              "    </tr>\n",
              "    <tr>\n",
              "      <th>4</th>\n",
              "      <td>5</td>\n",
              "      <td>What are the components in the monthly gross s...</td>\n",
              "      <td>DESC/ENTY</td>\n",
              "    </tr>\n",
              "  </tbody>\n",
              "</table>\n",
              "</div>"
            ],
            "text/plain": [
              "   S.No.                                              Query Actual Label\n",
              "0      1                             Who is Genpact's CEO ?          HUM\n",
              "1      2  What was the diluted earnings per share for Ge...          NUM\n",
              "2      3  What was the final verdict in Pralipsa Rout vs...         DESC\n",
              "3      4  What is the court’s’ notice number that allows...          NUM\n",
              "4      5  What are the components in the monthly gross s...    DESC/ENTY"
            ]
          },
          "metadata": {
            "tags": []
          },
          "execution_count": 130
        }
      ]
    },
    {
      "cell_type": "markdown",
      "metadata": {
        "id": "ywT8P5FlbmNp"
      },
      "source": [
        "## Process Labels "
      ]
    },
    {
      "cell_type": "code",
      "metadata": {
        "id": "SMwwDU32btU-",
        "outputId": "1ed41bd0-b314-42f1-8f46-f4b625b28fd2",
        "colab": {
          "base_uri": "https://localhost:8080/",
          "height": 204
        }
      },
      "source": [
        "test_set['Label'] = test_set['Actual Label'].map(map_labels)\n",
        "test_set.head()"
      ],
      "execution_count": 131,
      "outputs": [
        {
          "output_type": "execute_result",
          "data": {
            "text/html": [
              "<div>\n",
              "<style scoped>\n",
              "    .dataframe tbody tr th:only-of-type {\n",
              "        vertical-align: middle;\n",
              "    }\n",
              "\n",
              "    .dataframe tbody tr th {\n",
              "        vertical-align: top;\n",
              "    }\n",
              "\n",
              "    .dataframe thead th {\n",
              "        text-align: right;\n",
              "    }\n",
              "</style>\n",
              "<table border=\"1\" class=\"dataframe\">\n",
              "  <thead>\n",
              "    <tr style=\"text-align: right;\">\n",
              "      <th></th>\n",
              "      <th>S.No.</th>\n",
              "      <th>Query</th>\n",
              "      <th>Actual Label</th>\n",
              "      <th>Label</th>\n",
              "    </tr>\n",
              "  </thead>\n",
              "  <tbody>\n",
              "    <tr>\n",
              "      <th>0</th>\n",
              "      <td>1</td>\n",
              "      <td>Who is Genpact's CEO ?</td>\n",
              "      <td>HUM</td>\n",
              "      <td>FACT</td>\n",
              "    </tr>\n",
              "    <tr>\n",
              "      <th>1</th>\n",
              "      <td>2</td>\n",
              "      <td>What was the diluted earnings per share for Ge...</td>\n",
              "      <td>NUM</td>\n",
              "      <td>FACT</td>\n",
              "    </tr>\n",
              "    <tr>\n",
              "      <th>2</th>\n",
              "      <td>3</td>\n",
              "      <td>What was the final verdict in Pralipsa Rout vs...</td>\n",
              "      <td>DESC</td>\n",
              "      <td>DESC</td>\n",
              "    </tr>\n",
              "    <tr>\n",
              "      <th>3</th>\n",
              "      <td>4</td>\n",
              "      <td>What is the court’s’ notice number that allows...</td>\n",
              "      <td>NUM</td>\n",
              "      <td>FACT</td>\n",
              "    </tr>\n",
              "    <tr>\n",
              "      <th>4</th>\n",
              "      <td>5</td>\n",
              "      <td>What are the components in the monthly gross s...</td>\n",
              "      <td>DESC/ENTY</td>\n",
              "      <td>FACT</td>\n",
              "    </tr>\n",
              "  </tbody>\n",
              "</table>\n",
              "</div>"
            ],
            "text/plain": [
              "   S.No.                                              Query Actual Label Label\n",
              "0      1                             Who is Genpact's CEO ?          HUM  FACT\n",
              "1      2  What was the diluted earnings per share for Ge...          NUM  FACT\n",
              "2      3  What was the final verdict in Pralipsa Rout vs...         DESC  DESC\n",
              "3      4  What is the court’s’ notice number that allows...          NUM  FACT\n",
              "4      5  What are the components in the monthly gross s...    DESC/ENTY  FACT"
            ]
          },
          "metadata": {
            "tags": []
          },
          "execution_count": 131
        }
      ]
    },
    {
      "cell_type": "code",
      "metadata": {
        "id": "gdz0H7iBcBft"
      },
      "source": [
        "test_set.to_excel(\"/content/drive/MyDrive/ZeonAI/processed_test_data.xlsx\",index=False)"
      ],
      "execution_count": 132,
      "outputs": []
    },
    {
      "cell_type": "markdown",
      "metadata": {
        "id": "T4cHPvU7BNMv"
      },
      "source": [
        "## Instantiate Class and retrive the final predictions"
      ]
    },
    {
      "cell_type": "code",
      "metadata": {
        "id": "aGaDy0P_d_yS",
        "outputId": "9639703c-0425-42e4-9259-852bf95fe54c",
        "colab": {
          "base_uri": "https://localhost:8080/"
        }
      },
      "source": [
        "[ k for k in mapper.values()]"
      ],
      "execution_count": 134,
      "outputs": [
        {
          "output_type": "execute_result",
          "data": {
            "text/plain": [
              "['DESC', 'FACT']"
            ]
          },
          "metadata": {
            "tags": []
          },
          "execution_count": 134
        }
      ]
    },
    {
      "cell_type": "code",
      "metadata": {
        "id": "3IA0bLyhIGzk",
        "colab": {
          "base_uri": "https://localhost:8080/"
        },
        "outputId": "aa836744-cdf5-49e8-9cc1-b9511df8e482"
      },
      "source": [
        "file_path = \"/content/drive/MyDrive/ZeonAI/processed_test_data.xlsx\"\n",
        "model_path = \"/content/drive/MyDrive/ZeonAI/LogisticRegression.pkl\"\n",
        "mapper = {0: 'DESC', 1: 'FACT'}\n",
        "testdata = process_test_data(file_path,model_path,mapper)\n",
        "testdata.read_data()\n",
        "testdata.generate_vectors()\n",
        "df= testdata.load_and_predict()"
      ],
      "execution_count": 135,
      "outputs": [
        {
          "output_type": "stream",
          "text": [
            "(20, 4)\n",
            "20\n",
            "(20, 768)\n",
            "20\n"
          ],
          "name": "stdout"
        }
      ]
    },
    {
      "cell_type": "markdown",
      "metadata": {
        "id": "e_L8VOiiej_l"
      },
      "source": [
        "## Analyze the predictions made on test data"
      ]
    },
    {
      "cell_type": "code",
      "metadata": {
        "colab": {
          "base_uri": "https://localhost:8080/",
          "height": 204
        },
        "id": "YfqwNNLGw2HI",
        "outputId": "b9a2893d-588b-484a-d9ac-d5162e8411ce"
      },
      "source": [
        "df.head()"
      ],
      "execution_count": 136,
      "outputs": [
        {
          "output_type": "execute_result",
          "data": {
            "text/html": [
              "<div>\n",
              "<style scoped>\n",
              "    .dataframe tbody tr th:only-of-type {\n",
              "        vertical-align: middle;\n",
              "    }\n",
              "\n",
              "    .dataframe tbody tr th {\n",
              "        vertical-align: top;\n",
              "    }\n",
              "\n",
              "    .dataframe thead th {\n",
              "        text-align: right;\n",
              "    }\n",
              "</style>\n",
              "<table border=\"1\" class=\"dataframe\">\n",
              "  <thead>\n",
              "    <tr style=\"text-align: right;\">\n",
              "      <th></th>\n",
              "      <th>S.No.</th>\n",
              "      <th>Question</th>\n",
              "      <th>Actual Label</th>\n",
              "      <th>Label</th>\n",
              "      <th>Predicted Labels</th>\n",
              "      <th>DESC</th>\n",
              "      <th>FACT</th>\n",
              "    </tr>\n",
              "  </thead>\n",
              "  <tbody>\n",
              "    <tr>\n",
              "      <th>0</th>\n",
              "      <td>1</td>\n",
              "      <td>Who is Genpact's CEO ?</td>\n",
              "      <td>HUM</td>\n",
              "      <td>FACT</td>\n",
              "      <td>FACT</td>\n",
              "      <td>0.001239</td>\n",
              "      <td>0.998761</td>\n",
              "    </tr>\n",
              "    <tr>\n",
              "      <th>1</th>\n",
              "      <td>2</td>\n",
              "      <td>What was the diluted earnings per share for Ge...</td>\n",
              "      <td>NUM</td>\n",
              "      <td>FACT</td>\n",
              "      <td>FACT</td>\n",
              "      <td>0.000030</td>\n",
              "      <td>0.999970</td>\n",
              "    </tr>\n",
              "    <tr>\n",
              "      <th>2</th>\n",
              "      <td>3</td>\n",
              "      <td>What was the final verdict in Pralipsa Rout vs...</td>\n",
              "      <td>DESC</td>\n",
              "      <td>DESC</td>\n",
              "      <td>FACT</td>\n",
              "      <td>0.453213</td>\n",
              "      <td>0.546787</td>\n",
              "    </tr>\n",
              "    <tr>\n",
              "      <th>3</th>\n",
              "      <td>4</td>\n",
              "      <td>What is the court’s’ notice number that allows...</td>\n",
              "      <td>NUM</td>\n",
              "      <td>FACT</td>\n",
              "      <td>FACT</td>\n",
              "      <td>0.003684</td>\n",
              "      <td>0.996316</td>\n",
              "    </tr>\n",
              "    <tr>\n",
              "      <th>4</th>\n",
              "      <td>5</td>\n",
              "      <td>What are the components in the monthly gross s...</td>\n",
              "      <td>DESC/ENTY</td>\n",
              "      <td>FACT</td>\n",
              "      <td>FACT</td>\n",
              "      <td>0.002068</td>\n",
              "      <td>0.997932</td>\n",
              "    </tr>\n",
              "  </tbody>\n",
              "</table>\n",
              "</div>"
            ],
            "text/plain": [
              "   S.No.                                           Question  ...      DESC      FACT\n",
              "0      1                             Who is Genpact's CEO ?  ...  0.001239  0.998761\n",
              "1      2  What was the diluted earnings per share for Ge...  ...  0.000030  0.999970\n",
              "2      3  What was the final verdict in Pralipsa Rout vs...  ...  0.453213  0.546787\n",
              "3      4  What is the court’s’ notice number that allows...  ...  0.003684  0.996316\n",
              "4      5  What are the components in the monthly gross s...  ...  0.002068  0.997932\n",
              "\n",
              "[5 rows x 7 columns]"
            ]
          },
          "metadata": {
            "tags": []
          },
          "execution_count": 136
        }
      ]
    },
    {
      "cell_type": "markdown",
      "metadata": {
        "id": "XNC7S4Q4ewvK"
      },
      "source": [
        "## Missclassifications 5 out of 20 based on old test data"
      ]
    },
    {
      "cell_type": "code",
      "metadata": {
        "id": "NCOFL7Bl5mig",
        "outputId": "7467ccf0-f825-44c8-9461-9bed0d39a06b",
        "colab": {
          "base_uri": "https://localhost:8080/",
          "height": 204
        }
      },
      "source": [
        "df[df['Label'] != df['Predicted Labels']]"
      ],
      "execution_count": 137,
      "outputs": [
        {
          "output_type": "execute_result",
          "data": {
            "text/html": [
              "<div>\n",
              "<style scoped>\n",
              "    .dataframe tbody tr th:only-of-type {\n",
              "        vertical-align: middle;\n",
              "    }\n",
              "\n",
              "    .dataframe tbody tr th {\n",
              "        vertical-align: top;\n",
              "    }\n",
              "\n",
              "    .dataframe thead th {\n",
              "        text-align: right;\n",
              "    }\n",
              "</style>\n",
              "<table border=\"1\" class=\"dataframe\">\n",
              "  <thead>\n",
              "    <tr style=\"text-align: right;\">\n",
              "      <th></th>\n",
              "      <th>S.No.</th>\n",
              "      <th>Question</th>\n",
              "      <th>Actual Label</th>\n",
              "      <th>Label</th>\n",
              "      <th>Predicted Labels</th>\n",
              "      <th>DESC</th>\n",
              "      <th>FACT</th>\n",
              "    </tr>\n",
              "  </thead>\n",
              "  <tbody>\n",
              "    <tr>\n",
              "      <th>2</th>\n",
              "      <td>3</td>\n",
              "      <td>What was the final verdict in Pralipsa Rout vs...</td>\n",
              "      <td>DESC</td>\n",
              "      <td>DESC</td>\n",
              "      <td>FACT</td>\n",
              "      <td>0.453213</td>\n",
              "      <td>0.546787</td>\n",
              "    </tr>\n",
              "    <tr>\n",
              "      <th>5</th>\n",
              "      <td>6</td>\n",
              "      <td>How can one establish residency in California ...</td>\n",
              "      <td>DESC</td>\n",
              "      <td>DESC</td>\n",
              "      <td>FACT</td>\n",
              "      <td>0.227392</td>\n",
              "      <td>0.772608</td>\n",
              "    </tr>\n",
              "    <tr>\n",
              "      <th>14</th>\n",
              "      <td>15</td>\n",
              "      <td>How is the Premium Calculated?</td>\n",
              "      <td>DESC</td>\n",
              "      <td>DESC</td>\n",
              "      <td>FACT</td>\n",
              "      <td>0.120080</td>\n",
              "      <td>0.879920</td>\n",
              "    </tr>\n",
              "    <tr>\n",
              "      <th>16</th>\n",
              "      <td>17</td>\n",
              "      <td>Why are Afro-Americans so good in athetics?</td>\n",
              "      <td>DESC</td>\n",
              "      <td>DESC</td>\n",
              "      <td>FACT</td>\n",
              "      <td>0.007285</td>\n",
              "      <td>0.992715</td>\n",
              "    </tr>\n",
              "    <tr>\n",
              "      <th>18</th>\n",
              "      <td>19</td>\n",
              "      <td>What was the final decision in disposing of th...</td>\n",
              "      <td>DESC</td>\n",
              "      <td>DESC</td>\n",
              "      <td>FACT</td>\n",
              "      <td>0.495357</td>\n",
              "      <td>0.504643</td>\n",
              "    </tr>\n",
              "  </tbody>\n",
              "</table>\n",
              "</div>"
            ],
            "text/plain": [
              "    S.No.  ...      FACT\n",
              "2       3  ...  0.546787\n",
              "5       6  ...  0.772608\n",
              "14     15  ...  0.879920\n",
              "16     17  ...  0.992715\n",
              "18     19  ...  0.504643\n",
              "\n",
              "[5 rows x 7 columns]"
            ]
          },
          "metadata": {
            "tags": []
          },
          "execution_count": 137
        }
      ]
    }
  ]
}